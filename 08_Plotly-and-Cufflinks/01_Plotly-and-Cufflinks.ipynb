{
 "cells": [
  {
   "attachments": {},
   "cell_type": "markdown",
   "metadata": {},
   "source": [
    "# Plotly and Cufflinks"
   ]
  },
  {
   "attachments": {},
   "cell_type": "markdown",
   "metadata": {},
   "source": [
    "Plotly is a library that allows you to create interactive plots."
   ]
  },
  {
   "attachments": {},
   "cell_type": "markdown",
   "metadata": {},
   "source": [
    "<hr>"
   ]
  },
  {
   "attachments": {},
   "cell_type": "markdown",
   "metadata": {},
   "source": [
    "## Installation\n",
    "In order for all to work, we need to install plotly and cufflinks to call plots directly off a pandas dataframe.<br>\n",
    "`pip install plotly`<br>\n",
    "`pip install cufflinks`<br>"
   ]
  },
  {
   "attachments": {},
   "cell_type": "markdown",
   "metadata": {},
   "source": [
    "<hr>"
   ]
  },
  {
   "attachments": {},
   "cell_type": "markdown",
   "metadata": {},
   "source": [
    "## Imports and Set-up"
   ]
  },
  {
   "cell_type": "code",
   "execution_count": 56,
   "metadata": {},
   "outputs": [],
   "source": [
    "import pandas as pd\n",
    "import numpy as np\n",
    "from plotly.offline import download_plotlyjs, init_notebook_mode, iplot, plot\n",
    "import cufflinks as cf"
   ]
  },
  {
   "cell_type": "code",
   "execution_count": 57,
   "metadata": {},
   "outputs": [
    {
     "data": {
      "text/html": [
       "        <script type=\"text/javascript\">\n",
       "        window.PlotlyConfig = {MathJaxConfig: 'local'};\n",
       "        if (window.MathJax && window.MathJax.Hub && window.MathJax.Hub.Config) {window.MathJax.Hub.Config({SVG: {font: \"STIX-Web\"}});}\n",
       "        if (typeof require !== 'undefined') {\n",
       "        require.undef(\"plotly\");\n",
       "        requirejs.config({\n",
       "            paths: {\n",
       "                'plotly': ['https://cdn.plot.ly/plotly-2.24.1.min']\n",
       "            }\n",
       "        });\n",
       "        require(['plotly'], function(Plotly) {\n",
       "            window._Plotly = Plotly;\n",
       "        });\n",
       "        }\n",
       "        </script>\n",
       "        "
      ]
     },
     "metadata": {},
     "output_type": "display_data"
    },
    {
     "data": {
      "text/html": [
       "        <script type=\"text/javascript\">\n",
       "        window.PlotlyConfig = {MathJaxConfig: 'local'};\n",
       "        if (window.MathJax && window.MathJax.Hub && window.MathJax.Hub.Config) {window.MathJax.Hub.Config({SVG: {font: \"STIX-Web\"}});}\n",
       "        if (typeof require !== 'undefined') {\n",
       "        require.undef(\"plotly\");\n",
       "        requirejs.config({\n",
       "            paths: {\n",
       "                'plotly': ['https://cdn.plot.ly/plotly-2.24.1.min']\n",
       "            }\n",
       "        });\n",
       "        require(['plotly'], function(Plotly) {\n",
       "            window._Plotly = Plotly;\n",
       "        });\n",
       "        }\n",
       "        </script>\n",
       "        "
      ]
     },
     "metadata": {},
     "output_type": "display_data"
    }
   ],
   "source": [
    "init_notebook_mode(connected=True)\n",
    "cf.go_offline()"
   ]
  },
  {
   "attachments": {},
   "cell_type": "markdown",
   "metadata": {},
   "source": [
    "<hr>"
   ]
  },
  {
   "attachments": {},
   "cell_type": "markdown",
   "metadata": {},
   "source": [
    "## Fake Data"
   ]
  },
  {
   "cell_type": "code",
   "execution_count": 59,
   "metadata": {},
   "outputs": [
    {
     "data": {
      "text/html": [
       "<div>\n",
       "<style scoped>\n",
       "    .dataframe tbody tr th:only-of-type {\n",
       "        vertical-align: middle;\n",
       "    }\n",
       "\n",
       "    .dataframe tbody tr th {\n",
       "        vertical-align: top;\n",
       "    }\n",
       "\n",
       "    .dataframe thead th {\n",
       "        text-align: right;\n",
       "    }\n",
       "</style>\n",
       "<table border=\"1\" class=\"dataframe\">\n",
       "  <thead>\n",
       "    <tr style=\"text-align: right;\">\n",
       "      <th></th>\n",
       "      <th>A</th>\n",
       "      <th>B</th>\n",
       "      <th>C</th>\n",
       "      <th>D</th>\n",
       "    </tr>\n",
       "  </thead>\n",
       "  <tbody>\n",
       "    <tr>\n",
       "      <th>0</th>\n",
       "      <td>-0.260861</td>\n",
       "      <td>-0.254325</td>\n",
       "      <td>0.699236</td>\n",
       "      <td>0.795074</td>\n",
       "    </tr>\n",
       "    <tr>\n",
       "      <th>1</th>\n",
       "      <td>-0.490963</td>\n",
       "      <td>-1.581415</td>\n",
       "      <td>-0.961350</td>\n",
       "      <td>1.936122</td>\n",
       "    </tr>\n",
       "    <tr>\n",
       "      <th>2</th>\n",
       "      <td>0.653401</td>\n",
       "      <td>0.402183</td>\n",
       "      <td>-1.453002</td>\n",
       "      <td>0.200226</td>\n",
       "    </tr>\n",
       "    <tr>\n",
       "      <th>3</th>\n",
       "      <td>-0.103824</td>\n",
       "      <td>-0.765364</td>\n",
       "      <td>-0.467480</td>\n",
       "      <td>1.097903</td>\n",
       "    </tr>\n",
       "    <tr>\n",
       "      <th>4</th>\n",
       "      <td>0.091514</td>\n",
       "      <td>-0.037581</td>\n",
       "      <td>0.617928</td>\n",
       "      <td>0.020108</td>\n",
       "    </tr>\n",
       "  </tbody>\n",
       "</table>\n",
       "</div>"
      ],
      "text/plain": [
       "          A         B         C         D\n",
       "0 -0.260861 -0.254325  0.699236  0.795074\n",
       "1 -0.490963 -1.581415 -0.961350  1.936122\n",
       "2  0.653401  0.402183 -1.453002  0.200226\n",
       "3 -0.103824 -0.765364 -0.467480  1.097903\n",
       "4  0.091514 -0.037581  0.617928  0.020108"
      ]
     },
     "execution_count": 59,
     "metadata": {},
     "output_type": "execute_result"
    }
   ],
   "source": [
    "df = pd.DataFrame(np.random.randn(100,4), columns='A B C D'.split())\n",
    "df.head()"
   ]
  },
  {
   "cell_type": "code",
   "execution_count": 60,
   "metadata": {},
   "outputs": [
    {
     "data": {
      "text/html": [
       "<div>\n",
       "<style scoped>\n",
       "    .dataframe tbody tr th:only-of-type {\n",
       "        vertical-align: middle;\n",
       "    }\n",
       "\n",
       "    .dataframe tbody tr th {\n",
       "        vertical-align: top;\n",
       "    }\n",
       "\n",
       "    .dataframe thead th {\n",
       "        text-align: right;\n",
       "    }\n",
       "</style>\n",
       "<table border=\"1\" class=\"dataframe\">\n",
       "  <thead>\n",
       "    <tr style=\"text-align: right;\">\n",
       "      <th></th>\n",
       "      <th>Category</th>\n",
       "      <th>Values</th>\n",
       "    </tr>\n",
       "  </thead>\n",
       "  <tbody>\n",
       "    <tr>\n",
       "      <th>0</th>\n",
       "      <td>A</td>\n",
       "      <td>32</td>\n",
       "    </tr>\n",
       "    <tr>\n",
       "      <th>1</th>\n",
       "      <td>B</td>\n",
       "      <td>43</td>\n",
       "    </tr>\n",
       "    <tr>\n",
       "      <th>2</th>\n",
       "      <td>C</td>\n",
       "      <td>50</td>\n",
       "    </tr>\n",
       "  </tbody>\n",
       "</table>\n",
       "</div>"
      ],
      "text/plain": [
       "  Category  Values\n",
       "0        A      32\n",
       "1        B      43\n",
       "2        C      50"
      ]
     },
     "execution_count": 60,
     "metadata": {},
     "output_type": "execute_result"
    }
   ],
   "source": [
    "df2 = pd.DataFrame({'Category':['A','B','C'], 'Values':[32,43,50]})\n",
    "df2"
   ]
  },
  {
   "attachments": {},
   "cell_type": "markdown",
   "metadata": {},
   "source": [
    "<hr>"
   ]
  },
  {
   "attachments": {},
   "cell_type": "markdown",
   "metadata": {},
   "source": [
    "## Using Cifflinks and iplot()\n",
    "+ scatter\n",
    "+ bar\n",
    "+ box\n",
    "+ spread\n",
    "+ ratio\n",
    "+ heatmap\n",
    "+ surface \n",
    "+ histogram\n",
    "+ bubble"
   ]
  },
  {
   "attachments": {},
   "cell_type": "markdown",
   "metadata": {},
   "source": [
    "### Scatter"
   ]
  },
  {
   "cell_type": "code",
   "execution_count": 61,
   "metadata": {},
   "outputs": [
    {
     "data": {
      "application/vnd.plotly.v1+json": {
       "config": {
        "linkText": "Export to plot.ly",
        "plotlyServerURL": "https://plot.ly",
        "showLink": true
       },
       "data": [
        {
         "line": {
          "color": "rgba(255, 153, 51, 1.0)",
          "dash": "solid",
          "shape": "linear",
          "width": 1.3
         },
         "marker": {
          "size": 10,
          "symbol": "circle"
         },
         "mode": "markers",
         "name": "B",
         "text": "",
         "type": "scatter",
         "x": [
          -0.2608614967031024,
          -0.49096342548313715,
          0.6534012059127755,
          -0.10382438391128623,
          0.0915136834623817,
          -0.2578466669372469,
          1.3897210082903713,
          -2.013970521337588,
          1.125741276541228,
          1.4993336191900457,
          -1.0595478745403308,
          -0.9430230210121577,
          -1.2621205005640328,
          1.4036731506061113,
          -0.03593673976090577,
          0.3050000998253773,
          -0.5522484049090643,
          -1.0203076856253586,
          0.6432367105616998,
          -0.8914863941492807,
          -2.185714250972939,
          0.12623577838399472,
          0.3921453841215854,
          0.4737295051464659,
          -0.17056200224579707,
          1.1774627570310106,
          -0.20762902062129898,
          1.2387067508523648,
          -1.3942752324541112,
          -1.716189450517545,
          0.22085285260585943,
          -0.6321810216895608,
          1.3901915806812715,
          1.0108805251540562,
          1.061249343310655,
          0.5308300215857267,
          -0.9503016687818185,
          -1.667629010859623,
          -1.1568624868134363,
          1.5218137380315473,
          -0.39221211032341013,
          2.3415395295809978,
          -1.486339576927987,
          -0.03772819855435538,
          1.4092361992473252,
          -0.7939024526846925,
          0.7862010597484133,
          -0.7353686055886977,
          0.4288694099887663,
          -0.27000065017539937,
          -0.41260190292719623,
          0.2707480429353407,
          -2.3153140545469633,
          -0.493246648926603,
          -0.20401174053479268,
          0.43262354086467664,
          -0.4638179729532545,
          -0.12104956411305579,
          0.0009501990026392411,
          -1.7944854502101284,
          1.1942829892775488,
          0.28613422098047586,
          0.6089637428915142,
          -1.68539790425561,
          -0.20944913271903332,
          0.7539061989031305,
          -0.30783771025917217,
          0.9249555792566864,
          2.155794363974152,
          -0.30825770648294415,
          2.3165892472778196,
          1.1104333103089679,
          0.5986508909048686,
          0.8596613825961947,
          -1.2785925488102268,
          0.9522963674778507,
          2.414612831587702,
          1.5551358944135807,
          0.6419754681607723,
          1.7713479403779466,
          1.121810184988672,
          -1.3457087892552062,
          2.0908035265398817,
          0.4571403655148956,
          0.2239437084658507,
          0.002231840122407565,
          0.7903495448532022,
          0.2563582466878664,
          1.7319416821321127,
          -2.634999142029582,
          0.5116574427742703,
          0.09494333197935707,
          -2.7505020690095145,
          0.4200960660289981,
          -1.3218058607201475,
          1.0064450686749333,
          0.9976844535285386,
          -0.9675831445221813,
          -0.5263696958489338,
          1.9143818200798364
         ],
         "y": [
          -0.25432533756669773,
          -1.581414768480805,
          0.40218331727380613,
          -0.7653635025178969,
          -0.03758094088299645,
          0.8228516602736954,
          0.20950479153616372,
          0.2368828777231409,
          -0.13416480196104766,
          0.06773423875996688,
          -1.3924154298925469,
          0.010537225188061829,
          -0.9192378281206622,
          -1.343298101902075,
          -1.7841952728986434,
          -0.5248286222071976,
          0.030492134192341522,
          -0.2095316178025833,
          0.941695473320228,
          -1.0303073120794726,
          -1.615853408823164,
          -0.7977565224429886,
          1.346204299136864,
          -1.2273416627519849,
          -0.9767964659827089,
          -1.5763455228401246,
          -1.9792442444712637,
          0.4384768080985399,
          0.17679566623301302,
          -0.9317474293601441,
          0.8682987401646762,
          -0.1003875632961765,
          -0.0884962705505986,
          0.24286646977162227,
          0.20207155467009158,
          0.38365946277845214,
          0.15769247651445353,
          -1.0665564678618131,
          0.49225575504181734,
          0.10153122545596022,
          0.11375123863064968,
          -0.4628493592894469,
          -0.5812908283646572,
          -0.5818098728891352,
          0.9176543169317575,
          0.5087887543927186,
          0.16819075587941956,
          -0.8945686934935044,
          0.3721570565430783,
          -0.257705545117878,
          1.6287138726491417,
          -1.1739713566817833,
          0.398367300079867,
          -0.6767044911122801,
          0.47600397787049986,
          -2.763129323705531,
          0.21077619673830947,
          -0.2258518499521978,
          -0.821396180646884,
          1.0365094058365847,
          -1.6318344262056328,
          -0.3298121153479205,
          0.8315693323045643,
          0.0007504783278676238,
          -0.29675189476684655,
          0.027554435329936816,
          0.6609436762444268,
          0.8785579905871628,
          -0.029854680377078793,
          1.5082301656300974,
          -1.2449285328680817,
          -0.9768057784470087,
          1.4916896101273067,
          -1.122012736021044,
          -0.38767399665537694,
          -1.329045263751567,
          0.6179854602630162,
          -2.1766036516777953,
          0.9997178836248283,
          -0.5995015860441616,
          1.3839885679655453,
          -0.5180161564966833,
          0.8533682831785384,
          -0.9115908122880608,
          -0.4306924280020869,
          0.9609848960490938,
          0.9220703471457242,
          1.7542139768319003,
          0.3604841912013604,
          0.0017037783681344279,
          -1.2543075592125403,
          -0.15102453234097343,
          -0.5360051864835451,
          0.5989775610224853,
          0.8263314749363494,
          -1.2655278034535515,
          0.9401542797781919,
          0.42961783137316306,
          0.7242211546399301,
          0.015725214681151255
         ]
        }
       ],
       "layout": {
        "legend": {
         "bgcolor": "#F5F6F9",
         "font": {
          "color": "#4D5663"
         }
        },
        "paper_bgcolor": "#F5F6F9",
        "plot_bgcolor": "#F5F6F9",
        "template": {
         "data": {
          "bar": [
           {
            "error_x": {
             "color": "#2a3f5f"
            },
            "error_y": {
             "color": "#2a3f5f"
            },
            "marker": {
             "line": {
              "color": "#E5ECF6",
              "width": 0.5
             },
             "pattern": {
              "fillmode": "overlay",
              "size": 10,
              "solidity": 0.2
             }
            },
            "type": "bar"
           }
          ],
          "barpolar": [
           {
            "marker": {
             "line": {
              "color": "#E5ECF6",
              "width": 0.5
             },
             "pattern": {
              "fillmode": "overlay",
              "size": 10,
              "solidity": 0.2
             }
            },
            "type": "barpolar"
           }
          ],
          "carpet": [
           {
            "aaxis": {
             "endlinecolor": "#2a3f5f",
             "gridcolor": "white",
             "linecolor": "white",
             "minorgridcolor": "white",
             "startlinecolor": "#2a3f5f"
            },
            "baxis": {
             "endlinecolor": "#2a3f5f",
             "gridcolor": "white",
             "linecolor": "white",
             "minorgridcolor": "white",
             "startlinecolor": "#2a3f5f"
            },
            "type": "carpet"
           }
          ],
          "choropleth": [
           {
            "colorbar": {
             "outlinewidth": 0,
             "ticks": ""
            },
            "type": "choropleth"
           }
          ],
          "contour": [
           {
            "colorbar": {
             "outlinewidth": 0,
             "ticks": ""
            },
            "colorscale": [
             [
              0,
              "#0d0887"
             ],
             [
              0.1111111111111111,
              "#46039f"
             ],
             [
              0.2222222222222222,
              "#7201a8"
             ],
             [
              0.3333333333333333,
              "#9c179e"
             ],
             [
              0.4444444444444444,
              "#bd3786"
             ],
             [
              0.5555555555555556,
              "#d8576b"
             ],
             [
              0.6666666666666666,
              "#ed7953"
             ],
             [
              0.7777777777777778,
              "#fb9f3a"
             ],
             [
              0.8888888888888888,
              "#fdca26"
             ],
             [
              1,
              "#f0f921"
             ]
            ],
            "type": "contour"
           }
          ],
          "contourcarpet": [
           {
            "colorbar": {
             "outlinewidth": 0,
             "ticks": ""
            },
            "type": "contourcarpet"
           }
          ],
          "heatmap": [
           {
            "colorbar": {
             "outlinewidth": 0,
             "ticks": ""
            },
            "colorscale": [
             [
              0,
              "#0d0887"
             ],
             [
              0.1111111111111111,
              "#46039f"
             ],
             [
              0.2222222222222222,
              "#7201a8"
             ],
             [
              0.3333333333333333,
              "#9c179e"
             ],
             [
              0.4444444444444444,
              "#bd3786"
             ],
             [
              0.5555555555555556,
              "#d8576b"
             ],
             [
              0.6666666666666666,
              "#ed7953"
             ],
             [
              0.7777777777777778,
              "#fb9f3a"
             ],
             [
              0.8888888888888888,
              "#fdca26"
             ],
             [
              1,
              "#f0f921"
             ]
            ],
            "type": "heatmap"
           }
          ],
          "heatmapgl": [
           {
            "colorbar": {
             "outlinewidth": 0,
             "ticks": ""
            },
            "colorscale": [
             [
              0,
              "#0d0887"
             ],
             [
              0.1111111111111111,
              "#46039f"
             ],
             [
              0.2222222222222222,
              "#7201a8"
             ],
             [
              0.3333333333333333,
              "#9c179e"
             ],
             [
              0.4444444444444444,
              "#bd3786"
             ],
             [
              0.5555555555555556,
              "#d8576b"
             ],
             [
              0.6666666666666666,
              "#ed7953"
             ],
             [
              0.7777777777777778,
              "#fb9f3a"
             ],
             [
              0.8888888888888888,
              "#fdca26"
             ],
             [
              1,
              "#f0f921"
             ]
            ],
            "type": "heatmapgl"
           }
          ],
          "histogram": [
           {
            "marker": {
             "pattern": {
              "fillmode": "overlay",
              "size": 10,
              "solidity": 0.2
             }
            },
            "type": "histogram"
           }
          ],
          "histogram2d": [
           {
            "colorbar": {
             "outlinewidth": 0,
             "ticks": ""
            },
            "colorscale": [
             [
              0,
              "#0d0887"
             ],
             [
              0.1111111111111111,
              "#46039f"
             ],
             [
              0.2222222222222222,
              "#7201a8"
             ],
             [
              0.3333333333333333,
              "#9c179e"
             ],
             [
              0.4444444444444444,
              "#bd3786"
             ],
             [
              0.5555555555555556,
              "#d8576b"
             ],
             [
              0.6666666666666666,
              "#ed7953"
             ],
             [
              0.7777777777777778,
              "#fb9f3a"
             ],
             [
              0.8888888888888888,
              "#fdca26"
             ],
             [
              1,
              "#f0f921"
             ]
            ],
            "type": "histogram2d"
           }
          ],
          "histogram2dcontour": [
           {
            "colorbar": {
             "outlinewidth": 0,
             "ticks": ""
            },
            "colorscale": [
             [
              0,
              "#0d0887"
             ],
             [
              0.1111111111111111,
              "#46039f"
             ],
             [
              0.2222222222222222,
              "#7201a8"
             ],
             [
              0.3333333333333333,
              "#9c179e"
             ],
             [
              0.4444444444444444,
              "#bd3786"
             ],
             [
              0.5555555555555556,
              "#d8576b"
             ],
             [
              0.6666666666666666,
              "#ed7953"
             ],
             [
              0.7777777777777778,
              "#fb9f3a"
             ],
             [
              0.8888888888888888,
              "#fdca26"
             ],
             [
              1,
              "#f0f921"
             ]
            ],
            "type": "histogram2dcontour"
           }
          ],
          "mesh3d": [
           {
            "colorbar": {
             "outlinewidth": 0,
             "ticks": ""
            },
            "type": "mesh3d"
           }
          ],
          "parcoords": [
           {
            "line": {
             "colorbar": {
              "outlinewidth": 0,
              "ticks": ""
             }
            },
            "type": "parcoords"
           }
          ],
          "pie": [
           {
            "automargin": true,
            "type": "pie"
           }
          ],
          "scatter": [
           {
            "fillpattern": {
             "fillmode": "overlay",
             "size": 10,
             "solidity": 0.2
            },
            "type": "scatter"
           }
          ],
          "scatter3d": [
           {
            "line": {
             "colorbar": {
              "outlinewidth": 0,
              "ticks": ""
             }
            },
            "marker": {
             "colorbar": {
              "outlinewidth": 0,
              "ticks": ""
             }
            },
            "type": "scatter3d"
           }
          ],
          "scattercarpet": [
           {
            "marker": {
             "colorbar": {
              "outlinewidth": 0,
              "ticks": ""
             }
            },
            "type": "scattercarpet"
           }
          ],
          "scattergeo": [
           {
            "marker": {
             "colorbar": {
              "outlinewidth": 0,
              "ticks": ""
             }
            },
            "type": "scattergeo"
           }
          ],
          "scattergl": [
           {
            "marker": {
             "colorbar": {
              "outlinewidth": 0,
              "ticks": ""
             }
            },
            "type": "scattergl"
           }
          ],
          "scattermapbox": [
           {
            "marker": {
             "colorbar": {
              "outlinewidth": 0,
              "ticks": ""
             }
            },
            "type": "scattermapbox"
           }
          ],
          "scatterpolar": [
           {
            "marker": {
             "colorbar": {
              "outlinewidth": 0,
              "ticks": ""
             }
            },
            "type": "scatterpolar"
           }
          ],
          "scatterpolargl": [
           {
            "marker": {
             "colorbar": {
              "outlinewidth": 0,
              "ticks": ""
             }
            },
            "type": "scatterpolargl"
           }
          ],
          "scatterternary": [
           {
            "marker": {
             "colorbar": {
              "outlinewidth": 0,
              "ticks": ""
             }
            },
            "type": "scatterternary"
           }
          ],
          "surface": [
           {
            "colorbar": {
             "outlinewidth": 0,
             "ticks": ""
            },
            "colorscale": [
             [
              0,
              "#0d0887"
             ],
             [
              0.1111111111111111,
              "#46039f"
             ],
             [
              0.2222222222222222,
              "#7201a8"
             ],
             [
              0.3333333333333333,
              "#9c179e"
             ],
             [
              0.4444444444444444,
              "#bd3786"
             ],
             [
              0.5555555555555556,
              "#d8576b"
             ],
             [
              0.6666666666666666,
              "#ed7953"
             ],
             [
              0.7777777777777778,
              "#fb9f3a"
             ],
             [
              0.8888888888888888,
              "#fdca26"
             ],
             [
              1,
              "#f0f921"
             ]
            ],
            "type": "surface"
           }
          ],
          "table": [
           {
            "cells": {
             "fill": {
              "color": "#EBF0F8"
             },
             "line": {
              "color": "white"
             }
            },
            "header": {
             "fill": {
              "color": "#C8D4E3"
             },
             "line": {
              "color": "white"
             }
            },
            "type": "table"
           }
          ]
         },
         "layout": {
          "annotationdefaults": {
           "arrowcolor": "#2a3f5f",
           "arrowhead": 0,
           "arrowwidth": 1
          },
          "autotypenumbers": "strict",
          "coloraxis": {
           "colorbar": {
            "outlinewidth": 0,
            "ticks": ""
           }
          },
          "colorscale": {
           "diverging": [
            [
             0,
             "#8e0152"
            ],
            [
             0.1,
             "#c51b7d"
            ],
            [
             0.2,
             "#de77ae"
            ],
            [
             0.3,
             "#f1b6da"
            ],
            [
             0.4,
             "#fde0ef"
            ],
            [
             0.5,
             "#f7f7f7"
            ],
            [
             0.6,
             "#e6f5d0"
            ],
            [
             0.7,
             "#b8e186"
            ],
            [
             0.8,
             "#7fbc41"
            ],
            [
             0.9,
             "#4d9221"
            ],
            [
             1,
             "#276419"
            ]
           ],
           "sequential": [
            [
             0,
             "#0d0887"
            ],
            [
             0.1111111111111111,
             "#46039f"
            ],
            [
             0.2222222222222222,
             "#7201a8"
            ],
            [
             0.3333333333333333,
             "#9c179e"
            ],
            [
             0.4444444444444444,
             "#bd3786"
            ],
            [
             0.5555555555555556,
             "#d8576b"
            ],
            [
             0.6666666666666666,
             "#ed7953"
            ],
            [
             0.7777777777777778,
             "#fb9f3a"
            ],
            [
             0.8888888888888888,
             "#fdca26"
            ],
            [
             1,
             "#f0f921"
            ]
           ],
           "sequentialminus": [
            [
             0,
             "#0d0887"
            ],
            [
             0.1111111111111111,
             "#46039f"
            ],
            [
             0.2222222222222222,
             "#7201a8"
            ],
            [
             0.3333333333333333,
             "#9c179e"
            ],
            [
             0.4444444444444444,
             "#bd3786"
            ],
            [
             0.5555555555555556,
             "#d8576b"
            ],
            [
             0.6666666666666666,
             "#ed7953"
            ],
            [
             0.7777777777777778,
             "#fb9f3a"
            ],
            [
             0.8888888888888888,
             "#fdca26"
            ],
            [
             1,
             "#f0f921"
            ]
           ]
          },
          "colorway": [
           "#636efa",
           "#EF553B",
           "#00cc96",
           "#ab63fa",
           "#FFA15A",
           "#19d3f3",
           "#FF6692",
           "#B6E880",
           "#FF97FF",
           "#FECB52"
          ],
          "font": {
           "color": "#2a3f5f"
          },
          "geo": {
           "bgcolor": "white",
           "lakecolor": "white",
           "landcolor": "#E5ECF6",
           "showlakes": true,
           "showland": true,
           "subunitcolor": "white"
          },
          "hoverlabel": {
           "align": "left"
          },
          "hovermode": "closest",
          "mapbox": {
           "style": "light"
          },
          "paper_bgcolor": "white",
          "plot_bgcolor": "#E5ECF6",
          "polar": {
           "angularaxis": {
            "gridcolor": "white",
            "linecolor": "white",
            "ticks": ""
           },
           "bgcolor": "#E5ECF6",
           "radialaxis": {
            "gridcolor": "white",
            "linecolor": "white",
            "ticks": ""
           }
          },
          "scene": {
           "xaxis": {
            "backgroundcolor": "#E5ECF6",
            "gridcolor": "white",
            "gridwidth": 2,
            "linecolor": "white",
            "showbackground": true,
            "ticks": "",
            "zerolinecolor": "white"
           },
           "yaxis": {
            "backgroundcolor": "#E5ECF6",
            "gridcolor": "white",
            "gridwidth": 2,
            "linecolor": "white",
            "showbackground": true,
            "ticks": "",
            "zerolinecolor": "white"
           },
           "zaxis": {
            "backgroundcolor": "#E5ECF6",
            "gridcolor": "white",
            "gridwidth": 2,
            "linecolor": "white",
            "showbackground": true,
            "ticks": "",
            "zerolinecolor": "white"
           }
          },
          "shapedefaults": {
           "line": {
            "color": "#2a3f5f"
           }
          },
          "ternary": {
           "aaxis": {
            "gridcolor": "white",
            "linecolor": "white",
            "ticks": ""
           },
           "baxis": {
            "gridcolor": "white",
            "linecolor": "white",
            "ticks": ""
           },
           "bgcolor": "#E5ECF6",
           "caxis": {
            "gridcolor": "white",
            "linecolor": "white",
            "ticks": ""
           }
          },
          "title": {
           "x": 0.05
          },
          "xaxis": {
           "automargin": true,
           "gridcolor": "white",
           "linecolor": "white",
           "ticks": "",
           "title": {
            "standoff": 15
           },
           "zerolinecolor": "white",
           "zerolinewidth": 2
          },
          "yaxis": {
           "automargin": true,
           "gridcolor": "white",
           "linecolor": "white",
           "ticks": "",
           "title": {
            "standoff": 15
           },
           "zerolinecolor": "white",
           "zerolinewidth": 2
          }
         }
        },
        "title": {
         "font": {
          "color": "#4D5663"
         }
        },
        "xaxis": {
         "gridcolor": "#E1E5ED",
         "showgrid": true,
         "tickfont": {
          "color": "#4D5663"
         },
         "title": {
          "font": {
           "color": "#4D5663"
          },
          "text": ""
         },
         "zerolinecolor": "#E1E5ED"
        },
        "yaxis": {
         "gridcolor": "#E1E5ED",
         "showgrid": true,
         "tickfont": {
          "color": "#4D5663"
         },
         "title": {
          "font": {
           "color": "#4D5663"
          },
          "text": ""
         },
         "zerolinecolor": "#E1E5ED"
        }
       }
      },
      "text/html": [
       "<div>                            <div id=\"14015d1f-761c-47a9-a742-dd810526e8ff\" class=\"plotly-graph-div\" style=\"height:525px; width:100%;\"></div>            <script type=\"text/javascript\">                require([\"plotly\"], function(Plotly) {                    window.PLOTLYENV=window.PLOTLYENV || {};\n",
       "                    window.PLOTLYENV.BASE_URL='https://plot.ly';                                    if (document.getElementById(\"14015d1f-761c-47a9-a742-dd810526e8ff\")) {                    Plotly.newPlot(                        \"14015d1f-761c-47a9-a742-dd810526e8ff\",                        [{\"line\":{\"color\":\"rgba(255, 153, 51, 1.0)\",\"dash\":\"solid\",\"shape\":\"linear\",\"width\":1.3},\"marker\":{\"size\":10,\"symbol\":\"circle\"},\"mode\":\"markers\",\"name\":\"B\",\"text\":\"\",\"x\":[-0.2608614967031024,-0.49096342548313715,0.6534012059127755,-0.10382438391128623,0.0915136834623817,-0.2578466669372469,1.3897210082903713,-2.013970521337588,1.125741276541228,1.4993336191900457,-1.0595478745403308,-0.9430230210121577,-1.2621205005640328,1.4036731506061113,-0.03593673976090577,0.3050000998253773,-0.5522484049090643,-1.0203076856253586,0.6432367105616998,-0.8914863941492807,-2.185714250972939,0.12623577838399472,0.3921453841215854,0.4737295051464659,-0.17056200224579707,1.1774627570310106,-0.20762902062129898,1.2387067508523648,-1.3942752324541112,-1.716189450517545,0.22085285260585943,-0.6321810216895608,1.3901915806812715,1.0108805251540562,1.061249343310655,0.5308300215857267,-0.9503016687818185,-1.667629010859623,-1.1568624868134363,1.5218137380315473,-0.39221211032341013,2.3415395295809978,-1.486339576927987,-0.03772819855435538,1.4092361992473252,-0.7939024526846925,0.7862010597484133,-0.7353686055886977,0.4288694099887663,-0.27000065017539937,-0.41260190292719623,0.2707480429353407,-2.3153140545469633,-0.493246648926603,-0.20401174053479268,0.43262354086467664,-0.4638179729532545,-0.12104956411305579,0.0009501990026392411,-1.7944854502101284,1.1942829892775488,0.28613422098047586,0.6089637428915142,-1.68539790425561,-0.20944913271903332,0.7539061989031305,-0.30783771025917217,0.9249555792566864,2.155794363974152,-0.30825770648294415,2.3165892472778196,1.1104333103089679,0.5986508909048686,0.8596613825961947,-1.2785925488102268,0.9522963674778507,2.414612831587702,1.5551358944135807,0.6419754681607723,1.7713479403779466,1.121810184988672,-1.3457087892552062,2.0908035265398817,0.4571403655148956,0.2239437084658507,0.002231840122407565,0.7903495448532022,0.2563582466878664,1.7319416821321127,-2.634999142029582,0.5116574427742703,0.09494333197935707,-2.7505020690095145,0.4200960660289981,-1.3218058607201475,1.0064450686749333,0.9976844535285386,-0.9675831445221813,-0.5263696958489338,1.9143818200798364],\"y\":[-0.25432533756669773,-1.581414768480805,0.40218331727380613,-0.7653635025178969,-0.03758094088299645,0.8228516602736954,0.20950479153616372,0.2368828777231409,-0.13416480196104766,0.06773423875996688,-1.3924154298925469,0.010537225188061829,-0.9192378281206622,-1.343298101902075,-1.7841952728986434,-0.5248286222071976,0.030492134192341522,-0.2095316178025833,0.941695473320228,-1.0303073120794726,-1.615853408823164,-0.7977565224429886,1.346204299136864,-1.2273416627519849,-0.9767964659827089,-1.5763455228401246,-1.9792442444712637,0.4384768080985399,0.17679566623301302,-0.9317474293601441,0.8682987401646762,-0.1003875632961765,-0.0884962705505986,0.24286646977162227,0.20207155467009158,0.38365946277845214,0.15769247651445353,-1.0665564678618131,0.49225575504181734,0.10153122545596022,0.11375123863064968,-0.4628493592894469,-0.5812908283646572,-0.5818098728891352,0.9176543169317575,0.5087887543927186,0.16819075587941956,-0.8945686934935044,0.3721570565430783,-0.257705545117878,1.6287138726491417,-1.1739713566817833,0.398367300079867,-0.6767044911122801,0.47600397787049986,-2.763129323705531,0.21077619673830947,-0.2258518499521978,-0.821396180646884,1.0365094058365847,-1.6318344262056328,-0.3298121153479205,0.8315693323045643,0.0007504783278676238,-0.29675189476684655,0.027554435329936816,0.6609436762444268,0.8785579905871628,-0.029854680377078793,1.5082301656300974,-1.2449285328680817,-0.9768057784470087,1.4916896101273067,-1.122012736021044,-0.38767399665537694,-1.329045263751567,0.6179854602630162,-2.1766036516777953,0.9997178836248283,-0.5995015860441616,1.3839885679655453,-0.5180161564966833,0.8533682831785384,-0.9115908122880608,-0.4306924280020869,0.9609848960490938,0.9220703471457242,1.7542139768319003,0.3604841912013604,0.0017037783681344279,-1.2543075592125403,-0.15102453234097343,-0.5360051864835451,0.5989775610224853,0.8263314749363494,-1.2655278034535515,0.9401542797781919,0.42961783137316306,0.7242211546399301,0.015725214681151255],\"type\":\"scatter\"}],                        {\"legend\":{\"bgcolor\":\"#F5F6F9\",\"font\":{\"color\":\"#4D5663\"}},\"paper_bgcolor\":\"#F5F6F9\",\"plot_bgcolor\":\"#F5F6F9\",\"template\":{\"data\":{\"barpolar\":[{\"marker\":{\"line\":{\"color\":\"#E5ECF6\",\"width\":0.5},\"pattern\":{\"fillmode\":\"overlay\",\"size\":10,\"solidity\":0.2}},\"type\":\"barpolar\"}],\"bar\":[{\"error_x\":{\"color\":\"#2a3f5f\"},\"error_y\":{\"color\":\"#2a3f5f\"},\"marker\":{\"line\":{\"color\":\"#E5ECF6\",\"width\":0.5},\"pattern\":{\"fillmode\":\"overlay\",\"size\":10,\"solidity\":0.2}},\"type\":\"bar\"}],\"carpet\":[{\"aaxis\":{\"endlinecolor\":\"#2a3f5f\",\"gridcolor\":\"white\",\"linecolor\":\"white\",\"minorgridcolor\":\"white\",\"startlinecolor\":\"#2a3f5f\"},\"baxis\":{\"endlinecolor\":\"#2a3f5f\",\"gridcolor\":\"white\",\"linecolor\":\"white\",\"minorgridcolor\":\"white\",\"startlinecolor\":\"#2a3f5f\"},\"type\":\"carpet\"}],\"choropleth\":[{\"colorbar\":{\"outlinewidth\":0,\"ticks\":\"\"},\"type\":\"choropleth\"}],\"contourcarpet\":[{\"colorbar\":{\"outlinewidth\":0,\"ticks\":\"\"},\"type\":\"contourcarpet\"}],\"contour\":[{\"colorbar\":{\"outlinewidth\":0,\"ticks\":\"\"},\"colorscale\":[[0.0,\"#0d0887\"],[0.1111111111111111,\"#46039f\"],[0.2222222222222222,\"#7201a8\"],[0.3333333333333333,\"#9c179e\"],[0.4444444444444444,\"#bd3786\"],[0.5555555555555556,\"#d8576b\"],[0.6666666666666666,\"#ed7953\"],[0.7777777777777778,\"#fb9f3a\"],[0.8888888888888888,\"#fdca26\"],[1.0,\"#f0f921\"]],\"type\":\"contour\"}],\"heatmapgl\":[{\"colorbar\":{\"outlinewidth\":0,\"ticks\":\"\"},\"colorscale\":[[0.0,\"#0d0887\"],[0.1111111111111111,\"#46039f\"],[0.2222222222222222,\"#7201a8\"],[0.3333333333333333,\"#9c179e\"],[0.4444444444444444,\"#bd3786\"],[0.5555555555555556,\"#d8576b\"],[0.6666666666666666,\"#ed7953\"],[0.7777777777777778,\"#fb9f3a\"],[0.8888888888888888,\"#fdca26\"],[1.0,\"#f0f921\"]],\"type\":\"heatmapgl\"}],\"heatmap\":[{\"colorbar\":{\"outlinewidth\":0,\"ticks\":\"\"},\"colorscale\":[[0.0,\"#0d0887\"],[0.1111111111111111,\"#46039f\"],[0.2222222222222222,\"#7201a8\"],[0.3333333333333333,\"#9c179e\"],[0.4444444444444444,\"#bd3786\"],[0.5555555555555556,\"#d8576b\"],[0.6666666666666666,\"#ed7953\"],[0.7777777777777778,\"#fb9f3a\"],[0.8888888888888888,\"#fdca26\"],[1.0,\"#f0f921\"]],\"type\":\"heatmap\"}],\"histogram2dcontour\":[{\"colorbar\":{\"outlinewidth\":0,\"ticks\":\"\"},\"colorscale\":[[0.0,\"#0d0887\"],[0.1111111111111111,\"#46039f\"],[0.2222222222222222,\"#7201a8\"],[0.3333333333333333,\"#9c179e\"],[0.4444444444444444,\"#bd3786\"],[0.5555555555555556,\"#d8576b\"],[0.6666666666666666,\"#ed7953\"],[0.7777777777777778,\"#fb9f3a\"],[0.8888888888888888,\"#fdca26\"],[1.0,\"#f0f921\"]],\"type\":\"histogram2dcontour\"}],\"histogram2d\":[{\"colorbar\":{\"outlinewidth\":0,\"ticks\":\"\"},\"colorscale\":[[0.0,\"#0d0887\"],[0.1111111111111111,\"#46039f\"],[0.2222222222222222,\"#7201a8\"],[0.3333333333333333,\"#9c179e\"],[0.4444444444444444,\"#bd3786\"],[0.5555555555555556,\"#d8576b\"],[0.6666666666666666,\"#ed7953\"],[0.7777777777777778,\"#fb9f3a\"],[0.8888888888888888,\"#fdca26\"],[1.0,\"#f0f921\"]],\"type\":\"histogram2d\"}],\"histogram\":[{\"marker\":{\"pattern\":{\"fillmode\":\"overlay\",\"size\":10,\"solidity\":0.2}},\"type\":\"histogram\"}],\"mesh3d\":[{\"colorbar\":{\"outlinewidth\":0,\"ticks\":\"\"},\"type\":\"mesh3d\"}],\"parcoords\":[{\"line\":{\"colorbar\":{\"outlinewidth\":0,\"ticks\":\"\"}},\"type\":\"parcoords\"}],\"pie\":[{\"automargin\":true,\"type\":\"pie\"}],\"scatter3d\":[{\"line\":{\"colorbar\":{\"outlinewidth\":0,\"ticks\":\"\"}},\"marker\":{\"colorbar\":{\"outlinewidth\":0,\"ticks\":\"\"}},\"type\":\"scatter3d\"}],\"scattercarpet\":[{\"marker\":{\"colorbar\":{\"outlinewidth\":0,\"ticks\":\"\"}},\"type\":\"scattercarpet\"}],\"scattergeo\":[{\"marker\":{\"colorbar\":{\"outlinewidth\":0,\"ticks\":\"\"}},\"type\":\"scattergeo\"}],\"scattergl\":[{\"marker\":{\"colorbar\":{\"outlinewidth\":0,\"ticks\":\"\"}},\"type\":\"scattergl\"}],\"scattermapbox\":[{\"marker\":{\"colorbar\":{\"outlinewidth\":0,\"ticks\":\"\"}},\"type\":\"scattermapbox\"}],\"scatterpolargl\":[{\"marker\":{\"colorbar\":{\"outlinewidth\":0,\"ticks\":\"\"}},\"type\":\"scatterpolargl\"}],\"scatterpolar\":[{\"marker\":{\"colorbar\":{\"outlinewidth\":0,\"ticks\":\"\"}},\"type\":\"scatterpolar\"}],\"scatter\":[{\"fillpattern\":{\"fillmode\":\"overlay\",\"size\":10,\"solidity\":0.2},\"type\":\"scatter\"}],\"scatterternary\":[{\"marker\":{\"colorbar\":{\"outlinewidth\":0,\"ticks\":\"\"}},\"type\":\"scatterternary\"}],\"surface\":[{\"colorbar\":{\"outlinewidth\":0,\"ticks\":\"\"},\"colorscale\":[[0.0,\"#0d0887\"],[0.1111111111111111,\"#46039f\"],[0.2222222222222222,\"#7201a8\"],[0.3333333333333333,\"#9c179e\"],[0.4444444444444444,\"#bd3786\"],[0.5555555555555556,\"#d8576b\"],[0.6666666666666666,\"#ed7953\"],[0.7777777777777778,\"#fb9f3a\"],[0.8888888888888888,\"#fdca26\"],[1.0,\"#f0f921\"]],\"type\":\"surface\"}],\"table\":[{\"cells\":{\"fill\":{\"color\":\"#EBF0F8\"},\"line\":{\"color\":\"white\"}},\"header\":{\"fill\":{\"color\":\"#C8D4E3\"},\"line\":{\"color\":\"white\"}},\"type\":\"table\"}]},\"layout\":{\"annotationdefaults\":{\"arrowcolor\":\"#2a3f5f\",\"arrowhead\":0,\"arrowwidth\":1},\"autotypenumbers\":\"strict\",\"coloraxis\":{\"colorbar\":{\"outlinewidth\":0,\"ticks\":\"\"}},\"colorscale\":{\"diverging\":[[0,\"#8e0152\"],[0.1,\"#c51b7d\"],[0.2,\"#de77ae\"],[0.3,\"#f1b6da\"],[0.4,\"#fde0ef\"],[0.5,\"#f7f7f7\"],[0.6,\"#e6f5d0\"],[0.7,\"#b8e186\"],[0.8,\"#7fbc41\"],[0.9,\"#4d9221\"],[1,\"#276419\"]],\"sequential\":[[0.0,\"#0d0887\"],[0.1111111111111111,\"#46039f\"],[0.2222222222222222,\"#7201a8\"],[0.3333333333333333,\"#9c179e\"],[0.4444444444444444,\"#bd3786\"],[0.5555555555555556,\"#d8576b\"],[0.6666666666666666,\"#ed7953\"],[0.7777777777777778,\"#fb9f3a\"],[0.8888888888888888,\"#fdca26\"],[1.0,\"#f0f921\"]],\"sequentialminus\":[[0.0,\"#0d0887\"],[0.1111111111111111,\"#46039f\"],[0.2222222222222222,\"#7201a8\"],[0.3333333333333333,\"#9c179e\"],[0.4444444444444444,\"#bd3786\"],[0.5555555555555556,\"#d8576b\"],[0.6666666666666666,\"#ed7953\"],[0.7777777777777778,\"#fb9f3a\"],[0.8888888888888888,\"#fdca26\"],[1.0,\"#f0f921\"]]},\"colorway\":[\"#636efa\",\"#EF553B\",\"#00cc96\",\"#ab63fa\",\"#FFA15A\",\"#19d3f3\",\"#FF6692\",\"#B6E880\",\"#FF97FF\",\"#FECB52\"],\"font\":{\"color\":\"#2a3f5f\"},\"geo\":{\"bgcolor\":\"white\",\"lakecolor\":\"white\",\"landcolor\":\"#E5ECF6\",\"showlakes\":true,\"showland\":true,\"subunitcolor\":\"white\"},\"hoverlabel\":{\"align\":\"left\"},\"hovermode\":\"closest\",\"mapbox\":{\"style\":\"light\"},\"paper_bgcolor\":\"white\",\"plot_bgcolor\":\"#E5ECF6\",\"polar\":{\"angularaxis\":{\"gridcolor\":\"white\",\"linecolor\":\"white\",\"ticks\":\"\"},\"bgcolor\":\"#E5ECF6\",\"radialaxis\":{\"gridcolor\":\"white\",\"linecolor\":\"white\",\"ticks\":\"\"}},\"scene\":{\"xaxis\":{\"backgroundcolor\":\"#E5ECF6\",\"gridcolor\":\"white\",\"gridwidth\":2,\"linecolor\":\"white\",\"showbackground\":true,\"ticks\":\"\",\"zerolinecolor\":\"white\"},\"yaxis\":{\"backgroundcolor\":\"#E5ECF6\",\"gridcolor\":\"white\",\"gridwidth\":2,\"linecolor\":\"white\",\"showbackground\":true,\"ticks\":\"\",\"zerolinecolor\":\"white\"},\"zaxis\":{\"backgroundcolor\":\"#E5ECF6\",\"gridcolor\":\"white\",\"gridwidth\":2,\"linecolor\":\"white\",\"showbackground\":true,\"ticks\":\"\",\"zerolinecolor\":\"white\"}},\"shapedefaults\":{\"line\":{\"color\":\"#2a3f5f\"}},\"ternary\":{\"aaxis\":{\"gridcolor\":\"white\",\"linecolor\":\"white\",\"ticks\":\"\"},\"baxis\":{\"gridcolor\":\"white\",\"linecolor\":\"white\",\"ticks\":\"\"},\"bgcolor\":\"#E5ECF6\",\"caxis\":{\"gridcolor\":\"white\",\"linecolor\":\"white\",\"ticks\":\"\"}},\"title\":{\"x\":0.05},\"xaxis\":{\"automargin\":true,\"gridcolor\":\"white\",\"linecolor\":\"white\",\"ticks\":\"\",\"title\":{\"standoff\":15},\"zerolinecolor\":\"white\",\"zerolinewidth\":2},\"yaxis\":{\"automargin\":true,\"gridcolor\":\"white\",\"linecolor\":\"white\",\"ticks\":\"\",\"title\":{\"standoff\":15},\"zerolinecolor\":\"white\",\"zerolinewidth\":2}}},\"title\":{\"font\":{\"color\":\"#4D5663\"}},\"xaxis\":{\"gridcolor\":\"#E1E5ED\",\"showgrid\":true,\"tickfont\":{\"color\":\"#4D5663\"},\"title\":{\"font\":{\"color\":\"#4D5663\"},\"text\":\"\"},\"zerolinecolor\":\"#E1E5ED\"},\"yaxis\":{\"gridcolor\":\"#E1E5ED\",\"showgrid\":true,\"tickfont\":{\"color\":\"#4D5663\"},\"title\":{\"font\":{\"color\":\"#4D5663\"},\"text\":\"\"},\"zerolinecolor\":\"#E1E5ED\"}},                        {\"showLink\": true, \"linkText\": \"Export to plot.ly\", \"plotlyServerURL\": \"https://plot.ly\", \"responsive\": true}                    ).then(function(){\n",
       "                            \n",
       "var gd = document.getElementById('14015d1f-761c-47a9-a742-dd810526e8ff');\n",
       "var x = new MutationObserver(function (mutations, observer) {{\n",
       "        var display = window.getComputedStyle(gd).display;\n",
       "        if (!display || display === 'none') {{\n",
       "            console.log([gd, 'removed!']);\n",
       "            Plotly.purge(gd);\n",
       "            observer.disconnect();\n",
       "        }}\n",
       "}});\n",
       "\n",
       "// Listen for the removal of the full notebook cells\n",
       "var notebookContainer = gd.closest('#notebook-container');\n",
       "if (notebookContainer) {{\n",
       "    x.observe(notebookContainer, {childList: true});\n",
       "}}\n",
       "\n",
       "// Listen for the clearing of the current output cell\n",
       "var outputEl = gd.closest('.output');\n",
       "if (outputEl) {{\n",
       "    x.observe(outputEl, {childList: true});\n",
       "}}\n",
       "\n",
       "                        })                };                });            </script>        </div>"
      ]
     },
     "metadata": {},
     "output_type": "display_data"
    }
   ],
   "source": [
    "df.iplot(kind='scatter', x='A', y='B', mode='markers', size=10)"
   ]
  },
  {
   "attachments": {},
   "cell_type": "markdown",
   "metadata": {},
   "source": [
    "### Bar Plots"
   ]
  },
  {
   "cell_type": "code",
   "execution_count": 62,
   "metadata": {},
   "outputs": [
    {
     "data": {
      "application/vnd.plotly.v1+json": {
       "config": {
        "linkText": "Export to plot.ly",
        "plotlyServerURL": "https://plot.ly",
        "showLink": true
       },
       "data": [
        {
         "marker": {
          "color": "rgba(255, 153, 51, 0.6)",
          "line": {
           "color": "rgba(255, 153, 51, 1.0)",
           "width": 1
          }
         },
         "name": "Values",
         "orientation": "v",
         "text": "",
         "type": "bar",
         "x": [
          "A",
          "B",
          "C"
         ],
         "y": [
          32,
          43,
          50
         ]
        }
       ],
       "layout": {
        "legend": {
         "bgcolor": "#F5F6F9",
         "font": {
          "color": "#4D5663"
         }
        },
        "paper_bgcolor": "#F5F6F9",
        "plot_bgcolor": "#F5F6F9",
        "template": {
         "data": {
          "bar": [
           {
            "error_x": {
             "color": "#2a3f5f"
            },
            "error_y": {
             "color": "#2a3f5f"
            },
            "marker": {
             "line": {
              "color": "#E5ECF6",
              "width": 0.5
             },
             "pattern": {
              "fillmode": "overlay",
              "size": 10,
              "solidity": 0.2
             }
            },
            "type": "bar"
           }
          ],
          "barpolar": [
           {
            "marker": {
             "line": {
              "color": "#E5ECF6",
              "width": 0.5
             },
             "pattern": {
              "fillmode": "overlay",
              "size": 10,
              "solidity": 0.2
             }
            },
            "type": "barpolar"
           }
          ],
          "carpet": [
           {
            "aaxis": {
             "endlinecolor": "#2a3f5f",
             "gridcolor": "white",
             "linecolor": "white",
             "minorgridcolor": "white",
             "startlinecolor": "#2a3f5f"
            },
            "baxis": {
             "endlinecolor": "#2a3f5f",
             "gridcolor": "white",
             "linecolor": "white",
             "minorgridcolor": "white",
             "startlinecolor": "#2a3f5f"
            },
            "type": "carpet"
           }
          ],
          "choropleth": [
           {
            "colorbar": {
             "outlinewidth": 0,
             "ticks": ""
            },
            "type": "choropleth"
           }
          ],
          "contour": [
           {
            "colorbar": {
             "outlinewidth": 0,
             "ticks": ""
            },
            "colorscale": [
             [
              0,
              "#0d0887"
             ],
             [
              0.1111111111111111,
              "#46039f"
             ],
             [
              0.2222222222222222,
              "#7201a8"
             ],
             [
              0.3333333333333333,
              "#9c179e"
             ],
             [
              0.4444444444444444,
              "#bd3786"
             ],
             [
              0.5555555555555556,
              "#d8576b"
             ],
             [
              0.6666666666666666,
              "#ed7953"
             ],
             [
              0.7777777777777778,
              "#fb9f3a"
             ],
             [
              0.8888888888888888,
              "#fdca26"
             ],
             [
              1,
              "#f0f921"
             ]
            ],
            "type": "contour"
           }
          ],
          "contourcarpet": [
           {
            "colorbar": {
             "outlinewidth": 0,
             "ticks": ""
            },
            "type": "contourcarpet"
           }
          ],
          "heatmap": [
           {
            "colorbar": {
             "outlinewidth": 0,
             "ticks": ""
            },
            "colorscale": [
             [
              0,
              "#0d0887"
             ],
             [
              0.1111111111111111,
              "#46039f"
             ],
             [
              0.2222222222222222,
              "#7201a8"
             ],
             [
              0.3333333333333333,
              "#9c179e"
             ],
             [
              0.4444444444444444,
              "#bd3786"
             ],
             [
              0.5555555555555556,
              "#d8576b"
             ],
             [
              0.6666666666666666,
              "#ed7953"
             ],
             [
              0.7777777777777778,
              "#fb9f3a"
             ],
             [
              0.8888888888888888,
              "#fdca26"
             ],
             [
              1,
              "#f0f921"
             ]
            ],
            "type": "heatmap"
           }
          ],
          "heatmapgl": [
           {
            "colorbar": {
             "outlinewidth": 0,
             "ticks": ""
            },
            "colorscale": [
             [
              0,
              "#0d0887"
             ],
             [
              0.1111111111111111,
              "#46039f"
             ],
             [
              0.2222222222222222,
              "#7201a8"
             ],
             [
              0.3333333333333333,
              "#9c179e"
             ],
             [
              0.4444444444444444,
              "#bd3786"
             ],
             [
              0.5555555555555556,
              "#d8576b"
             ],
             [
              0.6666666666666666,
              "#ed7953"
             ],
             [
              0.7777777777777778,
              "#fb9f3a"
             ],
             [
              0.8888888888888888,
              "#fdca26"
             ],
             [
              1,
              "#f0f921"
             ]
            ],
            "type": "heatmapgl"
           }
          ],
          "histogram": [
           {
            "marker": {
             "pattern": {
              "fillmode": "overlay",
              "size": 10,
              "solidity": 0.2
             }
            },
            "type": "histogram"
           }
          ],
          "histogram2d": [
           {
            "colorbar": {
             "outlinewidth": 0,
             "ticks": ""
            },
            "colorscale": [
             [
              0,
              "#0d0887"
             ],
             [
              0.1111111111111111,
              "#46039f"
             ],
             [
              0.2222222222222222,
              "#7201a8"
             ],
             [
              0.3333333333333333,
              "#9c179e"
             ],
             [
              0.4444444444444444,
              "#bd3786"
             ],
             [
              0.5555555555555556,
              "#d8576b"
             ],
             [
              0.6666666666666666,
              "#ed7953"
             ],
             [
              0.7777777777777778,
              "#fb9f3a"
             ],
             [
              0.8888888888888888,
              "#fdca26"
             ],
             [
              1,
              "#f0f921"
             ]
            ],
            "type": "histogram2d"
           }
          ],
          "histogram2dcontour": [
           {
            "colorbar": {
             "outlinewidth": 0,
             "ticks": ""
            },
            "colorscale": [
             [
              0,
              "#0d0887"
             ],
             [
              0.1111111111111111,
              "#46039f"
             ],
             [
              0.2222222222222222,
              "#7201a8"
             ],
             [
              0.3333333333333333,
              "#9c179e"
             ],
             [
              0.4444444444444444,
              "#bd3786"
             ],
             [
              0.5555555555555556,
              "#d8576b"
             ],
             [
              0.6666666666666666,
              "#ed7953"
             ],
             [
              0.7777777777777778,
              "#fb9f3a"
             ],
             [
              0.8888888888888888,
              "#fdca26"
             ],
             [
              1,
              "#f0f921"
             ]
            ],
            "type": "histogram2dcontour"
           }
          ],
          "mesh3d": [
           {
            "colorbar": {
             "outlinewidth": 0,
             "ticks": ""
            },
            "type": "mesh3d"
           }
          ],
          "parcoords": [
           {
            "line": {
             "colorbar": {
              "outlinewidth": 0,
              "ticks": ""
             }
            },
            "type": "parcoords"
           }
          ],
          "pie": [
           {
            "automargin": true,
            "type": "pie"
           }
          ],
          "scatter": [
           {
            "fillpattern": {
             "fillmode": "overlay",
             "size": 10,
             "solidity": 0.2
            },
            "type": "scatter"
           }
          ],
          "scatter3d": [
           {
            "line": {
             "colorbar": {
              "outlinewidth": 0,
              "ticks": ""
             }
            },
            "marker": {
             "colorbar": {
              "outlinewidth": 0,
              "ticks": ""
             }
            },
            "type": "scatter3d"
           }
          ],
          "scattercarpet": [
           {
            "marker": {
             "colorbar": {
              "outlinewidth": 0,
              "ticks": ""
             }
            },
            "type": "scattercarpet"
           }
          ],
          "scattergeo": [
           {
            "marker": {
             "colorbar": {
              "outlinewidth": 0,
              "ticks": ""
             }
            },
            "type": "scattergeo"
           }
          ],
          "scattergl": [
           {
            "marker": {
             "colorbar": {
              "outlinewidth": 0,
              "ticks": ""
             }
            },
            "type": "scattergl"
           }
          ],
          "scattermapbox": [
           {
            "marker": {
             "colorbar": {
              "outlinewidth": 0,
              "ticks": ""
             }
            },
            "type": "scattermapbox"
           }
          ],
          "scatterpolar": [
           {
            "marker": {
             "colorbar": {
              "outlinewidth": 0,
              "ticks": ""
             }
            },
            "type": "scatterpolar"
           }
          ],
          "scatterpolargl": [
           {
            "marker": {
             "colorbar": {
              "outlinewidth": 0,
              "ticks": ""
             }
            },
            "type": "scatterpolargl"
           }
          ],
          "scatterternary": [
           {
            "marker": {
             "colorbar": {
              "outlinewidth": 0,
              "ticks": ""
             }
            },
            "type": "scatterternary"
           }
          ],
          "surface": [
           {
            "colorbar": {
             "outlinewidth": 0,
             "ticks": ""
            },
            "colorscale": [
             [
              0,
              "#0d0887"
             ],
             [
              0.1111111111111111,
              "#46039f"
             ],
             [
              0.2222222222222222,
              "#7201a8"
             ],
             [
              0.3333333333333333,
              "#9c179e"
             ],
             [
              0.4444444444444444,
              "#bd3786"
             ],
             [
              0.5555555555555556,
              "#d8576b"
             ],
             [
              0.6666666666666666,
              "#ed7953"
             ],
             [
              0.7777777777777778,
              "#fb9f3a"
             ],
             [
              0.8888888888888888,
              "#fdca26"
             ],
             [
              1,
              "#f0f921"
             ]
            ],
            "type": "surface"
           }
          ],
          "table": [
           {
            "cells": {
             "fill": {
              "color": "#EBF0F8"
             },
             "line": {
              "color": "white"
             }
            },
            "header": {
             "fill": {
              "color": "#C8D4E3"
             },
             "line": {
              "color": "white"
             }
            },
            "type": "table"
           }
          ]
         },
         "layout": {
          "annotationdefaults": {
           "arrowcolor": "#2a3f5f",
           "arrowhead": 0,
           "arrowwidth": 1
          },
          "autotypenumbers": "strict",
          "coloraxis": {
           "colorbar": {
            "outlinewidth": 0,
            "ticks": ""
           }
          },
          "colorscale": {
           "diverging": [
            [
             0,
             "#8e0152"
            ],
            [
             0.1,
             "#c51b7d"
            ],
            [
             0.2,
             "#de77ae"
            ],
            [
             0.3,
             "#f1b6da"
            ],
            [
             0.4,
             "#fde0ef"
            ],
            [
             0.5,
             "#f7f7f7"
            ],
            [
             0.6,
             "#e6f5d0"
            ],
            [
             0.7,
             "#b8e186"
            ],
            [
             0.8,
             "#7fbc41"
            ],
            [
             0.9,
             "#4d9221"
            ],
            [
             1,
             "#276419"
            ]
           ],
           "sequential": [
            [
             0,
             "#0d0887"
            ],
            [
             0.1111111111111111,
             "#46039f"
            ],
            [
             0.2222222222222222,
             "#7201a8"
            ],
            [
             0.3333333333333333,
             "#9c179e"
            ],
            [
             0.4444444444444444,
             "#bd3786"
            ],
            [
             0.5555555555555556,
             "#d8576b"
            ],
            [
             0.6666666666666666,
             "#ed7953"
            ],
            [
             0.7777777777777778,
             "#fb9f3a"
            ],
            [
             0.8888888888888888,
             "#fdca26"
            ],
            [
             1,
             "#f0f921"
            ]
           ],
           "sequentialminus": [
            [
             0,
             "#0d0887"
            ],
            [
             0.1111111111111111,
             "#46039f"
            ],
            [
             0.2222222222222222,
             "#7201a8"
            ],
            [
             0.3333333333333333,
             "#9c179e"
            ],
            [
             0.4444444444444444,
             "#bd3786"
            ],
            [
             0.5555555555555556,
             "#d8576b"
            ],
            [
             0.6666666666666666,
             "#ed7953"
            ],
            [
             0.7777777777777778,
             "#fb9f3a"
            ],
            [
             0.8888888888888888,
             "#fdca26"
            ],
            [
             1,
             "#f0f921"
            ]
           ]
          },
          "colorway": [
           "#636efa",
           "#EF553B",
           "#00cc96",
           "#ab63fa",
           "#FFA15A",
           "#19d3f3",
           "#FF6692",
           "#B6E880",
           "#FF97FF",
           "#FECB52"
          ],
          "font": {
           "color": "#2a3f5f"
          },
          "geo": {
           "bgcolor": "white",
           "lakecolor": "white",
           "landcolor": "#E5ECF6",
           "showlakes": true,
           "showland": true,
           "subunitcolor": "white"
          },
          "hoverlabel": {
           "align": "left"
          },
          "hovermode": "closest",
          "mapbox": {
           "style": "light"
          },
          "paper_bgcolor": "white",
          "plot_bgcolor": "#E5ECF6",
          "polar": {
           "angularaxis": {
            "gridcolor": "white",
            "linecolor": "white",
            "ticks": ""
           },
           "bgcolor": "#E5ECF6",
           "radialaxis": {
            "gridcolor": "white",
            "linecolor": "white",
            "ticks": ""
           }
          },
          "scene": {
           "xaxis": {
            "backgroundcolor": "#E5ECF6",
            "gridcolor": "white",
            "gridwidth": 2,
            "linecolor": "white",
            "showbackground": true,
            "ticks": "",
            "zerolinecolor": "white"
           },
           "yaxis": {
            "backgroundcolor": "#E5ECF6",
            "gridcolor": "white",
            "gridwidth": 2,
            "linecolor": "white",
            "showbackground": true,
            "ticks": "",
            "zerolinecolor": "white"
           },
           "zaxis": {
            "backgroundcolor": "#E5ECF6",
            "gridcolor": "white",
            "gridwidth": 2,
            "linecolor": "white",
            "showbackground": true,
            "ticks": "",
            "zerolinecolor": "white"
           }
          },
          "shapedefaults": {
           "line": {
            "color": "#2a3f5f"
           }
          },
          "ternary": {
           "aaxis": {
            "gridcolor": "white",
            "linecolor": "white",
            "ticks": ""
           },
           "baxis": {
            "gridcolor": "white",
            "linecolor": "white",
            "ticks": ""
           },
           "bgcolor": "#E5ECF6",
           "caxis": {
            "gridcolor": "white",
            "linecolor": "white",
            "ticks": ""
           }
          },
          "title": {
           "x": 0.05
          },
          "xaxis": {
           "automargin": true,
           "gridcolor": "white",
           "linecolor": "white",
           "ticks": "",
           "title": {
            "standoff": 15
           },
           "zerolinecolor": "white",
           "zerolinewidth": 2
          },
          "yaxis": {
           "automargin": true,
           "gridcolor": "white",
           "linecolor": "white",
           "ticks": "",
           "title": {
            "standoff": 15
           },
           "zerolinecolor": "white",
           "zerolinewidth": 2
          }
         }
        },
        "title": {
         "font": {
          "color": "#4D5663"
         }
        },
        "xaxis": {
         "gridcolor": "#E1E5ED",
         "showgrid": true,
         "tickfont": {
          "color": "#4D5663"
         },
         "title": {
          "font": {
           "color": "#4D5663"
          },
          "text": ""
         },
         "zerolinecolor": "#E1E5ED"
        },
        "yaxis": {
         "gridcolor": "#E1E5ED",
         "showgrid": true,
         "tickfont": {
          "color": "#4D5663"
         },
         "title": {
          "font": {
           "color": "#4D5663"
          },
          "text": ""
         },
         "zerolinecolor": "#E1E5ED"
        }
       }
      },
      "text/html": [
       "<div>                            <div id=\"aa76d141-621b-45ba-aed0-4e3d825a769f\" class=\"plotly-graph-div\" style=\"height:525px; width:100%;\"></div>            <script type=\"text/javascript\">                require([\"plotly\"], function(Plotly) {                    window.PLOTLYENV=window.PLOTLYENV || {};\n",
       "                    window.PLOTLYENV.BASE_URL='https://plot.ly';                                    if (document.getElementById(\"aa76d141-621b-45ba-aed0-4e3d825a769f\")) {                    Plotly.newPlot(                        \"aa76d141-621b-45ba-aed0-4e3d825a769f\",                        [{\"marker\":{\"color\":\"rgba(255, 153, 51, 0.6)\",\"line\":{\"color\":\"rgba(255, 153, 51, 1.0)\",\"width\":1}},\"name\":\"Values\",\"orientation\":\"v\",\"text\":\"\",\"x\":[\"A\",\"B\",\"C\"],\"y\":[32,43,50],\"type\":\"bar\"}],                        {\"legend\":{\"bgcolor\":\"#F5F6F9\",\"font\":{\"color\":\"#4D5663\"}},\"paper_bgcolor\":\"#F5F6F9\",\"plot_bgcolor\":\"#F5F6F9\",\"template\":{\"data\":{\"barpolar\":[{\"marker\":{\"line\":{\"color\":\"#E5ECF6\",\"width\":0.5},\"pattern\":{\"fillmode\":\"overlay\",\"size\":10,\"solidity\":0.2}},\"type\":\"barpolar\"}],\"bar\":[{\"error_x\":{\"color\":\"#2a3f5f\"},\"error_y\":{\"color\":\"#2a3f5f\"},\"marker\":{\"line\":{\"color\":\"#E5ECF6\",\"width\":0.5},\"pattern\":{\"fillmode\":\"overlay\",\"size\":10,\"solidity\":0.2}},\"type\":\"bar\"}],\"carpet\":[{\"aaxis\":{\"endlinecolor\":\"#2a3f5f\",\"gridcolor\":\"white\",\"linecolor\":\"white\",\"minorgridcolor\":\"white\",\"startlinecolor\":\"#2a3f5f\"},\"baxis\":{\"endlinecolor\":\"#2a3f5f\",\"gridcolor\":\"white\",\"linecolor\":\"white\",\"minorgridcolor\":\"white\",\"startlinecolor\":\"#2a3f5f\"},\"type\":\"carpet\"}],\"choropleth\":[{\"colorbar\":{\"outlinewidth\":0,\"ticks\":\"\"},\"type\":\"choropleth\"}],\"contourcarpet\":[{\"colorbar\":{\"outlinewidth\":0,\"ticks\":\"\"},\"type\":\"contourcarpet\"}],\"contour\":[{\"colorbar\":{\"outlinewidth\":0,\"ticks\":\"\"},\"colorscale\":[[0.0,\"#0d0887\"],[0.1111111111111111,\"#46039f\"],[0.2222222222222222,\"#7201a8\"],[0.3333333333333333,\"#9c179e\"],[0.4444444444444444,\"#bd3786\"],[0.5555555555555556,\"#d8576b\"],[0.6666666666666666,\"#ed7953\"],[0.7777777777777778,\"#fb9f3a\"],[0.8888888888888888,\"#fdca26\"],[1.0,\"#f0f921\"]],\"type\":\"contour\"}],\"heatmapgl\":[{\"colorbar\":{\"outlinewidth\":0,\"ticks\":\"\"},\"colorscale\":[[0.0,\"#0d0887\"],[0.1111111111111111,\"#46039f\"],[0.2222222222222222,\"#7201a8\"],[0.3333333333333333,\"#9c179e\"],[0.4444444444444444,\"#bd3786\"],[0.5555555555555556,\"#d8576b\"],[0.6666666666666666,\"#ed7953\"],[0.7777777777777778,\"#fb9f3a\"],[0.8888888888888888,\"#fdca26\"],[1.0,\"#f0f921\"]],\"type\":\"heatmapgl\"}],\"heatmap\":[{\"colorbar\":{\"outlinewidth\":0,\"ticks\":\"\"},\"colorscale\":[[0.0,\"#0d0887\"],[0.1111111111111111,\"#46039f\"],[0.2222222222222222,\"#7201a8\"],[0.3333333333333333,\"#9c179e\"],[0.4444444444444444,\"#bd3786\"],[0.5555555555555556,\"#d8576b\"],[0.6666666666666666,\"#ed7953\"],[0.7777777777777778,\"#fb9f3a\"],[0.8888888888888888,\"#fdca26\"],[1.0,\"#f0f921\"]],\"type\":\"heatmap\"}],\"histogram2dcontour\":[{\"colorbar\":{\"outlinewidth\":0,\"ticks\":\"\"},\"colorscale\":[[0.0,\"#0d0887\"],[0.1111111111111111,\"#46039f\"],[0.2222222222222222,\"#7201a8\"],[0.3333333333333333,\"#9c179e\"],[0.4444444444444444,\"#bd3786\"],[0.5555555555555556,\"#d8576b\"],[0.6666666666666666,\"#ed7953\"],[0.7777777777777778,\"#fb9f3a\"],[0.8888888888888888,\"#fdca26\"],[1.0,\"#f0f921\"]],\"type\":\"histogram2dcontour\"}],\"histogram2d\":[{\"colorbar\":{\"outlinewidth\":0,\"ticks\":\"\"},\"colorscale\":[[0.0,\"#0d0887\"],[0.1111111111111111,\"#46039f\"],[0.2222222222222222,\"#7201a8\"],[0.3333333333333333,\"#9c179e\"],[0.4444444444444444,\"#bd3786\"],[0.5555555555555556,\"#d8576b\"],[0.6666666666666666,\"#ed7953\"],[0.7777777777777778,\"#fb9f3a\"],[0.8888888888888888,\"#fdca26\"],[1.0,\"#f0f921\"]],\"type\":\"histogram2d\"}],\"histogram\":[{\"marker\":{\"pattern\":{\"fillmode\":\"overlay\",\"size\":10,\"solidity\":0.2}},\"type\":\"histogram\"}],\"mesh3d\":[{\"colorbar\":{\"outlinewidth\":0,\"ticks\":\"\"},\"type\":\"mesh3d\"}],\"parcoords\":[{\"line\":{\"colorbar\":{\"outlinewidth\":0,\"ticks\":\"\"}},\"type\":\"parcoords\"}],\"pie\":[{\"automargin\":true,\"type\":\"pie\"}],\"scatter3d\":[{\"line\":{\"colorbar\":{\"outlinewidth\":0,\"ticks\":\"\"}},\"marker\":{\"colorbar\":{\"outlinewidth\":0,\"ticks\":\"\"}},\"type\":\"scatter3d\"}],\"scattercarpet\":[{\"marker\":{\"colorbar\":{\"outlinewidth\":0,\"ticks\":\"\"}},\"type\":\"scattercarpet\"}],\"scattergeo\":[{\"marker\":{\"colorbar\":{\"outlinewidth\":0,\"ticks\":\"\"}},\"type\":\"scattergeo\"}],\"scattergl\":[{\"marker\":{\"colorbar\":{\"outlinewidth\":0,\"ticks\":\"\"}},\"type\":\"scattergl\"}],\"scattermapbox\":[{\"marker\":{\"colorbar\":{\"outlinewidth\":0,\"ticks\":\"\"}},\"type\":\"scattermapbox\"}],\"scatterpolargl\":[{\"marker\":{\"colorbar\":{\"outlinewidth\":0,\"ticks\":\"\"}},\"type\":\"scatterpolargl\"}],\"scatterpolar\":[{\"marker\":{\"colorbar\":{\"outlinewidth\":0,\"ticks\":\"\"}},\"type\":\"scatterpolar\"}],\"scatter\":[{\"fillpattern\":{\"fillmode\":\"overlay\",\"size\":10,\"solidity\":0.2},\"type\":\"scatter\"}],\"scatterternary\":[{\"marker\":{\"colorbar\":{\"outlinewidth\":0,\"ticks\":\"\"}},\"type\":\"scatterternary\"}],\"surface\":[{\"colorbar\":{\"outlinewidth\":0,\"ticks\":\"\"},\"colorscale\":[[0.0,\"#0d0887\"],[0.1111111111111111,\"#46039f\"],[0.2222222222222222,\"#7201a8\"],[0.3333333333333333,\"#9c179e\"],[0.4444444444444444,\"#bd3786\"],[0.5555555555555556,\"#d8576b\"],[0.6666666666666666,\"#ed7953\"],[0.7777777777777778,\"#fb9f3a\"],[0.8888888888888888,\"#fdca26\"],[1.0,\"#f0f921\"]],\"type\":\"surface\"}],\"table\":[{\"cells\":{\"fill\":{\"color\":\"#EBF0F8\"},\"line\":{\"color\":\"white\"}},\"header\":{\"fill\":{\"color\":\"#C8D4E3\"},\"line\":{\"color\":\"white\"}},\"type\":\"table\"}]},\"layout\":{\"annotationdefaults\":{\"arrowcolor\":\"#2a3f5f\",\"arrowhead\":0,\"arrowwidth\":1},\"autotypenumbers\":\"strict\",\"coloraxis\":{\"colorbar\":{\"outlinewidth\":0,\"ticks\":\"\"}},\"colorscale\":{\"diverging\":[[0,\"#8e0152\"],[0.1,\"#c51b7d\"],[0.2,\"#de77ae\"],[0.3,\"#f1b6da\"],[0.4,\"#fde0ef\"],[0.5,\"#f7f7f7\"],[0.6,\"#e6f5d0\"],[0.7,\"#b8e186\"],[0.8,\"#7fbc41\"],[0.9,\"#4d9221\"],[1,\"#276419\"]],\"sequential\":[[0.0,\"#0d0887\"],[0.1111111111111111,\"#46039f\"],[0.2222222222222222,\"#7201a8\"],[0.3333333333333333,\"#9c179e\"],[0.4444444444444444,\"#bd3786\"],[0.5555555555555556,\"#d8576b\"],[0.6666666666666666,\"#ed7953\"],[0.7777777777777778,\"#fb9f3a\"],[0.8888888888888888,\"#fdca26\"],[1.0,\"#f0f921\"]],\"sequentialminus\":[[0.0,\"#0d0887\"],[0.1111111111111111,\"#46039f\"],[0.2222222222222222,\"#7201a8\"],[0.3333333333333333,\"#9c179e\"],[0.4444444444444444,\"#bd3786\"],[0.5555555555555556,\"#d8576b\"],[0.6666666666666666,\"#ed7953\"],[0.7777777777777778,\"#fb9f3a\"],[0.8888888888888888,\"#fdca26\"],[1.0,\"#f0f921\"]]},\"colorway\":[\"#636efa\",\"#EF553B\",\"#00cc96\",\"#ab63fa\",\"#FFA15A\",\"#19d3f3\",\"#FF6692\",\"#B6E880\",\"#FF97FF\",\"#FECB52\"],\"font\":{\"color\":\"#2a3f5f\"},\"geo\":{\"bgcolor\":\"white\",\"lakecolor\":\"white\",\"landcolor\":\"#E5ECF6\",\"showlakes\":true,\"showland\":true,\"subunitcolor\":\"white\"},\"hoverlabel\":{\"align\":\"left\"},\"hovermode\":\"closest\",\"mapbox\":{\"style\":\"light\"},\"paper_bgcolor\":\"white\",\"plot_bgcolor\":\"#E5ECF6\",\"polar\":{\"angularaxis\":{\"gridcolor\":\"white\",\"linecolor\":\"white\",\"ticks\":\"\"},\"bgcolor\":\"#E5ECF6\",\"radialaxis\":{\"gridcolor\":\"white\",\"linecolor\":\"white\",\"ticks\":\"\"}},\"scene\":{\"xaxis\":{\"backgroundcolor\":\"#E5ECF6\",\"gridcolor\":\"white\",\"gridwidth\":2,\"linecolor\":\"white\",\"showbackground\":true,\"ticks\":\"\",\"zerolinecolor\":\"white\"},\"yaxis\":{\"backgroundcolor\":\"#E5ECF6\",\"gridcolor\":\"white\",\"gridwidth\":2,\"linecolor\":\"white\",\"showbackground\":true,\"ticks\":\"\",\"zerolinecolor\":\"white\"},\"zaxis\":{\"backgroundcolor\":\"#E5ECF6\",\"gridcolor\":\"white\",\"gridwidth\":2,\"linecolor\":\"white\",\"showbackground\":true,\"ticks\":\"\",\"zerolinecolor\":\"white\"}},\"shapedefaults\":{\"line\":{\"color\":\"#2a3f5f\"}},\"ternary\":{\"aaxis\":{\"gridcolor\":\"white\",\"linecolor\":\"white\",\"ticks\":\"\"},\"baxis\":{\"gridcolor\":\"white\",\"linecolor\":\"white\",\"ticks\":\"\"},\"bgcolor\":\"#E5ECF6\",\"caxis\":{\"gridcolor\":\"white\",\"linecolor\":\"white\",\"ticks\":\"\"}},\"title\":{\"x\":0.05},\"xaxis\":{\"automargin\":true,\"gridcolor\":\"white\",\"linecolor\":\"white\",\"ticks\":\"\",\"title\":{\"standoff\":15},\"zerolinecolor\":\"white\",\"zerolinewidth\":2},\"yaxis\":{\"automargin\":true,\"gridcolor\":\"white\",\"linecolor\":\"white\",\"ticks\":\"\",\"title\":{\"standoff\":15},\"zerolinecolor\":\"white\",\"zerolinewidth\":2}}},\"title\":{\"font\":{\"color\":\"#4D5663\"}},\"xaxis\":{\"gridcolor\":\"#E1E5ED\",\"showgrid\":true,\"tickfont\":{\"color\":\"#4D5663\"},\"title\":{\"font\":{\"color\":\"#4D5663\"},\"text\":\"\"},\"zerolinecolor\":\"#E1E5ED\"},\"yaxis\":{\"gridcolor\":\"#E1E5ED\",\"showgrid\":true,\"tickfont\":{\"color\":\"#4D5663\"},\"title\":{\"font\":{\"color\":\"#4D5663\"},\"text\":\"\"},\"zerolinecolor\":\"#E1E5ED\"}},                        {\"showLink\": true, \"linkText\": \"Export to plot.ly\", \"plotlyServerURL\": \"https://plot.ly\", \"responsive\": true}                    ).then(function(){\n",
       "                            \n",
       "var gd = document.getElementById('aa76d141-621b-45ba-aed0-4e3d825a769f');\n",
       "var x = new MutationObserver(function (mutations, observer) {{\n",
       "        var display = window.getComputedStyle(gd).display;\n",
       "        if (!display || display === 'none') {{\n",
       "            console.log([gd, 'removed!']);\n",
       "            Plotly.purge(gd);\n",
       "            observer.disconnect();\n",
       "        }}\n",
       "}});\n",
       "\n",
       "// Listen for the removal of the full notebook cells\n",
       "var notebookContainer = gd.closest('#notebook-container');\n",
       "if (notebookContainer) {{\n",
       "    x.observe(notebookContainer, {childList: true});\n",
       "}}\n",
       "\n",
       "// Listen for the clearing of the current output cell\n",
       "var outputEl = gd.closest('.output');\n",
       "if (outputEl) {{\n",
       "    x.observe(outputEl, {childList: true});\n",
       "}}\n",
       "\n",
       "                        })                };                });            </script>        </div>"
      ]
     },
     "metadata": {},
     "output_type": "display_data"
    }
   ],
   "source": [
    "df2.iplot(kind='bar', x='Category', y='Values')"
   ]
  },
  {
   "cell_type": "code",
   "execution_count": 63,
   "metadata": {},
   "outputs": [
    {
     "data": {
      "application/vnd.plotly.v1+json": {
       "config": {
        "linkText": "Export to plot.ly",
        "plotlyServerURL": "https://plot.ly",
        "showLink": true
       },
       "data": [
        {
         "marker": {
          "color": "rgba(255, 153, 51, 0.6)",
          "line": {
           "color": "rgba(255, 153, 51, 1.0)",
           "width": 1
          }
         },
         "name": "None",
         "orientation": "v",
         "text": "",
         "type": "bar",
         "x": [
          "A",
          "B",
          "C",
          "D"
         ],
         "y": [
          100,
          100,
          100,
          100
         ]
        }
       ],
       "layout": {
        "legend": {
         "bgcolor": "#F5F6F9",
         "font": {
          "color": "#4D5663"
         }
        },
        "paper_bgcolor": "#F5F6F9",
        "plot_bgcolor": "#F5F6F9",
        "template": {
         "data": {
          "bar": [
           {
            "error_x": {
             "color": "#2a3f5f"
            },
            "error_y": {
             "color": "#2a3f5f"
            },
            "marker": {
             "line": {
              "color": "#E5ECF6",
              "width": 0.5
             },
             "pattern": {
              "fillmode": "overlay",
              "size": 10,
              "solidity": 0.2
             }
            },
            "type": "bar"
           }
          ],
          "barpolar": [
           {
            "marker": {
             "line": {
              "color": "#E5ECF6",
              "width": 0.5
             },
             "pattern": {
              "fillmode": "overlay",
              "size": 10,
              "solidity": 0.2
             }
            },
            "type": "barpolar"
           }
          ],
          "carpet": [
           {
            "aaxis": {
             "endlinecolor": "#2a3f5f",
             "gridcolor": "white",
             "linecolor": "white",
             "minorgridcolor": "white",
             "startlinecolor": "#2a3f5f"
            },
            "baxis": {
             "endlinecolor": "#2a3f5f",
             "gridcolor": "white",
             "linecolor": "white",
             "minorgridcolor": "white",
             "startlinecolor": "#2a3f5f"
            },
            "type": "carpet"
           }
          ],
          "choropleth": [
           {
            "colorbar": {
             "outlinewidth": 0,
             "ticks": ""
            },
            "type": "choropleth"
           }
          ],
          "contour": [
           {
            "colorbar": {
             "outlinewidth": 0,
             "ticks": ""
            },
            "colorscale": [
             [
              0,
              "#0d0887"
             ],
             [
              0.1111111111111111,
              "#46039f"
             ],
             [
              0.2222222222222222,
              "#7201a8"
             ],
             [
              0.3333333333333333,
              "#9c179e"
             ],
             [
              0.4444444444444444,
              "#bd3786"
             ],
             [
              0.5555555555555556,
              "#d8576b"
             ],
             [
              0.6666666666666666,
              "#ed7953"
             ],
             [
              0.7777777777777778,
              "#fb9f3a"
             ],
             [
              0.8888888888888888,
              "#fdca26"
             ],
             [
              1,
              "#f0f921"
             ]
            ],
            "type": "contour"
           }
          ],
          "contourcarpet": [
           {
            "colorbar": {
             "outlinewidth": 0,
             "ticks": ""
            },
            "type": "contourcarpet"
           }
          ],
          "heatmap": [
           {
            "colorbar": {
             "outlinewidth": 0,
             "ticks": ""
            },
            "colorscale": [
             [
              0,
              "#0d0887"
             ],
             [
              0.1111111111111111,
              "#46039f"
             ],
             [
              0.2222222222222222,
              "#7201a8"
             ],
             [
              0.3333333333333333,
              "#9c179e"
             ],
             [
              0.4444444444444444,
              "#bd3786"
             ],
             [
              0.5555555555555556,
              "#d8576b"
             ],
             [
              0.6666666666666666,
              "#ed7953"
             ],
             [
              0.7777777777777778,
              "#fb9f3a"
             ],
             [
              0.8888888888888888,
              "#fdca26"
             ],
             [
              1,
              "#f0f921"
             ]
            ],
            "type": "heatmap"
           }
          ],
          "heatmapgl": [
           {
            "colorbar": {
             "outlinewidth": 0,
             "ticks": ""
            },
            "colorscale": [
             [
              0,
              "#0d0887"
             ],
             [
              0.1111111111111111,
              "#46039f"
             ],
             [
              0.2222222222222222,
              "#7201a8"
             ],
             [
              0.3333333333333333,
              "#9c179e"
             ],
             [
              0.4444444444444444,
              "#bd3786"
             ],
             [
              0.5555555555555556,
              "#d8576b"
             ],
             [
              0.6666666666666666,
              "#ed7953"
             ],
             [
              0.7777777777777778,
              "#fb9f3a"
             ],
             [
              0.8888888888888888,
              "#fdca26"
             ],
             [
              1,
              "#f0f921"
             ]
            ],
            "type": "heatmapgl"
           }
          ],
          "histogram": [
           {
            "marker": {
             "pattern": {
              "fillmode": "overlay",
              "size": 10,
              "solidity": 0.2
             }
            },
            "type": "histogram"
           }
          ],
          "histogram2d": [
           {
            "colorbar": {
             "outlinewidth": 0,
             "ticks": ""
            },
            "colorscale": [
             [
              0,
              "#0d0887"
             ],
             [
              0.1111111111111111,
              "#46039f"
             ],
             [
              0.2222222222222222,
              "#7201a8"
             ],
             [
              0.3333333333333333,
              "#9c179e"
             ],
             [
              0.4444444444444444,
              "#bd3786"
             ],
             [
              0.5555555555555556,
              "#d8576b"
             ],
             [
              0.6666666666666666,
              "#ed7953"
             ],
             [
              0.7777777777777778,
              "#fb9f3a"
             ],
             [
              0.8888888888888888,
              "#fdca26"
             ],
             [
              1,
              "#f0f921"
             ]
            ],
            "type": "histogram2d"
           }
          ],
          "histogram2dcontour": [
           {
            "colorbar": {
             "outlinewidth": 0,
             "ticks": ""
            },
            "colorscale": [
             [
              0,
              "#0d0887"
             ],
             [
              0.1111111111111111,
              "#46039f"
             ],
             [
              0.2222222222222222,
              "#7201a8"
             ],
             [
              0.3333333333333333,
              "#9c179e"
             ],
             [
              0.4444444444444444,
              "#bd3786"
             ],
             [
              0.5555555555555556,
              "#d8576b"
             ],
             [
              0.6666666666666666,
              "#ed7953"
             ],
             [
              0.7777777777777778,
              "#fb9f3a"
             ],
             [
              0.8888888888888888,
              "#fdca26"
             ],
             [
              1,
              "#f0f921"
             ]
            ],
            "type": "histogram2dcontour"
           }
          ],
          "mesh3d": [
           {
            "colorbar": {
             "outlinewidth": 0,
             "ticks": ""
            },
            "type": "mesh3d"
           }
          ],
          "parcoords": [
           {
            "line": {
             "colorbar": {
              "outlinewidth": 0,
              "ticks": ""
             }
            },
            "type": "parcoords"
           }
          ],
          "pie": [
           {
            "automargin": true,
            "type": "pie"
           }
          ],
          "scatter": [
           {
            "fillpattern": {
             "fillmode": "overlay",
             "size": 10,
             "solidity": 0.2
            },
            "type": "scatter"
           }
          ],
          "scatter3d": [
           {
            "line": {
             "colorbar": {
              "outlinewidth": 0,
              "ticks": ""
             }
            },
            "marker": {
             "colorbar": {
              "outlinewidth": 0,
              "ticks": ""
             }
            },
            "type": "scatter3d"
           }
          ],
          "scattercarpet": [
           {
            "marker": {
             "colorbar": {
              "outlinewidth": 0,
              "ticks": ""
             }
            },
            "type": "scattercarpet"
           }
          ],
          "scattergeo": [
           {
            "marker": {
             "colorbar": {
              "outlinewidth": 0,
              "ticks": ""
             }
            },
            "type": "scattergeo"
           }
          ],
          "scattergl": [
           {
            "marker": {
             "colorbar": {
              "outlinewidth": 0,
              "ticks": ""
             }
            },
            "type": "scattergl"
           }
          ],
          "scattermapbox": [
           {
            "marker": {
             "colorbar": {
              "outlinewidth": 0,
              "ticks": ""
             }
            },
            "type": "scattermapbox"
           }
          ],
          "scatterpolar": [
           {
            "marker": {
             "colorbar": {
              "outlinewidth": 0,
              "ticks": ""
             }
            },
            "type": "scatterpolar"
           }
          ],
          "scatterpolargl": [
           {
            "marker": {
             "colorbar": {
              "outlinewidth": 0,
              "ticks": ""
             }
            },
            "type": "scatterpolargl"
           }
          ],
          "scatterternary": [
           {
            "marker": {
             "colorbar": {
              "outlinewidth": 0,
              "ticks": ""
             }
            },
            "type": "scatterternary"
           }
          ],
          "surface": [
           {
            "colorbar": {
             "outlinewidth": 0,
             "ticks": ""
            },
            "colorscale": [
             [
              0,
              "#0d0887"
             ],
             [
              0.1111111111111111,
              "#46039f"
             ],
             [
              0.2222222222222222,
              "#7201a8"
             ],
             [
              0.3333333333333333,
              "#9c179e"
             ],
             [
              0.4444444444444444,
              "#bd3786"
             ],
             [
              0.5555555555555556,
              "#d8576b"
             ],
             [
              0.6666666666666666,
              "#ed7953"
             ],
             [
              0.7777777777777778,
              "#fb9f3a"
             ],
             [
              0.8888888888888888,
              "#fdca26"
             ],
             [
              1,
              "#f0f921"
             ]
            ],
            "type": "surface"
           }
          ],
          "table": [
           {
            "cells": {
             "fill": {
              "color": "#EBF0F8"
             },
             "line": {
              "color": "white"
             }
            },
            "header": {
             "fill": {
              "color": "#C8D4E3"
             },
             "line": {
              "color": "white"
             }
            },
            "type": "table"
           }
          ]
         },
         "layout": {
          "annotationdefaults": {
           "arrowcolor": "#2a3f5f",
           "arrowhead": 0,
           "arrowwidth": 1
          },
          "autotypenumbers": "strict",
          "coloraxis": {
           "colorbar": {
            "outlinewidth": 0,
            "ticks": ""
           }
          },
          "colorscale": {
           "diverging": [
            [
             0,
             "#8e0152"
            ],
            [
             0.1,
             "#c51b7d"
            ],
            [
             0.2,
             "#de77ae"
            ],
            [
             0.3,
             "#f1b6da"
            ],
            [
             0.4,
             "#fde0ef"
            ],
            [
             0.5,
             "#f7f7f7"
            ],
            [
             0.6,
             "#e6f5d0"
            ],
            [
             0.7,
             "#b8e186"
            ],
            [
             0.8,
             "#7fbc41"
            ],
            [
             0.9,
             "#4d9221"
            ],
            [
             1,
             "#276419"
            ]
           ],
           "sequential": [
            [
             0,
             "#0d0887"
            ],
            [
             0.1111111111111111,
             "#46039f"
            ],
            [
             0.2222222222222222,
             "#7201a8"
            ],
            [
             0.3333333333333333,
             "#9c179e"
            ],
            [
             0.4444444444444444,
             "#bd3786"
            ],
            [
             0.5555555555555556,
             "#d8576b"
            ],
            [
             0.6666666666666666,
             "#ed7953"
            ],
            [
             0.7777777777777778,
             "#fb9f3a"
            ],
            [
             0.8888888888888888,
             "#fdca26"
            ],
            [
             1,
             "#f0f921"
            ]
           ],
           "sequentialminus": [
            [
             0,
             "#0d0887"
            ],
            [
             0.1111111111111111,
             "#46039f"
            ],
            [
             0.2222222222222222,
             "#7201a8"
            ],
            [
             0.3333333333333333,
             "#9c179e"
            ],
            [
             0.4444444444444444,
             "#bd3786"
            ],
            [
             0.5555555555555556,
             "#d8576b"
            ],
            [
             0.6666666666666666,
             "#ed7953"
            ],
            [
             0.7777777777777778,
             "#fb9f3a"
            ],
            [
             0.8888888888888888,
             "#fdca26"
            ],
            [
             1,
             "#f0f921"
            ]
           ]
          },
          "colorway": [
           "#636efa",
           "#EF553B",
           "#00cc96",
           "#ab63fa",
           "#FFA15A",
           "#19d3f3",
           "#FF6692",
           "#B6E880",
           "#FF97FF",
           "#FECB52"
          ],
          "font": {
           "color": "#2a3f5f"
          },
          "geo": {
           "bgcolor": "white",
           "lakecolor": "white",
           "landcolor": "#E5ECF6",
           "showlakes": true,
           "showland": true,
           "subunitcolor": "white"
          },
          "hoverlabel": {
           "align": "left"
          },
          "hovermode": "closest",
          "mapbox": {
           "style": "light"
          },
          "paper_bgcolor": "white",
          "plot_bgcolor": "#E5ECF6",
          "polar": {
           "angularaxis": {
            "gridcolor": "white",
            "linecolor": "white",
            "ticks": ""
           },
           "bgcolor": "#E5ECF6",
           "radialaxis": {
            "gridcolor": "white",
            "linecolor": "white",
            "ticks": ""
           }
          },
          "scene": {
           "xaxis": {
            "backgroundcolor": "#E5ECF6",
            "gridcolor": "white",
            "gridwidth": 2,
            "linecolor": "white",
            "showbackground": true,
            "ticks": "",
            "zerolinecolor": "white"
           },
           "yaxis": {
            "backgroundcolor": "#E5ECF6",
            "gridcolor": "white",
            "gridwidth": 2,
            "linecolor": "white",
            "showbackground": true,
            "ticks": "",
            "zerolinecolor": "white"
           },
           "zaxis": {
            "backgroundcolor": "#E5ECF6",
            "gridcolor": "white",
            "gridwidth": 2,
            "linecolor": "white",
            "showbackground": true,
            "ticks": "",
            "zerolinecolor": "white"
           }
          },
          "shapedefaults": {
           "line": {
            "color": "#2a3f5f"
           }
          },
          "ternary": {
           "aaxis": {
            "gridcolor": "white",
            "linecolor": "white",
            "ticks": ""
           },
           "baxis": {
            "gridcolor": "white",
            "linecolor": "white",
            "ticks": ""
           },
           "bgcolor": "#E5ECF6",
           "caxis": {
            "gridcolor": "white",
            "linecolor": "white",
            "ticks": ""
           }
          },
          "title": {
           "x": 0.05
          },
          "xaxis": {
           "automargin": true,
           "gridcolor": "white",
           "linecolor": "white",
           "ticks": "",
           "title": {
            "standoff": 15
           },
           "zerolinecolor": "white",
           "zerolinewidth": 2
          },
          "yaxis": {
           "automargin": true,
           "gridcolor": "white",
           "linecolor": "white",
           "ticks": "",
           "title": {
            "standoff": 15
           },
           "zerolinecolor": "white",
           "zerolinewidth": 2
          }
         }
        },
        "title": {
         "font": {
          "color": "#4D5663"
         }
        },
        "xaxis": {
         "gridcolor": "#E1E5ED",
         "showgrid": true,
         "tickfont": {
          "color": "#4D5663"
         },
         "title": {
          "font": {
           "color": "#4D5663"
          },
          "text": ""
         },
         "zerolinecolor": "#E1E5ED"
        },
        "yaxis": {
         "gridcolor": "#E1E5ED",
         "showgrid": true,
         "tickfont": {
          "color": "#4D5663"
         },
         "title": {
          "font": {
           "color": "#4D5663"
          },
          "text": ""
         },
         "zerolinecolor": "#E1E5ED"
        }
       }
      },
      "text/html": [
       "<div>                            <div id=\"3f0b729e-7dac-42c1-b7af-a977358855a2\" class=\"plotly-graph-div\" style=\"height:525px; width:100%;\"></div>            <script type=\"text/javascript\">                require([\"plotly\"], function(Plotly) {                    window.PLOTLYENV=window.PLOTLYENV || {};\n",
       "                    window.PLOTLYENV.BASE_URL='https://plot.ly';                                    if (document.getElementById(\"3f0b729e-7dac-42c1-b7af-a977358855a2\")) {                    Plotly.newPlot(                        \"3f0b729e-7dac-42c1-b7af-a977358855a2\",                        [{\"marker\":{\"color\":\"rgba(255, 153, 51, 0.6)\",\"line\":{\"color\":\"rgba(255, 153, 51, 1.0)\",\"width\":1}},\"name\":\"None\",\"orientation\":\"v\",\"text\":\"\",\"x\":[\"A\",\"B\",\"C\",\"D\"],\"y\":[100,100,100,100],\"type\":\"bar\"}],                        {\"legend\":{\"bgcolor\":\"#F5F6F9\",\"font\":{\"color\":\"#4D5663\"}},\"paper_bgcolor\":\"#F5F6F9\",\"plot_bgcolor\":\"#F5F6F9\",\"template\":{\"data\":{\"barpolar\":[{\"marker\":{\"line\":{\"color\":\"#E5ECF6\",\"width\":0.5},\"pattern\":{\"fillmode\":\"overlay\",\"size\":10,\"solidity\":0.2}},\"type\":\"barpolar\"}],\"bar\":[{\"error_x\":{\"color\":\"#2a3f5f\"},\"error_y\":{\"color\":\"#2a3f5f\"},\"marker\":{\"line\":{\"color\":\"#E5ECF6\",\"width\":0.5},\"pattern\":{\"fillmode\":\"overlay\",\"size\":10,\"solidity\":0.2}},\"type\":\"bar\"}],\"carpet\":[{\"aaxis\":{\"endlinecolor\":\"#2a3f5f\",\"gridcolor\":\"white\",\"linecolor\":\"white\",\"minorgridcolor\":\"white\",\"startlinecolor\":\"#2a3f5f\"},\"baxis\":{\"endlinecolor\":\"#2a3f5f\",\"gridcolor\":\"white\",\"linecolor\":\"white\",\"minorgridcolor\":\"white\",\"startlinecolor\":\"#2a3f5f\"},\"type\":\"carpet\"}],\"choropleth\":[{\"colorbar\":{\"outlinewidth\":0,\"ticks\":\"\"},\"type\":\"choropleth\"}],\"contourcarpet\":[{\"colorbar\":{\"outlinewidth\":0,\"ticks\":\"\"},\"type\":\"contourcarpet\"}],\"contour\":[{\"colorbar\":{\"outlinewidth\":0,\"ticks\":\"\"},\"colorscale\":[[0.0,\"#0d0887\"],[0.1111111111111111,\"#46039f\"],[0.2222222222222222,\"#7201a8\"],[0.3333333333333333,\"#9c179e\"],[0.4444444444444444,\"#bd3786\"],[0.5555555555555556,\"#d8576b\"],[0.6666666666666666,\"#ed7953\"],[0.7777777777777778,\"#fb9f3a\"],[0.8888888888888888,\"#fdca26\"],[1.0,\"#f0f921\"]],\"type\":\"contour\"}],\"heatmapgl\":[{\"colorbar\":{\"outlinewidth\":0,\"ticks\":\"\"},\"colorscale\":[[0.0,\"#0d0887\"],[0.1111111111111111,\"#46039f\"],[0.2222222222222222,\"#7201a8\"],[0.3333333333333333,\"#9c179e\"],[0.4444444444444444,\"#bd3786\"],[0.5555555555555556,\"#d8576b\"],[0.6666666666666666,\"#ed7953\"],[0.7777777777777778,\"#fb9f3a\"],[0.8888888888888888,\"#fdca26\"],[1.0,\"#f0f921\"]],\"type\":\"heatmapgl\"}],\"heatmap\":[{\"colorbar\":{\"outlinewidth\":0,\"ticks\":\"\"},\"colorscale\":[[0.0,\"#0d0887\"],[0.1111111111111111,\"#46039f\"],[0.2222222222222222,\"#7201a8\"],[0.3333333333333333,\"#9c179e\"],[0.4444444444444444,\"#bd3786\"],[0.5555555555555556,\"#d8576b\"],[0.6666666666666666,\"#ed7953\"],[0.7777777777777778,\"#fb9f3a\"],[0.8888888888888888,\"#fdca26\"],[1.0,\"#f0f921\"]],\"type\":\"heatmap\"}],\"histogram2dcontour\":[{\"colorbar\":{\"outlinewidth\":0,\"ticks\":\"\"},\"colorscale\":[[0.0,\"#0d0887\"],[0.1111111111111111,\"#46039f\"],[0.2222222222222222,\"#7201a8\"],[0.3333333333333333,\"#9c179e\"],[0.4444444444444444,\"#bd3786\"],[0.5555555555555556,\"#d8576b\"],[0.6666666666666666,\"#ed7953\"],[0.7777777777777778,\"#fb9f3a\"],[0.8888888888888888,\"#fdca26\"],[1.0,\"#f0f921\"]],\"type\":\"histogram2dcontour\"}],\"histogram2d\":[{\"colorbar\":{\"outlinewidth\":0,\"ticks\":\"\"},\"colorscale\":[[0.0,\"#0d0887\"],[0.1111111111111111,\"#46039f\"],[0.2222222222222222,\"#7201a8\"],[0.3333333333333333,\"#9c179e\"],[0.4444444444444444,\"#bd3786\"],[0.5555555555555556,\"#d8576b\"],[0.6666666666666666,\"#ed7953\"],[0.7777777777777778,\"#fb9f3a\"],[0.8888888888888888,\"#fdca26\"],[1.0,\"#f0f921\"]],\"type\":\"histogram2d\"}],\"histogram\":[{\"marker\":{\"pattern\":{\"fillmode\":\"overlay\",\"size\":10,\"solidity\":0.2}},\"type\":\"histogram\"}],\"mesh3d\":[{\"colorbar\":{\"outlinewidth\":0,\"ticks\":\"\"},\"type\":\"mesh3d\"}],\"parcoords\":[{\"line\":{\"colorbar\":{\"outlinewidth\":0,\"ticks\":\"\"}},\"type\":\"parcoords\"}],\"pie\":[{\"automargin\":true,\"type\":\"pie\"}],\"scatter3d\":[{\"line\":{\"colorbar\":{\"outlinewidth\":0,\"ticks\":\"\"}},\"marker\":{\"colorbar\":{\"outlinewidth\":0,\"ticks\":\"\"}},\"type\":\"scatter3d\"}],\"scattercarpet\":[{\"marker\":{\"colorbar\":{\"outlinewidth\":0,\"ticks\":\"\"}},\"type\":\"scattercarpet\"}],\"scattergeo\":[{\"marker\":{\"colorbar\":{\"outlinewidth\":0,\"ticks\":\"\"}},\"type\":\"scattergeo\"}],\"scattergl\":[{\"marker\":{\"colorbar\":{\"outlinewidth\":0,\"ticks\":\"\"}},\"type\":\"scattergl\"}],\"scattermapbox\":[{\"marker\":{\"colorbar\":{\"outlinewidth\":0,\"ticks\":\"\"}},\"type\":\"scattermapbox\"}],\"scatterpolargl\":[{\"marker\":{\"colorbar\":{\"outlinewidth\":0,\"ticks\":\"\"}},\"type\":\"scatterpolargl\"}],\"scatterpolar\":[{\"marker\":{\"colorbar\":{\"outlinewidth\":0,\"ticks\":\"\"}},\"type\":\"scatterpolar\"}],\"scatter\":[{\"fillpattern\":{\"fillmode\":\"overlay\",\"size\":10,\"solidity\":0.2},\"type\":\"scatter\"}],\"scatterternary\":[{\"marker\":{\"colorbar\":{\"outlinewidth\":0,\"ticks\":\"\"}},\"type\":\"scatterternary\"}],\"surface\":[{\"colorbar\":{\"outlinewidth\":0,\"ticks\":\"\"},\"colorscale\":[[0.0,\"#0d0887\"],[0.1111111111111111,\"#46039f\"],[0.2222222222222222,\"#7201a8\"],[0.3333333333333333,\"#9c179e\"],[0.4444444444444444,\"#bd3786\"],[0.5555555555555556,\"#d8576b\"],[0.6666666666666666,\"#ed7953\"],[0.7777777777777778,\"#fb9f3a\"],[0.8888888888888888,\"#fdca26\"],[1.0,\"#f0f921\"]],\"type\":\"surface\"}],\"table\":[{\"cells\":{\"fill\":{\"color\":\"#EBF0F8\"},\"line\":{\"color\":\"white\"}},\"header\":{\"fill\":{\"color\":\"#C8D4E3\"},\"line\":{\"color\":\"white\"}},\"type\":\"table\"}]},\"layout\":{\"annotationdefaults\":{\"arrowcolor\":\"#2a3f5f\",\"arrowhead\":0,\"arrowwidth\":1},\"autotypenumbers\":\"strict\",\"coloraxis\":{\"colorbar\":{\"outlinewidth\":0,\"ticks\":\"\"}},\"colorscale\":{\"diverging\":[[0,\"#8e0152\"],[0.1,\"#c51b7d\"],[0.2,\"#de77ae\"],[0.3,\"#f1b6da\"],[0.4,\"#fde0ef\"],[0.5,\"#f7f7f7\"],[0.6,\"#e6f5d0\"],[0.7,\"#b8e186\"],[0.8,\"#7fbc41\"],[0.9,\"#4d9221\"],[1,\"#276419\"]],\"sequential\":[[0.0,\"#0d0887\"],[0.1111111111111111,\"#46039f\"],[0.2222222222222222,\"#7201a8\"],[0.3333333333333333,\"#9c179e\"],[0.4444444444444444,\"#bd3786\"],[0.5555555555555556,\"#d8576b\"],[0.6666666666666666,\"#ed7953\"],[0.7777777777777778,\"#fb9f3a\"],[0.8888888888888888,\"#fdca26\"],[1.0,\"#f0f921\"]],\"sequentialminus\":[[0.0,\"#0d0887\"],[0.1111111111111111,\"#46039f\"],[0.2222222222222222,\"#7201a8\"],[0.3333333333333333,\"#9c179e\"],[0.4444444444444444,\"#bd3786\"],[0.5555555555555556,\"#d8576b\"],[0.6666666666666666,\"#ed7953\"],[0.7777777777777778,\"#fb9f3a\"],[0.8888888888888888,\"#fdca26\"],[1.0,\"#f0f921\"]]},\"colorway\":[\"#636efa\",\"#EF553B\",\"#00cc96\",\"#ab63fa\",\"#FFA15A\",\"#19d3f3\",\"#FF6692\",\"#B6E880\",\"#FF97FF\",\"#FECB52\"],\"font\":{\"color\":\"#2a3f5f\"},\"geo\":{\"bgcolor\":\"white\",\"lakecolor\":\"white\",\"landcolor\":\"#E5ECF6\",\"showlakes\":true,\"showland\":true,\"subunitcolor\":\"white\"},\"hoverlabel\":{\"align\":\"left\"},\"hovermode\":\"closest\",\"mapbox\":{\"style\":\"light\"},\"paper_bgcolor\":\"white\",\"plot_bgcolor\":\"#E5ECF6\",\"polar\":{\"angularaxis\":{\"gridcolor\":\"white\",\"linecolor\":\"white\",\"ticks\":\"\"},\"bgcolor\":\"#E5ECF6\",\"radialaxis\":{\"gridcolor\":\"white\",\"linecolor\":\"white\",\"ticks\":\"\"}},\"scene\":{\"xaxis\":{\"backgroundcolor\":\"#E5ECF6\",\"gridcolor\":\"white\",\"gridwidth\":2,\"linecolor\":\"white\",\"showbackground\":true,\"ticks\":\"\",\"zerolinecolor\":\"white\"},\"yaxis\":{\"backgroundcolor\":\"#E5ECF6\",\"gridcolor\":\"white\",\"gridwidth\":2,\"linecolor\":\"white\",\"showbackground\":true,\"ticks\":\"\",\"zerolinecolor\":\"white\"},\"zaxis\":{\"backgroundcolor\":\"#E5ECF6\",\"gridcolor\":\"white\",\"gridwidth\":2,\"linecolor\":\"white\",\"showbackground\":true,\"ticks\":\"\",\"zerolinecolor\":\"white\"}},\"shapedefaults\":{\"line\":{\"color\":\"#2a3f5f\"}},\"ternary\":{\"aaxis\":{\"gridcolor\":\"white\",\"linecolor\":\"white\",\"ticks\":\"\"},\"baxis\":{\"gridcolor\":\"white\",\"linecolor\":\"white\",\"ticks\":\"\"},\"bgcolor\":\"#E5ECF6\",\"caxis\":{\"gridcolor\":\"white\",\"linecolor\":\"white\",\"ticks\":\"\"}},\"title\":{\"x\":0.05},\"xaxis\":{\"automargin\":true,\"gridcolor\":\"white\",\"linecolor\":\"white\",\"ticks\":\"\",\"title\":{\"standoff\":15},\"zerolinecolor\":\"white\",\"zerolinewidth\":2},\"yaxis\":{\"automargin\":true,\"gridcolor\":\"white\",\"linecolor\":\"white\",\"ticks\":\"\",\"title\":{\"standoff\":15},\"zerolinecolor\":\"white\",\"zerolinewidth\":2}}},\"title\":{\"font\":{\"color\":\"#4D5663\"}},\"xaxis\":{\"gridcolor\":\"#E1E5ED\",\"showgrid\":true,\"tickfont\":{\"color\":\"#4D5663\"},\"title\":{\"font\":{\"color\":\"#4D5663\"},\"text\":\"\"},\"zerolinecolor\":\"#E1E5ED\"},\"yaxis\":{\"gridcolor\":\"#E1E5ED\",\"showgrid\":true,\"tickfont\":{\"color\":\"#4D5663\"},\"title\":{\"font\":{\"color\":\"#4D5663\"},\"text\":\"\"},\"zerolinecolor\":\"#E1E5ED\"}},                        {\"showLink\": true, \"linkText\": \"Export to plot.ly\", \"plotlyServerURL\": \"https://plot.ly\", \"responsive\": true}                    ).then(function(){\n",
       "                            \n",
       "var gd = document.getElementById('3f0b729e-7dac-42c1-b7af-a977358855a2');\n",
       "var x = new MutationObserver(function (mutations, observer) {{\n",
       "        var display = window.getComputedStyle(gd).display;\n",
       "        if (!display || display === 'none') {{\n",
       "            console.log([gd, 'removed!']);\n",
       "            Plotly.purge(gd);\n",
       "            observer.disconnect();\n",
       "        }}\n",
       "}});\n",
       "\n",
       "// Listen for the removal of the full notebook cells\n",
       "var notebookContainer = gd.closest('#notebook-container');\n",
       "if (notebookContainer) {{\n",
       "    x.observe(notebookContainer, {childList: true});\n",
       "}}\n",
       "\n",
       "// Listen for the clearing of the current output cell\n",
       "var outputEl = gd.closest('.output');\n",
       "if (outputEl) {{\n",
       "    x.observe(outputEl, {childList: true});\n",
       "}}\n",
       "\n",
       "                        })                };                });            </script>        </div>"
      ]
     },
     "metadata": {},
     "output_type": "display_data"
    }
   ],
   "source": [
    "df.count().iplot(kind='bar')"
   ]
  },
  {
   "attachments": {},
   "cell_type": "markdown",
   "metadata": {},
   "source": [
    "### Boxplots"
   ]
  },
  {
   "cell_type": "code",
   "execution_count": 64,
   "metadata": {},
   "outputs": [
    {
     "data": {
      "application/vnd.plotly.v1+json": {
       "config": {
        "linkText": "Export to plot.ly",
        "plotlyServerURL": "https://plot.ly",
        "showLink": true
       },
       "data": [
        {
         "boxpoints": false,
         "line": {
          "width": 1.3
         },
         "marker": {
          "color": "rgba(255, 153, 51, 1.0)"
         },
         "name": "A",
         "orientation": "v",
         "type": "box",
         "y": [
          -0.2608614967031024,
          -0.49096342548313715,
          0.6534012059127755,
          -0.10382438391128623,
          0.0915136834623817,
          -0.2578466669372469,
          1.3897210082903713,
          -2.013970521337588,
          1.125741276541228,
          1.4993336191900457,
          -1.0595478745403308,
          -0.9430230210121577,
          -1.2621205005640328,
          1.4036731506061113,
          -0.03593673976090577,
          0.3050000998253773,
          -0.5522484049090643,
          -1.0203076856253586,
          0.6432367105616998,
          -0.8914863941492807,
          -2.185714250972939,
          0.12623577838399472,
          0.3921453841215854,
          0.4737295051464659,
          -0.17056200224579707,
          1.1774627570310106,
          -0.20762902062129898,
          1.2387067508523648,
          -1.3942752324541112,
          -1.716189450517545,
          0.22085285260585943,
          -0.6321810216895608,
          1.3901915806812715,
          1.0108805251540562,
          1.061249343310655,
          0.5308300215857267,
          -0.9503016687818185,
          -1.667629010859623,
          -1.1568624868134363,
          1.5218137380315473,
          -0.39221211032341013,
          2.3415395295809978,
          -1.486339576927987,
          -0.03772819855435538,
          1.4092361992473252,
          -0.7939024526846925,
          0.7862010597484133,
          -0.7353686055886977,
          0.4288694099887663,
          -0.27000065017539937,
          -0.41260190292719623,
          0.2707480429353407,
          -2.3153140545469633,
          -0.493246648926603,
          -0.20401174053479268,
          0.43262354086467664,
          -0.4638179729532545,
          -0.12104956411305579,
          0.0009501990026392411,
          -1.7944854502101284,
          1.1942829892775488,
          0.28613422098047586,
          0.6089637428915142,
          -1.68539790425561,
          -0.20944913271903332,
          0.7539061989031305,
          -0.30783771025917217,
          0.9249555792566864,
          2.155794363974152,
          -0.30825770648294415,
          2.3165892472778196,
          1.1104333103089679,
          0.5986508909048686,
          0.8596613825961947,
          -1.2785925488102268,
          0.9522963674778507,
          2.414612831587702,
          1.5551358944135807,
          0.6419754681607723,
          1.7713479403779466,
          1.121810184988672,
          -1.3457087892552062,
          2.0908035265398817,
          0.4571403655148956,
          0.2239437084658507,
          0.002231840122407565,
          0.7903495448532022,
          0.2563582466878664,
          1.7319416821321127,
          -2.634999142029582,
          0.5116574427742703,
          0.09494333197935707,
          -2.7505020690095145,
          0.4200960660289981,
          -1.3218058607201475,
          1.0064450686749333,
          0.9976844535285386,
          -0.9675831445221813,
          -0.5263696958489338,
          1.9143818200798364
         ]
        },
        {
         "boxpoints": false,
         "line": {
          "width": 1.3
         },
         "marker": {
          "color": "rgba(55, 128, 191, 1.0)"
         },
         "name": "B",
         "orientation": "v",
         "type": "box",
         "y": [
          -0.25432533756669773,
          -1.581414768480805,
          0.40218331727380613,
          -0.7653635025178969,
          -0.03758094088299645,
          0.8228516602736954,
          0.20950479153616372,
          0.2368828777231409,
          -0.13416480196104766,
          0.06773423875996688,
          -1.3924154298925469,
          0.010537225188061829,
          -0.9192378281206622,
          -1.343298101902075,
          -1.7841952728986434,
          -0.5248286222071976,
          0.030492134192341522,
          -0.2095316178025833,
          0.941695473320228,
          -1.0303073120794726,
          -1.615853408823164,
          -0.7977565224429886,
          1.346204299136864,
          -1.2273416627519849,
          -0.9767964659827089,
          -1.5763455228401246,
          -1.9792442444712637,
          0.4384768080985399,
          0.17679566623301302,
          -0.9317474293601441,
          0.8682987401646762,
          -0.1003875632961765,
          -0.0884962705505986,
          0.24286646977162227,
          0.20207155467009158,
          0.38365946277845214,
          0.15769247651445353,
          -1.0665564678618131,
          0.49225575504181734,
          0.10153122545596022,
          0.11375123863064968,
          -0.4628493592894469,
          -0.5812908283646572,
          -0.5818098728891352,
          0.9176543169317575,
          0.5087887543927186,
          0.16819075587941956,
          -0.8945686934935044,
          0.3721570565430783,
          -0.257705545117878,
          1.6287138726491417,
          -1.1739713566817833,
          0.398367300079867,
          -0.6767044911122801,
          0.47600397787049986,
          -2.763129323705531,
          0.21077619673830947,
          -0.2258518499521978,
          -0.821396180646884,
          1.0365094058365847,
          -1.6318344262056328,
          -0.3298121153479205,
          0.8315693323045643,
          0.0007504783278676238,
          -0.29675189476684655,
          0.027554435329936816,
          0.6609436762444268,
          0.8785579905871628,
          -0.029854680377078793,
          1.5082301656300974,
          -1.2449285328680817,
          -0.9768057784470087,
          1.4916896101273067,
          -1.122012736021044,
          -0.38767399665537694,
          -1.329045263751567,
          0.6179854602630162,
          -2.1766036516777953,
          0.9997178836248283,
          -0.5995015860441616,
          1.3839885679655453,
          -0.5180161564966833,
          0.8533682831785384,
          -0.9115908122880608,
          -0.4306924280020869,
          0.9609848960490938,
          0.9220703471457242,
          1.7542139768319003,
          0.3604841912013604,
          0.0017037783681344279,
          -1.2543075592125403,
          -0.15102453234097343,
          -0.5360051864835451,
          0.5989775610224853,
          0.8263314749363494,
          -1.2655278034535515,
          0.9401542797781919,
          0.42961783137316306,
          0.7242211546399301,
          0.015725214681151255
         ]
        },
        {
         "boxpoints": false,
         "line": {
          "width": 1.3
         },
         "marker": {
          "color": "rgba(50, 171, 96, 1.0)"
         },
         "name": "C",
         "orientation": "v",
         "type": "box",
         "y": [
          0.6992355186470794,
          -0.961349925801248,
          -1.4530017126038446,
          -0.46747953735628,
          0.6179283646858071,
          0.08427229602569358,
          -0.4422796309733475,
          -1.017677544349955,
          -0.19384791458665435,
          -0.4027409126065992,
          -1.0459762747482046,
          -0.45171778521705136,
          0.5225231583018677,
          -0.6528166789415045,
          -0.10682849250694507,
          -0.992634174352462,
          0.9388318403964275,
          0.06633672040509916,
          -1.7023296104731054,
          -0.7880567550086323,
          0.36278825080369226,
          -0.8868488243081134,
          0.1989542301540041,
          -1.480811064500878,
          -0.8006505123444279,
          -1.951136985513205,
          0.3258176939679062,
          -1.4535219862978328,
          0.6381867404508632,
          0.5936058599286947,
          -0.7005663348259505,
          -0.623777076273893,
          0.11998600140106362,
          -0.7365169242004647,
          -1.475604072622844,
          -0.9917851988392883,
          -0.3526672429700603,
          -0.7663706653486057,
          1.500994272720018,
          -0.8864174727362274,
          -0.3823132942724965,
          -0.05774281041742565,
          0.4888736502547718,
          -0.28882838606809197,
          0.18925905060950246,
          0.012466343179889518,
          0.9915849904749007,
          -0.5287339927310498,
          -0.9182558258919131,
          -1.1130104456978185,
          -0.8122178875050419,
          0.8433274504829935,
          1.2142063586186593,
          -0.12819455122333961,
          0.030342918433465215,
          0.11875393411977264,
          0.2151373356484712,
          -2.3064758091798168,
          -0.7273507048062112,
          -1.188843480446673,
          -0.5714117854319605,
          0.36159090980546205,
          0.017916573232139667,
          0.2220947814245966,
          -0.4950200844017089,
          1.2625039888784364,
          -0.36634924333782043,
          0.6019338146892275,
          -0.14558248957116632,
          0.5463251657368409,
          0.5124712738010542,
          -0.5019635480348108,
          0.4119033892492304,
          0.3730809088695454,
          -0.23883140872158395,
          -1.0577671771039834,
          -0.8994648971609895,
          -1.6955524505950974,
          0.8319039015982783,
          -0.9690500398916245,
          -0.5187882164775001,
          -0.46253745172121935,
          0.6259532609668151,
          -0.0930799607957207,
          -2.3968815296415316,
          -0.9861227809085562,
          -0.6707295203799367,
          0.9465112097197014,
          0.9212119670161162,
          0.6949377871496079,
          -0.8348106484463262,
          -0.8528549149614885,
          -0.3060635082667802,
          -1.0802732520188134,
          0.6372172424462347,
          -1.0537788743769516,
          1.5397973968989402,
          0.4704611826848934,
          0.49908382817736924,
          -0.7184004827712632
         ]
        },
        {
         "boxpoints": false,
         "line": {
          "width": 1.3
         },
         "marker": {
          "color": "rgba(128, 0, 128, 1.0)"
         },
         "name": "D",
         "orientation": "v",
         "type": "box",
         "y": [
          0.7950735439865309,
          1.936121928075488,
          0.20022620351317216,
          1.097902781559905,
          0.020108485628208227,
          -0.8852645510371487,
          0.6195504811283205,
          -1.0213127220643865,
          -2.64844972310845,
          0.4393712706108427,
          0.4424196745865346,
          0.18926775285610348,
          -0.8033165761908125,
          -0.6340294954265075,
          1.6574678620596546,
          -2.1323846048663797,
          -0.058137577898140946,
          -0.9129094552117951,
          0.44079697940631796,
          1.5300325111902,
          -1.922913157519095,
          1.9425511501521169,
          -0.7944535583480138,
          -1.6972535851255646,
          2.908507442808897,
          0.540490156801308,
          -0.6704033218765552,
          0.6584243028129534,
          0.27790936261239546,
          -0.20611122570958804,
          0.987244725775321,
          -0.5969325916898187,
          -0.1463593611464717,
          -1.5813749544994997,
          0.6533414467155894,
          2.2815125991427303,
          -0.4867594105256819,
          -2.2575906781599153,
          -0.6130791857271658,
          1.8357105417542057,
          0.529480638973706,
          -0.24319864772868918,
          -0.6048430200351759,
          0.7282085854430383,
          -0.7469725073276487,
          0.09988518294440948,
          -0.7575913692400225,
          -1.6521365337421492,
          0.8693150155319037,
          -0.8284365190454768,
          0.5845329350815593,
          0.4368402464691883,
          -0.8544562691512323,
          -0.40065736981156846,
          -0.024109765900172834,
          -0.2703111701790727,
          -0.5055617857724994,
          1.4256560804101626,
          0.06137345824064349,
          1.2200762356185093,
          0.39495352040288056,
          0.6070941523531138,
          0.03564521782445323,
          0.5727215352201621,
          0.09261794917829301,
          0.4549785212801003,
          -0.364961829741321,
          0.9343593098521027,
          1.0568490542579694,
          1.275755792660451,
          0.9269012427603945,
          0.7252636702258335,
          0.5119901677658074,
          2.521527424165082,
          0.5733569046382473,
          -0.6736459742845685,
          -0.07931047427814839,
          -0.6237076308005572,
          -0.2642060084782512,
          1.5083353927154404,
          0.9834924603760741,
          0.3024503668179526,
          0.660115804322677,
          2.3716077891534164,
          -0.14932105068655796,
          1.4470670560644057,
          1.2710270686340344,
          0.44082247924959217,
          -0.9962725879158789,
          0.9385800769386916,
          0.3702572157326843,
          -0.17182266923951767,
          0.8825266450639152,
          0.5851084705005075,
          -0.333920032363868,
          -0.21579762138892633,
          0.6201832711846496,
          -0.5496467319062202,
          -0.4109949271321021,
          -1.0847808598073
         ]
        }
       ],
       "layout": {
        "legend": {
         "bgcolor": "#F5F6F9",
         "font": {
          "color": "#4D5663"
         }
        },
        "paper_bgcolor": "#F5F6F9",
        "plot_bgcolor": "#F5F6F9",
        "template": {
         "data": {
          "bar": [
           {
            "error_x": {
             "color": "#2a3f5f"
            },
            "error_y": {
             "color": "#2a3f5f"
            },
            "marker": {
             "line": {
              "color": "#E5ECF6",
              "width": 0.5
             },
             "pattern": {
              "fillmode": "overlay",
              "size": 10,
              "solidity": 0.2
             }
            },
            "type": "bar"
           }
          ],
          "barpolar": [
           {
            "marker": {
             "line": {
              "color": "#E5ECF6",
              "width": 0.5
             },
             "pattern": {
              "fillmode": "overlay",
              "size": 10,
              "solidity": 0.2
             }
            },
            "type": "barpolar"
           }
          ],
          "carpet": [
           {
            "aaxis": {
             "endlinecolor": "#2a3f5f",
             "gridcolor": "white",
             "linecolor": "white",
             "minorgridcolor": "white",
             "startlinecolor": "#2a3f5f"
            },
            "baxis": {
             "endlinecolor": "#2a3f5f",
             "gridcolor": "white",
             "linecolor": "white",
             "minorgridcolor": "white",
             "startlinecolor": "#2a3f5f"
            },
            "type": "carpet"
           }
          ],
          "choropleth": [
           {
            "colorbar": {
             "outlinewidth": 0,
             "ticks": ""
            },
            "type": "choropleth"
           }
          ],
          "contour": [
           {
            "colorbar": {
             "outlinewidth": 0,
             "ticks": ""
            },
            "colorscale": [
             [
              0,
              "#0d0887"
             ],
             [
              0.1111111111111111,
              "#46039f"
             ],
             [
              0.2222222222222222,
              "#7201a8"
             ],
             [
              0.3333333333333333,
              "#9c179e"
             ],
             [
              0.4444444444444444,
              "#bd3786"
             ],
             [
              0.5555555555555556,
              "#d8576b"
             ],
             [
              0.6666666666666666,
              "#ed7953"
             ],
             [
              0.7777777777777778,
              "#fb9f3a"
             ],
             [
              0.8888888888888888,
              "#fdca26"
             ],
             [
              1,
              "#f0f921"
             ]
            ],
            "type": "contour"
           }
          ],
          "contourcarpet": [
           {
            "colorbar": {
             "outlinewidth": 0,
             "ticks": ""
            },
            "type": "contourcarpet"
           }
          ],
          "heatmap": [
           {
            "colorbar": {
             "outlinewidth": 0,
             "ticks": ""
            },
            "colorscale": [
             [
              0,
              "#0d0887"
             ],
             [
              0.1111111111111111,
              "#46039f"
             ],
             [
              0.2222222222222222,
              "#7201a8"
             ],
             [
              0.3333333333333333,
              "#9c179e"
             ],
             [
              0.4444444444444444,
              "#bd3786"
             ],
             [
              0.5555555555555556,
              "#d8576b"
             ],
             [
              0.6666666666666666,
              "#ed7953"
             ],
             [
              0.7777777777777778,
              "#fb9f3a"
             ],
             [
              0.8888888888888888,
              "#fdca26"
             ],
             [
              1,
              "#f0f921"
             ]
            ],
            "type": "heatmap"
           }
          ],
          "heatmapgl": [
           {
            "colorbar": {
             "outlinewidth": 0,
             "ticks": ""
            },
            "colorscale": [
             [
              0,
              "#0d0887"
             ],
             [
              0.1111111111111111,
              "#46039f"
             ],
             [
              0.2222222222222222,
              "#7201a8"
             ],
             [
              0.3333333333333333,
              "#9c179e"
             ],
             [
              0.4444444444444444,
              "#bd3786"
             ],
             [
              0.5555555555555556,
              "#d8576b"
             ],
             [
              0.6666666666666666,
              "#ed7953"
             ],
             [
              0.7777777777777778,
              "#fb9f3a"
             ],
             [
              0.8888888888888888,
              "#fdca26"
             ],
             [
              1,
              "#f0f921"
             ]
            ],
            "type": "heatmapgl"
           }
          ],
          "histogram": [
           {
            "marker": {
             "pattern": {
              "fillmode": "overlay",
              "size": 10,
              "solidity": 0.2
             }
            },
            "type": "histogram"
           }
          ],
          "histogram2d": [
           {
            "colorbar": {
             "outlinewidth": 0,
             "ticks": ""
            },
            "colorscale": [
             [
              0,
              "#0d0887"
             ],
             [
              0.1111111111111111,
              "#46039f"
             ],
             [
              0.2222222222222222,
              "#7201a8"
             ],
             [
              0.3333333333333333,
              "#9c179e"
             ],
             [
              0.4444444444444444,
              "#bd3786"
             ],
             [
              0.5555555555555556,
              "#d8576b"
             ],
             [
              0.6666666666666666,
              "#ed7953"
             ],
             [
              0.7777777777777778,
              "#fb9f3a"
             ],
             [
              0.8888888888888888,
              "#fdca26"
             ],
             [
              1,
              "#f0f921"
             ]
            ],
            "type": "histogram2d"
           }
          ],
          "histogram2dcontour": [
           {
            "colorbar": {
             "outlinewidth": 0,
             "ticks": ""
            },
            "colorscale": [
             [
              0,
              "#0d0887"
             ],
             [
              0.1111111111111111,
              "#46039f"
             ],
             [
              0.2222222222222222,
              "#7201a8"
             ],
             [
              0.3333333333333333,
              "#9c179e"
             ],
             [
              0.4444444444444444,
              "#bd3786"
             ],
             [
              0.5555555555555556,
              "#d8576b"
             ],
             [
              0.6666666666666666,
              "#ed7953"
             ],
             [
              0.7777777777777778,
              "#fb9f3a"
             ],
             [
              0.8888888888888888,
              "#fdca26"
             ],
             [
              1,
              "#f0f921"
             ]
            ],
            "type": "histogram2dcontour"
           }
          ],
          "mesh3d": [
           {
            "colorbar": {
             "outlinewidth": 0,
             "ticks": ""
            },
            "type": "mesh3d"
           }
          ],
          "parcoords": [
           {
            "line": {
             "colorbar": {
              "outlinewidth": 0,
              "ticks": ""
             }
            },
            "type": "parcoords"
           }
          ],
          "pie": [
           {
            "automargin": true,
            "type": "pie"
           }
          ],
          "scatter": [
           {
            "fillpattern": {
             "fillmode": "overlay",
             "size": 10,
             "solidity": 0.2
            },
            "type": "scatter"
           }
          ],
          "scatter3d": [
           {
            "line": {
             "colorbar": {
              "outlinewidth": 0,
              "ticks": ""
             }
            },
            "marker": {
             "colorbar": {
              "outlinewidth": 0,
              "ticks": ""
             }
            },
            "type": "scatter3d"
           }
          ],
          "scattercarpet": [
           {
            "marker": {
             "colorbar": {
              "outlinewidth": 0,
              "ticks": ""
             }
            },
            "type": "scattercarpet"
           }
          ],
          "scattergeo": [
           {
            "marker": {
             "colorbar": {
              "outlinewidth": 0,
              "ticks": ""
             }
            },
            "type": "scattergeo"
           }
          ],
          "scattergl": [
           {
            "marker": {
             "colorbar": {
              "outlinewidth": 0,
              "ticks": ""
             }
            },
            "type": "scattergl"
           }
          ],
          "scattermapbox": [
           {
            "marker": {
             "colorbar": {
              "outlinewidth": 0,
              "ticks": ""
             }
            },
            "type": "scattermapbox"
           }
          ],
          "scatterpolar": [
           {
            "marker": {
             "colorbar": {
              "outlinewidth": 0,
              "ticks": ""
             }
            },
            "type": "scatterpolar"
           }
          ],
          "scatterpolargl": [
           {
            "marker": {
             "colorbar": {
              "outlinewidth": 0,
              "ticks": ""
             }
            },
            "type": "scatterpolargl"
           }
          ],
          "scatterternary": [
           {
            "marker": {
             "colorbar": {
              "outlinewidth": 0,
              "ticks": ""
             }
            },
            "type": "scatterternary"
           }
          ],
          "surface": [
           {
            "colorbar": {
             "outlinewidth": 0,
             "ticks": ""
            },
            "colorscale": [
             [
              0,
              "#0d0887"
             ],
             [
              0.1111111111111111,
              "#46039f"
             ],
             [
              0.2222222222222222,
              "#7201a8"
             ],
             [
              0.3333333333333333,
              "#9c179e"
             ],
             [
              0.4444444444444444,
              "#bd3786"
             ],
             [
              0.5555555555555556,
              "#d8576b"
             ],
             [
              0.6666666666666666,
              "#ed7953"
             ],
             [
              0.7777777777777778,
              "#fb9f3a"
             ],
             [
              0.8888888888888888,
              "#fdca26"
             ],
             [
              1,
              "#f0f921"
             ]
            ],
            "type": "surface"
           }
          ],
          "table": [
           {
            "cells": {
             "fill": {
              "color": "#EBF0F8"
             },
             "line": {
              "color": "white"
             }
            },
            "header": {
             "fill": {
              "color": "#C8D4E3"
             },
             "line": {
              "color": "white"
             }
            },
            "type": "table"
           }
          ]
         },
         "layout": {
          "annotationdefaults": {
           "arrowcolor": "#2a3f5f",
           "arrowhead": 0,
           "arrowwidth": 1
          },
          "autotypenumbers": "strict",
          "coloraxis": {
           "colorbar": {
            "outlinewidth": 0,
            "ticks": ""
           }
          },
          "colorscale": {
           "diverging": [
            [
             0,
             "#8e0152"
            ],
            [
             0.1,
             "#c51b7d"
            ],
            [
             0.2,
             "#de77ae"
            ],
            [
             0.3,
             "#f1b6da"
            ],
            [
             0.4,
             "#fde0ef"
            ],
            [
             0.5,
             "#f7f7f7"
            ],
            [
             0.6,
             "#e6f5d0"
            ],
            [
             0.7,
             "#b8e186"
            ],
            [
             0.8,
             "#7fbc41"
            ],
            [
             0.9,
             "#4d9221"
            ],
            [
             1,
             "#276419"
            ]
           ],
           "sequential": [
            [
             0,
             "#0d0887"
            ],
            [
             0.1111111111111111,
             "#46039f"
            ],
            [
             0.2222222222222222,
             "#7201a8"
            ],
            [
             0.3333333333333333,
             "#9c179e"
            ],
            [
             0.4444444444444444,
             "#bd3786"
            ],
            [
             0.5555555555555556,
             "#d8576b"
            ],
            [
             0.6666666666666666,
             "#ed7953"
            ],
            [
             0.7777777777777778,
             "#fb9f3a"
            ],
            [
             0.8888888888888888,
             "#fdca26"
            ],
            [
             1,
             "#f0f921"
            ]
           ],
           "sequentialminus": [
            [
             0,
             "#0d0887"
            ],
            [
             0.1111111111111111,
             "#46039f"
            ],
            [
             0.2222222222222222,
             "#7201a8"
            ],
            [
             0.3333333333333333,
             "#9c179e"
            ],
            [
             0.4444444444444444,
             "#bd3786"
            ],
            [
             0.5555555555555556,
             "#d8576b"
            ],
            [
             0.6666666666666666,
             "#ed7953"
            ],
            [
             0.7777777777777778,
             "#fb9f3a"
            ],
            [
             0.8888888888888888,
             "#fdca26"
            ],
            [
             1,
             "#f0f921"
            ]
           ]
          },
          "colorway": [
           "#636efa",
           "#EF553B",
           "#00cc96",
           "#ab63fa",
           "#FFA15A",
           "#19d3f3",
           "#FF6692",
           "#B6E880",
           "#FF97FF",
           "#FECB52"
          ],
          "font": {
           "color": "#2a3f5f"
          },
          "geo": {
           "bgcolor": "white",
           "lakecolor": "white",
           "landcolor": "#E5ECF6",
           "showlakes": true,
           "showland": true,
           "subunitcolor": "white"
          },
          "hoverlabel": {
           "align": "left"
          },
          "hovermode": "closest",
          "mapbox": {
           "style": "light"
          },
          "paper_bgcolor": "white",
          "plot_bgcolor": "#E5ECF6",
          "polar": {
           "angularaxis": {
            "gridcolor": "white",
            "linecolor": "white",
            "ticks": ""
           },
           "bgcolor": "#E5ECF6",
           "radialaxis": {
            "gridcolor": "white",
            "linecolor": "white",
            "ticks": ""
           }
          },
          "scene": {
           "xaxis": {
            "backgroundcolor": "#E5ECF6",
            "gridcolor": "white",
            "gridwidth": 2,
            "linecolor": "white",
            "showbackground": true,
            "ticks": "",
            "zerolinecolor": "white"
           },
           "yaxis": {
            "backgroundcolor": "#E5ECF6",
            "gridcolor": "white",
            "gridwidth": 2,
            "linecolor": "white",
            "showbackground": true,
            "ticks": "",
            "zerolinecolor": "white"
           },
           "zaxis": {
            "backgroundcolor": "#E5ECF6",
            "gridcolor": "white",
            "gridwidth": 2,
            "linecolor": "white",
            "showbackground": true,
            "ticks": "",
            "zerolinecolor": "white"
           }
          },
          "shapedefaults": {
           "line": {
            "color": "#2a3f5f"
           }
          },
          "ternary": {
           "aaxis": {
            "gridcolor": "white",
            "linecolor": "white",
            "ticks": ""
           },
           "baxis": {
            "gridcolor": "white",
            "linecolor": "white",
            "ticks": ""
           },
           "bgcolor": "#E5ECF6",
           "caxis": {
            "gridcolor": "white",
            "linecolor": "white",
            "ticks": ""
           }
          },
          "title": {
           "x": 0.05
          },
          "xaxis": {
           "automargin": true,
           "gridcolor": "white",
           "linecolor": "white",
           "ticks": "",
           "title": {
            "standoff": 15
           },
           "zerolinecolor": "white",
           "zerolinewidth": 2
          },
          "yaxis": {
           "automargin": true,
           "gridcolor": "white",
           "linecolor": "white",
           "ticks": "",
           "title": {
            "standoff": 15
           },
           "zerolinecolor": "white",
           "zerolinewidth": 2
          }
         }
        },
        "title": {
         "font": {
          "color": "#4D5663"
         }
        },
        "xaxis": {
         "gridcolor": "#E1E5ED",
         "showgrid": true,
         "tickfont": {
          "color": "#4D5663"
         },
         "title": {
          "font": {
           "color": "#4D5663"
          },
          "text": ""
         },
         "zerolinecolor": "#E1E5ED"
        },
        "yaxis": {
         "gridcolor": "#E1E5ED",
         "showgrid": true,
         "tickfont": {
          "color": "#4D5663"
         },
         "title": {
          "font": {
           "color": "#4D5663"
          },
          "text": ""
         },
         "zerolinecolor": "#E1E5ED"
        }
       }
      },
      "text/html": [
       "<div>                            <div id=\"49b01d75-8b9d-4336-8f50-5b653109a525\" class=\"plotly-graph-div\" style=\"height:525px; width:100%;\"></div>            <script type=\"text/javascript\">                require([\"plotly\"], function(Plotly) {                    window.PLOTLYENV=window.PLOTLYENV || {};\n",
       "                    window.PLOTLYENV.BASE_URL='https://plot.ly';                                    if (document.getElementById(\"49b01d75-8b9d-4336-8f50-5b653109a525\")) {                    Plotly.newPlot(                        \"49b01d75-8b9d-4336-8f50-5b653109a525\",                        [{\"boxpoints\":false,\"line\":{\"width\":1.3},\"marker\":{\"color\":\"rgba(255, 153, 51, 1.0)\"},\"name\":\"A\",\"orientation\":\"v\",\"y\":[-0.2608614967031024,-0.49096342548313715,0.6534012059127755,-0.10382438391128623,0.0915136834623817,-0.2578466669372469,1.3897210082903713,-2.013970521337588,1.125741276541228,1.4993336191900457,-1.0595478745403308,-0.9430230210121577,-1.2621205005640328,1.4036731506061113,-0.03593673976090577,0.3050000998253773,-0.5522484049090643,-1.0203076856253586,0.6432367105616998,-0.8914863941492807,-2.185714250972939,0.12623577838399472,0.3921453841215854,0.4737295051464659,-0.17056200224579707,1.1774627570310106,-0.20762902062129898,1.2387067508523648,-1.3942752324541112,-1.716189450517545,0.22085285260585943,-0.6321810216895608,1.3901915806812715,1.0108805251540562,1.061249343310655,0.5308300215857267,-0.9503016687818185,-1.667629010859623,-1.1568624868134363,1.5218137380315473,-0.39221211032341013,2.3415395295809978,-1.486339576927987,-0.03772819855435538,1.4092361992473252,-0.7939024526846925,0.7862010597484133,-0.7353686055886977,0.4288694099887663,-0.27000065017539937,-0.41260190292719623,0.2707480429353407,-2.3153140545469633,-0.493246648926603,-0.20401174053479268,0.43262354086467664,-0.4638179729532545,-0.12104956411305579,0.0009501990026392411,-1.7944854502101284,1.1942829892775488,0.28613422098047586,0.6089637428915142,-1.68539790425561,-0.20944913271903332,0.7539061989031305,-0.30783771025917217,0.9249555792566864,2.155794363974152,-0.30825770648294415,2.3165892472778196,1.1104333103089679,0.5986508909048686,0.8596613825961947,-1.2785925488102268,0.9522963674778507,2.414612831587702,1.5551358944135807,0.6419754681607723,1.7713479403779466,1.121810184988672,-1.3457087892552062,2.0908035265398817,0.4571403655148956,0.2239437084658507,0.002231840122407565,0.7903495448532022,0.2563582466878664,1.7319416821321127,-2.634999142029582,0.5116574427742703,0.09494333197935707,-2.7505020690095145,0.4200960660289981,-1.3218058607201475,1.0064450686749333,0.9976844535285386,-0.9675831445221813,-0.5263696958489338,1.9143818200798364],\"type\":\"box\"},{\"boxpoints\":false,\"line\":{\"width\":1.3},\"marker\":{\"color\":\"rgba(55, 128, 191, 1.0)\"},\"name\":\"B\",\"orientation\":\"v\",\"y\":[-0.25432533756669773,-1.581414768480805,0.40218331727380613,-0.7653635025178969,-0.03758094088299645,0.8228516602736954,0.20950479153616372,0.2368828777231409,-0.13416480196104766,0.06773423875996688,-1.3924154298925469,0.010537225188061829,-0.9192378281206622,-1.343298101902075,-1.7841952728986434,-0.5248286222071976,0.030492134192341522,-0.2095316178025833,0.941695473320228,-1.0303073120794726,-1.615853408823164,-0.7977565224429886,1.346204299136864,-1.2273416627519849,-0.9767964659827089,-1.5763455228401246,-1.9792442444712637,0.4384768080985399,0.17679566623301302,-0.9317474293601441,0.8682987401646762,-0.1003875632961765,-0.0884962705505986,0.24286646977162227,0.20207155467009158,0.38365946277845214,0.15769247651445353,-1.0665564678618131,0.49225575504181734,0.10153122545596022,0.11375123863064968,-0.4628493592894469,-0.5812908283646572,-0.5818098728891352,0.9176543169317575,0.5087887543927186,0.16819075587941956,-0.8945686934935044,0.3721570565430783,-0.257705545117878,1.6287138726491417,-1.1739713566817833,0.398367300079867,-0.6767044911122801,0.47600397787049986,-2.763129323705531,0.21077619673830947,-0.2258518499521978,-0.821396180646884,1.0365094058365847,-1.6318344262056328,-0.3298121153479205,0.8315693323045643,0.0007504783278676238,-0.29675189476684655,0.027554435329936816,0.6609436762444268,0.8785579905871628,-0.029854680377078793,1.5082301656300974,-1.2449285328680817,-0.9768057784470087,1.4916896101273067,-1.122012736021044,-0.38767399665537694,-1.329045263751567,0.6179854602630162,-2.1766036516777953,0.9997178836248283,-0.5995015860441616,1.3839885679655453,-0.5180161564966833,0.8533682831785384,-0.9115908122880608,-0.4306924280020869,0.9609848960490938,0.9220703471457242,1.7542139768319003,0.3604841912013604,0.0017037783681344279,-1.2543075592125403,-0.15102453234097343,-0.5360051864835451,0.5989775610224853,0.8263314749363494,-1.2655278034535515,0.9401542797781919,0.42961783137316306,0.7242211546399301,0.015725214681151255],\"type\":\"box\"},{\"boxpoints\":false,\"line\":{\"width\":1.3},\"marker\":{\"color\":\"rgba(50, 171, 96, 1.0)\"},\"name\":\"C\",\"orientation\":\"v\",\"y\":[0.6992355186470794,-0.961349925801248,-1.4530017126038446,-0.46747953735628,0.6179283646858071,0.08427229602569358,-0.4422796309733475,-1.017677544349955,-0.19384791458665435,-0.4027409126065992,-1.0459762747482046,-0.45171778521705136,0.5225231583018677,-0.6528166789415045,-0.10682849250694507,-0.992634174352462,0.9388318403964275,0.06633672040509916,-1.7023296104731054,-0.7880567550086323,0.36278825080369226,-0.8868488243081134,0.1989542301540041,-1.480811064500878,-0.8006505123444279,-1.951136985513205,0.3258176939679062,-1.4535219862978328,0.6381867404508632,0.5936058599286947,-0.7005663348259505,-0.623777076273893,0.11998600140106362,-0.7365169242004647,-1.475604072622844,-0.9917851988392883,-0.3526672429700603,-0.7663706653486057,1.500994272720018,-0.8864174727362274,-0.3823132942724965,-0.05774281041742565,0.4888736502547718,-0.28882838606809197,0.18925905060950246,0.012466343179889518,0.9915849904749007,-0.5287339927310498,-0.9182558258919131,-1.1130104456978185,-0.8122178875050419,0.8433274504829935,1.2142063586186593,-0.12819455122333961,0.030342918433465215,0.11875393411977264,0.2151373356484712,-2.3064758091798168,-0.7273507048062112,-1.188843480446673,-0.5714117854319605,0.36159090980546205,0.017916573232139667,0.2220947814245966,-0.4950200844017089,1.2625039888784364,-0.36634924333782043,0.6019338146892275,-0.14558248957116632,0.5463251657368409,0.5124712738010542,-0.5019635480348108,0.4119033892492304,0.3730809088695454,-0.23883140872158395,-1.0577671771039834,-0.8994648971609895,-1.6955524505950974,0.8319039015982783,-0.9690500398916245,-0.5187882164775001,-0.46253745172121935,0.6259532609668151,-0.0930799607957207,-2.3968815296415316,-0.9861227809085562,-0.6707295203799367,0.9465112097197014,0.9212119670161162,0.6949377871496079,-0.8348106484463262,-0.8528549149614885,-0.3060635082667802,-1.0802732520188134,0.6372172424462347,-1.0537788743769516,1.5397973968989402,0.4704611826848934,0.49908382817736924,-0.7184004827712632],\"type\":\"box\"},{\"boxpoints\":false,\"line\":{\"width\":1.3},\"marker\":{\"color\":\"rgba(128, 0, 128, 1.0)\"},\"name\":\"D\",\"orientation\":\"v\",\"y\":[0.7950735439865309,1.936121928075488,0.20022620351317216,1.097902781559905,0.020108485628208227,-0.8852645510371487,0.6195504811283205,-1.0213127220643865,-2.64844972310845,0.4393712706108427,0.4424196745865346,0.18926775285610348,-0.8033165761908125,-0.6340294954265075,1.6574678620596546,-2.1323846048663797,-0.058137577898140946,-0.9129094552117951,0.44079697940631796,1.5300325111902,-1.922913157519095,1.9425511501521169,-0.7944535583480138,-1.6972535851255646,2.908507442808897,0.540490156801308,-0.6704033218765552,0.6584243028129534,0.27790936261239546,-0.20611122570958804,0.987244725775321,-0.5969325916898187,-0.1463593611464717,-1.5813749544994997,0.6533414467155894,2.2815125991427303,-0.4867594105256819,-2.2575906781599153,-0.6130791857271658,1.8357105417542057,0.529480638973706,-0.24319864772868918,-0.6048430200351759,0.7282085854430383,-0.7469725073276487,0.09988518294440948,-0.7575913692400225,-1.6521365337421492,0.8693150155319037,-0.8284365190454768,0.5845329350815593,0.4368402464691883,-0.8544562691512323,-0.40065736981156846,-0.024109765900172834,-0.2703111701790727,-0.5055617857724994,1.4256560804101626,0.06137345824064349,1.2200762356185093,0.39495352040288056,0.6070941523531138,0.03564521782445323,0.5727215352201621,0.09261794917829301,0.4549785212801003,-0.364961829741321,0.9343593098521027,1.0568490542579694,1.275755792660451,0.9269012427603945,0.7252636702258335,0.5119901677658074,2.521527424165082,0.5733569046382473,-0.6736459742845685,-0.07931047427814839,-0.6237076308005572,-0.2642060084782512,1.5083353927154404,0.9834924603760741,0.3024503668179526,0.660115804322677,2.3716077891534164,-0.14932105068655796,1.4470670560644057,1.2710270686340344,0.44082247924959217,-0.9962725879158789,0.9385800769386916,0.3702572157326843,-0.17182266923951767,0.8825266450639152,0.5851084705005075,-0.333920032363868,-0.21579762138892633,0.6201832711846496,-0.5496467319062202,-0.4109949271321021,-1.0847808598073],\"type\":\"box\"}],                        {\"legend\":{\"bgcolor\":\"#F5F6F9\",\"font\":{\"color\":\"#4D5663\"}},\"paper_bgcolor\":\"#F5F6F9\",\"plot_bgcolor\":\"#F5F6F9\",\"template\":{\"data\":{\"barpolar\":[{\"marker\":{\"line\":{\"color\":\"#E5ECF6\",\"width\":0.5},\"pattern\":{\"fillmode\":\"overlay\",\"size\":10,\"solidity\":0.2}},\"type\":\"barpolar\"}],\"bar\":[{\"error_x\":{\"color\":\"#2a3f5f\"},\"error_y\":{\"color\":\"#2a3f5f\"},\"marker\":{\"line\":{\"color\":\"#E5ECF6\",\"width\":0.5},\"pattern\":{\"fillmode\":\"overlay\",\"size\":10,\"solidity\":0.2}},\"type\":\"bar\"}],\"carpet\":[{\"aaxis\":{\"endlinecolor\":\"#2a3f5f\",\"gridcolor\":\"white\",\"linecolor\":\"white\",\"minorgridcolor\":\"white\",\"startlinecolor\":\"#2a3f5f\"},\"baxis\":{\"endlinecolor\":\"#2a3f5f\",\"gridcolor\":\"white\",\"linecolor\":\"white\",\"minorgridcolor\":\"white\",\"startlinecolor\":\"#2a3f5f\"},\"type\":\"carpet\"}],\"choropleth\":[{\"colorbar\":{\"outlinewidth\":0,\"ticks\":\"\"},\"type\":\"choropleth\"}],\"contourcarpet\":[{\"colorbar\":{\"outlinewidth\":0,\"ticks\":\"\"},\"type\":\"contourcarpet\"}],\"contour\":[{\"colorbar\":{\"outlinewidth\":0,\"ticks\":\"\"},\"colorscale\":[[0.0,\"#0d0887\"],[0.1111111111111111,\"#46039f\"],[0.2222222222222222,\"#7201a8\"],[0.3333333333333333,\"#9c179e\"],[0.4444444444444444,\"#bd3786\"],[0.5555555555555556,\"#d8576b\"],[0.6666666666666666,\"#ed7953\"],[0.7777777777777778,\"#fb9f3a\"],[0.8888888888888888,\"#fdca26\"],[1.0,\"#f0f921\"]],\"type\":\"contour\"}],\"heatmapgl\":[{\"colorbar\":{\"outlinewidth\":0,\"ticks\":\"\"},\"colorscale\":[[0.0,\"#0d0887\"],[0.1111111111111111,\"#46039f\"],[0.2222222222222222,\"#7201a8\"],[0.3333333333333333,\"#9c179e\"],[0.4444444444444444,\"#bd3786\"],[0.5555555555555556,\"#d8576b\"],[0.6666666666666666,\"#ed7953\"],[0.7777777777777778,\"#fb9f3a\"],[0.8888888888888888,\"#fdca26\"],[1.0,\"#f0f921\"]],\"type\":\"heatmapgl\"}],\"heatmap\":[{\"colorbar\":{\"outlinewidth\":0,\"ticks\":\"\"},\"colorscale\":[[0.0,\"#0d0887\"],[0.1111111111111111,\"#46039f\"],[0.2222222222222222,\"#7201a8\"],[0.3333333333333333,\"#9c179e\"],[0.4444444444444444,\"#bd3786\"],[0.5555555555555556,\"#d8576b\"],[0.6666666666666666,\"#ed7953\"],[0.7777777777777778,\"#fb9f3a\"],[0.8888888888888888,\"#fdca26\"],[1.0,\"#f0f921\"]],\"type\":\"heatmap\"}],\"histogram2dcontour\":[{\"colorbar\":{\"outlinewidth\":0,\"ticks\":\"\"},\"colorscale\":[[0.0,\"#0d0887\"],[0.1111111111111111,\"#46039f\"],[0.2222222222222222,\"#7201a8\"],[0.3333333333333333,\"#9c179e\"],[0.4444444444444444,\"#bd3786\"],[0.5555555555555556,\"#d8576b\"],[0.6666666666666666,\"#ed7953\"],[0.7777777777777778,\"#fb9f3a\"],[0.8888888888888888,\"#fdca26\"],[1.0,\"#f0f921\"]],\"type\":\"histogram2dcontour\"}],\"histogram2d\":[{\"colorbar\":{\"outlinewidth\":0,\"ticks\":\"\"},\"colorscale\":[[0.0,\"#0d0887\"],[0.1111111111111111,\"#46039f\"],[0.2222222222222222,\"#7201a8\"],[0.3333333333333333,\"#9c179e\"],[0.4444444444444444,\"#bd3786\"],[0.5555555555555556,\"#d8576b\"],[0.6666666666666666,\"#ed7953\"],[0.7777777777777778,\"#fb9f3a\"],[0.8888888888888888,\"#fdca26\"],[1.0,\"#f0f921\"]],\"type\":\"histogram2d\"}],\"histogram\":[{\"marker\":{\"pattern\":{\"fillmode\":\"overlay\",\"size\":10,\"solidity\":0.2}},\"type\":\"histogram\"}],\"mesh3d\":[{\"colorbar\":{\"outlinewidth\":0,\"ticks\":\"\"},\"type\":\"mesh3d\"}],\"parcoords\":[{\"line\":{\"colorbar\":{\"outlinewidth\":0,\"ticks\":\"\"}},\"type\":\"parcoords\"}],\"pie\":[{\"automargin\":true,\"type\":\"pie\"}],\"scatter3d\":[{\"line\":{\"colorbar\":{\"outlinewidth\":0,\"ticks\":\"\"}},\"marker\":{\"colorbar\":{\"outlinewidth\":0,\"ticks\":\"\"}},\"type\":\"scatter3d\"}],\"scattercarpet\":[{\"marker\":{\"colorbar\":{\"outlinewidth\":0,\"ticks\":\"\"}},\"type\":\"scattercarpet\"}],\"scattergeo\":[{\"marker\":{\"colorbar\":{\"outlinewidth\":0,\"ticks\":\"\"}},\"type\":\"scattergeo\"}],\"scattergl\":[{\"marker\":{\"colorbar\":{\"outlinewidth\":0,\"ticks\":\"\"}},\"type\":\"scattergl\"}],\"scattermapbox\":[{\"marker\":{\"colorbar\":{\"outlinewidth\":0,\"ticks\":\"\"}},\"type\":\"scattermapbox\"}],\"scatterpolargl\":[{\"marker\":{\"colorbar\":{\"outlinewidth\":0,\"ticks\":\"\"}},\"type\":\"scatterpolargl\"}],\"scatterpolar\":[{\"marker\":{\"colorbar\":{\"outlinewidth\":0,\"ticks\":\"\"}},\"type\":\"scatterpolar\"}],\"scatter\":[{\"fillpattern\":{\"fillmode\":\"overlay\",\"size\":10,\"solidity\":0.2},\"type\":\"scatter\"}],\"scatterternary\":[{\"marker\":{\"colorbar\":{\"outlinewidth\":0,\"ticks\":\"\"}},\"type\":\"scatterternary\"}],\"surface\":[{\"colorbar\":{\"outlinewidth\":0,\"ticks\":\"\"},\"colorscale\":[[0.0,\"#0d0887\"],[0.1111111111111111,\"#46039f\"],[0.2222222222222222,\"#7201a8\"],[0.3333333333333333,\"#9c179e\"],[0.4444444444444444,\"#bd3786\"],[0.5555555555555556,\"#d8576b\"],[0.6666666666666666,\"#ed7953\"],[0.7777777777777778,\"#fb9f3a\"],[0.8888888888888888,\"#fdca26\"],[1.0,\"#f0f921\"]],\"type\":\"surface\"}],\"table\":[{\"cells\":{\"fill\":{\"color\":\"#EBF0F8\"},\"line\":{\"color\":\"white\"}},\"header\":{\"fill\":{\"color\":\"#C8D4E3\"},\"line\":{\"color\":\"white\"}},\"type\":\"table\"}]},\"layout\":{\"annotationdefaults\":{\"arrowcolor\":\"#2a3f5f\",\"arrowhead\":0,\"arrowwidth\":1},\"autotypenumbers\":\"strict\",\"coloraxis\":{\"colorbar\":{\"outlinewidth\":0,\"ticks\":\"\"}},\"colorscale\":{\"diverging\":[[0,\"#8e0152\"],[0.1,\"#c51b7d\"],[0.2,\"#de77ae\"],[0.3,\"#f1b6da\"],[0.4,\"#fde0ef\"],[0.5,\"#f7f7f7\"],[0.6,\"#e6f5d0\"],[0.7,\"#b8e186\"],[0.8,\"#7fbc41\"],[0.9,\"#4d9221\"],[1,\"#276419\"]],\"sequential\":[[0.0,\"#0d0887\"],[0.1111111111111111,\"#46039f\"],[0.2222222222222222,\"#7201a8\"],[0.3333333333333333,\"#9c179e\"],[0.4444444444444444,\"#bd3786\"],[0.5555555555555556,\"#d8576b\"],[0.6666666666666666,\"#ed7953\"],[0.7777777777777778,\"#fb9f3a\"],[0.8888888888888888,\"#fdca26\"],[1.0,\"#f0f921\"]],\"sequentialminus\":[[0.0,\"#0d0887\"],[0.1111111111111111,\"#46039f\"],[0.2222222222222222,\"#7201a8\"],[0.3333333333333333,\"#9c179e\"],[0.4444444444444444,\"#bd3786\"],[0.5555555555555556,\"#d8576b\"],[0.6666666666666666,\"#ed7953\"],[0.7777777777777778,\"#fb9f3a\"],[0.8888888888888888,\"#fdca26\"],[1.0,\"#f0f921\"]]},\"colorway\":[\"#636efa\",\"#EF553B\",\"#00cc96\",\"#ab63fa\",\"#FFA15A\",\"#19d3f3\",\"#FF6692\",\"#B6E880\",\"#FF97FF\",\"#FECB52\"],\"font\":{\"color\":\"#2a3f5f\"},\"geo\":{\"bgcolor\":\"white\",\"lakecolor\":\"white\",\"landcolor\":\"#E5ECF6\",\"showlakes\":true,\"showland\":true,\"subunitcolor\":\"white\"},\"hoverlabel\":{\"align\":\"left\"},\"hovermode\":\"closest\",\"mapbox\":{\"style\":\"light\"},\"paper_bgcolor\":\"white\",\"plot_bgcolor\":\"#E5ECF6\",\"polar\":{\"angularaxis\":{\"gridcolor\":\"white\",\"linecolor\":\"white\",\"ticks\":\"\"},\"bgcolor\":\"#E5ECF6\",\"radialaxis\":{\"gridcolor\":\"white\",\"linecolor\":\"white\",\"ticks\":\"\"}},\"scene\":{\"xaxis\":{\"backgroundcolor\":\"#E5ECF6\",\"gridcolor\":\"white\",\"gridwidth\":2,\"linecolor\":\"white\",\"showbackground\":true,\"ticks\":\"\",\"zerolinecolor\":\"white\"},\"yaxis\":{\"backgroundcolor\":\"#E5ECF6\",\"gridcolor\":\"white\",\"gridwidth\":2,\"linecolor\":\"white\",\"showbackground\":true,\"ticks\":\"\",\"zerolinecolor\":\"white\"},\"zaxis\":{\"backgroundcolor\":\"#E5ECF6\",\"gridcolor\":\"white\",\"gridwidth\":2,\"linecolor\":\"white\",\"showbackground\":true,\"ticks\":\"\",\"zerolinecolor\":\"white\"}},\"shapedefaults\":{\"line\":{\"color\":\"#2a3f5f\"}},\"ternary\":{\"aaxis\":{\"gridcolor\":\"white\",\"linecolor\":\"white\",\"ticks\":\"\"},\"baxis\":{\"gridcolor\":\"white\",\"linecolor\":\"white\",\"ticks\":\"\"},\"bgcolor\":\"#E5ECF6\",\"caxis\":{\"gridcolor\":\"white\",\"linecolor\":\"white\",\"ticks\":\"\"}},\"title\":{\"x\":0.05},\"xaxis\":{\"automargin\":true,\"gridcolor\":\"white\",\"linecolor\":\"white\",\"ticks\":\"\",\"title\":{\"standoff\":15},\"zerolinecolor\":\"white\",\"zerolinewidth\":2},\"yaxis\":{\"automargin\":true,\"gridcolor\":\"white\",\"linecolor\":\"white\",\"ticks\":\"\",\"title\":{\"standoff\":15},\"zerolinecolor\":\"white\",\"zerolinewidth\":2}}},\"title\":{\"font\":{\"color\":\"#4D5663\"}},\"xaxis\":{\"gridcolor\":\"#E1E5ED\",\"showgrid\":true,\"tickfont\":{\"color\":\"#4D5663\"},\"title\":{\"font\":{\"color\":\"#4D5663\"},\"text\":\"\"},\"zerolinecolor\":\"#E1E5ED\"},\"yaxis\":{\"gridcolor\":\"#E1E5ED\",\"showgrid\":true,\"tickfont\":{\"color\":\"#4D5663\"},\"title\":{\"font\":{\"color\":\"#4D5663\"},\"text\":\"\"},\"zerolinecolor\":\"#E1E5ED\"}},                        {\"showLink\": true, \"linkText\": \"Export to plot.ly\", \"plotlyServerURL\": \"https://plot.ly\", \"responsive\": true}                    ).then(function(){\n",
       "                            \n",
       "var gd = document.getElementById('49b01d75-8b9d-4336-8f50-5b653109a525');\n",
       "var x = new MutationObserver(function (mutations, observer) {{\n",
       "        var display = window.getComputedStyle(gd).display;\n",
       "        if (!display || display === 'none') {{\n",
       "            console.log([gd, 'removed!']);\n",
       "            Plotly.purge(gd);\n",
       "            observer.disconnect();\n",
       "        }}\n",
       "}});\n",
       "\n",
       "// Listen for the removal of the full notebook cells\n",
       "var notebookContainer = gd.closest('#notebook-container');\n",
       "if (notebookContainer) {{\n",
       "    x.observe(notebookContainer, {childList: true});\n",
       "}}\n",
       "\n",
       "// Listen for the clearing of the current output cell\n",
       "var outputEl = gd.closest('.output');\n",
       "if (outputEl) {{\n",
       "    x.observe(outputEl, {childList: true});\n",
       "}}\n",
       "\n",
       "                        })                };                });            </script>        </div>"
      ]
     },
     "metadata": {},
     "output_type": "display_data"
    }
   ],
   "source": [
    "df.iplot(kind='box')"
   ]
  },
  {
   "attachments": {},
   "cell_type": "markdown",
   "metadata": {},
   "source": [
    "### 3d Surface"
   ]
  },
  {
   "cell_type": "code",
   "execution_count": 66,
   "metadata": {},
   "outputs": [
    {
     "data": {
      "application/vnd.plotly.v1+json": {
       "config": {
        "linkText": "Export to plot.ly",
        "plotlyServerURL": "https://plot.ly",
        "showLink": true
       },
       "data": [
        {
         "colorscale": [
          [
           0,
           "rgb(165,0,38)"
          ],
          [
           0.1,
           "rgb(215,48,39)"
          ],
          [
           0.2,
           "rgb(244,109,67)"
          ],
          [
           0.3,
           "rgb(253,174,97)"
          ],
          [
           0.4,
           "rgb(254,224,144)"
          ],
          [
           0.5,
           "rgb(255,255,191)"
          ],
          [
           0.6,
           "rgb(224,243,248)"
          ],
          [
           0.7,
           "rgb(171,217,233)"
          ],
          [
           0.8,
           "rgb(116,173,209)"
          ],
          [
           0.9,
           "rgb(69,117,180)"
          ],
          [
           1,
           "rgb(49,54,149)"
          ]
         ],
         "type": "surface",
         "x": [
          0,
          1,
          2,
          3,
          4
         ],
         "y": [
          "x",
          "y",
          "z"
         ],
         "z": [
          [
           1,
           2,
           3,
           4,
           5
          ],
          [
           10,
           20,
           30,
           20,
           10
          ],
          [
           5,
           4,
           3,
           2,
           1
          ]
         ]
        }
       ],
       "layout": {
        "legend": {
         "bgcolor": "#F5F6F9",
         "font": {
          "color": "#4D5663"
         }
        },
        "paper_bgcolor": "#F5F6F9",
        "plot_bgcolor": "#F5F6F9",
        "template": {
         "data": {
          "bar": [
           {
            "error_x": {
             "color": "#2a3f5f"
            },
            "error_y": {
             "color": "#2a3f5f"
            },
            "marker": {
             "line": {
              "color": "#E5ECF6",
              "width": 0.5
             },
             "pattern": {
              "fillmode": "overlay",
              "size": 10,
              "solidity": 0.2
             }
            },
            "type": "bar"
           }
          ],
          "barpolar": [
           {
            "marker": {
             "line": {
              "color": "#E5ECF6",
              "width": 0.5
             },
             "pattern": {
              "fillmode": "overlay",
              "size": 10,
              "solidity": 0.2
             }
            },
            "type": "barpolar"
           }
          ],
          "carpet": [
           {
            "aaxis": {
             "endlinecolor": "#2a3f5f",
             "gridcolor": "white",
             "linecolor": "white",
             "minorgridcolor": "white",
             "startlinecolor": "#2a3f5f"
            },
            "baxis": {
             "endlinecolor": "#2a3f5f",
             "gridcolor": "white",
             "linecolor": "white",
             "minorgridcolor": "white",
             "startlinecolor": "#2a3f5f"
            },
            "type": "carpet"
           }
          ],
          "choropleth": [
           {
            "colorbar": {
             "outlinewidth": 0,
             "ticks": ""
            },
            "type": "choropleth"
           }
          ],
          "contour": [
           {
            "colorbar": {
             "outlinewidth": 0,
             "ticks": ""
            },
            "colorscale": [
             [
              0,
              "#0d0887"
             ],
             [
              0.1111111111111111,
              "#46039f"
             ],
             [
              0.2222222222222222,
              "#7201a8"
             ],
             [
              0.3333333333333333,
              "#9c179e"
             ],
             [
              0.4444444444444444,
              "#bd3786"
             ],
             [
              0.5555555555555556,
              "#d8576b"
             ],
             [
              0.6666666666666666,
              "#ed7953"
             ],
             [
              0.7777777777777778,
              "#fb9f3a"
             ],
             [
              0.8888888888888888,
              "#fdca26"
             ],
             [
              1,
              "#f0f921"
             ]
            ],
            "type": "contour"
           }
          ],
          "contourcarpet": [
           {
            "colorbar": {
             "outlinewidth": 0,
             "ticks": ""
            },
            "type": "contourcarpet"
           }
          ],
          "heatmap": [
           {
            "colorbar": {
             "outlinewidth": 0,
             "ticks": ""
            },
            "colorscale": [
             [
              0,
              "#0d0887"
             ],
             [
              0.1111111111111111,
              "#46039f"
             ],
             [
              0.2222222222222222,
              "#7201a8"
             ],
             [
              0.3333333333333333,
              "#9c179e"
             ],
             [
              0.4444444444444444,
              "#bd3786"
             ],
             [
              0.5555555555555556,
              "#d8576b"
             ],
             [
              0.6666666666666666,
              "#ed7953"
             ],
             [
              0.7777777777777778,
              "#fb9f3a"
             ],
             [
              0.8888888888888888,
              "#fdca26"
             ],
             [
              1,
              "#f0f921"
             ]
            ],
            "type": "heatmap"
           }
          ],
          "heatmapgl": [
           {
            "colorbar": {
             "outlinewidth": 0,
             "ticks": ""
            },
            "colorscale": [
             [
              0,
              "#0d0887"
             ],
             [
              0.1111111111111111,
              "#46039f"
             ],
             [
              0.2222222222222222,
              "#7201a8"
             ],
             [
              0.3333333333333333,
              "#9c179e"
             ],
             [
              0.4444444444444444,
              "#bd3786"
             ],
             [
              0.5555555555555556,
              "#d8576b"
             ],
             [
              0.6666666666666666,
              "#ed7953"
             ],
             [
              0.7777777777777778,
              "#fb9f3a"
             ],
             [
              0.8888888888888888,
              "#fdca26"
             ],
             [
              1,
              "#f0f921"
             ]
            ],
            "type": "heatmapgl"
           }
          ],
          "histogram": [
           {
            "marker": {
             "pattern": {
              "fillmode": "overlay",
              "size": 10,
              "solidity": 0.2
             }
            },
            "type": "histogram"
           }
          ],
          "histogram2d": [
           {
            "colorbar": {
             "outlinewidth": 0,
             "ticks": ""
            },
            "colorscale": [
             [
              0,
              "#0d0887"
             ],
             [
              0.1111111111111111,
              "#46039f"
             ],
             [
              0.2222222222222222,
              "#7201a8"
             ],
             [
              0.3333333333333333,
              "#9c179e"
             ],
             [
              0.4444444444444444,
              "#bd3786"
             ],
             [
              0.5555555555555556,
              "#d8576b"
             ],
             [
              0.6666666666666666,
              "#ed7953"
             ],
             [
              0.7777777777777778,
              "#fb9f3a"
             ],
             [
              0.8888888888888888,
              "#fdca26"
             ],
             [
              1,
              "#f0f921"
             ]
            ],
            "type": "histogram2d"
           }
          ],
          "histogram2dcontour": [
           {
            "colorbar": {
             "outlinewidth": 0,
             "ticks": ""
            },
            "colorscale": [
             [
              0,
              "#0d0887"
             ],
             [
              0.1111111111111111,
              "#46039f"
             ],
             [
              0.2222222222222222,
              "#7201a8"
             ],
             [
              0.3333333333333333,
              "#9c179e"
             ],
             [
              0.4444444444444444,
              "#bd3786"
             ],
             [
              0.5555555555555556,
              "#d8576b"
             ],
             [
              0.6666666666666666,
              "#ed7953"
             ],
             [
              0.7777777777777778,
              "#fb9f3a"
             ],
             [
              0.8888888888888888,
              "#fdca26"
             ],
             [
              1,
              "#f0f921"
             ]
            ],
            "type": "histogram2dcontour"
           }
          ],
          "mesh3d": [
           {
            "colorbar": {
             "outlinewidth": 0,
             "ticks": ""
            },
            "type": "mesh3d"
           }
          ],
          "parcoords": [
           {
            "line": {
             "colorbar": {
              "outlinewidth": 0,
              "ticks": ""
             }
            },
            "type": "parcoords"
           }
          ],
          "pie": [
           {
            "automargin": true,
            "type": "pie"
           }
          ],
          "scatter": [
           {
            "fillpattern": {
             "fillmode": "overlay",
             "size": 10,
             "solidity": 0.2
            },
            "type": "scatter"
           }
          ],
          "scatter3d": [
           {
            "line": {
             "colorbar": {
              "outlinewidth": 0,
              "ticks": ""
             }
            },
            "marker": {
             "colorbar": {
              "outlinewidth": 0,
              "ticks": ""
             }
            },
            "type": "scatter3d"
           }
          ],
          "scattercarpet": [
           {
            "marker": {
             "colorbar": {
              "outlinewidth": 0,
              "ticks": ""
             }
            },
            "type": "scattercarpet"
           }
          ],
          "scattergeo": [
           {
            "marker": {
             "colorbar": {
              "outlinewidth": 0,
              "ticks": ""
             }
            },
            "type": "scattergeo"
           }
          ],
          "scattergl": [
           {
            "marker": {
             "colorbar": {
              "outlinewidth": 0,
              "ticks": ""
             }
            },
            "type": "scattergl"
           }
          ],
          "scattermapbox": [
           {
            "marker": {
             "colorbar": {
              "outlinewidth": 0,
              "ticks": ""
             }
            },
            "type": "scattermapbox"
           }
          ],
          "scatterpolar": [
           {
            "marker": {
             "colorbar": {
              "outlinewidth": 0,
              "ticks": ""
             }
            },
            "type": "scatterpolar"
           }
          ],
          "scatterpolargl": [
           {
            "marker": {
             "colorbar": {
              "outlinewidth": 0,
              "ticks": ""
             }
            },
            "type": "scatterpolargl"
           }
          ],
          "scatterternary": [
           {
            "marker": {
             "colorbar": {
              "outlinewidth": 0,
              "ticks": ""
             }
            },
            "type": "scatterternary"
           }
          ],
          "surface": [
           {
            "colorbar": {
             "outlinewidth": 0,
             "ticks": ""
            },
            "colorscale": [
             [
              0,
              "#0d0887"
             ],
             [
              0.1111111111111111,
              "#46039f"
             ],
             [
              0.2222222222222222,
              "#7201a8"
             ],
             [
              0.3333333333333333,
              "#9c179e"
             ],
             [
              0.4444444444444444,
              "#bd3786"
             ],
             [
              0.5555555555555556,
              "#d8576b"
             ],
             [
              0.6666666666666666,
              "#ed7953"
             ],
             [
              0.7777777777777778,
              "#fb9f3a"
             ],
             [
              0.8888888888888888,
              "#fdca26"
             ],
             [
              1,
              "#f0f921"
             ]
            ],
            "type": "surface"
           }
          ],
          "table": [
           {
            "cells": {
             "fill": {
              "color": "#EBF0F8"
             },
             "line": {
              "color": "white"
             }
            },
            "header": {
             "fill": {
              "color": "#C8D4E3"
             },
             "line": {
              "color": "white"
             }
            },
            "type": "table"
           }
          ]
         },
         "layout": {
          "annotationdefaults": {
           "arrowcolor": "#2a3f5f",
           "arrowhead": 0,
           "arrowwidth": 1
          },
          "autotypenumbers": "strict",
          "coloraxis": {
           "colorbar": {
            "outlinewidth": 0,
            "ticks": ""
           }
          },
          "colorscale": {
           "diverging": [
            [
             0,
             "#8e0152"
            ],
            [
             0.1,
             "#c51b7d"
            ],
            [
             0.2,
             "#de77ae"
            ],
            [
             0.3,
             "#f1b6da"
            ],
            [
             0.4,
             "#fde0ef"
            ],
            [
             0.5,
             "#f7f7f7"
            ],
            [
             0.6,
             "#e6f5d0"
            ],
            [
             0.7,
             "#b8e186"
            ],
            [
             0.8,
             "#7fbc41"
            ],
            [
             0.9,
             "#4d9221"
            ],
            [
             1,
             "#276419"
            ]
           ],
           "sequential": [
            [
             0,
             "#0d0887"
            ],
            [
             0.1111111111111111,
             "#46039f"
            ],
            [
             0.2222222222222222,
             "#7201a8"
            ],
            [
             0.3333333333333333,
             "#9c179e"
            ],
            [
             0.4444444444444444,
             "#bd3786"
            ],
            [
             0.5555555555555556,
             "#d8576b"
            ],
            [
             0.6666666666666666,
             "#ed7953"
            ],
            [
             0.7777777777777778,
             "#fb9f3a"
            ],
            [
             0.8888888888888888,
             "#fdca26"
            ],
            [
             1,
             "#f0f921"
            ]
           ],
           "sequentialminus": [
            [
             0,
             "#0d0887"
            ],
            [
             0.1111111111111111,
             "#46039f"
            ],
            [
             0.2222222222222222,
             "#7201a8"
            ],
            [
             0.3333333333333333,
             "#9c179e"
            ],
            [
             0.4444444444444444,
             "#bd3786"
            ],
            [
             0.5555555555555556,
             "#d8576b"
            ],
            [
             0.6666666666666666,
             "#ed7953"
            ],
            [
             0.7777777777777778,
             "#fb9f3a"
            ],
            [
             0.8888888888888888,
             "#fdca26"
            ],
            [
             1,
             "#f0f921"
            ]
           ]
          },
          "colorway": [
           "#636efa",
           "#EF553B",
           "#00cc96",
           "#ab63fa",
           "#FFA15A",
           "#19d3f3",
           "#FF6692",
           "#B6E880",
           "#FF97FF",
           "#FECB52"
          ],
          "font": {
           "color": "#2a3f5f"
          },
          "geo": {
           "bgcolor": "white",
           "lakecolor": "white",
           "landcolor": "#E5ECF6",
           "showlakes": true,
           "showland": true,
           "subunitcolor": "white"
          },
          "hoverlabel": {
           "align": "left"
          },
          "hovermode": "closest",
          "mapbox": {
           "style": "light"
          },
          "paper_bgcolor": "white",
          "plot_bgcolor": "#E5ECF6",
          "polar": {
           "angularaxis": {
            "gridcolor": "white",
            "linecolor": "white",
            "ticks": ""
           },
           "bgcolor": "#E5ECF6",
           "radialaxis": {
            "gridcolor": "white",
            "linecolor": "white",
            "ticks": ""
           }
          },
          "scene": {
           "xaxis": {
            "backgroundcolor": "#E5ECF6",
            "gridcolor": "white",
            "gridwidth": 2,
            "linecolor": "white",
            "showbackground": true,
            "ticks": "",
            "zerolinecolor": "white"
           },
           "yaxis": {
            "backgroundcolor": "#E5ECF6",
            "gridcolor": "white",
            "gridwidth": 2,
            "linecolor": "white",
            "showbackground": true,
            "ticks": "",
            "zerolinecolor": "white"
           },
           "zaxis": {
            "backgroundcolor": "#E5ECF6",
            "gridcolor": "white",
            "gridwidth": 2,
            "linecolor": "white",
            "showbackground": true,
            "ticks": "",
            "zerolinecolor": "white"
           }
          },
          "shapedefaults": {
           "line": {
            "color": "#2a3f5f"
           }
          },
          "ternary": {
           "aaxis": {
            "gridcolor": "white",
            "linecolor": "white",
            "ticks": ""
           },
           "baxis": {
            "gridcolor": "white",
            "linecolor": "white",
            "ticks": ""
           },
           "bgcolor": "#E5ECF6",
           "caxis": {
            "gridcolor": "white",
            "linecolor": "white",
            "ticks": ""
           }
          },
          "title": {
           "x": 0.05
          },
          "xaxis": {
           "automargin": true,
           "gridcolor": "white",
           "linecolor": "white",
           "ticks": "",
           "title": {
            "standoff": 15
           },
           "zerolinecolor": "white",
           "zerolinewidth": 2
          },
          "yaxis": {
           "automargin": true,
           "gridcolor": "white",
           "linecolor": "white",
           "ticks": "",
           "title": {
            "standoff": 15
           },
           "zerolinecolor": "white",
           "zerolinewidth": 2
          }
         }
        },
        "title": {
         "font": {
          "color": "#4D5663"
         }
        },
        "xaxis": {
         "gridcolor": "#E1E5ED",
         "showgrid": true,
         "tickfont": {
          "color": "#4D5663"
         },
         "title": {
          "font": {
           "color": "#4D5663"
          },
          "text": ""
         },
         "zerolinecolor": "#E1E5ED"
        },
        "yaxis": {
         "gridcolor": "#E1E5ED",
         "showgrid": true,
         "tickfont": {
          "color": "#4D5663"
         },
         "title": {
          "font": {
           "color": "#4D5663"
          },
          "text": ""
         },
         "zerolinecolor": "#E1E5ED"
        }
       }
      },
      "text/html": [
       "<div>                            <div id=\"2ecbe8e6-b882-456e-af17-7eaee97ab299\" class=\"plotly-graph-div\" style=\"height:525px; width:100%;\"></div>            <script type=\"text/javascript\">                require([\"plotly\"], function(Plotly) {                    window.PLOTLYENV=window.PLOTLYENV || {};\n",
       "                    window.PLOTLYENV.BASE_URL='https://plot.ly';                                    if (document.getElementById(\"2ecbe8e6-b882-456e-af17-7eaee97ab299\")) {                    Plotly.newPlot(                        \"2ecbe8e6-b882-456e-af17-7eaee97ab299\",                        [{\"colorscale\":[[0.0,\"rgb(165,0,38)\"],[0.1,\"rgb(215,48,39)\"],[0.2,\"rgb(244,109,67)\"],[0.3,\"rgb(253,174,97)\"],[0.4,\"rgb(254,224,144)\"],[0.5,\"rgb(255,255,191)\"],[0.6,\"rgb(224,243,248)\"],[0.7,\"rgb(171,217,233)\"],[0.8,\"rgb(116,173,209)\"],[0.9,\"rgb(69,117,180)\"],[1.0,\"rgb(49,54,149)\"]],\"x\":[0,1,2,3,4],\"y\":[\"x\",\"y\",\"z\"],\"z\":[[1,2,3,4,5],[10,20,30,20,10],[5,4,3,2,1]],\"type\":\"surface\"}],                        {\"legend\":{\"bgcolor\":\"#F5F6F9\",\"font\":{\"color\":\"#4D5663\"}},\"paper_bgcolor\":\"#F5F6F9\",\"plot_bgcolor\":\"#F5F6F9\",\"template\":{\"data\":{\"barpolar\":[{\"marker\":{\"line\":{\"color\":\"#E5ECF6\",\"width\":0.5},\"pattern\":{\"fillmode\":\"overlay\",\"size\":10,\"solidity\":0.2}},\"type\":\"barpolar\"}],\"bar\":[{\"error_x\":{\"color\":\"#2a3f5f\"},\"error_y\":{\"color\":\"#2a3f5f\"},\"marker\":{\"line\":{\"color\":\"#E5ECF6\",\"width\":0.5},\"pattern\":{\"fillmode\":\"overlay\",\"size\":10,\"solidity\":0.2}},\"type\":\"bar\"}],\"carpet\":[{\"aaxis\":{\"endlinecolor\":\"#2a3f5f\",\"gridcolor\":\"white\",\"linecolor\":\"white\",\"minorgridcolor\":\"white\",\"startlinecolor\":\"#2a3f5f\"},\"baxis\":{\"endlinecolor\":\"#2a3f5f\",\"gridcolor\":\"white\",\"linecolor\":\"white\",\"minorgridcolor\":\"white\",\"startlinecolor\":\"#2a3f5f\"},\"type\":\"carpet\"}],\"choropleth\":[{\"colorbar\":{\"outlinewidth\":0,\"ticks\":\"\"},\"type\":\"choropleth\"}],\"contourcarpet\":[{\"colorbar\":{\"outlinewidth\":0,\"ticks\":\"\"},\"type\":\"contourcarpet\"}],\"contour\":[{\"colorbar\":{\"outlinewidth\":0,\"ticks\":\"\"},\"colorscale\":[[0.0,\"#0d0887\"],[0.1111111111111111,\"#46039f\"],[0.2222222222222222,\"#7201a8\"],[0.3333333333333333,\"#9c179e\"],[0.4444444444444444,\"#bd3786\"],[0.5555555555555556,\"#d8576b\"],[0.6666666666666666,\"#ed7953\"],[0.7777777777777778,\"#fb9f3a\"],[0.8888888888888888,\"#fdca26\"],[1.0,\"#f0f921\"]],\"type\":\"contour\"}],\"heatmapgl\":[{\"colorbar\":{\"outlinewidth\":0,\"ticks\":\"\"},\"colorscale\":[[0.0,\"#0d0887\"],[0.1111111111111111,\"#46039f\"],[0.2222222222222222,\"#7201a8\"],[0.3333333333333333,\"#9c179e\"],[0.4444444444444444,\"#bd3786\"],[0.5555555555555556,\"#d8576b\"],[0.6666666666666666,\"#ed7953\"],[0.7777777777777778,\"#fb9f3a\"],[0.8888888888888888,\"#fdca26\"],[1.0,\"#f0f921\"]],\"type\":\"heatmapgl\"}],\"heatmap\":[{\"colorbar\":{\"outlinewidth\":0,\"ticks\":\"\"},\"colorscale\":[[0.0,\"#0d0887\"],[0.1111111111111111,\"#46039f\"],[0.2222222222222222,\"#7201a8\"],[0.3333333333333333,\"#9c179e\"],[0.4444444444444444,\"#bd3786\"],[0.5555555555555556,\"#d8576b\"],[0.6666666666666666,\"#ed7953\"],[0.7777777777777778,\"#fb9f3a\"],[0.8888888888888888,\"#fdca26\"],[1.0,\"#f0f921\"]],\"type\":\"heatmap\"}],\"histogram2dcontour\":[{\"colorbar\":{\"outlinewidth\":0,\"ticks\":\"\"},\"colorscale\":[[0.0,\"#0d0887\"],[0.1111111111111111,\"#46039f\"],[0.2222222222222222,\"#7201a8\"],[0.3333333333333333,\"#9c179e\"],[0.4444444444444444,\"#bd3786\"],[0.5555555555555556,\"#d8576b\"],[0.6666666666666666,\"#ed7953\"],[0.7777777777777778,\"#fb9f3a\"],[0.8888888888888888,\"#fdca26\"],[1.0,\"#f0f921\"]],\"type\":\"histogram2dcontour\"}],\"histogram2d\":[{\"colorbar\":{\"outlinewidth\":0,\"ticks\":\"\"},\"colorscale\":[[0.0,\"#0d0887\"],[0.1111111111111111,\"#46039f\"],[0.2222222222222222,\"#7201a8\"],[0.3333333333333333,\"#9c179e\"],[0.4444444444444444,\"#bd3786\"],[0.5555555555555556,\"#d8576b\"],[0.6666666666666666,\"#ed7953\"],[0.7777777777777778,\"#fb9f3a\"],[0.8888888888888888,\"#fdca26\"],[1.0,\"#f0f921\"]],\"type\":\"histogram2d\"}],\"histogram\":[{\"marker\":{\"pattern\":{\"fillmode\":\"overlay\",\"size\":10,\"solidity\":0.2}},\"type\":\"histogram\"}],\"mesh3d\":[{\"colorbar\":{\"outlinewidth\":0,\"ticks\":\"\"},\"type\":\"mesh3d\"}],\"parcoords\":[{\"line\":{\"colorbar\":{\"outlinewidth\":0,\"ticks\":\"\"}},\"type\":\"parcoords\"}],\"pie\":[{\"automargin\":true,\"type\":\"pie\"}],\"scatter3d\":[{\"line\":{\"colorbar\":{\"outlinewidth\":0,\"ticks\":\"\"}},\"marker\":{\"colorbar\":{\"outlinewidth\":0,\"ticks\":\"\"}},\"type\":\"scatter3d\"}],\"scattercarpet\":[{\"marker\":{\"colorbar\":{\"outlinewidth\":0,\"ticks\":\"\"}},\"type\":\"scattercarpet\"}],\"scattergeo\":[{\"marker\":{\"colorbar\":{\"outlinewidth\":0,\"ticks\":\"\"}},\"type\":\"scattergeo\"}],\"scattergl\":[{\"marker\":{\"colorbar\":{\"outlinewidth\":0,\"ticks\":\"\"}},\"type\":\"scattergl\"}],\"scattermapbox\":[{\"marker\":{\"colorbar\":{\"outlinewidth\":0,\"ticks\":\"\"}},\"type\":\"scattermapbox\"}],\"scatterpolargl\":[{\"marker\":{\"colorbar\":{\"outlinewidth\":0,\"ticks\":\"\"}},\"type\":\"scatterpolargl\"}],\"scatterpolar\":[{\"marker\":{\"colorbar\":{\"outlinewidth\":0,\"ticks\":\"\"}},\"type\":\"scatterpolar\"}],\"scatter\":[{\"fillpattern\":{\"fillmode\":\"overlay\",\"size\":10,\"solidity\":0.2},\"type\":\"scatter\"}],\"scatterternary\":[{\"marker\":{\"colorbar\":{\"outlinewidth\":0,\"ticks\":\"\"}},\"type\":\"scatterternary\"}],\"surface\":[{\"colorbar\":{\"outlinewidth\":0,\"ticks\":\"\"},\"colorscale\":[[0.0,\"#0d0887\"],[0.1111111111111111,\"#46039f\"],[0.2222222222222222,\"#7201a8\"],[0.3333333333333333,\"#9c179e\"],[0.4444444444444444,\"#bd3786\"],[0.5555555555555556,\"#d8576b\"],[0.6666666666666666,\"#ed7953\"],[0.7777777777777778,\"#fb9f3a\"],[0.8888888888888888,\"#fdca26\"],[1.0,\"#f0f921\"]],\"type\":\"surface\"}],\"table\":[{\"cells\":{\"fill\":{\"color\":\"#EBF0F8\"},\"line\":{\"color\":\"white\"}},\"header\":{\"fill\":{\"color\":\"#C8D4E3\"},\"line\":{\"color\":\"white\"}},\"type\":\"table\"}]},\"layout\":{\"annotationdefaults\":{\"arrowcolor\":\"#2a3f5f\",\"arrowhead\":0,\"arrowwidth\":1},\"autotypenumbers\":\"strict\",\"coloraxis\":{\"colorbar\":{\"outlinewidth\":0,\"ticks\":\"\"}},\"colorscale\":{\"diverging\":[[0,\"#8e0152\"],[0.1,\"#c51b7d\"],[0.2,\"#de77ae\"],[0.3,\"#f1b6da\"],[0.4,\"#fde0ef\"],[0.5,\"#f7f7f7\"],[0.6,\"#e6f5d0\"],[0.7,\"#b8e186\"],[0.8,\"#7fbc41\"],[0.9,\"#4d9221\"],[1,\"#276419\"]],\"sequential\":[[0.0,\"#0d0887\"],[0.1111111111111111,\"#46039f\"],[0.2222222222222222,\"#7201a8\"],[0.3333333333333333,\"#9c179e\"],[0.4444444444444444,\"#bd3786\"],[0.5555555555555556,\"#d8576b\"],[0.6666666666666666,\"#ed7953\"],[0.7777777777777778,\"#fb9f3a\"],[0.8888888888888888,\"#fdca26\"],[1.0,\"#f0f921\"]],\"sequentialminus\":[[0.0,\"#0d0887\"],[0.1111111111111111,\"#46039f\"],[0.2222222222222222,\"#7201a8\"],[0.3333333333333333,\"#9c179e\"],[0.4444444444444444,\"#bd3786\"],[0.5555555555555556,\"#d8576b\"],[0.6666666666666666,\"#ed7953\"],[0.7777777777777778,\"#fb9f3a\"],[0.8888888888888888,\"#fdca26\"],[1.0,\"#f0f921\"]]},\"colorway\":[\"#636efa\",\"#EF553B\",\"#00cc96\",\"#ab63fa\",\"#FFA15A\",\"#19d3f3\",\"#FF6692\",\"#B6E880\",\"#FF97FF\",\"#FECB52\"],\"font\":{\"color\":\"#2a3f5f\"},\"geo\":{\"bgcolor\":\"white\",\"lakecolor\":\"white\",\"landcolor\":\"#E5ECF6\",\"showlakes\":true,\"showland\":true,\"subunitcolor\":\"white\"},\"hoverlabel\":{\"align\":\"left\"},\"hovermode\":\"closest\",\"mapbox\":{\"style\":\"light\"},\"paper_bgcolor\":\"white\",\"plot_bgcolor\":\"#E5ECF6\",\"polar\":{\"angularaxis\":{\"gridcolor\":\"white\",\"linecolor\":\"white\",\"ticks\":\"\"},\"bgcolor\":\"#E5ECF6\",\"radialaxis\":{\"gridcolor\":\"white\",\"linecolor\":\"white\",\"ticks\":\"\"}},\"scene\":{\"xaxis\":{\"backgroundcolor\":\"#E5ECF6\",\"gridcolor\":\"white\",\"gridwidth\":2,\"linecolor\":\"white\",\"showbackground\":true,\"ticks\":\"\",\"zerolinecolor\":\"white\"},\"yaxis\":{\"backgroundcolor\":\"#E5ECF6\",\"gridcolor\":\"white\",\"gridwidth\":2,\"linecolor\":\"white\",\"showbackground\":true,\"ticks\":\"\",\"zerolinecolor\":\"white\"},\"zaxis\":{\"backgroundcolor\":\"#E5ECF6\",\"gridcolor\":\"white\",\"gridwidth\":2,\"linecolor\":\"white\",\"showbackground\":true,\"ticks\":\"\",\"zerolinecolor\":\"white\"}},\"shapedefaults\":{\"line\":{\"color\":\"#2a3f5f\"}},\"ternary\":{\"aaxis\":{\"gridcolor\":\"white\",\"linecolor\":\"white\",\"ticks\":\"\"},\"baxis\":{\"gridcolor\":\"white\",\"linecolor\":\"white\",\"ticks\":\"\"},\"bgcolor\":\"#E5ECF6\",\"caxis\":{\"gridcolor\":\"white\",\"linecolor\":\"white\",\"ticks\":\"\"}},\"title\":{\"x\":0.05},\"xaxis\":{\"automargin\":true,\"gridcolor\":\"white\",\"linecolor\":\"white\",\"ticks\":\"\",\"title\":{\"standoff\":15},\"zerolinecolor\":\"white\",\"zerolinewidth\":2},\"yaxis\":{\"automargin\":true,\"gridcolor\":\"white\",\"linecolor\":\"white\",\"ticks\":\"\",\"title\":{\"standoff\":15},\"zerolinecolor\":\"white\",\"zerolinewidth\":2}}},\"title\":{\"font\":{\"color\":\"#4D5663\"}},\"xaxis\":{\"gridcolor\":\"#E1E5ED\",\"showgrid\":true,\"tickfont\":{\"color\":\"#4D5663\"},\"title\":{\"font\":{\"color\":\"#4D5663\"},\"text\":\"\"},\"zerolinecolor\":\"#E1E5ED\"},\"yaxis\":{\"gridcolor\":\"#E1E5ED\",\"showgrid\":true,\"tickfont\":{\"color\":\"#4D5663\"},\"title\":{\"font\":{\"color\":\"#4D5663\"},\"text\":\"\"},\"zerolinecolor\":\"#E1E5ED\"}},                        {\"showLink\": true, \"linkText\": \"Export to plot.ly\", \"plotlyServerURL\": \"https://plot.ly\", \"responsive\": true}                    ).then(function(){\n",
       "                            \n",
       "var gd = document.getElementById('2ecbe8e6-b882-456e-af17-7eaee97ab299');\n",
       "var x = new MutationObserver(function (mutations, observer) {{\n",
       "        var display = window.getComputedStyle(gd).display;\n",
       "        if (!display || display === 'none') {{\n",
       "            console.log([gd, 'removed!']);\n",
       "            Plotly.purge(gd);\n",
       "            observer.disconnect();\n",
       "        }}\n",
       "}});\n",
       "\n",
       "// Listen for the removal of the full notebook cells\n",
       "var notebookContainer = gd.closest('#notebook-container');\n",
       "if (notebookContainer) {{\n",
       "    x.observe(notebookContainer, {childList: true});\n",
       "}}\n",
       "\n",
       "// Listen for the clearing of the current output cell\n",
       "var outputEl = gd.closest('.output');\n",
       "if (outputEl) {{\n",
       "    x.observe(outputEl, {childList: true});\n",
       "}}\n",
       "\n",
       "                        })                };                });            </script>        </div>"
      ]
     },
     "metadata": {},
     "output_type": "display_data"
    }
   ],
   "source": [
    "df3 = pd.DataFrame({'x':[1,2,3,4,5], 'y':[10,20,30,20,10], 'z':[5,4,3,2,1]})\n",
    "df3.iplot(kind='surface', colorscale='rdylbu')"
   ]
  },
  {
   "attachments": {},
   "cell_type": "markdown",
   "metadata": {},
   "source": [
    "### Spread"
   ]
  },
  {
   "cell_type": "code",
   "execution_count": 67,
   "metadata": {},
   "outputs": [
    {
     "name": "stderr",
     "output_type": "stream",
     "text": [
      "c:\\python39\\lib\\site-packages\\cufflinks\\plotlytools.py:849: FutureWarning:\n",
      "\n",
      "The pandas.np module is deprecated and will be removed from pandas in a future version. Import numpy directly instead.\n",
      "\n",
      "c:\\python39\\lib\\site-packages\\cufflinks\\plotlytools.py:850: FutureWarning:\n",
      "\n",
      "The pandas.np module is deprecated and will be removed from pandas in a future version. Import numpy directly instead.\n",
      "\n"
     ]
    },
    {
     "data": {
      "application/vnd.plotly.v1+json": {
       "config": {
        "linkText": "Export to plot.ly",
        "plotlyServerURL": "https://plot.ly",
        "showLink": true
       },
       "data": [
        {
         "line": {
          "color": "rgba(255, 153, 51, 1.0)",
          "dash": "solid",
          "shape": "linear",
          "width": 1.3
         },
         "mode": "lines",
         "name": "A",
         "text": "",
         "type": "scatter",
         "x": [
          0,
          1,
          2,
          3,
          4,
          5,
          6,
          7,
          8,
          9,
          10,
          11,
          12,
          13,
          14,
          15,
          16,
          17,
          18,
          19,
          20,
          21,
          22,
          23,
          24,
          25,
          26,
          27,
          28,
          29,
          30,
          31,
          32,
          33,
          34,
          35,
          36,
          37,
          38,
          39,
          40,
          41,
          42,
          43,
          44,
          45,
          46,
          47,
          48,
          49,
          50,
          51,
          52,
          53,
          54,
          55,
          56,
          57,
          58,
          59,
          60,
          61,
          62,
          63,
          64,
          65,
          66,
          67,
          68,
          69,
          70,
          71,
          72,
          73,
          74,
          75,
          76,
          77,
          78,
          79,
          80,
          81,
          82,
          83,
          84,
          85,
          86,
          87,
          88,
          89,
          90,
          91,
          92,
          93,
          94,
          95,
          96,
          97,
          98,
          99
         ],
         "y": [
          -0.2608614967031024,
          -0.49096342548313715,
          0.6534012059127755,
          -0.10382438391128623,
          0.0915136834623817,
          -0.2578466669372469,
          1.3897210082903713,
          -2.013970521337588,
          1.125741276541228,
          1.4993336191900457,
          -1.0595478745403308,
          -0.9430230210121577,
          -1.2621205005640328,
          1.4036731506061113,
          -0.03593673976090577,
          0.3050000998253773,
          -0.5522484049090643,
          -1.0203076856253586,
          0.6432367105616998,
          -0.8914863941492807,
          -2.185714250972939,
          0.12623577838399472,
          0.3921453841215854,
          0.4737295051464659,
          -0.17056200224579707,
          1.1774627570310106,
          -0.20762902062129898,
          1.2387067508523648,
          -1.3942752324541112,
          -1.716189450517545,
          0.22085285260585943,
          -0.6321810216895608,
          1.3901915806812715,
          1.0108805251540562,
          1.061249343310655,
          0.5308300215857267,
          -0.9503016687818185,
          -1.667629010859623,
          -1.1568624868134363,
          1.5218137380315473,
          -0.39221211032341013,
          2.3415395295809978,
          -1.486339576927987,
          -0.03772819855435538,
          1.4092361992473252,
          -0.7939024526846925,
          0.7862010597484133,
          -0.7353686055886977,
          0.4288694099887663,
          -0.27000065017539937,
          -0.41260190292719623,
          0.2707480429353407,
          -2.3153140545469633,
          -0.493246648926603,
          -0.20401174053479268,
          0.43262354086467664,
          -0.4638179729532545,
          -0.12104956411305579,
          0.0009501990026392411,
          -1.7944854502101284,
          1.1942829892775488,
          0.28613422098047586,
          0.6089637428915142,
          -1.68539790425561,
          -0.20944913271903332,
          0.7539061989031305,
          -0.30783771025917217,
          0.9249555792566864,
          2.155794363974152,
          -0.30825770648294415,
          2.3165892472778196,
          1.1104333103089679,
          0.5986508909048686,
          0.8596613825961947,
          -1.2785925488102268,
          0.9522963674778507,
          2.414612831587702,
          1.5551358944135807,
          0.6419754681607723,
          1.7713479403779466,
          1.121810184988672,
          -1.3457087892552062,
          2.0908035265398817,
          0.4571403655148956,
          0.2239437084658507,
          0.002231840122407565,
          0.7903495448532022,
          0.2563582466878664,
          1.7319416821321127,
          -2.634999142029582,
          0.5116574427742703,
          0.09494333197935707,
          -2.7505020690095145,
          0.4200960660289981,
          -1.3218058607201475,
          1.0064450686749333,
          0.9976844535285386,
          -0.9675831445221813,
          -0.5263696958489338,
          1.9143818200798364
         ]
        },
        {
         "line": {
          "color": "rgba(55, 128, 191, 1.0)",
          "dash": "solid",
          "shape": "linear",
          "width": 1.3
         },
         "mode": "lines",
         "name": "B",
         "text": "",
         "type": "scatter",
         "x": [
          0,
          1,
          2,
          3,
          4,
          5,
          6,
          7,
          8,
          9,
          10,
          11,
          12,
          13,
          14,
          15,
          16,
          17,
          18,
          19,
          20,
          21,
          22,
          23,
          24,
          25,
          26,
          27,
          28,
          29,
          30,
          31,
          32,
          33,
          34,
          35,
          36,
          37,
          38,
          39,
          40,
          41,
          42,
          43,
          44,
          45,
          46,
          47,
          48,
          49,
          50,
          51,
          52,
          53,
          54,
          55,
          56,
          57,
          58,
          59,
          60,
          61,
          62,
          63,
          64,
          65,
          66,
          67,
          68,
          69,
          70,
          71,
          72,
          73,
          74,
          75,
          76,
          77,
          78,
          79,
          80,
          81,
          82,
          83,
          84,
          85,
          86,
          87,
          88,
          89,
          90,
          91,
          92,
          93,
          94,
          95,
          96,
          97,
          98,
          99
         ],
         "y": [
          -0.25432533756669773,
          -1.581414768480805,
          0.40218331727380613,
          -0.7653635025178969,
          -0.03758094088299645,
          0.8228516602736954,
          0.20950479153616372,
          0.2368828777231409,
          -0.13416480196104766,
          0.06773423875996688,
          -1.3924154298925469,
          0.010537225188061829,
          -0.9192378281206622,
          -1.343298101902075,
          -1.7841952728986434,
          -0.5248286222071976,
          0.030492134192341522,
          -0.2095316178025833,
          0.941695473320228,
          -1.0303073120794726,
          -1.615853408823164,
          -0.7977565224429886,
          1.346204299136864,
          -1.2273416627519849,
          -0.9767964659827089,
          -1.5763455228401246,
          -1.9792442444712637,
          0.4384768080985399,
          0.17679566623301302,
          -0.9317474293601441,
          0.8682987401646762,
          -0.1003875632961765,
          -0.0884962705505986,
          0.24286646977162227,
          0.20207155467009158,
          0.38365946277845214,
          0.15769247651445353,
          -1.0665564678618131,
          0.49225575504181734,
          0.10153122545596022,
          0.11375123863064968,
          -0.4628493592894469,
          -0.5812908283646572,
          -0.5818098728891352,
          0.9176543169317575,
          0.5087887543927186,
          0.16819075587941956,
          -0.8945686934935044,
          0.3721570565430783,
          -0.257705545117878,
          1.6287138726491417,
          -1.1739713566817833,
          0.398367300079867,
          -0.6767044911122801,
          0.47600397787049986,
          -2.763129323705531,
          0.21077619673830947,
          -0.2258518499521978,
          -0.821396180646884,
          1.0365094058365847,
          -1.6318344262056328,
          -0.3298121153479205,
          0.8315693323045643,
          0.0007504783278676238,
          -0.29675189476684655,
          0.027554435329936816,
          0.6609436762444268,
          0.8785579905871628,
          -0.029854680377078793,
          1.5082301656300974,
          -1.2449285328680817,
          -0.9768057784470087,
          1.4916896101273067,
          -1.122012736021044,
          -0.38767399665537694,
          -1.329045263751567,
          0.6179854602630162,
          -2.1766036516777953,
          0.9997178836248283,
          -0.5995015860441616,
          1.3839885679655453,
          -0.5180161564966833,
          0.8533682831785384,
          -0.9115908122880608,
          -0.4306924280020869,
          0.9609848960490938,
          0.9220703471457242,
          1.7542139768319003,
          0.3604841912013604,
          0.0017037783681344279,
          -1.2543075592125403,
          -0.15102453234097343,
          -0.5360051864835451,
          0.5989775610224853,
          0.8263314749363494,
          -1.2655278034535515,
          0.9401542797781919,
          0.42961783137316306,
          0.7242211546399301,
          0.015725214681151255
         ]
        },
        {
         "connectgaps": false,
         "fill": "tozeroy",
         "line": {
          "color": "green",
          "dash": "solid",
          "shape": "linear",
          "width": 0.5
         },
         "mode": "lines",
         "name": "Spread",
         "showlegend": false,
         "type": "scatter",
         "x": [
          0,
          1,
          2,
          3,
          4,
          5,
          6,
          7,
          8,
          9,
          10,
          11,
          12,
          13,
          14,
          15,
          16,
          17,
          18,
          19,
          20,
          21,
          22,
          23,
          24,
          25,
          26,
          27,
          28,
          29,
          30,
          31,
          32,
          33,
          34,
          35,
          36,
          37,
          38,
          39,
          40,
          41,
          42,
          43,
          44,
          45,
          46,
          47,
          48,
          49,
          50,
          51,
          52,
          53,
          54,
          55,
          56,
          57,
          58,
          59,
          60,
          61,
          62,
          63,
          64,
          65,
          66,
          67,
          68,
          69,
          70,
          71,
          72,
          73,
          74,
          75,
          76,
          77,
          78,
          79,
          80,
          81,
          82,
          83,
          84,
          85,
          86,
          87,
          88,
          89,
          90,
          91,
          92,
          93,
          94,
          95,
          96,
          97,
          98,
          99
         ],
         "xaxis": "x2",
         "y": [
          "",
          1.0904513429976679,
          0.2512178886389694,
          0.6615391186066106,
          0.12909462434537816,
          "",
          1.1802162167542076,
          "",
          1.2599060785022758,
          1.4315993804300788,
          0.332867555352216,
          "",
          "",
          2.746971252508186,
          1.7482585331377376,
          0.8298287220325749,
          "",
          "",
          "",
          0.1388209179301919,
          "",
          0.9239923008269832,
          "",
          1.7010711678984507,
          0.8062344637369118,
          2.7538082798711354,
          1.7716152238499647,
          0.8002299427538249,
          "",
          "",
          "",
          "",
          1.47868785123187,
          0.768014055382434,
          0.8591777886405634,
          0.14717055880727453,
          "",
          "",
          "",
          1.4202825125755871,
          "",
          2.8043888888704447,
          "",
          0.5440816743347798,
          0.49158188231556776,
          "",
          0.6180103038689937,
          0.15920008790480678,
          0.056712353445688035,
          "",
          "",
          1.444719399617124,
          "",
          0.18345784218567712,
          "",
          3.1957528645702076,
          "",
          0.104802285839142,
          0.8223463796495233,
          "",
          2.8261174154831816,
          0.6159463363283963,
          "",
          "",
          0.08730276204781323,
          0.7263517635731936,
          "",
          0.04639758866952359,
          2.185649044351231,
          "",
          3.561517780145901,
          2.0872390887559766,
          "",
          1.9816741186172386,
          "",
          2.281341631229418,
          1.7966273713246856,
          3.731739546091376,
          "",
          2.3708495264221083,
          "",
          "",
          1.2374352433613431,
          1.3687311778029565,
          0.6546361364679376,
          "",
          "",
          "",
          1.3714574909307524,
          "",
          1.7659650019868107,
          0.24596786432033052,
          "",
          "",
          "",
          2.271972872128485,
          0.05753017375034675,
          "",
          "",
          1.898656605398685
         ],
         "yaxis": "y2"
        },
        {
         "connectgaps": false,
         "fill": "tozeroy",
         "line": {
          "color": "red",
          "dash": "solid",
          "shape": "linear",
          "width": 0.5
         },
         "mode": "lines",
         "name": "Spread",
         "showlegend": false,
         "type": "scatter",
         "x": [
          0,
          1,
          2,
          3,
          4,
          5,
          6,
          7,
          8,
          9,
          10,
          11,
          12,
          13,
          14,
          15,
          16,
          17,
          18,
          19,
          20,
          21,
          22,
          23,
          24,
          25,
          26,
          27,
          28,
          29,
          30,
          31,
          32,
          33,
          34,
          35,
          36,
          37,
          38,
          39,
          40,
          41,
          42,
          43,
          44,
          45,
          46,
          47,
          48,
          49,
          50,
          51,
          52,
          53,
          54,
          55,
          56,
          57,
          58,
          59,
          60,
          61,
          62,
          63,
          64,
          65,
          66,
          67,
          68,
          69,
          70,
          71,
          72,
          73,
          74,
          75,
          76,
          77,
          78,
          79,
          80,
          81,
          82,
          83,
          84,
          85,
          86,
          87,
          88,
          89,
          90,
          91,
          92,
          93,
          94,
          95,
          96,
          97,
          98,
          99
         ],
         "xaxis": "x2",
         "y": [
          -0.006536159136404651,
          "",
          "",
          "",
          "",
          -1.0806983272109423,
          "",
          -2.2508533990607287,
          "",
          "",
          "",
          -0.9535602462002196,
          -0.34288267244337056,
          "",
          "",
          "",
          -0.5827405391014059,
          -0.8107760678227752,
          -0.2984587627585281,
          "",
          -0.5698608421497748,
          "",
          -0.9540589150152785,
          "",
          "",
          "",
          "",
          "",
          -1.5710708986871242,
          -0.7844420211574009,
          -0.6474458875588168,
          -0.5317934583933843,
          "",
          "",
          "",
          "",
          -1.107994145296272,
          -0.6010725429978099,
          -1.6491182418552537,
          "",
          -0.5059633489540598,
          "",
          -0.9050487485633298,
          "",
          "",
          -1.302691207077411,
          "",
          "",
          "",
          -0.01229510505752135,
          -2.041315775576338,
          "",
          -2.7136813546268304,
          "",
          -0.6800157184052925,
          "",
          -0.6745941696915639,
          "",
          "",
          -2.830994856046713,
          "",
          "",
          -0.2226055894130501,
          -1.6861483825834775,
          "",
          "",
          -0.968781386503599,
          "",
          "",
          -1.8164878721130415,
          "",
          "",
          -0.8930387192224382,
          "",
          -0.8909185521548498,
          "",
          "",
          "",
          -0.35774241546405594,
          "",
          -0.26217838297687335,
          -0.8276926327585229,
          "",
          "",
          "",
          -0.9587530559266862,
          -0.13172080229252203,
          -1.4978557301440338,
          "",
          -2.6367029203977164,
          "",
          "",
          -2.214496882525969,
          -0.1788814949934872,
          -2.148137335656497,
          "",
          "",
          -1.3972009758953443,
          -1.2505908504888639,
          ""
         ],
         "yaxis": "y2"
        }
       ],
       "layout": {
        "hovermode": "x",
        "legend": {
         "bgcolor": "#F5F6F9",
         "font": {
          "color": "#4D5663"
         }
        },
        "paper_bgcolor": "#F5F6F9",
        "plot_bgcolor": "#F5F6F9",
        "template": {
         "data": {
          "bar": [
           {
            "error_x": {
             "color": "#2a3f5f"
            },
            "error_y": {
             "color": "#2a3f5f"
            },
            "marker": {
             "line": {
              "color": "#E5ECF6",
              "width": 0.5
             },
             "pattern": {
              "fillmode": "overlay",
              "size": 10,
              "solidity": 0.2
             }
            },
            "type": "bar"
           }
          ],
          "barpolar": [
           {
            "marker": {
             "line": {
              "color": "#E5ECF6",
              "width": 0.5
             },
             "pattern": {
              "fillmode": "overlay",
              "size": 10,
              "solidity": 0.2
             }
            },
            "type": "barpolar"
           }
          ],
          "carpet": [
           {
            "aaxis": {
             "endlinecolor": "#2a3f5f",
             "gridcolor": "white",
             "linecolor": "white",
             "minorgridcolor": "white",
             "startlinecolor": "#2a3f5f"
            },
            "baxis": {
             "endlinecolor": "#2a3f5f",
             "gridcolor": "white",
             "linecolor": "white",
             "minorgridcolor": "white",
             "startlinecolor": "#2a3f5f"
            },
            "type": "carpet"
           }
          ],
          "choropleth": [
           {
            "colorbar": {
             "outlinewidth": 0,
             "ticks": ""
            },
            "type": "choropleth"
           }
          ],
          "contour": [
           {
            "colorbar": {
             "outlinewidth": 0,
             "ticks": ""
            },
            "colorscale": [
             [
              0,
              "#0d0887"
             ],
             [
              0.1111111111111111,
              "#46039f"
             ],
             [
              0.2222222222222222,
              "#7201a8"
             ],
             [
              0.3333333333333333,
              "#9c179e"
             ],
             [
              0.4444444444444444,
              "#bd3786"
             ],
             [
              0.5555555555555556,
              "#d8576b"
             ],
             [
              0.6666666666666666,
              "#ed7953"
             ],
             [
              0.7777777777777778,
              "#fb9f3a"
             ],
             [
              0.8888888888888888,
              "#fdca26"
             ],
             [
              1,
              "#f0f921"
             ]
            ],
            "type": "contour"
           }
          ],
          "contourcarpet": [
           {
            "colorbar": {
             "outlinewidth": 0,
             "ticks": ""
            },
            "type": "contourcarpet"
           }
          ],
          "heatmap": [
           {
            "colorbar": {
             "outlinewidth": 0,
             "ticks": ""
            },
            "colorscale": [
             [
              0,
              "#0d0887"
             ],
             [
              0.1111111111111111,
              "#46039f"
             ],
             [
              0.2222222222222222,
              "#7201a8"
             ],
             [
              0.3333333333333333,
              "#9c179e"
             ],
             [
              0.4444444444444444,
              "#bd3786"
             ],
             [
              0.5555555555555556,
              "#d8576b"
             ],
             [
              0.6666666666666666,
              "#ed7953"
             ],
             [
              0.7777777777777778,
              "#fb9f3a"
             ],
             [
              0.8888888888888888,
              "#fdca26"
             ],
             [
              1,
              "#f0f921"
             ]
            ],
            "type": "heatmap"
           }
          ],
          "heatmapgl": [
           {
            "colorbar": {
             "outlinewidth": 0,
             "ticks": ""
            },
            "colorscale": [
             [
              0,
              "#0d0887"
             ],
             [
              0.1111111111111111,
              "#46039f"
             ],
             [
              0.2222222222222222,
              "#7201a8"
             ],
             [
              0.3333333333333333,
              "#9c179e"
             ],
             [
              0.4444444444444444,
              "#bd3786"
             ],
             [
              0.5555555555555556,
              "#d8576b"
             ],
             [
              0.6666666666666666,
              "#ed7953"
             ],
             [
              0.7777777777777778,
              "#fb9f3a"
             ],
             [
              0.8888888888888888,
              "#fdca26"
             ],
             [
              1,
              "#f0f921"
             ]
            ],
            "type": "heatmapgl"
           }
          ],
          "histogram": [
           {
            "marker": {
             "pattern": {
              "fillmode": "overlay",
              "size": 10,
              "solidity": 0.2
             }
            },
            "type": "histogram"
           }
          ],
          "histogram2d": [
           {
            "colorbar": {
             "outlinewidth": 0,
             "ticks": ""
            },
            "colorscale": [
             [
              0,
              "#0d0887"
             ],
             [
              0.1111111111111111,
              "#46039f"
             ],
             [
              0.2222222222222222,
              "#7201a8"
             ],
             [
              0.3333333333333333,
              "#9c179e"
             ],
             [
              0.4444444444444444,
              "#bd3786"
             ],
             [
              0.5555555555555556,
              "#d8576b"
             ],
             [
              0.6666666666666666,
              "#ed7953"
             ],
             [
              0.7777777777777778,
              "#fb9f3a"
             ],
             [
              0.8888888888888888,
              "#fdca26"
             ],
             [
              1,
              "#f0f921"
             ]
            ],
            "type": "histogram2d"
           }
          ],
          "histogram2dcontour": [
           {
            "colorbar": {
             "outlinewidth": 0,
             "ticks": ""
            },
            "colorscale": [
             [
              0,
              "#0d0887"
             ],
             [
              0.1111111111111111,
              "#46039f"
             ],
             [
              0.2222222222222222,
              "#7201a8"
             ],
             [
              0.3333333333333333,
              "#9c179e"
             ],
             [
              0.4444444444444444,
              "#bd3786"
             ],
             [
              0.5555555555555556,
              "#d8576b"
             ],
             [
              0.6666666666666666,
              "#ed7953"
             ],
             [
              0.7777777777777778,
              "#fb9f3a"
             ],
             [
              0.8888888888888888,
              "#fdca26"
             ],
             [
              1,
              "#f0f921"
             ]
            ],
            "type": "histogram2dcontour"
           }
          ],
          "mesh3d": [
           {
            "colorbar": {
             "outlinewidth": 0,
             "ticks": ""
            },
            "type": "mesh3d"
           }
          ],
          "parcoords": [
           {
            "line": {
             "colorbar": {
              "outlinewidth": 0,
              "ticks": ""
             }
            },
            "type": "parcoords"
           }
          ],
          "pie": [
           {
            "automargin": true,
            "type": "pie"
           }
          ],
          "scatter": [
           {
            "fillpattern": {
             "fillmode": "overlay",
             "size": 10,
             "solidity": 0.2
            },
            "type": "scatter"
           }
          ],
          "scatter3d": [
           {
            "line": {
             "colorbar": {
              "outlinewidth": 0,
              "ticks": ""
             }
            },
            "marker": {
             "colorbar": {
              "outlinewidth": 0,
              "ticks": ""
             }
            },
            "type": "scatter3d"
           }
          ],
          "scattercarpet": [
           {
            "marker": {
             "colorbar": {
              "outlinewidth": 0,
              "ticks": ""
             }
            },
            "type": "scattercarpet"
           }
          ],
          "scattergeo": [
           {
            "marker": {
             "colorbar": {
              "outlinewidth": 0,
              "ticks": ""
             }
            },
            "type": "scattergeo"
           }
          ],
          "scattergl": [
           {
            "marker": {
             "colorbar": {
              "outlinewidth": 0,
              "ticks": ""
             }
            },
            "type": "scattergl"
           }
          ],
          "scattermapbox": [
           {
            "marker": {
             "colorbar": {
              "outlinewidth": 0,
              "ticks": ""
             }
            },
            "type": "scattermapbox"
           }
          ],
          "scatterpolar": [
           {
            "marker": {
             "colorbar": {
              "outlinewidth": 0,
              "ticks": ""
             }
            },
            "type": "scatterpolar"
           }
          ],
          "scatterpolargl": [
           {
            "marker": {
             "colorbar": {
              "outlinewidth": 0,
              "ticks": ""
             }
            },
            "type": "scatterpolargl"
           }
          ],
          "scatterternary": [
           {
            "marker": {
             "colorbar": {
              "outlinewidth": 0,
              "ticks": ""
             }
            },
            "type": "scatterternary"
           }
          ],
          "surface": [
           {
            "colorbar": {
             "outlinewidth": 0,
             "ticks": ""
            },
            "colorscale": [
             [
              0,
              "#0d0887"
             ],
             [
              0.1111111111111111,
              "#46039f"
             ],
             [
              0.2222222222222222,
              "#7201a8"
             ],
             [
              0.3333333333333333,
              "#9c179e"
             ],
             [
              0.4444444444444444,
              "#bd3786"
             ],
             [
              0.5555555555555556,
              "#d8576b"
             ],
             [
              0.6666666666666666,
              "#ed7953"
             ],
             [
              0.7777777777777778,
              "#fb9f3a"
             ],
             [
              0.8888888888888888,
              "#fdca26"
             ],
             [
              1,
              "#f0f921"
             ]
            ],
            "type": "surface"
           }
          ],
          "table": [
           {
            "cells": {
             "fill": {
              "color": "#EBF0F8"
             },
             "line": {
              "color": "white"
             }
            },
            "header": {
             "fill": {
              "color": "#C8D4E3"
             },
             "line": {
              "color": "white"
             }
            },
            "type": "table"
           }
          ]
         },
         "layout": {
          "annotationdefaults": {
           "arrowcolor": "#2a3f5f",
           "arrowhead": 0,
           "arrowwidth": 1
          },
          "autotypenumbers": "strict",
          "coloraxis": {
           "colorbar": {
            "outlinewidth": 0,
            "ticks": ""
           }
          },
          "colorscale": {
           "diverging": [
            [
             0,
             "#8e0152"
            ],
            [
             0.1,
             "#c51b7d"
            ],
            [
             0.2,
             "#de77ae"
            ],
            [
             0.3,
             "#f1b6da"
            ],
            [
             0.4,
             "#fde0ef"
            ],
            [
             0.5,
             "#f7f7f7"
            ],
            [
             0.6,
             "#e6f5d0"
            ],
            [
             0.7,
             "#b8e186"
            ],
            [
             0.8,
             "#7fbc41"
            ],
            [
             0.9,
             "#4d9221"
            ],
            [
             1,
             "#276419"
            ]
           ],
           "sequential": [
            [
             0,
             "#0d0887"
            ],
            [
             0.1111111111111111,
             "#46039f"
            ],
            [
             0.2222222222222222,
             "#7201a8"
            ],
            [
             0.3333333333333333,
             "#9c179e"
            ],
            [
             0.4444444444444444,
             "#bd3786"
            ],
            [
             0.5555555555555556,
             "#d8576b"
            ],
            [
             0.6666666666666666,
             "#ed7953"
            ],
            [
             0.7777777777777778,
             "#fb9f3a"
            ],
            [
             0.8888888888888888,
             "#fdca26"
            ],
            [
             1,
             "#f0f921"
            ]
           ],
           "sequentialminus": [
            [
             0,
             "#0d0887"
            ],
            [
             0.1111111111111111,
             "#46039f"
            ],
            [
             0.2222222222222222,
             "#7201a8"
            ],
            [
             0.3333333333333333,
             "#9c179e"
            ],
            [
             0.4444444444444444,
             "#bd3786"
            ],
            [
             0.5555555555555556,
             "#d8576b"
            ],
            [
             0.6666666666666666,
             "#ed7953"
            ],
            [
             0.7777777777777778,
             "#fb9f3a"
            ],
            [
             0.8888888888888888,
             "#fdca26"
            ],
            [
             1,
             "#f0f921"
            ]
           ]
          },
          "colorway": [
           "#636efa",
           "#EF553B",
           "#00cc96",
           "#ab63fa",
           "#FFA15A",
           "#19d3f3",
           "#FF6692",
           "#B6E880",
           "#FF97FF",
           "#FECB52"
          ],
          "font": {
           "color": "#2a3f5f"
          },
          "geo": {
           "bgcolor": "white",
           "lakecolor": "white",
           "landcolor": "#E5ECF6",
           "showlakes": true,
           "showland": true,
           "subunitcolor": "white"
          },
          "hoverlabel": {
           "align": "left"
          },
          "hovermode": "closest",
          "mapbox": {
           "style": "light"
          },
          "paper_bgcolor": "white",
          "plot_bgcolor": "#E5ECF6",
          "polar": {
           "angularaxis": {
            "gridcolor": "white",
            "linecolor": "white",
            "ticks": ""
           },
           "bgcolor": "#E5ECF6",
           "radialaxis": {
            "gridcolor": "white",
            "linecolor": "white",
            "ticks": ""
           }
          },
          "scene": {
           "xaxis": {
            "backgroundcolor": "#E5ECF6",
            "gridcolor": "white",
            "gridwidth": 2,
            "linecolor": "white",
            "showbackground": true,
            "ticks": "",
            "zerolinecolor": "white"
           },
           "yaxis": {
            "backgroundcolor": "#E5ECF6",
            "gridcolor": "white",
            "gridwidth": 2,
            "linecolor": "white",
            "showbackground": true,
            "ticks": "",
            "zerolinecolor": "white"
           },
           "zaxis": {
            "backgroundcolor": "#E5ECF6",
            "gridcolor": "white",
            "gridwidth": 2,
            "linecolor": "white",
            "showbackground": true,
            "ticks": "",
            "zerolinecolor": "white"
           }
          },
          "shapedefaults": {
           "line": {
            "color": "#2a3f5f"
           }
          },
          "ternary": {
           "aaxis": {
            "gridcolor": "white",
            "linecolor": "white",
            "ticks": ""
           },
           "baxis": {
            "gridcolor": "white",
            "linecolor": "white",
            "ticks": ""
           },
           "bgcolor": "#E5ECF6",
           "caxis": {
            "gridcolor": "white",
            "linecolor": "white",
            "ticks": ""
           }
          },
          "title": {
           "x": 0.05
          },
          "xaxis": {
           "automargin": true,
           "gridcolor": "white",
           "linecolor": "white",
           "ticks": "",
           "title": {
            "standoff": 15
           },
           "zerolinecolor": "white",
           "zerolinewidth": 2
          },
          "yaxis": {
           "automargin": true,
           "gridcolor": "white",
           "linecolor": "white",
           "ticks": "",
           "title": {
            "standoff": 15
           },
           "zerolinecolor": "white",
           "zerolinewidth": 2
          }
         }
        },
        "title": {
         "font": {
          "color": "#4D5663"
         }
        },
        "xaxis": {
         "gridcolor": "#E1E5ED",
         "showgrid": true,
         "tickfont": {
          "color": "#4D5663"
         },
         "title": {
          "font": {
           "color": "#4D5663"
          },
          "text": ""
         },
         "zerolinecolor": "#E1E5ED"
        },
        "xaxis2": {
         "anchor": "y2",
         "gridcolor": "#E1E5ED",
         "showgrid": true,
         "showticklabels": false,
         "tickfont": {
          "color": "#4D5663"
         },
         "title": {
          "font": {
           "color": "#4D5663"
          },
          "text": ""
         },
         "zerolinecolor": "#E1E5ED"
        },
        "yaxis": {
         "domain": [
          0.3,
          1
         ],
         "gridcolor": "#E1E5ED",
         "showgrid": true,
         "tickfont": {
          "color": "#4D5663"
         },
         "title": {
          "font": {
           "color": "#4D5663"
          },
          "text": ""
         },
         "zerolinecolor": "#E1E5ED"
        },
        "yaxis2": {
         "domain": [
          0,
          0.25
         ],
         "gridcolor": "#E1E5ED",
         "showgrid": true,
         "tickfont": {
          "color": "#4D5663"
         },
         "title": {
          "font": {
           "color": "#4D5663"
          },
          "text": "Spread"
         },
         "zerolinecolor": "#E1E5ED"
        }
       }
      },
      "text/html": [
       "<div>                            <div id=\"c3bcf261-de43-459d-bbfc-e87ba102ff64\" class=\"plotly-graph-div\" style=\"height:525px; width:100%;\"></div>            <script type=\"text/javascript\">                require([\"plotly\"], function(Plotly) {                    window.PLOTLYENV=window.PLOTLYENV || {};\n",
       "                    window.PLOTLYENV.BASE_URL='https://plot.ly';                                    if (document.getElementById(\"c3bcf261-de43-459d-bbfc-e87ba102ff64\")) {                    Plotly.newPlot(                        \"c3bcf261-de43-459d-bbfc-e87ba102ff64\",                        [{\"line\":{\"color\":\"rgba(255, 153, 51, 1.0)\",\"dash\":\"solid\",\"shape\":\"linear\",\"width\":1.3},\"mode\":\"lines\",\"name\":\"A\",\"text\":\"\",\"x\":[0,1,2,3,4,5,6,7,8,9,10,11,12,13,14,15,16,17,18,19,20,21,22,23,24,25,26,27,28,29,30,31,32,33,34,35,36,37,38,39,40,41,42,43,44,45,46,47,48,49,50,51,52,53,54,55,56,57,58,59,60,61,62,63,64,65,66,67,68,69,70,71,72,73,74,75,76,77,78,79,80,81,82,83,84,85,86,87,88,89,90,91,92,93,94,95,96,97,98,99],\"y\":[-0.2608614967031024,-0.49096342548313715,0.6534012059127755,-0.10382438391128623,0.0915136834623817,-0.2578466669372469,1.3897210082903713,-2.013970521337588,1.125741276541228,1.4993336191900457,-1.0595478745403308,-0.9430230210121577,-1.2621205005640328,1.4036731506061113,-0.03593673976090577,0.3050000998253773,-0.5522484049090643,-1.0203076856253586,0.6432367105616998,-0.8914863941492807,-2.185714250972939,0.12623577838399472,0.3921453841215854,0.4737295051464659,-0.17056200224579707,1.1774627570310106,-0.20762902062129898,1.2387067508523648,-1.3942752324541112,-1.716189450517545,0.22085285260585943,-0.6321810216895608,1.3901915806812715,1.0108805251540562,1.061249343310655,0.5308300215857267,-0.9503016687818185,-1.667629010859623,-1.1568624868134363,1.5218137380315473,-0.39221211032341013,2.3415395295809978,-1.486339576927987,-0.03772819855435538,1.4092361992473252,-0.7939024526846925,0.7862010597484133,-0.7353686055886977,0.4288694099887663,-0.27000065017539937,-0.41260190292719623,0.2707480429353407,-2.3153140545469633,-0.493246648926603,-0.20401174053479268,0.43262354086467664,-0.4638179729532545,-0.12104956411305579,0.0009501990026392411,-1.7944854502101284,1.1942829892775488,0.28613422098047586,0.6089637428915142,-1.68539790425561,-0.20944913271903332,0.7539061989031305,-0.30783771025917217,0.9249555792566864,2.155794363974152,-0.30825770648294415,2.3165892472778196,1.1104333103089679,0.5986508909048686,0.8596613825961947,-1.2785925488102268,0.9522963674778507,2.414612831587702,1.5551358944135807,0.6419754681607723,1.7713479403779466,1.121810184988672,-1.3457087892552062,2.0908035265398817,0.4571403655148956,0.2239437084658507,0.002231840122407565,0.7903495448532022,0.2563582466878664,1.7319416821321127,-2.634999142029582,0.5116574427742703,0.09494333197935707,-2.7505020690095145,0.4200960660289981,-1.3218058607201475,1.0064450686749333,0.9976844535285386,-0.9675831445221813,-0.5263696958489338,1.9143818200798364],\"type\":\"scatter\"},{\"line\":{\"color\":\"rgba(55, 128, 191, 1.0)\",\"dash\":\"solid\",\"shape\":\"linear\",\"width\":1.3},\"mode\":\"lines\",\"name\":\"B\",\"text\":\"\",\"x\":[0,1,2,3,4,5,6,7,8,9,10,11,12,13,14,15,16,17,18,19,20,21,22,23,24,25,26,27,28,29,30,31,32,33,34,35,36,37,38,39,40,41,42,43,44,45,46,47,48,49,50,51,52,53,54,55,56,57,58,59,60,61,62,63,64,65,66,67,68,69,70,71,72,73,74,75,76,77,78,79,80,81,82,83,84,85,86,87,88,89,90,91,92,93,94,95,96,97,98,99],\"y\":[-0.25432533756669773,-1.581414768480805,0.40218331727380613,-0.7653635025178969,-0.03758094088299645,0.8228516602736954,0.20950479153616372,0.2368828777231409,-0.13416480196104766,0.06773423875996688,-1.3924154298925469,0.010537225188061829,-0.9192378281206622,-1.343298101902075,-1.7841952728986434,-0.5248286222071976,0.030492134192341522,-0.2095316178025833,0.941695473320228,-1.0303073120794726,-1.615853408823164,-0.7977565224429886,1.346204299136864,-1.2273416627519849,-0.9767964659827089,-1.5763455228401246,-1.9792442444712637,0.4384768080985399,0.17679566623301302,-0.9317474293601441,0.8682987401646762,-0.1003875632961765,-0.0884962705505986,0.24286646977162227,0.20207155467009158,0.38365946277845214,0.15769247651445353,-1.0665564678618131,0.49225575504181734,0.10153122545596022,0.11375123863064968,-0.4628493592894469,-0.5812908283646572,-0.5818098728891352,0.9176543169317575,0.5087887543927186,0.16819075587941956,-0.8945686934935044,0.3721570565430783,-0.257705545117878,1.6287138726491417,-1.1739713566817833,0.398367300079867,-0.6767044911122801,0.47600397787049986,-2.763129323705531,0.21077619673830947,-0.2258518499521978,-0.821396180646884,1.0365094058365847,-1.6318344262056328,-0.3298121153479205,0.8315693323045643,0.0007504783278676238,-0.29675189476684655,0.027554435329936816,0.6609436762444268,0.8785579905871628,-0.029854680377078793,1.5082301656300974,-1.2449285328680817,-0.9768057784470087,1.4916896101273067,-1.122012736021044,-0.38767399665537694,-1.329045263751567,0.6179854602630162,-2.1766036516777953,0.9997178836248283,-0.5995015860441616,1.3839885679655453,-0.5180161564966833,0.8533682831785384,-0.9115908122880608,-0.4306924280020869,0.9609848960490938,0.9220703471457242,1.7542139768319003,0.3604841912013604,0.0017037783681344279,-1.2543075592125403,-0.15102453234097343,-0.5360051864835451,0.5989775610224853,0.8263314749363494,-1.2655278034535515,0.9401542797781919,0.42961783137316306,0.7242211546399301,0.015725214681151255],\"type\":\"scatter\"},{\"connectgaps\":false,\"fill\":\"tozeroy\",\"line\":{\"color\":\"green\",\"dash\":\"solid\",\"shape\":\"linear\",\"width\":0.5},\"mode\":\"lines\",\"name\":\"Spread\",\"showlegend\":false,\"x\":[0,1,2,3,4,5,6,7,8,9,10,11,12,13,14,15,16,17,18,19,20,21,22,23,24,25,26,27,28,29,30,31,32,33,34,35,36,37,38,39,40,41,42,43,44,45,46,47,48,49,50,51,52,53,54,55,56,57,58,59,60,61,62,63,64,65,66,67,68,69,70,71,72,73,74,75,76,77,78,79,80,81,82,83,84,85,86,87,88,89,90,91,92,93,94,95,96,97,98,99],\"xaxis\":\"x2\",\"y\":[\"\",1.0904513429976679,0.2512178886389694,0.6615391186066106,0.12909462434537816,\"\",1.1802162167542076,\"\",1.2599060785022758,1.4315993804300788,0.332867555352216,\"\",\"\",2.746971252508186,1.7482585331377376,0.8298287220325749,\"\",\"\",\"\",0.1388209179301919,\"\",0.9239923008269832,\"\",1.7010711678984507,0.8062344637369118,2.7538082798711354,1.7716152238499647,0.8002299427538249,\"\",\"\",\"\",\"\",1.47868785123187,0.768014055382434,0.8591777886405634,0.14717055880727453,\"\",\"\",\"\",1.4202825125755871,\"\",2.8043888888704447,\"\",0.5440816743347798,0.49158188231556776,\"\",0.6180103038689937,0.15920008790480678,0.056712353445688035,\"\",\"\",1.444719399617124,\"\",0.18345784218567712,\"\",3.1957528645702076,\"\",0.104802285839142,0.8223463796495233,\"\",2.8261174154831816,0.6159463363283963,\"\",\"\",0.08730276204781323,0.7263517635731936,\"\",0.04639758866952359,2.185649044351231,\"\",3.561517780145901,2.0872390887559766,\"\",1.9816741186172386,\"\",2.281341631229418,1.7966273713246856,3.731739546091376,\"\",2.3708495264221083,\"\",\"\",1.2374352433613431,1.3687311778029565,0.6546361364679376,\"\",\"\",\"\",1.3714574909307524,\"\",1.7659650019868107,0.24596786432033052,\"\",\"\",\"\",2.271972872128485,0.05753017375034675,\"\",\"\",1.898656605398685],\"yaxis\":\"y2\",\"type\":\"scatter\"},{\"connectgaps\":false,\"fill\":\"tozeroy\",\"line\":{\"color\":\"red\",\"dash\":\"solid\",\"shape\":\"linear\",\"width\":0.5},\"mode\":\"lines\",\"name\":\"Spread\",\"showlegend\":false,\"x\":[0,1,2,3,4,5,6,7,8,9,10,11,12,13,14,15,16,17,18,19,20,21,22,23,24,25,26,27,28,29,30,31,32,33,34,35,36,37,38,39,40,41,42,43,44,45,46,47,48,49,50,51,52,53,54,55,56,57,58,59,60,61,62,63,64,65,66,67,68,69,70,71,72,73,74,75,76,77,78,79,80,81,82,83,84,85,86,87,88,89,90,91,92,93,94,95,96,97,98,99],\"xaxis\":\"x2\",\"y\":[-0.006536159136404651,\"\",\"\",\"\",\"\",-1.0806983272109423,\"\",-2.2508533990607287,\"\",\"\",\"\",-0.9535602462002196,-0.34288267244337056,\"\",\"\",\"\",-0.5827405391014059,-0.8107760678227752,-0.2984587627585281,\"\",-0.5698608421497748,\"\",-0.9540589150152785,\"\",\"\",\"\",\"\",\"\",-1.5710708986871242,-0.7844420211574009,-0.6474458875588168,-0.5317934583933843,\"\",\"\",\"\",\"\",-1.107994145296272,-0.6010725429978099,-1.6491182418552537,\"\",-0.5059633489540598,\"\",-0.9050487485633298,\"\",\"\",-1.302691207077411,\"\",\"\",\"\",-0.01229510505752135,-2.041315775576338,\"\",-2.7136813546268304,\"\",-0.6800157184052925,\"\",-0.6745941696915639,\"\",\"\",-2.830994856046713,\"\",\"\",-0.2226055894130501,-1.6861483825834775,\"\",\"\",-0.968781386503599,\"\",\"\",-1.8164878721130415,\"\",\"\",-0.8930387192224382,\"\",-0.8909185521548498,\"\",\"\",\"\",-0.35774241546405594,\"\",-0.26217838297687335,-0.8276926327585229,\"\",\"\",\"\",-0.9587530559266862,-0.13172080229252203,-1.4978557301440338,\"\",-2.6367029203977164,\"\",\"\",-2.214496882525969,-0.1788814949934872,-2.148137335656497,\"\",\"\",-1.3972009758953443,-1.2505908504888639,\"\"],\"yaxis\":\"y2\",\"type\":\"scatter\"}],                        {\"hovermode\":\"x\",\"legend\":{\"bgcolor\":\"#F5F6F9\",\"font\":{\"color\":\"#4D5663\"}},\"paper_bgcolor\":\"#F5F6F9\",\"plot_bgcolor\":\"#F5F6F9\",\"template\":{\"data\":{\"barpolar\":[{\"marker\":{\"line\":{\"color\":\"#E5ECF6\",\"width\":0.5},\"pattern\":{\"fillmode\":\"overlay\",\"size\":10,\"solidity\":0.2}},\"type\":\"barpolar\"}],\"bar\":[{\"error_x\":{\"color\":\"#2a3f5f\"},\"error_y\":{\"color\":\"#2a3f5f\"},\"marker\":{\"line\":{\"color\":\"#E5ECF6\",\"width\":0.5},\"pattern\":{\"fillmode\":\"overlay\",\"size\":10,\"solidity\":0.2}},\"type\":\"bar\"}],\"carpet\":[{\"aaxis\":{\"endlinecolor\":\"#2a3f5f\",\"gridcolor\":\"white\",\"linecolor\":\"white\",\"minorgridcolor\":\"white\",\"startlinecolor\":\"#2a3f5f\"},\"baxis\":{\"endlinecolor\":\"#2a3f5f\",\"gridcolor\":\"white\",\"linecolor\":\"white\",\"minorgridcolor\":\"white\",\"startlinecolor\":\"#2a3f5f\"},\"type\":\"carpet\"}],\"choropleth\":[{\"colorbar\":{\"outlinewidth\":0,\"ticks\":\"\"},\"type\":\"choropleth\"}],\"contourcarpet\":[{\"colorbar\":{\"outlinewidth\":0,\"ticks\":\"\"},\"type\":\"contourcarpet\"}],\"contour\":[{\"colorbar\":{\"outlinewidth\":0,\"ticks\":\"\"},\"colorscale\":[[0.0,\"#0d0887\"],[0.1111111111111111,\"#46039f\"],[0.2222222222222222,\"#7201a8\"],[0.3333333333333333,\"#9c179e\"],[0.4444444444444444,\"#bd3786\"],[0.5555555555555556,\"#d8576b\"],[0.6666666666666666,\"#ed7953\"],[0.7777777777777778,\"#fb9f3a\"],[0.8888888888888888,\"#fdca26\"],[1.0,\"#f0f921\"]],\"type\":\"contour\"}],\"heatmapgl\":[{\"colorbar\":{\"outlinewidth\":0,\"ticks\":\"\"},\"colorscale\":[[0.0,\"#0d0887\"],[0.1111111111111111,\"#46039f\"],[0.2222222222222222,\"#7201a8\"],[0.3333333333333333,\"#9c179e\"],[0.4444444444444444,\"#bd3786\"],[0.5555555555555556,\"#d8576b\"],[0.6666666666666666,\"#ed7953\"],[0.7777777777777778,\"#fb9f3a\"],[0.8888888888888888,\"#fdca26\"],[1.0,\"#f0f921\"]],\"type\":\"heatmapgl\"}],\"heatmap\":[{\"colorbar\":{\"outlinewidth\":0,\"ticks\":\"\"},\"colorscale\":[[0.0,\"#0d0887\"],[0.1111111111111111,\"#46039f\"],[0.2222222222222222,\"#7201a8\"],[0.3333333333333333,\"#9c179e\"],[0.4444444444444444,\"#bd3786\"],[0.5555555555555556,\"#d8576b\"],[0.6666666666666666,\"#ed7953\"],[0.7777777777777778,\"#fb9f3a\"],[0.8888888888888888,\"#fdca26\"],[1.0,\"#f0f921\"]],\"type\":\"heatmap\"}],\"histogram2dcontour\":[{\"colorbar\":{\"outlinewidth\":0,\"ticks\":\"\"},\"colorscale\":[[0.0,\"#0d0887\"],[0.1111111111111111,\"#46039f\"],[0.2222222222222222,\"#7201a8\"],[0.3333333333333333,\"#9c179e\"],[0.4444444444444444,\"#bd3786\"],[0.5555555555555556,\"#d8576b\"],[0.6666666666666666,\"#ed7953\"],[0.7777777777777778,\"#fb9f3a\"],[0.8888888888888888,\"#fdca26\"],[1.0,\"#f0f921\"]],\"type\":\"histogram2dcontour\"}],\"histogram2d\":[{\"colorbar\":{\"outlinewidth\":0,\"ticks\":\"\"},\"colorscale\":[[0.0,\"#0d0887\"],[0.1111111111111111,\"#46039f\"],[0.2222222222222222,\"#7201a8\"],[0.3333333333333333,\"#9c179e\"],[0.4444444444444444,\"#bd3786\"],[0.5555555555555556,\"#d8576b\"],[0.6666666666666666,\"#ed7953\"],[0.7777777777777778,\"#fb9f3a\"],[0.8888888888888888,\"#fdca26\"],[1.0,\"#f0f921\"]],\"type\":\"histogram2d\"}],\"histogram\":[{\"marker\":{\"pattern\":{\"fillmode\":\"overlay\",\"size\":10,\"solidity\":0.2}},\"type\":\"histogram\"}],\"mesh3d\":[{\"colorbar\":{\"outlinewidth\":0,\"ticks\":\"\"},\"type\":\"mesh3d\"}],\"parcoords\":[{\"line\":{\"colorbar\":{\"outlinewidth\":0,\"ticks\":\"\"}},\"type\":\"parcoords\"}],\"pie\":[{\"automargin\":true,\"type\":\"pie\"}],\"scatter3d\":[{\"line\":{\"colorbar\":{\"outlinewidth\":0,\"ticks\":\"\"}},\"marker\":{\"colorbar\":{\"outlinewidth\":0,\"ticks\":\"\"}},\"type\":\"scatter3d\"}],\"scattercarpet\":[{\"marker\":{\"colorbar\":{\"outlinewidth\":0,\"ticks\":\"\"}},\"type\":\"scattercarpet\"}],\"scattergeo\":[{\"marker\":{\"colorbar\":{\"outlinewidth\":0,\"ticks\":\"\"}},\"type\":\"scattergeo\"}],\"scattergl\":[{\"marker\":{\"colorbar\":{\"outlinewidth\":0,\"ticks\":\"\"}},\"type\":\"scattergl\"}],\"scattermapbox\":[{\"marker\":{\"colorbar\":{\"outlinewidth\":0,\"ticks\":\"\"}},\"type\":\"scattermapbox\"}],\"scatterpolargl\":[{\"marker\":{\"colorbar\":{\"outlinewidth\":0,\"ticks\":\"\"}},\"type\":\"scatterpolargl\"}],\"scatterpolar\":[{\"marker\":{\"colorbar\":{\"outlinewidth\":0,\"ticks\":\"\"}},\"type\":\"scatterpolar\"}],\"scatter\":[{\"fillpattern\":{\"fillmode\":\"overlay\",\"size\":10,\"solidity\":0.2},\"type\":\"scatter\"}],\"scatterternary\":[{\"marker\":{\"colorbar\":{\"outlinewidth\":0,\"ticks\":\"\"}},\"type\":\"scatterternary\"}],\"surface\":[{\"colorbar\":{\"outlinewidth\":0,\"ticks\":\"\"},\"colorscale\":[[0.0,\"#0d0887\"],[0.1111111111111111,\"#46039f\"],[0.2222222222222222,\"#7201a8\"],[0.3333333333333333,\"#9c179e\"],[0.4444444444444444,\"#bd3786\"],[0.5555555555555556,\"#d8576b\"],[0.6666666666666666,\"#ed7953\"],[0.7777777777777778,\"#fb9f3a\"],[0.8888888888888888,\"#fdca26\"],[1.0,\"#f0f921\"]],\"type\":\"surface\"}],\"table\":[{\"cells\":{\"fill\":{\"color\":\"#EBF0F8\"},\"line\":{\"color\":\"white\"}},\"header\":{\"fill\":{\"color\":\"#C8D4E3\"},\"line\":{\"color\":\"white\"}},\"type\":\"table\"}]},\"layout\":{\"annotationdefaults\":{\"arrowcolor\":\"#2a3f5f\",\"arrowhead\":0,\"arrowwidth\":1},\"autotypenumbers\":\"strict\",\"coloraxis\":{\"colorbar\":{\"outlinewidth\":0,\"ticks\":\"\"}},\"colorscale\":{\"diverging\":[[0,\"#8e0152\"],[0.1,\"#c51b7d\"],[0.2,\"#de77ae\"],[0.3,\"#f1b6da\"],[0.4,\"#fde0ef\"],[0.5,\"#f7f7f7\"],[0.6,\"#e6f5d0\"],[0.7,\"#b8e186\"],[0.8,\"#7fbc41\"],[0.9,\"#4d9221\"],[1,\"#276419\"]],\"sequential\":[[0.0,\"#0d0887\"],[0.1111111111111111,\"#46039f\"],[0.2222222222222222,\"#7201a8\"],[0.3333333333333333,\"#9c179e\"],[0.4444444444444444,\"#bd3786\"],[0.5555555555555556,\"#d8576b\"],[0.6666666666666666,\"#ed7953\"],[0.7777777777777778,\"#fb9f3a\"],[0.8888888888888888,\"#fdca26\"],[1.0,\"#f0f921\"]],\"sequentialminus\":[[0.0,\"#0d0887\"],[0.1111111111111111,\"#46039f\"],[0.2222222222222222,\"#7201a8\"],[0.3333333333333333,\"#9c179e\"],[0.4444444444444444,\"#bd3786\"],[0.5555555555555556,\"#d8576b\"],[0.6666666666666666,\"#ed7953\"],[0.7777777777777778,\"#fb9f3a\"],[0.8888888888888888,\"#fdca26\"],[1.0,\"#f0f921\"]]},\"colorway\":[\"#636efa\",\"#EF553B\",\"#00cc96\",\"#ab63fa\",\"#FFA15A\",\"#19d3f3\",\"#FF6692\",\"#B6E880\",\"#FF97FF\",\"#FECB52\"],\"font\":{\"color\":\"#2a3f5f\"},\"geo\":{\"bgcolor\":\"white\",\"lakecolor\":\"white\",\"landcolor\":\"#E5ECF6\",\"showlakes\":true,\"showland\":true,\"subunitcolor\":\"white\"},\"hoverlabel\":{\"align\":\"left\"},\"hovermode\":\"closest\",\"mapbox\":{\"style\":\"light\"},\"paper_bgcolor\":\"white\",\"plot_bgcolor\":\"#E5ECF6\",\"polar\":{\"angularaxis\":{\"gridcolor\":\"white\",\"linecolor\":\"white\",\"ticks\":\"\"},\"bgcolor\":\"#E5ECF6\",\"radialaxis\":{\"gridcolor\":\"white\",\"linecolor\":\"white\",\"ticks\":\"\"}},\"scene\":{\"xaxis\":{\"backgroundcolor\":\"#E5ECF6\",\"gridcolor\":\"white\",\"gridwidth\":2,\"linecolor\":\"white\",\"showbackground\":true,\"ticks\":\"\",\"zerolinecolor\":\"white\"},\"yaxis\":{\"backgroundcolor\":\"#E5ECF6\",\"gridcolor\":\"white\",\"gridwidth\":2,\"linecolor\":\"white\",\"showbackground\":true,\"ticks\":\"\",\"zerolinecolor\":\"white\"},\"zaxis\":{\"backgroundcolor\":\"#E5ECF6\",\"gridcolor\":\"white\",\"gridwidth\":2,\"linecolor\":\"white\",\"showbackground\":true,\"ticks\":\"\",\"zerolinecolor\":\"white\"}},\"shapedefaults\":{\"line\":{\"color\":\"#2a3f5f\"}},\"ternary\":{\"aaxis\":{\"gridcolor\":\"white\",\"linecolor\":\"white\",\"ticks\":\"\"},\"baxis\":{\"gridcolor\":\"white\",\"linecolor\":\"white\",\"ticks\":\"\"},\"bgcolor\":\"#E5ECF6\",\"caxis\":{\"gridcolor\":\"white\",\"linecolor\":\"white\",\"ticks\":\"\"}},\"title\":{\"x\":0.05},\"xaxis\":{\"automargin\":true,\"gridcolor\":\"white\",\"linecolor\":\"white\",\"ticks\":\"\",\"title\":{\"standoff\":15},\"zerolinecolor\":\"white\",\"zerolinewidth\":2},\"yaxis\":{\"automargin\":true,\"gridcolor\":\"white\",\"linecolor\":\"white\",\"ticks\":\"\",\"title\":{\"standoff\":15},\"zerolinecolor\":\"white\",\"zerolinewidth\":2}}},\"title\":{\"font\":{\"color\":\"#4D5663\"}},\"xaxis\":{\"gridcolor\":\"#E1E5ED\",\"showgrid\":true,\"tickfont\":{\"color\":\"#4D5663\"},\"title\":{\"font\":{\"color\":\"#4D5663\"},\"text\":\"\"},\"zerolinecolor\":\"#E1E5ED\"},\"yaxis\":{\"domain\":[0.3,1],\"gridcolor\":\"#E1E5ED\",\"showgrid\":true,\"tickfont\":{\"color\":\"#4D5663\"},\"title\":{\"font\":{\"color\":\"#4D5663\"},\"text\":\"\"},\"zerolinecolor\":\"#E1E5ED\"},\"yaxis2\":{\"domain\":[0,0.25],\"gridcolor\":\"#E1E5ED\",\"showgrid\":true,\"tickfont\":{\"color\":\"#4D5663\"},\"title\":{\"font\":{\"color\":\"#4D5663\"},\"text\":\"Spread\"},\"zerolinecolor\":\"#E1E5ED\"},\"xaxis2\":{\"anchor\":\"y2\",\"gridcolor\":\"#E1E5ED\",\"showgrid\":true,\"showticklabels\":false,\"tickfont\":{\"color\":\"#4D5663\"},\"title\":{\"font\":{\"color\":\"#4D5663\"},\"text\":\"\"},\"zerolinecolor\":\"#E1E5ED\"}},                        {\"showLink\": true, \"linkText\": \"Export to plot.ly\", \"plotlyServerURL\": \"https://plot.ly\", \"responsive\": true}                    ).then(function(){\n",
       "                            \n",
       "var gd = document.getElementById('c3bcf261-de43-459d-bbfc-e87ba102ff64');\n",
       "var x = new MutationObserver(function (mutations, observer) {{\n",
       "        var display = window.getComputedStyle(gd).display;\n",
       "        if (!display || display === 'none') {{\n",
       "            console.log([gd, 'removed!']);\n",
       "            Plotly.purge(gd);\n",
       "            observer.disconnect();\n",
       "        }}\n",
       "}});\n",
       "\n",
       "// Listen for the removal of the full notebook cells\n",
       "var notebookContainer = gd.closest('#notebook-container');\n",
       "if (notebookContainer) {{\n",
       "    x.observe(notebookContainer, {childList: true});\n",
       "}}\n",
       "\n",
       "// Listen for the clearing of the current output cell\n",
       "var outputEl = gd.closest('.output');\n",
       "if (outputEl) {{\n",
       "    x.observe(outputEl, {childList: true});\n",
       "}}\n",
       "\n",
       "                        })                };                });            </script>        </div>"
      ]
     },
     "metadata": {},
     "output_type": "display_data"
    }
   ],
   "source": [
    "df[['A','B']].iplot(kind='spread')"
   ]
  },
  {
   "attachments": {},
   "cell_type": "markdown",
   "metadata": {},
   "source": [
    "### histogram"
   ]
  },
  {
   "cell_type": "code",
   "execution_count": 68,
   "metadata": {},
   "outputs": [
    {
     "data": {
      "application/vnd.plotly.v1+json": {
       "config": {
        "linkText": "Export to plot.ly",
        "plotlyServerURL": "https://plot.ly",
        "showLink": true
       },
       "data": [
        {
         "histfunc": "count",
         "histnorm": "",
         "marker": {
          "color": "rgba(255, 153, 51, 1.0)",
          "line": {
           "color": "#4D5663",
           "width": 1.3
          }
         },
         "name": "A",
         "nbinsx": 25,
         "opacity": 0.8,
         "orientation": "v",
         "type": "histogram",
         "x": [
          -0.2608614967031024,
          -0.49096342548313715,
          0.6534012059127755,
          -0.10382438391128623,
          0.0915136834623817,
          -0.2578466669372469,
          1.3897210082903713,
          -2.013970521337588,
          1.125741276541228,
          1.4993336191900457,
          -1.0595478745403308,
          -0.9430230210121577,
          -1.2621205005640328,
          1.4036731506061113,
          -0.03593673976090577,
          0.3050000998253773,
          -0.5522484049090643,
          -1.0203076856253586,
          0.6432367105616998,
          -0.8914863941492807,
          -2.185714250972939,
          0.12623577838399472,
          0.3921453841215854,
          0.4737295051464659,
          -0.17056200224579707,
          1.1774627570310106,
          -0.20762902062129898,
          1.2387067508523648,
          -1.3942752324541112,
          -1.716189450517545,
          0.22085285260585943,
          -0.6321810216895608,
          1.3901915806812715,
          1.0108805251540562,
          1.061249343310655,
          0.5308300215857267,
          -0.9503016687818185,
          -1.667629010859623,
          -1.1568624868134363,
          1.5218137380315473,
          -0.39221211032341013,
          2.3415395295809978,
          -1.486339576927987,
          -0.03772819855435538,
          1.4092361992473252,
          -0.7939024526846925,
          0.7862010597484133,
          -0.7353686055886977,
          0.4288694099887663,
          -0.27000065017539937,
          -0.41260190292719623,
          0.2707480429353407,
          -2.3153140545469633,
          -0.493246648926603,
          -0.20401174053479268,
          0.43262354086467664,
          -0.4638179729532545,
          -0.12104956411305579,
          0.0009501990026392411,
          -1.7944854502101284,
          1.1942829892775488,
          0.28613422098047586,
          0.6089637428915142,
          -1.68539790425561,
          -0.20944913271903332,
          0.7539061989031305,
          -0.30783771025917217,
          0.9249555792566864,
          2.155794363974152,
          -0.30825770648294415,
          2.3165892472778196,
          1.1104333103089679,
          0.5986508909048686,
          0.8596613825961947,
          -1.2785925488102268,
          0.9522963674778507,
          2.414612831587702,
          1.5551358944135807,
          0.6419754681607723,
          1.7713479403779466,
          1.121810184988672,
          -1.3457087892552062,
          2.0908035265398817,
          0.4571403655148956,
          0.2239437084658507,
          0.002231840122407565,
          0.7903495448532022,
          0.2563582466878664,
          1.7319416821321127,
          -2.634999142029582,
          0.5116574427742703,
          0.09494333197935707,
          -2.7505020690095145,
          0.4200960660289981,
          -1.3218058607201475,
          1.0064450686749333,
          0.9976844535285386,
          -0.9675831445221813,
          -0.5263696958489338,
          1.9143818200798364
         ]
        }
       ],
       "layout": {
        "barmode": "overlay",
        "legend": {
         "bgcolor": "#F5F6F9",
         "font": {
          "color": "#4D5663"
         }
        },
        "paper_bgcolor": "#F5F6F9",
        "plot_bgcolor": "#F5F6F9",
        "template": {
         "data": {
          "bar": [
           {
            "error_x": {
             "color": "#2a3f5f"
            },
            "error_y": {
             "color": "#2a3f5f"
            },
            "marker": {
             "line": {
              "color": "#E5ECF6",
              "width": 0.5
             },
             "pattern": {
              "fillmode": "overlay",
              "size": 10,
              "solidity": 0.2
             }
            },
            "type": "bar"
           }
          ],
          "barpolar": [
           {
            "marker": {
             "line": {
              "color": "#E5ECF6",
              "width": 0.5
             },
             "pattern": {
              "fillmode": "overlay",
              "size": 10,
              "solidity": 0.2
             }
            },
            "type": "barpolar"
           }
          ],
          "carpet": [
           {
            "aaxis": {
             "endlinecolor": "#2a3f5f",
             "gridcolor": "white",
             "linecolor": "white",
             "minorgridcolor": "white",
             "startlinecolor": "#2a3f5f"
            },
            "baxis": {
             "endlinecolor": "#2a3f5f",
             "gridcolor": "white",
             "linecolor": "white",
             "minorgridcolor": "white",
             "startlinecolor": "#2a3f5f"
            },
            "type": "carpet"
           }
          ],
          "choropleth": [
           {
            "colorbar": {
             "outlinewidth": 0,
             "ticks": ""
            },
            "type": "choropleth"
           }
          ],
          "contour": [
           {
            "colorbar": {
             "outlinewidth": 0,
             "ticks": ""
            },
            "colorscale": [
             [
              0,
              "#0d0887"
             ],
             [
              0.1111111111111111,
              "#46039f"
             ],
             [
              0.2222222222222222,
              "#7201a8"
             ],
             [
              0.3333333333333333,
              "#9c179e"
             ],
             [
              0.4444444444444444,
              "#bd3786"
             ],
             [
              0.5555555555555556,
              "#d8576b"
             ],
             [
              0.6666666666666666,
              "#ed7953"
             ],
             [
              0.7777777777777778,
              "#fb9f3a"
             ],
             [
              0.8888888888888888,
              "#fdca26"
             ],
             [
              1,
              "#f0f921"
             ]
            ],
            "type": "contour"
           }
          ],
          "contourcarpet": [
           {
            "colorbar": {
             "outlinewidth": 0,
             "ticks": ""
            },
            "type": "contourcarpet"
           }
          ],
          "heatmap": [
           {
            "colorbar": {
             "outlinewidth": 0,
             "ticks": ""
            },
            "colorscale": [
             [
              0,
              "#0d0887"
             ],
             [
              0.1111111111111111,
              "#46039f"
             ],
             [
              0.2222222222222222,
              "#7201a8"
             ],
             [
              0.3333333333333333,
              "#9c179e"
             ],
             [
              0.4444444444444444,
              "#bd3786"
             ],
             [
              0.5555555555555556,
              "#d8576b"
             ],
             [
              0.6666666666666666,
              "#ed7953"
             ],
             [
              0.7777777777777778,
              "#fb9f3a"
             ],
             [
              0.8888888888888888,
              "#fdca26"
             ],
             [
              1,
              "#f0f921"
             ]
            ],
            "type": "heatmap"
           }
          ],
          "heatmapgl": [
           {
            "colorbar": {
             "outlinewidth": 0,
             "ticks": ""
            },
            "colorscale": [
             [
              0,
              "#0d0887"
             ],
             [
              0.1111111111111111,
              "#46039f"
             ],
             [
              0.2222222222222222,
              "#7201a8"
             ],
             [
              0.3333333333333333,
              "#9c179e"
             ],
             [
              0.4444444444444444,
              "#bd3786"
             ],
             [
              0.5555555555555556,
              "#d8576b"
             ],
             [
              0.6666666666666666,
              "#ed7953"
             ],
             [
              0.7777777777777778,
              "#fb9f3a"
             ],
             [
              0.8888888888888888,
              "#fdca26"
             ],
             [
              1,
              "#f0f921"
             ]
            ],
            "type": "heatmapgl"
           }
          ],
          "histogram": [
           {
            "marker": {
             "pattern": {
              "fillmode": "overlay",
              "size": 10,
              "solidity": 0.2
             }
            },
            "type": "histogram"
           }
          ],
          "histogram2d": [
           {
            "colorbar": {
             "outlinewidth": 0,
             "ticks": ""
            },
            "colorscale": [
             [
              0,
              "#0d0887"
             ],
             [
              0.1111111111111111,
              "#46039f"
             ],
             [
              0.2222222222222222,
              "#7201a8"
             ],
             [
              0.3333333333333333,
              "#9c179e"
             ],
             [
              0.4444444444444444,
              "#bd3786"
             ],
             [
              0.5555555555555556,
              "#d8576b"
             ],
             [
              0.6666666666666666,
              "#ed7953"
             ],
             [
              0.7777777777777778,
              "#fb9f3a"
             ],
             [
              0.8888888888888888,
              "#fdca26"
             ],
             [
              1,
              "#f0f921"
             ]
            ],
            "type": "histogram2d"
           }
          ],
          "histogram2dcontour": [
           {
            "colorbar": {
             "outlinewidth": 0,
             "ticks": ""
            },
            "colorscale": [
             [
              0,
              "#0d0887"
             ],
             [
              0.1111111111111111,
              "#46039f"
             ],
             [
              0.2222222222222222,
              "#7201a8"
             ],
             [
              0.3333333333333333,
              "#9c179e"
             ],
             [
              0.4444444444444444,
              "#bd3786"
             ],
             [
              0.5555555555555556,
              "#d8576b"
             ],
             [
              0.6666666666666666,
              "#ed7953"
             ],
             [
              0.7777777777777778,
              "#fb9f3a"
             ],
             [
              0.8888888888888888,
              "#fdca26"
             ],
             [
              1,
              "#f0f921"
             ]
            ],
            "type": "histogram2dcontour"
           }
          ],
          "mesh3d": [
           {
            "colorbar": {
             "outlinewidth": 0,
             "ticks": ""
            },
            "type": "mesh3d"
           }
          ],
          "parcoords": [
           {
            "line": {
             "colorbar": {
              "outlinewidth": 0,
              "ticks": ""
             }
            },
            "type": "parcoords"
           }
          ],
          "pie": [
           {
            "automargin": true,
            "type": "pie"
           }
          ],
          "scatter": [
           {
            "fillpattern": {
             "fillmode": "overlay",
             "size": 10,
             "solidity": 0.2
            },
            "type": "scatter"
           }
          ],
          "scatter3d": [
           {
            "line": {
             "colorbar": {
              "outlinewidth": 0,
              "ticks": ""
             }
            },
            "marker": {
             "colorbar": {
              "outlinewidth": 0,
              "ticks": ""
             }
            },
            "type": "scatter3d"
           }
          ],
          "scattercarpet": [
           {
            "marker": {
             "colorbar": {
              "outlinewidth": 0,
              "ticks": ""
             }
            },
            "type": "scattercarpet"
           }
          ],
          "scattergeo": [
           {
            "marker": {
             "colorbar": {
              "outlinewidth": 0,
              "ticks": ""
             }
            },
            "type": "scattergeo"
           }
          ],
          "scattergl": [
           {
            "marker": {
             "colorbar": {
              "outlinewidth": 0,
              "ticks": ""
             }
            },
            "type": "scattergl"
           }
          ],
          "scattermapbox": [
           {
            "marker": {
             "colorbar": {
              "outlinewidth": 0,
              "ticks": ""
             }
            },
            "type": "scattermapbox"
           }
          ],
          "scatterpolar": [
           {
            "marker": {
             "colorbar": {
              "outlinewidth": 0,
              "ticks": ""
             }
            },
            "type": "scatterpolar"
           }
          ],
          "scatterpolargl": [
           {
            "marker": {
             "colorbar": {
              "outlinewidth": 0,
              "ticks": ""
             }
            },
            "type": "scatterpolargl"
           }
          ],
          "scatterternary": [
           {
            "marker": {
             "colorbar": {
              "outlinewidth": 0,
              "ticks": ""
             }
            },
            "type": "scatterternary"
           }
          ],
          "surface": [
           {
            "colorbar": {
             "outlinewidth": 0,
             "ticks": ""
            },
            "colorscale": [
             [
              0,
              "#0d0887"
             ],
             [
              0.1111111111111111,
              "#46039f"
             ],
             [
              0.2222222222222222,
              "#7201a8"
             ],
             [
              0.3333333333333333,
              "#9c179e"
             ],
             [
              0.4444444444444444,
              "#bd3786"
             ],
             [
              0.5555555555555556,
              "#d8576b"
             ],
             [
              0.6666666666666666,
              "#ed7953"
             ],
             [
              0.7777777777777778,
              "#fb9f3a"
             ],
             [
              0.8888888888888888,
              "#fdca26"
             ],
             [
              1,
              "#f0f921"
             ]
            ],
            "type": "surface"
           }
          ],
          "table": [
           {
            "cells": {
             "fill": {
              "color": "#EBF0F8"
             },
             "line": {
              "color": "white"
             }
            },
            "header": {
             "fill": {
              "color": "#C8D4E3"
             },
             "line": {
              "color": "white"
             }
            },
            "type": "table"
           }
          ]
         },
         "layout": {
          "annotationdefaults": {
           "arrowcolor": "#2a3f5f",
           "arrowhead": 0,
           "arrowwidth": 1
          },
          "autotypenumbers": "strict",
          "coloraxis": {
           "colorbar": {
            "outlinewidth": 0,
            "ticks": ""
           }
          },
          "colorscale": {
           "diverging": [
            [
             0,
             "#8e0152"
            ],
            [
             0.1,
             "#c51b7d"
            ],
            [
             0.2,
             "#de77ae"
            ],
            [
             0.3,
             "#f1b6da"
            ],
            [
             0.4,
             "#fde0ef"
            ],
            [
             0.5,
             "#f7f7f7"
            ],
            [
             0.6,
             "#e6f5d0"
            ],
            [
             0.7,
             "#b8e186"
            ],
            [
             0.8,
             "#7fbc41"
            ],
            [
             0.9,
             "#4d9221"
            ],
            [
             1,
             "#276419"
            ]
           ],
           "sequential": [
            [
             0,
             "#0d0887"
            ],
            [
             0.1111111111111111,
             "#46039f"
            ],
            [
             0.2222222222222222,
             "#7201a8"
            ],
            [
             0.3333333333333333,
             "#9c179e"
            ],
            [
             0.4444444444444444,
             "#bd3786"
            ],
            [
             0.5555555555555556,
             "#d8576b"
            ],
            [
             0.6666666666666666,
             "#ed7953"
            ],
            [
             0.7777777777777778,
             "#fb9f3a"
            ],
            [
             0.8888888888888888,
             "#fdca26"
            ],
            [
             1,
             "#f0f921"
            ]
           ],
           "sequentialminus": [
            [
             0,
             "#0d0887"
            ],
            [
             0.1111111111111111,
             "#46039f"
            ],
            [
             0.2222222222222222,
             "#7201a8"
            ],
            [
             0.3333333333333333,
             "#9c179e"
            ],
            [
             0.4444444444444444,
             "#bd3786"
            ],
            [
             0.5555555555555556,
             "#d8576b"
            ],
            [
             0.6666666666666666,
             "#ed7953"
            ],
            [
             0.7777777777777778,
             "#fb9f3a"
            ],
            [
             0.8888888888888888,
             "#fdca26"
            ],
            [
             1,
             "#f0f921"
            ]
           ]
          },
          "colorway": [
           "#636efa",
           "#EF553B",
           "#00cc96",
           "#ab63fa",
           "#FFA15A",
           "#19d3f3",
           "#FF6692",
           "#B6E880",
           "#FF97FF",
           "#FECB52"
          ],
          "font": {
           "color": "#2a3f5f"
          },
          "geo": {
           "bgcolor": "white",
           "lakecolor": "white",
           "landcolor": "#E5ECF6",
           "showlakes": true,
           "showland": true,
           "subunitcolor": "white"
          },
          "hoverlabel": {
           "align": "left"
          },
          "hovermode": "closest",
          "mapbox": {
           "style": "light"
          },
          "paper_bgcolor": "white",
          "plot_bgcolor": "#E5ECF6",
          "polar": {
           "angularaxis": {
            "gridcolor": "white",
            "linecolor": "white",
            "ticks": ""
           },
           "bgcolor": "#E5ECF6",
           "radialaxis": {
            "gridcolor": "white",
            "linecolor": "white",
            "ticks": ""
           }
          },
          "scene": {
           "xaxis": {
            "backgroundcolor": "#E5ECF6",
            "gridcolor": "white",
            "gridwidth": 2,
            "linecolor": "white",
            "showbackground": true,
            "ticks": "",
            "zerolinecolor": "white"
           },
           "yaxis": {
            "backgroundcolor": "#E5ECF6",
            "gridcolor": "white",
            "gridwidth": 2,
            "linecolor": "white",
            "showbackground": true,
            "ticks": "",
            "zerolinecolor": "white"
           },
           "zaxis": {
            "backgroundcolor": "#E5ECF6",
            "gridcolor": "white",
            "gridwidth": 2,
            "linecolor": "white",
            "showbackground": true,
            "ticks": "",
            "zerolinecolor": "white"
           }
          },
          "shapedefaults": {
           "line": {
            "color": "#2a3f5f"
           }
          },
          "ternary": {
           "aaxis": {
            "gridcolor": "white",
            "linecolor": "white",
            "ticks": ""
           },
           "baxis": {
            "gridcolor": "white",
            "linecolor": "white",
            "ticks": ""
           },
           "bgcolor": "#E5ECF6",
           "caxis": {
            "gridcolor": "white",
            "linecolor": "white",
            "ticks": ""
           }
          },
          "title": {
           "x": 0.05
          },
          "xaxis": {
           "automargin": true,
           "gridcolor": "white",
           "linecolor": "white",
           "ticks": "",
           "title": {
            "standoff": 15
           },
           "zerolinecolor": "white",
           "zerolinewidth": 2
          },
          "yaxis": {
           "automargin": true,
           "gridcolor": "white",
           "linecolor": "white",
           "ticks": "",
           "title": {
            "standoff": 15
           },
           "zerolinecolor": "white",
           "zerolinewidth": 2
          }
         }
        },
        "title": {
         "font": {
          "color": "#4D5663"
         }
        },
        "xaxis": {
         "gridcolor": "#E1E5ED",
         "showgrid": true,
         "tickfont": {
          "color": "#4D5663"
         },
         "title": {
          "font": {
           "color": "#4D5663"
          },
          "text": ""
         },
         "zerolinecolor": "#E1E5ED"
        },
        "yaxis": {
         "gridcolor": "#E1E5ED",
         "showgrid": true,
         "tickfont": {
          "color": "#4D5663"
         },
         "title": {
          "font": {
           "color": "#4D5663"
          },
          "text": ""
         },
         "zerolinecolor": "#E1E5ED"
        }
       }
      },
      "text/html": [
       "<div>                            <div id=\"54deb48b-f1bc-4e38-9a7f-0797ea11be5e\" class=\"plotly-graph-div\" style=\"height:525px; width:100%;\"></div>            <script type=\"text/javascript\">                require([\"plotly\"], function(Plotly) {                    window.PLOTLYENV=window.PLOTLYENV || {};\n",
       "                    window.PLOTLYENV.BASE_URL='https://plot.ly';                                    if (document.getElementById(\"54deb48b-f1bc-4e38-9a7f-0797ea11be5e\")) {                    Plotly.newPlot(                        \"54deb48b-f1bc-4e38-9a7f-0797ea11be5e\",                        [{\"histfunc\":\"count\",\"histnorm\":\"\",\"marker\":{\"color\":\"rgba(255, 153, 51, 1.0)\",\"line\":{\"color\":\"#4D5663\",\"width\":1.3}},\"name\":\"A\",\"nbinsx\":25,\"opacity\":0.8,\"orientation\":\"v\",\"x\":[-0.2608614967031024,-0.49096342548313715,0.6534012059127755,-0.10382438391128623,0.0915136834623817,-0.2578466669372469,1.3897210082903713,-2.013970521337588,1.125741276541228,1.4993336191900457,-1.0595478745403308,-0.9430230210121577,-1.2621205005640328,1.4036731506061113,-0.03593673976090577,0.3050000998253773,-0.5522484049090643,-1.0203076856253586,0.6432367105616998,-0.8914863941492807,-2.185714250972939,0.12623577838399472,0.3921453841215854,0.4737295051464659,-0.17056200224579707,1.1774627570310106,-0.20762902062129898,1.2387067508523648,-1.3942752324541112,-1.716189450517545,0.22085285260585943,-0.6321810216895608,1.3901915806812715,1.0108805251540562,1.061249343310655,0.5308300215857267,-0.9503016687818185,-1.667629010859623,-1.1568624868134363,1.5218137380315473,-0.39221211032341013,2.3415395295809978,-1.486339576927987,-0.03772819855435538,1.4092361992473252,-0.7939024526846925,0.7862010597484133,-0.7353686055886977,0.4288694099887663,-0.27000065017539937,-0.41260190292719623,0.2707480429353407,-2.3153140545469633,-0.493246648926603,-0.20401174053479268,0.43262354086467664,-0.4638179729532545,-0.12104956411305579,0.0009501990026392411,-1.7944854502101284,1.1942829892775488,0.28613422098047586,0.6089637428915142,-1.68539790425561,-0.20944913271903332,0.7539061989031305,-0.30783771025917217,0.9249555792566864,2.155794363974152,-0.30825770648294415,2.3165892472778196,1.1104333103089679,0.5986508909048686,0.8596613825961947,-1.2785925488102268,0.9522963674778507,2.414612831587702,1.5551358944135807,0.6419754681607723,1.7713479403779466,1.121810184988672,-1.3457087892552062,2.0908035265398817,0.4571403655148956,0.2239437084658507,0.002231840122407565,0.7903495448532022,0.2563582466878664,1.7319416821321127,-2.634999142029582,0.5116574427742703,0.09494333197935707,-2.7505020690095145,0.4200960660289981,-1.3218058607201475,1.0064450686749333,0.9976844535285386,-0.9675831445221813,-0.5263696958489338,1.9143818200798364],\"type\":\"histogram\"}],                        {\"barmode\":\"overlay\",\"legend\":{\"bgcolor\":\"#F5F6F9\",\"font\":{\"color\":\"#4D5663\"}},\"paper_bgcolor\":\"#F5F6F9\",\"plot_bgcolor\":\"#F5F6F9\",\"template\":{\"data\":{\"barpolar\":[{\"marker\":{\"line\":{\"color\":\"#E5ECF6\",\"width\":0.5},\"pattern\":{\"fillmode\":\"overlay\",\"size\":10,\"solidity\":0.2}},\"type\":\"barpolar\"}],\"bar\":[{\"error_x\":{\"color\":\"#2a3f5f\"},\"error_y\":{\"color\":\"#2a3f5f\"},\"marker\":{\"line\":{\"color\":\"#E5ECF6\",\"width\":0.5},\"pattern\":{\"fillmode\":\"overlay\",\"size\":10,\"solidity\":0.2}},\"type\":\"bar\"}],\"carpet\":[{\"aaxis\":{\"endlinecolor\":\"#2a3f5f\",\"gridcolor\":\"white\",\"linecolor\":\"white\",\"minorgridcolor\":\"white\",\"startlinecolor\":\"#2a3f5f\"},\"baxis\":{\"endlinecolor\":\"#2a3f5f\",\"gridcolor\":\"white\",\"linecolor\":\"white\",\"minorgridcolor\":\"white\",\"startlinecolor\":\"#2a3f5f\"},\"type\":\"carpet\"}],\"choropleth\":[{\"colorbar\":{\"outlinewidth\":0,\"ticks\":\"\"},\"type\":\"choropleth\"}],\"contourcarpet\":[{\"colorbar\":{\"outlinewidth\":0,\"ticks\":\"\"},\"type\":\"contourcarpet\"}],\"contour\":[{\"colorbar\":{\"outlinewidth\":0,\"ticks\":\"\"},\"colorscale\":[[0.0,\"#0d0887\"],[0.1111111111111111,\"#46039f\"],[0.2222222222222222,\"#7201a8\"],[0.3333333333333333,\"#9c179e\"],[0.4444444444444444,\"#bd3786\"],[0.5555555555555556,\"#d8576b\"],[0.6666666666666666,\"#ed7953\"],[0.7777777777777778,\"#fb9f3a\"],[0.8888888888888888,\"#fdca26\"],[1.0,\"#f0f921\"]],\"type\":\"contour\"}],\"heatmapgl\":[{\"colorbar\":{\"outlinewidth\":0,\"ticks\":\"\"},\"colorscale\":[[0.0,\"#0d0887\"],[0.1111111111111111,\"#46039f\"],[0.2222222222222222,\"#7201a8\"],[0.3333333333333333,\"#9c179e\"],[0.4444444444444444,\"#bd3786\"],[0.5555555555555556,\"#d8576b\"],[0.6666666666666666,\"#ed7953\"],[0.7777777777777778,\"#fb9f3a\"],[0.8888888888888888,\"#fdca26\"],[1.0,\"#f0f921\"]],\"type\":\"heatmapgl\"}],\"heatmap\":[{\"colorbar\":{\"outlinewidth\":0,\"ticks\":\"\"},\"colorscale\":[[0.0,\"#0d0887\"],[0.1111111111111111,\"#46039f\"],[0.2222222222222222,\"#7201a8\"],[0.3333333333333333,\"#9c179e\"],[0.4444444444444444,\"#bd3786\"],[0.5555555555555556,\"#d8576b\"],[0.6666666666666666,\"#ed7953\"],[0.7777777777777778,\"#fb9f3a\"],[0.8888888888888888,\"#fdca26\"],[1.0,\"#f0f921\"]],\"type\":\"heatmap\"}],\"histogram2dcontour\":[{\"colorbar\":{\"outlinewidth\":0,\"ticks\":\"\"},\"colorscale\":[[0.0,\"#0d0887\"],[0.1111111111111111,\"#46039f\"],[0.2222222222222222,\"#7201a8\"],[0.3333333333333333,\"#9c179e\"],[0.4444444444444444,\"#bd3786\"],[0.5555555555555556,\"#d8576b\"],[0.6666666666666666,\"#ed7953\"],[0.7777777777777778,\"#fb9f3a\"],[0.8888888888888888,\"#fdca26\"],[1.0,\"#f0f921\"]],\"type\":\"histogram2dcontour\"}],\"histogram2d\":[{\"colorbar\":{\"outlinewidth\":0,\"ticks\":\"\"},\"colorscale\":[[0.0,\"#0d0887\"],[0.1111111111111111,\"#46039f\"],[0.2222222222222222,\"#7201a8\"],[0.3333333333333333,\"#9c179e\"],[0.4444444444444444,\"#bd3786\"],[0.5555555555555556,\"#d8576b\"],[0.6666666666666666,\"#ed7953\"],[0.7777777777777778,\"#fb9f3a\"],[0.8888888888888888,\"#fdca26\"],[1.0,\"#f0f921\"]],\"type\":\"histogram2d\"}],\"histogram\":[{\"marker\":{\"pattern\":{\"fillmode\":\"overlay\",\"size\":10,\"solidity\":0.2}},\"type\":\"histogram\"}],\"mesh3d\":[{\"colorbar\":{\"outlinewidth\":0,\"ticks\":\"\"},\"type\":\"mesh3d\"}],\"parcoords\":[{\"line\":{\"colorbar\":{\"outlinewidth\":0,\"ticks\":\"\"}},\"type\":\"parcoords\"}],\"pie\":[{\"automargin\":true,\"type\":\"pie\"}],\"scatter3d\":[{\"line\":{\"colorbar\":{\"outlinewidth\":0,\"ticks\":\"\"}},\"marker\":{\"colorbar\":{\"outlinewidth\":0,\"ticks\":\"\"}},\"type\":\"scatter3d\"}],\"scattercarpet\":[{\"marker\":{\"colorbar\":{\"outlinewidth\":0,\"ticks\":\"\"}},\"type\":\"scattercarpet\"}],\"scattergeo\":[{\"marker\":{\"colorbar\":{\"outlinewidth\":0,\"ticks\":\"\"}},\"type\":\"scattergeo\"}],\"scattergl\":[{\"marker\":{\"colorbar\":{\"outlinewidth\":0,\"ticks\":\"\"}},\"type\":\"scattergl\"}],\"scattermapbox\":[{\"marker\":{\"colorbar\":{\"outlinewidth\":0,\"ticks\":\"\"}},\"type\":\"scattermapbox\"}],\"scatterpolargl\":[{\"marker\":{\"colorbar\":{\"outlinewidth\":0,\"ticks\":\"\"}},\"type\":\"scatterpolargl\"}],\"scatterpolar\":[{\"marker\":{\"colorbar\":{\"outlinewidth\":0,\"ticks\":\"\"}},\"type\":\"scatterpolar\"}],\"scatter\":[{\"fillpattern\":{\"fillmode\":\"overlay\",\"size\":10,\"solidity\":0.2},\"type\":\"scatter\"}],\"scatterternary\":[{\"marker\":{\"colorbar\":{\"outlinewidth\":0,\"ticks\":\"\"}},\"type\":\"scatterternary\"}],\"surface\":[{\"colorbar\":{\"outlinewidth\":0,\"ticks\":\"\"},\"colorscale\":[[0.0,\"#0d0887\"],[0.1111111111111111,\"#46039f\"],[0.2222222222222222,\"#7201a8\"],[0.3333333333333333,\"#9c179e\"],[0.4444444444444444,\"#bd3786\"],[0.5555555555555556,\"#d8576b\"],[0.6666666666666666,\"#ed7953\"],[0.7777777777777778,\"#fb9f3a\"],[0.8888888888888888,\"#fdca26\"],[1.0,\"#f0f921\"]],\"type\":\"surface\"}],\"table\":[{\"cells\":{\"fill\":{\"color\":\"#EBF0F8\"},\"line\":{\"color\":\"white\"}},\"header\":{\"fill\":{\"color\":\"#C8D4E3\"},\"line\":{\"color\":\"white\"}},\"type\":\"table\"}]},\"layout\":{\"annotationdefaults\":{\"arrowcolor\":\"#2a3f5f\",\"arrowhead\":0,\"arrowwidth\":1},\"autotypenumbers\":\"strict\",\"coloraxis\":{\"colorbar\":{\"outlinewidth\":0,\"ticks\":\"\"}},\"colorscale\":{\"diverging\":[[0,\"#8e0152\"],[0.1,\"#c51b7d\"],[0.2,\"#de77ae\"],[0.3,\"#f1b6da\"],[0.4,\"#fde0ef\"],[0.5,\"#f7f7f7\"],[0.6,\"#e6f5d0\"],[0.7,\"#b8e186\"],[0.8,\"#7fbc41\"],[0.9,\"#4d9221\"],[1,\"#276419\"]],\"sequential\":[[0.0,\"#0d0887\"],[0.1111111111111111,\"#46039f\"],[0.2222222222222222,\"#7201a8\"],[0.3333333333333333,\"#9c179e\"],[0.4444444444444444,\"#bd3786\"],[0.5555555555555556,\"#d8576b\"],[0.6666666666666666,\"#ed7953\"],[0.7777777777777778,\"#fb9f3a\"],[0.8888888888888888,\"#fdca26\"],[1.0,\"#f0f921\"]],\"sequentialminus\":[[0.0,\"#0d0887\"],[0.1111111111111111,\"#46039f\"],[0.2222222222222222,\"#7201a8\"],[0.3333333333333333,\"#9c179e\"],[0.4444444444444444,\"#bd3786\"],[0.5555555555555556,\"#d8576b\"],[0.6666666666666666,\"#ed7953\"],[0.7777777777777778,\"#fb9f3a\"],[0.8888888888888888,\"#fdca26\"],[1.0,\"#f0f921\"]]},\"colorway\":[\"#636efa\",\"#EF553B\",\"#00cc96\",\"#ab63fa\",\"#FFA15A\",\"#19d3f3\",\"#FF6692\",\"#B6E880\",\"#FF97FF\",\"#FECB52\"],\"font\":{\"color\":\"#2a3f5f\"},\"geo\":{\"bgcolor\":\"white\",\"lakecolor\":\"white\",\"landcolor\":\"#E5ECF6\",\"showlakes\":true,\"showland\":true,\"subunitcolor\":\"white\"},\"hoverlabel\":{\"align\":\"left\"},\"hovermode\":\"closest\",\"mapbox\":{\"style\":\"light\"},\"paper_bgcolor\":\"white\",\"plot_bgcolor\":\"#E5ECF6\",\"polar\":{\"angularaxis\":{\"gridcolor\":\"white\",\"linecolor\":\"white\",\"ticks\":\"\"},\"bgcolor\":\"#E5ECF6\",\"radialaxis\":{\"gridcolor\":\"white\",\"linecolor\":\"white\",\"ticks\":\"\"}},\"scene\":{\"xaxis\":{\"backgroundcolor\":\"#E5ECF6\",\"gridcolor\":\"white\",\"gridwidth\":2,\"linecolor\":\"white\",\"showbackground\":true,\"ticks\":\"\",\"zerolinecolor\":\"white\"},\"yaxis\":{\"backgroundcolor\":\"#E5ECF6\",\"gridcolor\":\"white\",\"gridwidth\":2,\"linecolor\":\"white\",\"showbackground\":true,\"ticks\":\"\",\"zerolinecolor\":\"white\"},\"zaxis\":{\"backgroundcolor\":\"#E5ECF6\",\"gridcolor\":\"white\",\"gridwidth\":2,\"linecolor\":\"white\",\"showbackground\":true,\"ticks\":\"\",\"zerolinecolor\":\"white\"}},\"shapedefaults\":{\"line\":{\"color\":\"#2a3f5f\"}},\"ternary\":{\"aaxis\":{\"gridcolor\":\"white\",\"linecolor\":\"white\",\"ticks\":\"\"},\"baxis\":{\"gridcolor\":\"white\",\"linecolor\":\"white\",\"ticks\":\"\"},\"bgcolor\":\"#E5ECF6\",\"caxis\":{\"gridcolor\":\"white\",\"linecolor\":\"white\",\"ticks\":\"\"}},\"title\":{\"x\":0.05},\"xaxis\":{\"automargin\":true,\"gridcolor\":\"white\",\"linecolor\":\"white\",\"ticks\":\"\",\"title\":{\"standoff\":15},\"zerolinecolor\":\"white\",\"zerolinewidth\":2},\"yaxis\":{\"automargin\":true,\"gridcolor\":\"white\",\"linecolor\":\"white\",\"ticks\":\"\",\"title\":{\"standoff\":15},\"zerolinecolor\":\"white\",\"zerolinewidth\":2}}},\"title\":{\"font\":{\"color\":\"#4D5663\"}},\"xaxis\":{\"gridcolor\":\"#E1E5ED\",\"showgrid\":true,\"tickfont\":{\"color\":\"#4D5663\"},\"title\":{\"font\":{\"color\":\"#4D5663\"},\"text\":\"\"},\"zerolinecolor\":\"#E1E5ED\"},\"yaxis\":{\"gridcolor\":\"#E1E5ED\",\"showgrid\":true,\"tickfont\":{\"color\":\"#4D5663\"},\"title\":{\"font\":{\"color\":\"#4D5663\"},\"text\":\"\"},\"zerolinecolor\":\"#E1E5ED\"}},                        {\"showLink\": true, \"linkText\": \"Export to plot.ly\", \"plotlyServerURL\": \"https://plot.ly\", \"responsive\": true}                    ).then(function(){\n",
       "                            \n",
       "var gd = document.getElementById('54deb48b-f1bc-4e38-9a7f-0797ea11be5e');\n",
       "var x = new MutationObserver(function (mutations, observer) {{\n",
       "        var display = window.getComputedStyle(gd).display;\n",
       "        if (!display || display === 'none') {{\n",
       "            console.log([gd, 'removed!']);\n",
       "            Plotly.purge(gd);\n",
       "            observer.disconnect();\n",
       "        }}\n",
       "}});\n",
       "\n",
       "// Listen for the removal of the full notebook cells\n",
       "var notebookContainer = gd.closest('#notebook-container');\n",
       "if (notebookContainer) {{\n",
       "    x.observe(notebookContainer, {childList: true});\n",
       "}}\n",
       "\n",
       "// Listen for the clearing of the current output cell\n",
       "var outputEl = gd.closest('.output');\n",
       "if (outputEl) {{\n",
       "    x.observe(outputEl, {childList: true});\n",
       "}}\n",
       "\n",
       "                        })                };                });            </script>        </div>"
      ]
     },
     "metadata": {},
     "output_type": "display_data"
    }
   ],
   "source": [
    "df['A'].iplot(kind='hist',bins=25)"
   ]
  },
  {
   "attachments": {},
   "cell_type": "markdown",
   "metadata": {},
   "source": [
    "### Bubble"
   ]
  },
  {
   "cell_type": "code",
   "execution_count": 71,
   "metadata": {},
   "outputs": [
    {
     "data": {
      "application/vnd.plotly.v1+json": {
       "config": {
        "linkText": "Export to plot.ly",
        "plotlyServerURL": "https://plot.ly",
        "showLink": true
       },
       "data": [
        {
         "marker": {
          "color": [
           "crimson",
           "crimson",
           "crimson",
           "crimson",
           "crimson",
           "crimson",
           "crimson",
           "crimson",
           "crimson",
           "crimson",
           "crimson",
           "crimson",
           "crimson",
           "crimson",
           "crimson",
           "crimson",
           "crimson",
           "crimson",
           "crimson",
           "crimson",
           "crimson",
           "crimson",
           "crimson",
           "crimson",
           "crimson",
           "crimson",
           "crimson",
           "crimson",
           "crimson",
           "crimson",
           "crimson",
           "crimson",
           "crimson",
           "crimson",
           "crimson",
           "crimson",
           "crimson",
           "crimson",
           "crimson",
           "crimson",
           "crimson",
           "crimson",
           "crimson",
           "crimson",
           "crimson",
           "crimson",
           "crimson",
           "crimson",
           "crimson",
           "crimson",
           "crimson",
           "crimson",
           "crimson",
           "crimson",
           "crimson",
           "crimson",
           "crimson",
           "crimson",
           "crimson",
           "crimson",
           "crimson",
           "crimson",
           "crimson",
           "crimson",
           "crimson",
           "crimson",
           "crimson",
           "crimson",
           "crimson",
           "crimson",
           "crimson",
           "crimson",
           "crimson",
           "crimson",
           "crimson",
           "crimson",
           "crimson",
           "crimson",
           "crimson",
           "crimson",
           "crimson",
           "crimson",
           "crimson",
           "crimson",
           "crimson",
           "crimson",
           "crimson",
           "crimson",
           "crimson",
           "crimson",
           "crimson",
           "crimson",
           "crimson",
           "crimson",
           "crimson",
           "crimson",
           "crimson",
           "crimson",
           "crimson",
           "crimson"
          ],
          "line": {
           "width": 1.3
          },
          "size": [
           90,
           48,
           35,
           61,
           88,
           75,
           61,
           47,
           67,
           62,
           46,
           61,
           86,
           56,
           70,
           47,
           96,
           74,
           29,
           52,
           82,
           50,
           77,
           35,
           52,
           23,
           81,
           35,
           89,
           87,
           55,
           57,
           75,
           54,
           35,
           47,
           63,
           53,
           111,
           50,
           63,
           71,
           85,
           65,
           77,
           73,
           98,
           59,
           49,
           44,
           52,
           94,
           103,
           69,
           73,
           75,
           78,
           14,
           54,
           42,
           58,
           82,
           73,
           78,
           60,
           104,
           63,
           88,
           69,
           86,
           85,
           60,
           83,
           82,
           66,
           46,
           50,
           29,
           94,
           48,
           59,
           61,
           88,
           70,
           12,
           47,
           55,
           96,
           96,
           90,
           51,
           51,
           65,
           45,
           89,
           46,
           112,
           84,
           85,
           54
          ],
          "symbol": "circle"
         },
         "mode": "markers",
         "text": "",
         "type": "scatter",
         "x": [
          -0.2608614967031024,
          -0.49096342548313715,
          0.6534012059127755,
          -0.10382438391128623,
          0.0915136834623817,
          -0.2578466669372469,
          1.3897210082903713,
          -2.013970521337588,
          1.125741276541228,
          1.4993336191900457,
          -1.0595478745403308,
          -0.9430230210121577,
          -1.2621205005640328,
          1.4036731506061113,
          -0.03593673976090577,
          0.3050000998253773,
          -0.5522484049090643,
          -1.0203076856253586,
          0.6432367105616998,
          -0.8914863941492807,
          -2.185714250972939,
          0.12623577838399472,
          0.3921453841215854,
          0.4737295051464659,
          -0.17056200224579707,
          1.1774627570310106,
          -0.20762902062129898,
          1.2387067508523648,
          -1.3942752324541112,
          -1.716189450517545,
          0.22085285260585943,
          -0.6321810216895608,
          1.3901915806812715,
          1.0108805251540562,
          1.061249343310655,
          0.5308300215857267,
          -0.9503016687818185,
          -1.667629010859623,
          -1.1568624868134363,
          1.5218137380315473,
          -0.39221211032341013,
          2.3415395295809978,
          -1.486339576927987,
          -0.03772819855435538,
          1.4092361992473252,
          -0.7939024526846925,
          0.7862010597484133,
          -0.7353686055886977,
          0.4288694099887663,
          -0.27000065017539937,
          -0.41260190292719623,
          0.2707480429353407,
          -2.3153140545469633,
          -0.493246648926603,
          -0.20401174053479268,
          0.43262354086467664,
          -0.4638179729532545,
          -0.12104956411305579,
          0.0009501990026392411,
          -1.7944854502101284,
          1.1942829892775488,
          0.28613422098047586,
          0.6089637428915142,
          -1.68539790425561,
          -0.20944913271903332,
          0.7539061989031305,
          -0.30783771025917217,
          0.9249555792566864,
          2.155794363974152,
          -0.30825770648294415,
          2.3165892472778196,
          1.1104333103089679,
          0.5986508909048686,
          0.8596613825961947,
          -1.2785925488102268,
          0.9522963674778507,
          2.414612831587702,
          1.5551358944135807,
          0.6419754681607723,
          1.7713479403779466,
          1.121810184988672,
          -1.3457087892552062,
          2.0908035265398817,
          0.4571403655148956,
          0.2239437084658507,
          0.002231840122407565,
          0.7903495448532022,
          0.2563582466878664,
          1.7319416821321127,
          -2.634999142029582,
          0.5116574427742703,
          0.09494333197935707,
          -2.7505020690095145,
          0.4200960660289981,
          -1.3218058607201475,
          1.0064450686749333,
          0.9976844535285386,
          -0.9675831445221813,
          -0.5263696958489338,
          1.9143818200798364
         ],
         "y": [
          -0.25432533756669773,
          -1.581414768480805,
          0.40218331727380613,
          -0.7653635025178969,
          -0.03758094088299645,
          0.8228516602736954,
          0.20950479153616372,
          0.2368828777231409,
          -0.13416480196104766,
          0.06773423875996688,
          -1.3924154298925469,
          0.010537225188061829,
          -0.9192378281206622,
          -1.343298101902075,
          -1.7841952728986434,
          -0.5248286222071976,
          0.030492134192341522,
          -0.2095316178025833,
          0.941695473320228,
          -1.0303073120794726,
          -1.615853408823164,
          -0.7977565224429886,
          1.346204299136864,
          -1.2273416627519849,
          -0.9767964659827089,
          -1.5763455228401246,
          -1.9792442444712637,
          0.4384768080985399,
          0.17679566623301302,
          -0.9317474293601441,
          0.8682987401646762,
          -0.1003875632961765,
          -0.0884962705505986,
          0.24286646977162227,
          0.20207155467009158,
          0.38365946277845214,
          0.15769247651445353,
          -1.0665564678618131,
          0.49225575504181734,
          0.10153122545596022,
          0.11375123863064968,
          -0.4628493592894469,
          -0.5812908283646572,
          -0.5818098728891352,
          0.9176543169317575,
          0.5087887543927186,
          0.16819075587941956,
          -0.8945686934935044,
          0.3721570565430783,
          -0.257705545117878,
          1.6287138726491417,
          -1.1739713566817833,
          0.398367300079867,
          -0.6767044911122801,
          0.47600397787049986,
          -2.763129323705531,
          0.21077619673830947,
          -0.2258518499521978,
          -0.821396180646884,
          1.0365094058365847,
          -1.6318344262056328,
          -0.3298121153479205,
          0.8315693323045643,
          0.0007504783278676238,
          -0.29675189476684655,
          0.027554435329936816,
          0.6609436762444268,
          0.8785579905871628,
          -0.029854680377078793,
          1.5082301656300974,
          -1.2449285328680817,
          -0.9768057784470087,
          1.4916896101273067,
          -1.122012736021044,
          -0.38767399665537694,
          -1.329045263751567,
          0.6179854602630162,
          -2.1766036516777953,
          0.9997178836248283,
          -0.5995015860441616,
          1.3839885679655453,
          -0.5180161564966833,
          0.8533682831785384,
          -0.9115908122880608,
          -0.4306924280020869,
          0.9609848960490938,
          0.9220703471457242,
          1.7542139768319003,
          0.3604841912013604,
          0.0017037783681344279,
          -1.2543075592125403,
          -0.15102453234097343,
          -0.5360051864835451,
          0.5989775610224853,
          0.8263314749363494,
          -1.2655278034535515,
          0.9401542797781919,
          0.42961783137316306,
          0.7242211546399301,
          0.015725214681151255
         ]
        }
       ],
       "layout": {
        "legend": {
         "bgcolor": "#F5F6F9",
         "font": {
          "color": "#4D5663"
         }
        },
        "paper_bgcolor": "#F5F6F9",
        "plot_bgcolor": "#F5F6F9",
        "template": {
         "data": {
          "bar": [
           {
            "error_x": {
             "color": "#2a3f5f"
            },
            "error_y": {
             "color": "#2a3f5f"
            },
            "marker": {
             "line": {
              "color": "#E5ECF6",
              "width": 0.5
             },
             "pattern": {
              "fillmode": "overlay",
              "size": 10,
              "solidity": 0.2
             }
            },
            "type": "bar"
           }
          ],
          "barpolar": [
           {
            "marker": {
             "line": {
              "color": "#E5ECF6",
              "width": 0.5
             },
             "pattern": {
              "fillmode": "overlay",
              "size": 10,
              "solidity": 0.2
             }
            },
            "type": "barpolar"
           }
          ],
          "carpet": [
           {
            "aaxis": {
             "endlinecolor": "#2a3f5f",
             "gridcolor": "white",
             "linecolor": "white",
             "minorgridcolor": "white",
             "startlinecolor": "#2a3f5f"
            },
            "baxis": {
             "endlinecolor": "#2a3f5f",
             "gridcolor": "white",
             "linecolor": "white",
             "minorgridcolor": "white",
             "startlinecolor": "#2a3f5f"
            },
            "type": "carpet"
           }
          ],
          "choropleth": [
           {
            "colorbar": {
             "outlinewidth": 0,
             "ticks": ""
            },
            "type": "choropleth"
           }
          ],
          "contour": [
           {
            "colorbar": {
             "outlinewidth": 0,
             "ticks": ""
            },
            "colorscale": [
             [
              0,
              "#0d0887"
             ],
             [
              0.1111111111111111,
              "#46039f"
             ],
             [
              0.2222222222222222,
              "#7201a8"
             ],
             [
              0.3333333333333333,
              "#9c179e"
             ],
             [
              0.4444444444444444,
              "#bd3786"
             ],
             [
              0.5555555555555556,
              "#d8576b"
             ],
             [
              0.6666666666666666,
              "#ed7953"
             ],
             [
              0.7777777777777778,
              "#fb9f3a"
             ],
             [
              0.8888888888888888,
              "#fdca26"
             ],
             [
              1,
              "#f0f921"
             ]
            ],
            "type": "contour"
           }
          ],
          "contourcarpet": [
           {
            "colorbar": {
             "outlinewidth": 0,
             "ticks": ""
            },
            "type": "contourcarpet"
           }
          ],
          "heatmap": [
           {
            "colorbar": {
             "outlinewidth": 0,
             "ticks": ""
            },
            "colorscale": [
             [
              0,
              "#0d0887"
             ],
             [
              0.1111111111111111,
              "#46039f"
             ],
             [
              0.2222222222222222,
              "#7201a8"
             ],
             [
              0.3333333333333333,
              "#9c179e"
             ],
             [
              0.4444444444444444,
              "#bd3786"
             ],
             [
              0.5555555555555556,
              "#d8576b"
             ],
             [
              0.6666666666666666,
              "#ed7953"
             ],
             [
              0.7777777777777778,
              "#fb9f3a"
             ],
             [
              0.8888888888888888,
              "#fdca26"
             ],
             [
              1,
              "#f0f921"
             ]
            ],
            "type": "heatmap"
           }
          ],
          "heatmapgl": [
           {
            "colorbar": {
             "outlinewidth": 0,
             "ticks": ""
            },
            "colorscale": [
             [
              0,
              "#0d0887"
             ],
             [
              0.1111111111111111,
              "#46039f"
             ],
             [
              0.2222222222222222,
              "#7201a8"
             ],
             [
              0.3333333333333333,
              "#9c179e"
             ],
             [
              0.4444444444444444,
              "#bd3786"
             ],
             [
              0.5555555555555556,
              "#d8576b"
             ],
             [
              0.6666666666666666,
              "#ed7953"
             ],
             [
              0.7777777777777778,
              "#fb9f3a"
             ],
             [
              0.8888888888888888,
              "#fdca26"
             ],
             [
              1,
              "#f0f921"
             ]
            ],
            "type": "heatmapgl"
           }
          ],
          "histogram": [
           {
            "marker": {
             "pattern": {
              "fillmode": "overlay",
              "size": 10,
              "solidity": 0.2
             }
            },
            "type": "histogram"
           }
          ],
          "histogram2d": [
           {
            "colorbar": {
             "outlinewidth": 0,
             "ticks": ""
            },
            "colorscale": [
             [
              0,
              "#0d0887"
             ],
             [
              0.1111111111111111,
              "#46039f"
             ],
             [
              0.2222222222222222,
              "#7201a8"
             ],
             [
              0.3333333333333333,
              "#9c179e"
             ],
             [
              0.4444444444444444,
              "#bd3786"
             ],
             [
              0.5555555555555556,
              "#d8576b"
             ],
             [
              0.6666666666666666,
              "#ed7953"
             ],
             [
              0.7777777777777778,
              "#fb9f3a"
             ],
             [
              0.8888888888888888,
              "#fdca26"
             ],
             [
              1,
              "#f0f921"
             ]
            ],
            "type": "histogram2d"
           }
          ],
          "histogram2dcontour": [
           {
            "colorbar": {
             "outlinewidth": 0,
             "ticks": ""
            },
            "colorscale": [
             [
              0,
              "#0d0887"
             ],
             [
              0.1111111111111111,
              "#46039f"
             ],
             [
              0.2222222222222222,
              "#7201a8"
             ],
             [
              0.3333333333333333,
              "#9c179e"
             ],
             [
              0.4444444444444444,
              "#bd3786"
             ],
             [
              0.5555555555555556,
              "#d8576b"
             ],
             [
              0.6666666666666666,
              "#ed7953"
             ],
             [
              0.7777777777777778,
              "#fb9f3a"
             ],
             [
              0.8888888888888888,
              "#fdca26"
             ],
             [
              1,
              "#f0f921"
             ]
            ],
            "type": "histogram2dcontour"
           }
          ],
          "mesh3d": [
           {
            "colorbar": {
             "outlinewidth": 0,
             "ticks": ""
            },
            "type": "mesh3d"
           }
          ],
          "parcoords": [
           {
            "line": {
             "colorbar": {
              "outlinewidth": 0,
              "ticks": ""
             }
            },
            "type": "parcoords"
           }
          ],
          "pie": [
           {
            "automargin": true,
            "type": "pie"
           }
          ],
          "scatter": [
           {
            "fillpattern": {
             "fillmode": "overlay",
             "size": 10,
             "solidity": 0.2
            },
            "type": "scatter"
           }
          ],
          "scatter3d": [
           {
            "line": {
             "colorbar": {
              "outlinewidth": 0,
              "ticks": ""
             }
            },
            "marker": {
             "colorbar": {
              "outlinewidth": 0,
              "ticks": ""
             }
            },
            "type": "scatter3d"
           }
          ],
          "scattercarpet": [
           {
            "marker": {
             "colorbar": {
              "outlinewidth": 0,
              "ticks": ""
             }
            },
            "type": "scattercarpet"
           }
          ],
          "scattergeo": [
           {
            "marker": {
             "colorbar": {
              "outlinewidth": 0,
              "ticks": ""
             }
            },
            "type": "scattergeo"
           }
          ],
          "scattergl": [
           {
            "marker": {
             "colorbar": {
              "outlinewidth": 0,
              "ticks": ""
             }
            },
            "type": "scattergl"
           }
          ],
          "scattermapbox": [
           {
            "marker": {
             "colorbar": {
              "outlinewidth": 0,
              "ticks": ""
             }
            },
            "type": "scattermapbox"
           }
          ],
          "scatterpolar": [
           {
            "marker": {
             "colorbar": {
              "outlinewidth": 0,
              "ticks": ""
             }
            },
            "type": "scatterpolar"
           }
          ],
          "scatterpolargl": [
           {
            "marker": {
             "colorbar": {
              "outlinewidth": 0,
              "ticks": ""
             }
            },
            "type": "scatterpolargl"
           }
          ],
          "scatterternary": [
           {
            "marker": {
             "colorbar": {
              "outlinewidth": 0,
              "ticks": ""
             }
            },
            "type": "scatterternary"
           }
          ],
          "surface": [
           {
            "colorbar": {
             "outlinewidth": 0,
             "ticks": ""
            },
            "colorscale": [
             [
              0,
              "#0d0887"
             ],
             [
              0.1111111111111111,
              "#46039f"
             ],
             [
              0.2222222222222222,
              "#7201a8"
             ],
             [
              0.3333333333333333,
              "#9c179e"
             ],
             [
              0.4444444444444444,
              "#bd3786"
             ],
             [
              0.5555555555555556,
              "#d8576b"
             ],
             [
              0.6666666666666666,
              "#ed7953"
             ],
             [
              0.7777777777777778,
              "#fb9f3a"
             ],
             [
              0.8888888888888888,
              "#fdca26"
             ],
             [
              1,
              "#f0f921"
             ]
            ],
            "type": "surface"
           }
          ],
          "table": [
           {
            "cells": {
             "fill": {
              "color": "#EBF0F8"
             },
             "line": {
              "color": "white"
             }
            },
            "header": {
             "fill": {
              "color": "#C8D4E3"
             },
             "line": {
              "color": "white"
             }
            },
            "type": "table"
           }
          ]
         },
         "layout": {
          "annotationdefaults": {
           "arrowcolor": "#2a3f5f",
           "arrowhead": 0,
           "arrowwidth": 1
          },
          "autotypenumbers": "strict",
          "coloraxis": {
           "colorbar": {
            "outlinewidth": 0,
            "ticks": ""
           }
          },
          "colorscale": {
           "diverging": [
            [
             0,
             "#8e0152"
            ],
            [
             0.1,
             "#c51b7d"
            ],
            [
             0.2,
             "#de77ae"
            ],
            [
             0.3,
             "#f1b6da"
            ],
            [
             0.4,
             "#fde0ef"
            ],
            [
             0.5,
             "#f7f7f7"
            ],
            [
             0.6,
             "#e6f5d0"
            ],
            [
             0.7,
             "#b8e186"
            ],
            [
             0.8,
             "#7fbc41"
            ],
            [
             0.9,
             "#4d9221"
            ],
            [
             1,
             "#276419"
            ]
           ],
           "sequential": [
            [
             0,
             "#0d0887"
            ],
            [
             0.1111111111111111,
             "#46039f"
            ],
            [
             0.2222222222222222,
             "#7201a8"
            ],
            [
             0.3333333333333333,
             "#9c179e"
            ],
            [
             0.4444444444444444,
             "#bd3786"
            ],
            [
             0.5555555555555556,
             "#d8576b"
            ],
            [
             0.6666666666666666,
             "#ed7953"
            ],
            [
             0.7777777777777778,
             "#fb9f3a"
            ],
            [
             0.8888888888888888,
             "#fdca26"
            ],
            [
             1,
             "#f0f921"
            ]
           ],
           "sequentialminus": [
            [
             0,
             "#0d0887"
            ],
            [
             0.1111111111111111,
             "#46039f"
            ],
            [
             0.2222222222222222,
             "#7201a8"
            ],
            [
             0.3333333333333333,
             "#9c179e"
            ],
            [
             0.4444444444444444,
             "#bd3786"
            ],
            [
             0.5555555555555556,
             "#d8576b"
            ],
            [
             0.6666666666666666,
             "#ed7953"
            ],
            [
             0.7777777777777778,
             "#fb9f3a"
            ],
            [
             0.8888888888888888,
             "#fdca26"
            ],
            [
             1,
             "#f0f921"
            ]
           ]
          },
          "colorway": [
           "#636efa",
           "#EF553B",
           "#00cc96",
           "#ab63fa",
           "#FFA15A",
           "#19d3f3",
           "#FF6692",
           "#B6E880",
           "#FF97FF",
           "#FECB52"
          ],
          "font": {
           "color": "#2a3f5f"
          },
          "geo": {
           "bgcolor": "white",
           "lakecolor": "white",
           "landcolor": "#E5ECF6",
           "showlakes": true,
           "showland": true,
           "subunitcolor": "white"
          },
          "hoverlabel": {
           "align": "left"
          },
          "hovermode": "closest",
          "mapbox": {
           "style": "light"
          },
          "paper_bgcolor": "white",
          "plot_bgcolor": "#E5ECF6",
          "polar": {
           "angularaxis": {
            "gridcolor": "white",
            "linecolor": "white",
            "ticks": ""
           },
           "bgcolor": "#E5ECF6",
           "radialaxis": {
            "gridcolor": "white",
            "linecolor": "white",
            "ticks": ""
           }
          },
          "scene": {
           "xaxis": {
            "backgroundcolor": "#E5ECF6",
            "gridcolor": "white",
            "gridwidth": 2,
            "linecolor": "white",
            "showbackground": true,
            "ticks": "",
            "zerolinecolor": "white"
           },
           "yaxis": {
            "backgroundcolor": "#E5ECF6",
            "gridcolor": "white",
            "gridwidth": 2,
            "linecolor": "white",
            "showbackground": true,
            "ticks": "",
            "zerolinecolor": "white"
           },
           "zaxis": {
            "backgroundcolor": "#E5ECF6",
            "gridcolor": "white",
            "gridwidth": 2,
            "linecolor": "white",
            "showbackground": true,
            "ticks": "",
            "zerolinecolor": "white"
           }
          },
          "shapedefaults": {
           "line": {
            "color": "#2a3f5f"
           }
          },
          "ternary": {
           "aaxis": {
            "gridcolor": "white",
            "linecolor": "white",
            "ticks": ""
           },
           "baxis": {
            "gridcolor": "white",
            "linecolor": "white",
            "ticks": ""
           },
           "bgcolor": "#E5ECF6",
           "caxis": {
            "gridcolor": "white",
            "linecolor": "white",
            "ticks": ""
           }
          },
          "title": {
           "x": 0.05
          },
          "xaxis": {
           "automargin": true,
           "gridcolor": "white",
           "linecolor": "white",
           "ticks": "",
           "title": {
            "standoff": 15
           },
           "zerolinecolor": "white",
           "zerolinewidth": 2
          },
          "yaxis": {
           "automargin": true,
           "gridcolor": "white",
           "linecolor": "white",
           "ticks": "",
           "title": {
            "standoff": 15
           },
           "zerolinecolor": "white",
           "zerolinewidth": 2
          }
         }
        },
        "title": {
         "font": {
          "color": "#4D5663"
         }
        },
        "xaxis": {
         "gridcolor": "#E1E5ED",
         "showgrid": true,
         "tickfont": {
          "color": "#4D5663"
         },
         "title": {
          "font": {
           "color": "#4D5663"
          },
          "text": ""
         },
         "zerolinecolor": "#E1E5ED"
        },
        "yaxis": {
         "gridcolor": "#E1E5ED",
         "showgrid": true,
         "tickfont": {
          "color": "#4D5663"
         },
         "title": {
          "font": {
           "color": "#4D5663"
          },
          "text": ""
         },
         "zerolinecolor": "#E1E5ED"
        }
       }
      },
      "text/html": [
       "<div>                            <div id=\"989f6ad9-6787-4b3a-931a-359dd2ab522c\" class=\"plotly-graph-div\" style=\"height:525px; width:100%;\"></div>            <script type=\"text/javascript\">                require([\"plotly\"], function(Plotly) {                    window.PLOTLYENV=window.PLOTLYENV || {};\n",
       "                    window.PLOTLYENV.BASE_URL='https://plot.ly';                                    if (document.getElementById(\"989f6ad9-6787-4b3a-931a-359dd2ab522c\")) {                    Plotly.newPlot(                        \"989f6ad9-6787-4b3a-931a-359dd2ab522c\",                        [{\"marker\":{\"color\":[\"crimson\",\"crimson\",\"crimson\",\"crimson\",\"crimson\",\"crimson\",\"crimson\",\"crimson\",\"crimson\",\"crimson\",\"crimson\",\"crimson\",\"crimson\",\"crimson\",\"crimson\",\"crimson\",\"crimson\",\"crimson\",\"crimson\",\"crimson\",\"crimson\",\"crimson\",\"crimson\",\"crimson\",\"crimson\",\"crimson\",\"crimson\",\"crimson\",\"crimson\",\"crimson\",\"crimson\",\"crimson\",\"crimson\",\"crimson\",\"crimson\",\"crimson\",\"crimson\",\"crimson\",\"crimson\",\"crimson\",\"crimson\",\"crimson\",\"crimson\",\"crimson\",\"crimson\",\"crimson\",\"crimson\",\"crimson\",\"crimson\",\"crimson\",\"crimson\",\"crimson\",\"crimson\",\"crimson\",\"crimson\",\"crimson\",\"crimson\",\"crimson\",\"crimson\",\"crimson\",\"crimson\",\"crimson\",\"crimson\",\"crimson\",\"crimson\",\"crimson\",\"crimson\",\"crimson\",\"crimson\",\"crimson\",\"crimson\",\"crimson\",\"crimson\",\"crimson\",\"crimson\",\"crimson\",\"crimson\",\"crimson\",\"crimson\",\"crimson\",\"crimson\",\"crimson\",\"crimson\",\"crimson\",\"crimson\",\"crimson\",\"crimson\",\"crimson\",\"crimson\",\"crimson\",\"crimson\",\"crimson\",\"crimson\",\"crimson\",\"crimson\",\"crimson\",\"crimson\",\"crimson\",\"crimson\",\"crimson\"],\"line\":{\"width\":1.3},\"size\":[90,48,35,61,88,75,61,47,67,62,46,61,86,56,70,47,96,74,29,52,82,50,77,35,52,23,81,35,89,87,55,57,75,54,35,47,63,53,111,50,63,71,85,65,77,73,98,59,49,44,52,94,103,69,73,75,78,14,54,42,58,82,73,78,60,104,63,88,69,86,85,60,83,82,66,46,50,29,94,48,59,61,88,70,12,47,55,96,96,90,51,51,65,45,89,46,112,84,85,54],\"symbol\":\"circle\"},\"mode\":\"markers\",\"text\":\"\",\"x\":[-0.2608614967031024,-0.49096342548313715,0.6534012059127755,-0.10382438391128623,0.0915136834623817,-0.2578466669372469,1.3897210082903713,-2.013970521337588,1.125741276541228,1.4993336191900457,-1.0595478745403308,-0.9430230210121577,-1.2621205005640328,1.4036731506061113,-0.03593673976090577,0.3050000998253773,-0.5522484049090643,-1.0203076856253586,0.6432367105616998,-0.8914863941492807,-2.185714250972939,0.12623577838399472,0.3921453841215854,0.4737295051464659,-0.17056200224579707,1.1774627570310106,-0.20762902062129898,1.2387067508523648,-1.3942752324541112,-1.716189450517545,0.22085285260585943,-0.6321810216895608,1.3901915806812715,1.0108805251540562,1.061249343310655,0.5308300215857267,-0.9503016687818185,-1.667629010859623,-1.1568624868134363,1.5218137380315473,-0.39221211032341013,2.3415395295809978,-1.486339576927987,-0.03772819855435538,1.4092361992473252,-0.7939024526846925,0.7862010597484133,-0.7353686055886977,0.4288694099887663,-0.27000065017539937,-0.41260190292719623,0.2707480429353407,-2.3153140545469633,-0.493246648926603,-0.20401174053479268,0.43262354086467664,-0.4638179729532545,-0.12104956411305579,0.0009501990026392411,-1.7944854502101284,1.1942829892775488,0.28613422098047586,0.6089637428915142,-1.68539790425561,-0.20944913271903332,0.7539061989031305,-0.30783771025917217,0.9249555792566864,2.155794363974152,-0.30825770648294415,2.3165892472778196,1.1104333103089679,0.5986508909048686,0.8596613825961947,-1.2785925488102268,0.9522963674778507,2.414612831587702,1.5551358944135807,0.6419754681607723,1.7713479403779466,1.121810184988672,-1.3457087892552062,2.0908035265398817,0.4571403655148956,0.2239437084658507,0.002231840122407565,0.7903495448532022,0.2563582466878664,1.7319416821321127,-2.634999142029582,0.5116574427742703,0.09494333197935707,-2.7505020690095145,0.4200960660289981,-1.3218058607201475,1.0064450686749333,0.9976844535285386,-0.9675831445221813,-0.5263696958489338,1.9143818200798364],\"y\":[-0.25432533756669773,-1.581414768480805,0.40218331727380613,-0.7653635025178969,-0.03758094088299645,0.8228516602736954,0.20950479153616372,0.2368828777231409,-0.13416480196104766,0.06773423875996688,-1.3924154298925469,0.010537225188061829,-0.9192378281206622,-1.343298101902075,-1.7841952728986434,-0.5248286222071976,0.030492134192341522,-0.2095316178025833,0.941695473320228,-1.0303073120794726,-1.615853408823164,-0.7977565224429886,1.346204299136864,-1.2273416627519849,-0.9767964659827089,-1.5763455228401246,-1.9792442444712637,0.4384768080985399,0.17679566623301302,-0.9317474293601441,0.8682987401646762,-0.1003875632961765,-0.0884962705505986,0.24286646977162227,0.20207155467009158,0.38365946277845214,0.15769247651445353,-1.0665564678618131,0.49225575504181734,0.10153122545596022,0.11375123863064968,-0.4628493592894469,-0.5812908283646572,-0.5818098728891352,0.9176543169317575,0.5087887543927186,0.16819075587941956,-0.8945686934935044,0.3721570565430783,-0.257705545117878,1.6287138726491417,-1.1739713566817833,0.398367300079867,-0.6767044911122801,0.47600397787049986,-2.763129323705531,0.21077619673830947,-0.2258518499521978,-0.821396180646884,1.0365094058365847,-1.6318344262056328,-0.3298121153479205,0.8315693323045643,0.0007504783278676238,-0.29675189476684655,0.027554435329936816,0.6609436762444268,0.8785579905871628,-0.029854680377078793,1.5082301656300974,-1.2449285328680817,-0.9768057784470087,1.4916896101273067,-1.122012736021044,-0.38767399665537694,-1.329045263751567,0.6179854602630162,-2.1766036516777953,0.9997178836248283,-0.5995015860441616,1.3839885679655453,-0.5180161564966833,0.8533682831785384,-0.9115908122880608,-0.4306924280020869,0.9609848960490938,0.9220703471457242,1.7542139768319003,0.3604841912013604,0.0017037783681344279,-1.2543075592125403,-0.15102453234097343,-0.5360051864835451,0.5989775610224853,0.8263314749363494,-1.2655278034535515,0.9401542797781919,0.42961783137316306,0.7242211546399301,0.015725214681151255],\"type\":\"scatter\"}],                        {\"legend\":{\"bgcolor\":\"#F5F6F9\",\"font\":{\"color\":\"#4D5663\"}},\"paper_bgcolor\":\"#F5F6F9\",\"plot_bgcolor\":\"#F5F6F9\",\"template\":{\"data\":{\"barpolar\":[{\"marker\":{\"line\":{\"color\":\"#E5ECF6\",\"width\":0.5},\"pattern\":{\"fillmode\":\"overlay\",\"size\":10,\"solidity\":0.2}},\"type\":\"barpolar\"}],\"bar\":[{\"error_x\":{\"color\":\"#2a3f5f\"},\"error_y\":{\"color\":\"#2a3f5f\"},\"marker\":{\"line\":{\"color\":\"#E5ECF6\",\"width\":0.5},\"pattern\":{\"fillmode\":\"overlay\",\"size\":10,\"solidity\":0.2}},\"type\":\"bar\"}],\"carpet\":[{\"aaxis\":{\"endlinecolor\":\"#2a3f5f\",\"gridcolor\":\"white\",\"linecolor\":\"white\",\"minorgridcolor\":\"white\",\"startlinecolor\":\"#2a3f5f\"},\"baxis\":{\"endlinecolor\":\"#2a3f5f\",\"gridcolor\":\"white\",\"linecolor\":\"white\",\"minorgridcolor\":\"white\",\"startlinecolor\":\"#2a3f5f\"},\"type\":\"carpet\"}],\"choropleth\":[{\"colorbar\":{\"outlinewidth\":0,\"ticks\":\"\"},\"type\":\"choropleth\"}],\"contourcarpet\":[{\"colorbar\":{\"outlinewidth\":0,\"ticks\":\"\"},\"type\":\"contourcarpet\"}],\"contour\":[{\"colorbar\":{\"outlinewidth\":0,\"ticks\":\"\"},\"colorscale\":[[0.0,\"#0d0887\"],[0.1111111111111111,\"#46039f\"],[0.2222222222222222,\"#7201a8\"],[0.3333333333333333,\"#9c179e\"],[0.4444444444444444,\"#bd3786\"],[0.5555555555555556,\"#d8576b\"],[0.6666666666666666,\"#ed7953\"],[0.7777777777777778,\"#fb9f3a\"],[0.8888888888888888,\"#fdca26\"],[1.0,\"#f0f921\"]],\"type\":\"contour\"}],\"heatmapgl\":[{\"colorbar\":{\"outlinewidth\":0,\"ticks\":\"\"},\"colorscale\":[[0.0,\"#0d0887\"],[0.1111111111111111,\"#46039f\"],[0.2222222222222222,\"#7201a8\"],[0.3333333333333333,\"#9c179e\"],[0.4444444444444444,\"#bd3786\"],[0.5555555555555556,\"#d8576b\"],[0.6666666666666666,\"#ed7953\"],[0.7777777777777778,\"#fb9f3a\"],[0.8888888888888888,\"#fdca26\"],[1.0,\"#f0f921\"]],\"type\":\"heatmapgl\"}],\"heatmap\":[{\"colorbar\":{\"outlinewidth\":0,\"ticks\":\"\"},\"colorscale\":[[0.0,\"#0d0887\"],[0.1111111111111111,\"#46039f\"],[0.2222222222222222,\"#7201a8\"],[0.3333333333333333,\"#9c179e\"],[0.4444444444444444,\"#bd3786\"],[0.5555555555555556,\"#d8576b\"],[0.6666666666666666,\"#ed7953\"],[0.7777777777777778,\"#fb9f3a\"],[0.8888888888888888,\"#fdca26\"],[1.0,\"#f0f921\"]],\"type\":\"heatmap\"}],\"histogram2dcontour\":[{\"colorbar\":{\"outlinewidth\":0,\"ticks\":\"\"},\"colorscale\":[[0.0,\"#0d0887\"],[0.1111111111111111,\"#46039f\"],[0.2222222222222222,\"#7201a8\"],[0.3333333333333333,\"#9c179e\"],[0.4444444444444444,\"#bd3786\"],[0.5555555555555556,\"#d8576b\"],[0.6666666666666666,\"#ed7953\"],[0.7777777777777778,\"#fb9f3a\"],[0.8888888888888888,\"#fdca26\"],[1.0,\"#f0f921\"]],\"type\":\"histogram2dcontour\"}],\"histogram2d\":[{\"colorbar\":{\"outlinewidth\":0,\"ticks\":\"\"},\"colorscale\":[[0.0,\"#0d0887\"],[0.1111111111111111,\"#46039f\"],[0.2222222222222222,\"#7201a8\"],[0.3333333333333333,\"#9c179e\"],[0.4444444444444444,\"#bd3786\"],[0.5555555555555556,\"#d8576b\"],[0.6666666666666666,\"#ed7953\"],[0.7777777777777778,\"#fb9f3a\"],[0.8888888888888888,\"#fdca26\"],[1.0,\"#f0f921\"]],\"type\":\"histogram2d\"}],\"histogram\":[{\"marker\":{\"pattern\":{\"fillmode\":\"overlay\",\"size\":10,\"solidity\":0.2}},\"type\":\"histogram\"}],\"mesh3d\":[{\"colorbar\":{\"outlinewidth\":0,\"ticks\":\"\"},\"type\":\"mesh3d\"}],\"parcoords\":[{\"line\":{\"colorbar\":{\"outlinewidth\":0,\"ticks\":\"\"}},\"type\":\"parcoords\"}],\"pie\":[{\"automargin\":true,\"type\":\"pie\"}],\"scatter3d\":[{\"line\":{\"colorbar\":{\"outlinewidth\":0,\"ticks\":\"\"}},\"marker\":{\"colorbar\":{\"outlinewidth\":0,\"ticks\":\"\"}},\"type\":\"scatter3d\"}],\"scattercarpet\":[{\"marker\":{\"colorbar\":{\"outlinewidth\":0,\"ticks\":\"\"}},\"type\":\"scattercarpet\"}],\"scattergeo\":[{\"marker\":{\"colorbar\":{\"outlinewidth\":0,\"ticks\":\"\"}},\"type\":\"scattergeo\"}],\"scattergl\":[{\"marker\":{\"colorbar\":{\"outlinewidth\":0,\"ticks\":\"\"}},\"type\":\"scattergl\"}],\"scattermapbox\":[{\"marker\":{\"colorbar\":{\"outlinewidth\":0,\"ticks\":\"\"}},\"type\":\"scattermapbox\"}],\"scatterpolargl\":[{\"marker\":{\"colorbar\":{\"outlinewidth\":0,\"ticks\":\"\"}},\"type\":\"scatterpolargl\"}],\"scatterpolar\":[{\"marker\":{\"colorbar\":{\"outlinewidth\":0,\"ticks\":\"\"}},\"type\":\"scatterpolar\"}],\"scatter\":[{\"fillpattern\":{\"fillmode\":\"overlay\",\"size\":10,\"solidity\":0.2},\"type\":\"scatter\"}],\"scatterternary\":[{\"marker\":{\"colorbar\":{\"outlinewidth\":0,\"ticks\":\"\"}},\"type\":\"scatterternary\"}],\"surface\":[{\"colorbar\":{\"outlinewidth\":0,\"ticks\":\"\"},\"colorscale\":[[0.0,\"#0d0887\"],[0.1111111111111111,\"#46039f\"],[0.2222222222222222,\"#7201a8\"],[0.3333333333333333,\"#9c179e\"],[0.4444444444444444,\"#bd3786\"],[0.5555555555555556,\"#d8576b\"],[0.6666666666666666,\"#ed7953\"],[0.7777777777777778,\"#fb9f3a\"],[0.8888888888888888,\"#fdca26\"],[1.0,\"#f0f921\"]],\"type\":\"surface\"}],\"table\":[{\"cells\":{\"fill\":{\"color\":\"#EBF0F8\"},\"line\":{\"color\":\"white\"}},\"header\":{\"fill\":{\"color\":\"#C8D4E3\"},\"line\":{\"color\":\"white\"}},\"type\":\"table\"}]},\"layout\":{\"annotationdefaults\":{\"arrowcolor\":\"#2a3f5f\",\"arrowhead\":0,\"arrowwidth\":1},\"autotypenumbers\":\"strict\",\"coloraxis\":{\"colorbar\":{\"outlinewidth\":0,\"ticks\":\"\"}},\"colorscale\":{\"diverging\":[[0,\"#8e0152\"],[0.1,\"#c51b7d\"],[0.2,\"#de77ae\"],[0.3,\"#f1b6da\"],[0.4,\"#fde0ef\"],[0.5,\"#f7f7f7\"],[0.6,\"#e6f5d0\"],[0.7,\"#b8e186\"],[0.8,\"#7fbc41\"],[0.9,\"#4d9221\"],[1,\"#276419\"]],\"sequential\":[[0.0,\"#0d0887\"],[0.1111111111111111,\"#46039f\"],[0.2222222222222222,\"#7201a8\"],[0.3333333333333333,\"#9c179e\"],[0.4444444444444444,\"#bd3786\"],[0.5555555555555556,\"#d8576b\"],[0.6666666666666666,\"#ed7953\"],[0.7777777777777778,\"#fb9f3a\"],[0.8888888888888888,\"#fdca26\"],[1.0,\"#f0f921\"]],\"sequentialminus\":[[0.0,\"#0d0887\"],[0.1111111111111111,\"#46039f\"],[0.2222222222222222,\"#7201a8\"],[0.3333333333333333,\"#9c179e\"],[0.4444444444444444,\"#bd3786\"],[0.5555555555555556,\"#d8576b\"],[0.6666666666666666,\"#ed7953\"],[0.7777777777777778,\"#fb9f3a\"],[0.8888888888888888,\"#fdca26\"],[1.0,\"#f0f921\"]]},\"colorway\":[\"#636efa\",\"#EF553B\",\"#00cc96\",\"#ab63fa\",\"#FFA15A\",\"#19d3f3\",\"#FF6692\",\"#B6E880\",\"#FF97FF\",\"#FECB52\"],\"font\":{\"color\":\"#2a3f5f\"},\"geo\":{\"bgcolor\":\"white\",\"lakecolor\":\"white\",\"landcolor\":\"#E5ECF6\",\"showlakes\":true,\"showland\":true,\"subunitcolor\":\"white\"},\"hoverlabel\":{\"align\":\"left\"},\"hovermode\":\"closest\",\"mapbox\":{\"style\":\"light\"},\"paper_bgcolor\":\"white\",\"plot_bgcolor\":\"#E5ECF6\",\"polar\":{\"angularaxis\":{\"gridcolor\":\"white\",\"linecolor\":\"white\",\"ticks\":\"\"},\"bgcolor\":\"#E5ECF6\",\"radialaxis\":{\"gridcolor\":\"white\",\"linecolor\":\"white\",\"ticks\":\"\"}},\"scene\":{\"xaxis\":{\"backgroundcolor\":\"#E5ECF6\",\"gridcolor\":\"white\",\"gridwidth\":2,\"linecolor\":\"white\",\"showbackground\":true,\"ticks\":\"\",\"zerolinecolor\":\"white\"},\"yaxis\":{\"backgroundcolor\":\"#E5ECF6\",\"gridcolor\":\"white\",\"gridwidth\":2,\"linecolor\":\"white\",\"showbackground\":true,\"ticks\":\"\",\"zerolinecolor\":\"white\"},\"zaxis\":{\"backgroundcolor\":\"#E5ECF6\",\"gridcolor\":\"white\",\"gridwidth\":2,\"linecolor\":\"white\",\"showbackground\":true,\"ticks\":\"\",\"zerolinecolor\":\"white\"}},\"shapedefaults\":{\"line\":{\"color\":\"#2a3f5f\"}},\"ternary\":{\"aaxis\":{\"gridcolor\":\"white\",\"linecolor\":\"white\",\"ticks\":\"\"},\"baxis\":{\"gridcolor\":\"white\",\"linecolor\":\"white\",\"ticks\":\"\"},\"bgcolor\":\"#E5ECF6\",\"caxis\":{\"gridcolor\":\"white\",\"linecolor\":\"white\",\"ticks\":\"\"}},\"title\":{\"x\":0.05},\"xaxis\":{\"automargin\":true,\"gridcolor\":\"white\",\"linecolor\":\"white\",\"ticks\":\"\",\"title\":{\"standoff\":15},\"zerolinecolor\":\"white\",\"zerolinewidth\":2},\"yaxis\":{\"automargin\":true,\"gridcolor\":\"white\",\"linecolor\":\"white\",\"ticks\":\"\",\"title\":{\"standoff\":15},\"zerolinecolor\":\"white\",\"zerolinewidth\":2}}},\"title\":{\"font\":{\"color\":\"#4D5663\"}},\"xaxis\":{\"gridcolor\":\"#E1E5ED\",\"showgrid\":true,\"tickfont\":{\"color\":\"#4D5663\"},\"title\":{\"font\":{\"color\":\"#4D5663\"},\"text\":\"\"},\"zerolinecolor\":\"#E1E5ED\"},\"yaxis\":{\"gridcolor\":\"#E1E5ED\",\"showgrid\":true,\"tickfont\":{\"color\":\"#4D5663\"},\"title\":{\"font\":{\"color\":\"#4D5663\"},\"text\":\"\"},\"zerolinecolor\":\"#E1E5ED\"}},                        {\"showLink\": true, \"linkText\": \"Export to plot.ly\", \"plotlyServerURL\": \"https://plot.ly\", \"responsive\": true}                    ).then(function(){\n",
       "                            \n",
       "var gd = document.getElementById('989f6ad9-6787-4b3a-931a-359dd2ab522c');\n",
       "var x = new MutationObserver(function (mutations, observer) {{\n",
       "        var display = window.getComputedStyle(gd).display;\n",
       "        if (!display || display === 'none') {{\n",
       "            console.log([gd, 'removed!']);\n",
       "            Plotly.purge(gd);\n",
       "            observer.disconnect();\n",
       "        }}\n",
       "}});\n",
       "\n",
       "// Listen for the removal of the full notebook cells\n",
       "var notebookContainer = gd.closest('#notebook-container');\n",
       "if (notebookContainer) {{\n",
       "    x.observe(notebookContainer, {childList: true});\n",
       "}}\n",
       "\n",
       "// Listen for the clearing of the current output cell\n",
       "var outputEl = gd.closest('.output');\n",
       "if (outputEl) {{\n",
       "    x.observe(outputEl, {childList: true});\n",
       "}}\n",
       "\n",
       "                        })                };                });            </script>        </div>"
      ]
     },
     "metadata": {},
     "output_type": "display_data"
    }
   ],
   "source": [
    "df.iplot(kind='bubble', x='A', y='B', size='C', colors='crimson')"
   ]
  },
  {
   "attachments": {},
   "cell_type": "markdown",
   "metadata": {},
   "source": [
    "### scatter_matrix()"
   ]
  },
  {
   "cell_type": "code",
   "execution_count": 72,
   "metadata": {},
   "outputs": [
    {
     "data": {
      "application/vnd.plotly.v1+json": {
       "config": {
        "linkText": "Export to plot.ly",
        "plotlyServerURL": "https://plot.ly",
        "showLink": true
       },
       "data": [
        {
         "histfunc": "count",
         "histnorm": "",
         "marker": {
          "color": "rgba(255, 153, 51, 1.0)",
          "line": {
           "color": "#4D5663",
           "width": 1.3
          }
         },
         "name": "A",
         "nbinsx": 10,
         "opacity": 0.8,
         "orientation": "v",
         "type": "histogram",
         "x": [
          -0.2608614967031024,
          -0.49096342548313715,
          0.6534012059127755,
          -0.10382438391128623,
          0.0915136834623817,
          -0.2578466669372469,
          1.3897210082903713,
          -2.013970521337588,
          1.125741276541228,
          1.4993336191900457,
          -1.0595478745403308,
          -0.9430230210121577,
          -1.2621205005640328,
          1.4036731506061113,
          -0.03593673976090577,
          0.3050000998253773,
          -0.5522484049090643,
          -1.0203076856253586,
          0.6432367105616998,
          -0.8914863941492807,
          -2.185714250972939,
          0.12623577838399472,
          0.3921453841215854,
          0.4737295051464659,
          -0.17056200224579707,
          1.1774627570310106,
          -0.20762902062129898,
          1.2387067508523648,
          -1.3942752324541112,
          -1.716189450517545,
          0.22085285260585943,
          -0.6321810216895608,
          1.3901915806812715,
          1.0108805251540562,
          1.061249343310655,
          0.5308300215857267,
          -0.9503016687818185,
          -1.667629010859623,
          -1.1568624868134363,
          1.5218137380315473,
          -0.39221211032341013,
          2.3415395295809978,
          -1.486339576927987,
          -0.03772819855435538,
          1.4092361992473252,
          -0.7939024526846925,
          0.7862010597484133,
          -0.7353686055886977,
          0.4288694099887663,
          -0.27000065017539937,
          -0.41260190292719623,
          0.2707480429353407,
          -2.3153140545469633,
          -0.493246648926603,
          -0.20401174053479268,
          0.43262354086467664,
          -0.4638179729532545,
          -0.12104956411305579,
          0.0009501990026392411,
          -1.7944854502101284,
          1.1942829892775488,
          0.28613422098047586,
          0.6089637428915142,
          -1.68539790425561,
          -0.20944913271903332,
          0.7539061989031305,
          -0.30783771025917217,
          0.9249555792566864,
          2.155794363974152,
          -0.30825770648294415,
          2.3165892472778196,
          1.1104333103089679,
          0.5986508909048686,
          0.8596613825961947,
          -1.2785925488102268,
          0.9522963674778507,
          2.414612831587702,
          1.5551358944135807,
          0.6419754681607723,
          1.7713479403779466,
          1.121810184988672,
          -1.3457087892552062,
          2.0908035265398817,
          0.4571403655148956,
          0.2239437084658507,
          0.002231840122407565,
          0.7903495448532022,
          0.2563582466878664,
          1.7319416821321127,
          -2.634999142029582,
          0.5116574427742703,
          0.09494333197935707,
          -2.7505020690095145,
          0.4200960660289981,
          -1.3218058607201475,
          1.0064450686749333,
          0.9976844535285386,
          -0.9675831445221813,
          -0.5263696958489338,
          1.9143818200798364
         ],
         "xaxis": "x",
         "yaxis": "y"
        },
        {
         "line": {
          "color": "rgba(128, 128, 128, 1.0)",
          "dash": "solid",
          "shape": "linear",
          "width": 1.3
         },
         "marker": {
          "size": 2,
          "symbol": "circle"
         },
         "mode": "markers",
         "name": "A",
         "text": "",
         "type": "scatter",
         "x": [
          -0.25432533756669773,
          -1.581414768480805,
          0.40218331727380613,
          -0.7653635025178969,
          -0.03758094088299645,
          0.8228516602736954,
          0.20950479153616372,
          0.2368828777231409,
          -0.13416480196104766,
          0.06773423875996688,
          -1.3924154298925469,
          0.010537225188061829,
          -0.9192378281206622,
          -1.343298101902075,
          -1.7841952728986434,
          -0.5248286222071976,
          0.030492134192341522,
          -0.2095316178025833,
          0.941695473320228,
          -1.0303073120794726,
          -1.615853408823164,
          -0.7977565224429886,
          1.346204299136864,
          -1.2273416627519849,
          -0.9767964659827089,
          -1.5763455228401246,
          -1.9792442444712637,
          0.4384768080985399,
          0.17679566623301302,
          -0.9317474293601441,
          0.8682987401646762,
          -0.1003875632961765,
          -0.0884962705505986,
          0.24286646977162227,
          0.20207155467009158,
          0.38365946277845214,
          0.15769247651445353,
          -1.0665564678618131,
          0.49225575504181734,
          0.10153122545596022,
          0.11375123863064968,
          -0.4628493592894469,
          -0.5812908283646572,
          -0.5818098728891352,
          0.9176543169317575,
          0.5087887543927186,
          0.16819075587941956,
          -0.8945686934935044,
          0.3721570565430783,
          -0.257705545117878,
          1.6287138726491417,
          -1.1739713566817833,
          0.398367300079867,
          -0.6767044911122801,
          0.47600397787049986,
          -2.763129323705531,
          0.21077619673830947,
          -0.2258518499521978,
          -0.821396180646884,
          1.0365094058365847,
          -1.6318344262056328,
          -0.3298121153479205,
          0.8315693323045643,
          0.0007504783278676238,
          -0.29675189476684655,
          0.027554435329936816,
          0.6609436762444268,
          0.8785579905871628,
          -0.029854680377078793,
          1.5082301656300974,
          -1.2449285328680817,
          -0.9768057784470087,
          1.4916896101273067,
          -1.122012736021044,
          -0.38767399665537694,
          -1.329045263751567,
          0.6179854602630162,
          -2.1766036516777953,
          0.9997178836248283,
          -0.5995015860441616,
          1.3839885679655453,
          -0.5180161564966833,
          0.8533682831785384,
          -0.9115908122880608,
          -0.4306924280020869,
          0.9609848960490938,
          0.9220703471457242,
          1.7542139768319003,
          0.3604841912013604,
          0.0017037783681344279,
          -1.2543075592125403,
          -0.15102453234097343,
          -0.5360051864835451,
          0.5989775610224853,
          0.8263314749363494,
          -1.2655278034535515,
          0.9401542797781919,
          0.42961783137316306,
          0.7242211546399301,
          0.015725214681151255
         ],
         "xaxis": "x2",
         "y": [
          -0.2608614967031024,
          -0.49096342548313715,
          0.6534012059127755,
          -0.10382438391128623,
          0.0915136834623817,
          -0.2578466669372469,
          1.3897210082903713,
          -2.013970521337588,
          1.125741276541228,
          1.4993336191900457,
          -1.0595478745403308,
          -0.9430230210121577,
          -1.2621205005640328,
          1.4036731506061113,
          -0.03593673976090577,
          0.3050000998253773,
          -0.5522484049090643,
          -1.0203076856253586,
          0.6432367105616998,
          -0.8914863941492807,
          -2.185714250972939,
          0.12623577838399472,
          0.3921453841215854,
          0.4737295051464659,
          -0.17056200224579707,
          1.1774627570310106,
          -0.20762902062129898,
          1.2387067508523648,
          -1.3942752324541112,
          -1.716189450517545,
          0.22085285260585943,
          -0.6321810216895608,
          1.3901915806812715,
          1.0108805251540562,
          1.061249343310655,
          0.5308300215857267,
          -0.9503016687818185,
          -1.667629010859623,
          -1.1568624868134363,
          1.5218137380315473,
          -0.39221211032341013,
          2.3415395295809978,
          -1.486339576927987,
          -0.03772819855435538,
          1.4092361992473252,
          -0.7939024526846925,
          0.7862010597484133,
          -0.7353686055886977,
          0.4288694099887663,
          -0.27000065017539937,
          -0.41260190292719623,
          0.2707480429353407,
          -2.3153140545469633,
          -0.493246648926603,
          -0.20401174053479268,
          0.43262354086467664,
          -0.4638179729532545,
          -0.12104956411305579,
          0.0009501990026392411,
          -1.7944854502101284,
          1.1942829892775488,
          0.28613422098047586,
          0.6089637428915142,
          -1.68539790425561,
          -0.20944913271903332,
          0.7539061989031305,
          -0.30783771025917217,
          0.9249555792566864,
          2.155794363974152,
          -0.30825770648294415,
          2.3165892472778196,
          1.1104333103089679,
          0.5986508909048686,
          0.8596613825961947,
          -1.2785925488102268,
          0.9522963674778507,
          2.414612831587702,
          1.5551358944135807,
          0.6419754681607723,
          1.7713479403779466,
          1.121810184988672,
          -1.3457087892552062,
          2.0908035265398817,
          0.4571403655148956,
          0.2239437084658507,
          0.002231840122407565,
          0.7903495448532022,
          0.2563582466878664,
          1.7319416821321127,
          -2.634999142029582,
          0.5116574427742703,
          0.09494333197935707,
          -2.7505020690095145,
          0.4200960660289981,
          -1.3218058607201475,
          1.0064450686749333,
          0.9976844535285386,
          -0.9675831445221813,
          -0.5263696958489338,
          1.9143818200798364
         ],
         "yaxis": "y2"
        },
        {
         "line": {
          "color": "rgba(128, 128, 128, 1.0)",
          "dash": "solid",
          "shape": "linear",
          "width": 1.3
         },
         "marker": {
          "size": 2,
          "symbol": "circle"
         },
         "mode": "markers",
         "name": "A",
         "text": "",
         "type": "scatter",
         "x": [
          0.6992355186470794,
          -0.961349925801248,
          -1.4530017126038446,
          -0.46747953735628,
          0.6179283646858071,
          0.08427229602569358,
          -0.4422796309733475,
          -1.017677544349955,
          -0.19384791458665435,
          -0.4027409126065992,
          -1.0459762747482046,
          -0.45171778521705136,
          0.5225231583018677,
          -0.6528166789415045,
          -0.10682849250694507,
          -0.992634174352462,
          0.9388318403964275,
          0.06633672040509916,
          -1.7023296104731054,
          -0.7880567550086323,
          0.36278825080369226,
          -0.8868488243081134,
          0.1989542301540041,
          -1.480811064500878,
          -0.8006505123444279,
          -1.951136985513205,
          0.3258176939679062,
          -1.4535219862978328,
          0.6381867404508632,
          0.5936058599286947,
          -0.7005663348259505,
          -0.623777076273893,
          0.11998600140106362,
          -0.7365169242004647,
          -1.475604072622844,
          -0.9917851988392883,
          -0.3526672429700603,
          -0.7663706653486057,
          1.500994272720018,
          -0.8864174727362274,
          -0.3823132942724965,
          -0.05774281041742565,
          0.4888736502547718,
          -0.28882838606809197,
          0.18925905060950246,
          0.012466343179889518,
          0.9915849904749007,
          -0.5287339927310498,
          -0.9182558258919131,
          -1.1130104456978185,
          -0.8122178875050419,
          0.8433274504829935,
          1.2142063586186593,
          -0.12819455122333961,
          0.030342918433465215,
          0.11875393411977264,
          0.2151373356484712,
          -2.3064758091798168,
          -0.7273507048062112,
          -1.188843480446673,
          -0.5714117854319605,
          0.36159090980546205,
          0.017916573232139667,
          0.2220947814245966,
          -0.4950200844017089,
          1.2625039888784364,
          -0.36634924333782043,
          0.6019338146892275,
          -0.14558248957116632,
          0.5463251657368409,
          0.5124712738010542,
          -0.5019635480348108,
          0.4119033892492304,
          0.3730809088695454,
          -0.23883140872158395,
          -1.0577671771039834,
          -0.8994648971609895,
          -1.6955524505950974,
          0.8319039015982783,
          -0.9690500398916245,
          -0.5187882164775001,
          -0.46253745172121935,
          0.6259532609668151,
          -0.0930799607957207,
          -2.3968815296415316,
          -0.9861227809085562,
          -0.6707295203799367,
          0.9465112097197014,
          0.9212119670161162,
          0.6949377871496079,
          -0.8348106484463262,
          -0.8528549149614885,
          -0.3060635082667802,
          -1.0802732520188134,
          0.6372172424462347,
          -1.0537788743769516,
          1.5397973968989402,
          0.4704611826848934,
          0.49908382817736924,
          -0.7184004827712632
         ],
         "xaxis": "x3",
         "y": [
          -0.2608614967031024,
          -0.49096342548313715,
          0.6534012059127755,
          -0.10382438391128623,
          0.0915136834623817,
          -0.2578466669372469,
          1.3897210082903713,
          -2.013970521337588,
          1.125741276541228,
          1.4993336191900457,
          -1.0595478745403308,
          -0.9430230210121577,
          -1.2621205005640328,
          1.4036731506061113,
          -0.03593673976090577,
          0.3050000998253773,
          -0.5522484049090643,
          -1.0203076856253586,
          0.6432367105616998,
          -0.8914863941492807,
          -2.185714250972939,
          0.12623577838399472,
          0.3921453841215854,
          0.4737295051464659,
          -0.17056200224579707,
          1.1774627570310106,
          -0.20762902062129898,
          1.2387067508523648,
          -1.3942752324541112,
          -1.716189450517545,
          0.22085285260585943,
          -0.6321810216895608,
          1.3901915806812715,
          1.0108805251540562,
          1.061249343310655,
          0.5308300215857267,
          -0.9503016687818185,
          -1.667629010859623,
          -1.1568624868134363,
          1.5218137380315473,
          -0.39221211032341013,
          2.3415395295809978,
          -1.486339576927987,
          -0.03772819855435538,
          1.4092361992473252,
          -0.7939024526846925,
          0.7862010597484133,
          -0.7353686055886977,
          0.4288694099887663,
          -0.27000065017539937,
          -0.41260190292719623,
          0.2707480429353407,
          -2.3153140545469633,
          -0.493246648926603,
          -0.20401174053479268,
          0.43262354086467664,
          -0.4638179729532545,
          -0.12104956411305579,
          0.0009501990026392411,
          -1.7944854502101284,
          1.1942829892775488,
          0.28613422098047586,
          0.6089637428915142,
          -1.68539790425561,
          -0.20944913271903332,
          0.7539061989031305,
          -0.30783771025917217,
          0.9249555792566864,
          2.155794363974152,
          -0.30825770648294415,
          2.3165892472778196,
          1.1104333103089679,
          0.5986508909048686,
          0.8596613825961947,
          -1.2785925488102268,
          0.9522963674778507,
          2.414612831587702,
          1.5551358944135807,
          0.6419754681607723,
          1.7713479403779466,
          1.121810184988672,
          -1.3457087892552062,
          2.0908035265398817,
          0.4571403655148956,
          0.2239437084658507,
          0.002231840122407565,
          0.7903495448532022,
          0.2563582466878664,
          1.7319416821321127,
          -2.634999142029582,
          0.5116574427742703,
          0.09494333197935707,
          -2.7505020690095145,
          0.4200960660289981,
          -1.3218058607201475,
          1.0064450686749333,
          0.9976844535285386,
          -0.9675831445221813,
          -0.5263696958489338,
          1.9143818200798364
         ],
         "yaxis": "y3"
        },
        {
         "line": {
          "color": "rgba(128, 128, 128, 1.0)",
          "dash": "solid",
          "shape": "linear",
          "width": 1.3
         },
         "marker": {
          "size": 2,
          "symbol": "circle"
         },
         "mode": "markers",
         "name": "A",
         "text": "",
         "type": "scatter",
         "x": [
          0.7950735439865309,
          1.936121928075488,
          0.20022620351317216,
          1.097902781559905,
          0.020108485628208227,
          -0.8852645510371487,
          0.6195504811283205,
          -1.0213127220643865,
          -2.64844972310845,
          0.4393712706108427,
          0.4424196745865346,
          0.18926775285610348,
          -0.8033165761908125,
          -0.6340294954265075,
          1.6574678620596546,
          -2.1323846048663797,
          -0.058137577898140946,
          -0.9129094552117951,
          0.44079697940631796,
          1.5300325111902,
          -1.922913157519095,
          1.9425511501521169,
          -0.7944535583480138,
          -1.6972535851255646,
          2.908507442808897,
          0.540490156801308,
          -0.6704033218765552,
          0.6584243028129534,
          0.27790936261239546,
          -0.20611122570958804,
          0.987244725775321,
          -0.5969325916898187,
          -0.1463593611464717,
          -1.5813749544994997,
          0.6533414467155894,
          2.2815125991427303,
          -0.4867594105256819,
          -2.2575906781599153,
          -0.6130791857271658,
          1.8357105417542057,
          0.529480638973706,
          -0.24319864772868918,
          -0.6048430200351759,
          0.7282085854430383,
          -0.7469725073276487,
          0.09988518294440948,
          -0.7575913692400225,
          -1.6521365337421492,
          0.8693150155319037,
          -0.8284365190454768,
          0.5845329350815593,
          0.4368402464691883,
          -0.8544562691512323,
          -0.40065736981156846,
          -0.024109765900172834,
          -0.2703111701790727,
          -0.5055617857724994,
          1.4256560804101626,
          0.06137345824064349,
          1.2200762356185093,
          0.39495352040288056,
          0.6070941523531138,
          0.03564521782445323,
          0.5727215352201621,
          0.09261794917829301,
          0.4549785212801003,
          -0.364961829741321,
          0.9343593098521027,
          1.0568490542579694,
          1.275755792660451,
          0.9269012427603945,
          0.7252636702258335,
          0.5119901677658074,
          2.521527424165082,
          0.5733569046382473,
          -0.6736459742845685,
          -0.07931047427814839,
          -0.6237076308005572,
          -0.2642060084782512,
          1.5083353927154404,
          0.9834924603760741,
          0.3024503668179526,
          0.660115804322677,
          2.3716077891534164,
          -0.14932105068655796,
          1.4470670560644057,
          1.2710270686340344,
          0.44082247924959217,
          -0.9962725879158789,
          0.9385800769386916,
          0.3702572157326843,
          -0.17182266923951767,
          0.8825266450639152,
          0.5851084705005075,
          -0.333920032363868,
          -0.21579762138892633,
          0.6201832711846496,
          -0.5496467319062202,
          -0.4109949271321021,
          -1.0847808598073
         ],
         "xaxis": "x4",
         "y": [
          -0.2608614967031024,
          -0.49096342548313715,
          0.6534012059127755,
          -0.10382438391128623,
          0.0915136834623817,
          -0.2578466669372469,
          1.3897210082903713,
          -2.013970521337588,
          1.125741276541228,
          1.4993336191900457,
          -1.0595478745403308,
          -0.9430230210121577,
          -1.2621205005640328,
          1.4036731506061113,
          -0.03593673976090577,
          0.3050000998253773,
          -0.5522484049090643,
          -1.0203076856253586,
          0.6432367105616998,
          -0.8914863941492807,
          -2.185714250972939,
          0.12623577838399472,
          0.3921453841215854,
          0.4737295051464659,
          -0.17056200224579707,
          1.1774627570310106,
          -0.20762902062129898,
          1.2387067508523648,
          -1.3942752324541112,
          -1.716189450517545,
          0.22085285260585943,
          -0.6321810216895608,
          1.3901915806812715,
          1.0108805251540562,
          1.061249343310655,
          0.5308300215857267,
          -0.9503016687818185,
          -1.667629010859623,
          -1.1568624868134363,
          1.5218137380315473,
          -0.39221211032341013,
          2.3415395295809978,
          -1.486339576927987,
          -0.03772819855435538,
          1.4092361992473252,
          -0.7939024526846925,
          0.7862010597484133,
          -0.7353686055886977,
          0.4288694099887663,
          -0.27000065017539937,
          -0.41260190292719623,
          0.2707480429353407,
          -2.3153140545469633,
          -0.493246648926603,
          -0.20401174053479268,
          0.43262354086467664,
          -0.4638179729532545,
          -0.12104956411305579,
          0.0009501990026392411,
          -1.7944854502101284,
          1.1942829892775488,
          0.28613422098047586,
          0.6089637428915142,
          -1.68539790425561,
          -0.20944913271903332,
          0.7539061989031305,
          -0.30783771025917217,
          0.9249555792566864,
          2.155794363974152,
          -0.30825770648294415,
          2.3165892472778196,
          1.1104333103089679,
          0.5986508909048686,
          0.8596613825961947,
          -1.2785925488102268,
          0.9522963674778507,
          2.414612831587702,
          1.5551358944135807,
          0.6419754681607723,
          1.7713479403779466,
          1.121810184988672,
          -1.3457087892552062,
          2.0908035265398817,
          0.4571403655148956,
          0.2239437084658507,
          0.002231840122407565,
          0.7903495448532022,
          0.2563582466878664,
          1.7319416821321127,
          -2.634999142029582,
          0.5116574427742703,
          0.09494333197935707,
          -2.7505020690095145,
          0.4200960660289981,
          -1.3218058607201475,
          1.0064450686749333,
          0.9976844535285386,
          -0.9675831445221813,
          -0.5263696958489338,
          1.9143818200798364
         ],
         "yaxis": "y4"
        },
        {
         "line": {
          "color": "rgba(128, 128, 128, 1.0)",
          "dash": "solid",
          "shape": "linear",
          "width": 1.3
         },
         "marker": {
          "size": 2,
          "symbol": "circle"
         },
         "mode": "markers",
         "name": "B",
         "text": "",
         "type": "scatter",
         "x": [
          -0.2608614967031024,
          -0.49096342548313715,
          0.6534012059127755,
          -0.10382438391128623,
          0.0915136834623817,
          -0.2578466669372469,
          1.3897210082903713,
          -2.013970521337588,
          1.125741276541228,
          1.4993336191900457,
          -1.0595478745403308,
          -0.9430230210121577,
          -1.2621205005640328,
          1.4036731506061113,
          -0.03593673976090577,
          0.3050000998253773,
          -0.5522484049090643,
          -1.0203076856253586,
          0.6432367105616998,
          -0.8914863941492807,
          -2.185714250972939,
          0.12623577838399472,
          0.3921453841215854,
          0.4737295051464659,
          -0.17056200224579707,
          1.1774627570310106,
          -0.20762902062129898,
          1.2387067508523648,
          -1.3942752324541112,
          -1.716189450517545,
          0.22085285260585943,
          -0.6321810216895608,
          1.3901915806812715,
          1.0108805251540562,
          1.061249343310655,
          0.5308300215857267,
          -0.9503016687818185,
          -1.667629010859623,
          -1.1568624868134363,
          1.5218137380315473,
          -0.39221211032341013,
          2.3415395295809978,
          -1.486339576927987,
          -0.03772819855435538,
          1.4092361992473252,
          -0.7939024526846925,
          0.7862010597484133,
          -0.7353686055886977,
          0.4288694099887663,
          -0.27000065017539937,
          -0.41260190292719623,
          0.2707480429353407,
          -2.3153140545469633,
          -0.493246648926603,
          -0.20401174053479268,
          0.43262354086467664,
          -0.4638179729532545,
          -0.12104956411305579,
          0.0009501990026392411,
          -1.7944854502101284,
          1.1942829892775488,
          0.28613422098047586,
          0.6089637428915142,
          -1.68539790425561,
          -0.20944913271903332,
          0.7539061989031305,
          -0.30783771025917217,
          0.9249555792566864,
          2.155794363974152,
          -0.30825770648294415,
          2.3165892472778196,
          1.1104333103089679,
          0.5986508909048686,
          0.8596613825961947,
          -1.2785925488102268,
          0.9522963674778507,
          2.414612831587702,
          1.5551358944135807,
          0.6419754681607723,
          1.7713479403779466,
          1.121810184988672,
          -1.3457087892552062,
          2.0908035265398817,
          0.4571403655148956,
          0.2239437084658507,
          0.002231840122407565,
          0.7903495448532022,
          0.2563582466878664,
          1.7319416821321127,
          -2.634999142029582,
          0.5116574427742703,
          0.09494333197935707,
          -2.7505020690095145,
          0.4200960660289981,
          -1.3218058607201475,
          1.0064450686749333,
          0.9976844535285386,
          -0.9675831445221813,
          -0.5263696958489338,
          1.9143818200798364
         ],
         "xaxis": "x5",
         "y": [
          -0.25432533756669773,
          -1.581414768480805,
          0.40218331727380613,
          -0.7653635025178969,
          -0.03758094088299645,
          0.8228516602736954,
          0.20950479153616372,
          0.2368828777231409,
          -0.13416480196104766,
          0.06773423875996688,
          -1.3924154298925469,
          0.010537225188061829,
          -0.9192378281206622,
          -1.343298101902075,
          -1.7841952728986434,
          -0.5248286222071976,
          0.030492134192341522,
          -0.2095316178025833,
          0.941695473320228,
          -1.0303073120794726,
          -1.615853408823164,
          -0.7977565224429886,
          1.346204299136864,
          -1.2273416627519849,
          -0.9767964659827089,
          -1.5763455228401246,
          -1.9792442444712637,
          0.4384768080985399,
          0.17679566623301302,
          -0.9317474293601441,
          0.8682987401646762,
          -0.1003875632961765,
          -0.0884962705505986,
          0.24286646977162227,
          0.20207155467009158,
          0.38365946277845214,
          0.15769247651445353,
          -1.0665564678618131,
          0.49225575504181734,
          0.10153122545596022,
          0.11375123863064968,
          -0.4628493592894469,
          -0.5812908283646572,
          -0.5818098728891352,
          0.9176543169317575,
          0.5087887543927186,
          0.16819075587941956,
          -0.8945686934935044,
          0.3721570565430783,
          -0.257705545117878,
          1.6287138726491417,
          -1.1739713566817833,
          0.398367300079867,
          -0.6767044911122801,
          0.47600397787049986,
          -2.763129323705531,
          0.21077619673830947,
          -0.2258518499521978,
          -0.821396180646884,
          1.0365094058365847,
          -1.6318344262056328,
          -0.3298121153479205,
          0.8315693323045643,
          0.0007504783278676238,
          -0.29675189476684655,
          0.027554435329936816,
          0.6609436762444268,
          0.8785579905871628,
          -0.029854680377078793,
          1.5082301656300974,
          -1.2449285328680817,
          -0.9768057784470087,
          1.4916896101273067,
          -1.122012736021044,
          -0.38767399665537694,
          -1.329045263751567,
          0.6179854602630162,
          -2.1766036516777953,
          0.9997178836248283,
          -0.5995015860441616,
          1.3839885679655453,
          -0.5180161564966833,
          0.8533682831785384,
          -0.9115908122880608,
          -0.4306924280020869,
          0.9609848960490938,
          0.9220703471457242,
          1.7542139768319003,
          0.3604841912013604,
          0.0017037783681344279,
          -1.2543075592125403,
          -0.15102453234097343,
          -0.5360051864835451,
          0.5989775610224853,
          0.8263314749363494,
          -1.2655278034535515,
          0.9401542797781919,
          0.42961783137316306,
          0.7242211546399301,
          0.015725214681151255
         ],
         "yaxis": "y5"
        },
        {
         "histfunc": "count",
         "histnorm": "",
         "marker": {
          "color": "rgba(55, 128, 191, 1.0)",
          "line": {
           "color": "#4D5663",
           "width": 1.3
          }
         },
         "name": "B",
         "nbinsx": 10,
         "opacity": 0.8,
         "orientation": "v",
         "type": "histogram",
         "x": [
          -0.25432533756669773,
          -1.581414768480805,
          0.40218331727380613,
          -0.7653635025178969,
          -0.03758094088299645,
          0.8228516602736954,
          0.20950479153616372,
          0.2368828777231409,
          -0.13416480196104766,
          0.06773423875996688,
          -1.3924154298925469,
          0.010537225188061829,
          -0.9192378281206622,
          -1.343298101902075,
          -1.7841952728986434,
          -0.5248286222071976,
          0.030492134192341522,
          -0.2095316178025833,
          0.941695473320228,
          -1.0303073120794726,
          -1.615853408823164,
          -0.7977565224429886,
          1.346204299136864,
          -1.2273416627519849,
          -0.9767964659827089,
          -1.5763455228401246,
          -1.9792442444712637,
          0.4384768080985399,
          0.17679566623301302,
          -0.9317474293601441,
          0.8682987401646762,
          -0.1003875632961765,
          -0.0884962705505986,
          0.24286646977162227,
          0.20207155467009158,
          0.38365946277845214,
          0.15769247651445353,
          -1.0665564678618131,
          0.49225575504181734,
          0.10153122545596022,
          0.11375123863064968,
          -0.4628493592894469,
          -0.5812908283646572,
          -0.5818098728891352,
          0.9176543169317575,
          0.5087887543927186,
          0.16819075587941956,
          -0.8945686934935044,
          0.3721570565430783,
          -0.257705545117878,
          1.6287138726491417,
          -1.1739713566817833,
          0.398367300079867,
          -0.6767044911122801,
          0.47600397787049986,
          -2.763129323705531,
          0.21077619673830947,
          -0.2258518499521978,
          -0.821396180646884,
          1.0365094058365847,
          -1.6318344262056328,
          -0.3298121153479205,
          0.8315693323045643,
          0.0007504783278676238,
          -0.29675189476684655,
          0.027554435329936816,
          0.6609436762444268,
          0.8785579905871628,
          -0.029854680377078793,
          1.5082301656300974,
          -1.2449285328680817,
          -0.9768057784470087,
          1.4916896101273067,
          -1.122012736021044,
          -0.38767399665537694,
          -1.329045263751567,
          0.6179854602630162,
          -2.1766036516777953,
          0.9997178836248283,
          -0.5995015860441616,
          1.3839885679655453,
          -0.5180161564966833,
          0.8533682831785384,
          -0.9115908122880608,
          -0.4306924280020869,
          0.9609848960490938,
          0.9220703471457242,
          1.7542139768319003,
          0.3604841912013604,
          0.0017037783681344279,
          -1.2543075592125403,
          -0.15102453234097343,
          -0.5360051864835451,
          0.5989775610224853,
          0.8263314749363494,
          -1.2655278034535515,
          0.9401542797781919,
          0.42961783137316306,
          0.7242211546399301,
          0.015725214681151255
         ],
         "xaxis": "x6",
         "yaxis": "y6"
        },
        {
         "line": {
          "color": "rgba(128, 128, 128, 1.0)",
          "dash": "solid",
          "shape": "linear",
          "width": 1.3
         },
         "marker": {
          "size": 2,
          "symbol": "circle"
         },
         "mode": "markers",
         "name": "B",
         "text": "",
         "type": "scatter",
         "x": [
          0.6992355186470794,
          -0.961349925801248,
          -1.4530017126038446,
          -0.46747953735628,
          0.6179283646858071,
          0.08427229602569358,
          -0.4422796309733475,
          -1.017677544349955,
          -0.19384791458665435,
          -0.4027409126065992,
          -1.0459762747482046,
          -0.45171778521705136,
          0.5225231583018677,
          -0.6528166789415045,
          -0.10682849250694507,
          -0.992634174352462,
          0.9388318403964275,
          0.06633672040509916,
          -1.7023296104731054,
          -0.7880567550086323,
          0.36278825080369226,
          -0.8868488243081134,
          0.1989542301540041,
          -1.480811064500878,
          -0.8006505123444279,
          -1.951136985513205,
          0.3258176939679062,
          -1.4535219862978328,
          0.6381867404508632,
          0.5936058599286947,
          -0.7005663348259505,
          -0.623777076273893,
          0.11998600140106362,
          -0.7365169242004647,
          -1.475604072622844,
          -0.9917851988392883,
          -0.3526672429700603,
          -0.7663706653486057,
          1.500994272720018,
          -0.8864174727362274,
          -0.3823132942724965,
          -0.05774281041742565,
          0.4888736502547718,
          -0.28882838606809197,
          0.18925905060950246,
          0.012466343179889518,
          0.9915849904749007,
          -0.5287339927310498,
          -0.9182558258919131,
          -1.1130104456978185,
          -0.8122178875050419,
          0.8433274504829935,
          1.2142063586186593,
          -0.12819455122333961,
          0.030342918433465215,
          0.11875393411977264,
          0.2151373356484712,
          -2.3064758091798168,
          -0.7273507048062112,
          -1.188843480446673,
          -0.5714117854319605,
          0.36159090980546205,
          0.017916573232139667,
          0.2220947814245966,
          -0.4950200844017089,
          1.2625039888784364,
          -0.36634924333782043,
          0.6019338146892275,
          -0.14558248957116632,
          0.5463251657368409,
          0.5124712738010542,
          -0.5019635480348108,
          0.4119033892492304,
          0.3730809088695454,
          -0.23883140872158395,
          -1.0577671771039834,
          -0.8994648971609895,
          -1.6955524505950974,
          0.8319039015982783,
          -0.9690500398916245,
          -0.5187882164775001,
          -0.46253745172121935,
          0.6259532609668151,
          -0.0930799607957207,
          -2.3968815296415316,
          -0.9861227809085562,
          -0.6707295203799367,
          0.9465112097197014,
          0.9212119670161162,
          0.6949377871496079,
          -0.8348106484463262,
          -0.8528549149614885,
          -0.3060635082667802,
          -1.0802732520188134,
          0.6372172424462347,
          -1.0537788743769516,
          1.5397973968989402,
          0.4704611826848934,
          0.49908382817736924,
          -0.7184004827712632
         ],
         "xaxis": "x7",
         "y": [
          -0.25432533756669773,
          -1.581414768480805,
          0.40218331727380613,
          -0.7653635025178969,
          -0.03758094088299645,
          0.8228516602736954,
          0.20950479153616372,
          0.2368828777231409,
          -0.13416480196104766,
          0.06773423875996688,
          -1.3924154298925469,
          0.010537225188061829,
          -0.9192378281206622,
          -1.343298101902075,
          -1.7841952728986434,
          -0.5248286222071976,
          0.030492134192341522,
          -0.2095316178025833,
          0.941695473320228,
          -1.0303073120794726,
          -1.615853408823164,
          -0.7977565224429886,
          1.346204299136864,
          -1.2273416627519849,
          -0.9767964659827089,
          -1.5763455228401246,
          -1.9792442444712637,
          0.4384768080985399,
          0.17679566623301302,
          -0.9317474293601441,
          0.8682987401646762,
          -0.1003875632961765,
          -0.0884962705505986,
          0.24286646977162227,
          0.20207155467009158,
          0.38365946277845214,
          0.15769247651445353,
          -1.0665564678618131,
          0.49225575504181734,
          0.10153122545596022,
          0.11375123863064968,
          -0.4628493592894469,
          -0.5812908283646572,
          -0.5818098728891352,
          0.9176543169317575,
          0.5087887543927186,
          0.16819075587941956,
          -0.8945686934935044,
          0.3721570565430783,
          -0.257705545117878,
          1.6287138726491417,
          -1.1739713566817833,
          0.398367300079867,
          -0.6767044911122801,
          0.47600397787049986,
          -2.763129323705531,
          0.21077619673830947,
          -0.2258518499521978,
          -0.821396180646884,
          1.0365094058365847,
          -1.6318344262056328,
          -0.3298121153479205,
          0.8315693323045643,
          0.0007504783278676238,
          -0.29675189476684655,
          0.027554435329936816,
          0.6609436762444268,
          0.8785579905871628,
          -0.029854680377078793,
          1.5082301656300974,
          -1.2449285328680817,
          -0.9768057784470087,
          1.4916896101273067,
          -1.122012736021044,
          -0.38767399665537694,
          -1.329045263751567,
          0.6179854602630162,
          -2.1766036516777953,
          0.9997178836248283,
          -0.5995015860441616,
          1.3839885679655453,
          -0.5180161564966833,
          0.8533682831785384,
          -0.9115908122880608,
          -0.4306924280020869,
          0.9609848960490938,
          0.9220703471457242,
          1.7542139768319003,
          0.3604841912013604,
          0.0017037783681344279,
          -1.2543075592125403,
          -0.15102453234097343,
          -0.5360051864835451,
          0.5989775610224853,
          0.8263314749363494,
          -1.2655278034535515,
          0.9401542797781919,
          0.42961783137316306,
          0.7242211546399301,
          0.015725214681151255
         ],
         "yaxis": "y7"
        },
        {
         "line": {
          "color": "rgba(128, 128, 128, 1.0)",
          "dash": "solid",
          "shape": "linear",
          "width": 1.3
         },
         "marker": {
          "size": 2,
          "symbol": "circle"
         },
         "mode": "markers",
         "name": "B",
         "text": "",
         "type": "scatter",
         "x": [
          0.7950735439865309,
          1.936121928075488,
          0.20022620351317216,
          1.097902781559905,
          0.020108485628208227,
          -0.8852645510371487,
          0.6195504811283205,
          -1.0213127220643865,
          -2.64844972310845,
          0.4393712706108427,
          0.4424196745865346,
          0.18926775285610348,
          -0.8033165761908125,
          -0.6340294954265075,
          1.6574678620596546,
          -2.1323846048663797,
          -0.058137577898140946,
          -0.9129094552117951,
          0.44079697940631796,
          1.5300325111902,
          -1.922913157519095,
          1.9425511501521169,
          -0.7944535583480138,
          -1.6972535851255646,
          2.908507442808897,
          0.540490156801308,
          -0.6704033218765552,
          0.6584243028129534,
          0.27790936261239546,
          -0.20611122570958804,
          0.987244725775321,
          -0.5969325916898187,
          -0.1463593611464717,
          -1.5813749544994997,
          0.6533414467155894,
          2.2815125991427303,
          -0.4867594105256819,
          -2.2575906781599153,
          -0.6130791857271658,
          1.8357105417542057,
          0.529480638973706,
          -0.24319864772868918,
          -0.6048430200351759,
          0.7282085854430383,
          -0.7469725073276487,
          0.09988518294440948,
          -0.7575913692400225,
          -1.6521365337421492,
          0.8693150155319037,
          -0.8284365190454768,
          0.5845329350815593,
          0.4368402464691883,
          -0.8544562691512323,
          -0.40065736981156846,
          -0.024109765900172834,
          -0.2703111701790727,
          -0.5055617857724994,
          1.4256560804101626,
          0.06137345824064349,
          1.2200762356185093,
          0.39495352040288056,
          0.6070941523531138,
          0.03564521782445323,
          0.5727215352201621,
          0.09261794917829301,
          0.4549785212801003,
          -0.364961829741321,
          0.9343593098521027,
          1.0568490542579694,
          1.275755792660451,
          0.9269012427603945,
          0.7252636702258335,
          0.5119901677658074,
          2.521527424165082,
          0.5733569046382473,
          -0.6736459742845685,
          -0.07931047427814839,
          -0.6237076308005572,
          -0.2642060084782512,
          1.5083353927154404,
          0.9834924603760741,
          0.3024503668179526,
          0.660115804322677,
          2.3716077891534164,
          -0.14932105068655796,
          1.4470670560644057,
          1.2710270686340344,
          0.44082247924959217,
          -0.9962725879158789,
          0.9385800769386916,
          0.3702572157326843,
          -0.17182266923951767,
          0.8825266450639152,
          0.5851084705005075,
          -0.333920032363868,
          -0.21579762138892633,
          0.6201832711846496,
          -0.5496467319062202,
          -0.4109949271321021,
          -1.0847808598073
         ],
         "xaxis": "x8",
         "y": [
          -0.25432533756669773,
          -1.581414768480805,
          0.40218331727380613,
          -0.7653635025178969,
          -0.03758094088299645,
          0.8228516602736954,
          0.20950479153616372,
          0.2368828777231409,
          -0.13416480196104766,
          0.06773423875996688,
          -1.3924154298925469,
          0.010537225188061829,
          -0.9192378281206622,
          -1.343298101902075,
          -1.7841952728986434,
          -0.5248286222071976,
          0.030492134192341522,
          -0.2095316178025833,
          0.941695473320228,
          -1.0303073120794726,
          -1.615853408823164,
          -0.7977565224429886,
          1.346204299136864,
          -1.2273416627519849,
          -0.9767964659827089,
          -1.5763455228401246,
          -1.9792442444712637,
          0.4384768080985399,
          0.17679566623301302,
          -0.9317474293601441,
          0.8682987401646762,
          -0.1003875632961765,
          -0.0884962705505986,
          0.24286646977162227,
          0.20207155467009158,
          0.38365946277845214,
          0.15769247651445353,
          -1.0665564678618131,
          0.49225575504181734,
          0.10153122545596022,
          0.11375123863064968,
          -0.4628493592894469,
          -0.5812908283646572,
          -0.5818098728891352,
          0.9176543169317575,
          0.5087887543927186,
          0.16819075587941956,
          -0.8945686934935044,
          0.3721570565430783,
          -0.257705545117878,
          1.6287138726491417,
          -1.1739713566817833,
          0.398367300079867,
          -0.6767044911122801,
          0.47600397787049986,
          -2.763129323705531,
          0.21077619673830947,
          -0.2258518499521978,
          -0.821396180646884,
          1.0365094058365847,
          -1.6318344262056328,
          -0.3298121153479205,
          0.8315693323045643,
          0.0007504783278676238,
          -0.29675189476684655,
          0.027554435329936816,
          0.6609436762444268,
          0.8785579905871628,
          -0.029854680377078793,
          1.5082301656300974,
          -1.2449285328680817,
          -0.9768057784470087,
          1.4916896101273067,
          -1.122012736021044,
          -0.38767399665537694,
          -1.329045263751567,
          0.6179854602630162,
          -2.1766036516777953,
          0.9997178836248283,
          -0.5995015860441616,
          1.3839885679655453,
          -0.5180161564966833,
          0.8533682831785384,
          -0.9115908122880608,
          -0.4306924280020869,
          0.9609848960490938,
          0.9220703471457242,
          1.7542139768319003,
          0.3604841912013604,
          0.0017037783681344279,
          -1.2543075592125403,
          -0.15102453234097343,
          -0.5360051864835451,
          0.5989775610224853,
          0.8263314749363494,
          -1.2655278034535515,
          0.9401542797781919,
          0.42961783137316306,
          0.7242211546399301,
          0.015725214681151255
         ],
         "yaxis": "y8"
        },
        {
         "line": {
          "color": "rgba(128, 128, 128, 1.0)",
          "dash": "solid",
          "shape": "linear",
          "width": 1.3
         },
         "marker": {
          "size": 2,
          "symbol": "circle"
         },
         "mode": "markers",
         "name": "C",
         "text": "",
         "type": "scatter",
         "x": [
          -0.2608614967031024,
          -0.49096342548313715,
          0.6534012059127755,
          -0.10382438391128623,
          0.0915136834623817,
          -0.2578466669372469,
          1.3897210082903713,
          -2.013970521337588,
          1.125741276541228,
          1.4993336191900457,
          -1.0595478745403308,
          -0.9430230210121577,
          -1.2621205005640328,
          1.4036731506061113,
          -0.03593673976090577,
          0.3050000998253773,
          -0.5522484049090643,
          -1.0203076856253586,
          0.6432367105616998,
          -0.8914863941492807,
          -2.185714250972939,
          0.12623577838399472,
          0.3921453841215854,
          0.4737295051464659,
          -0.17056200224579707,
          1.1774627570310106,
          -0.20762902062129898,
          1.2387067508523648,
          -1.3942752324541112,
          -1.716189450517545,
          0.22085285260585943,
          -0.6321810216895608,
          1.3901915806812715,
          1.0108805251540562,
          1.061249343310655,
          0.5308300215857267,
          -0.9503016687818185,
          -1.667629010859623,
          -1.1568624868134363,
          1.5218137380315473,
          -0.39221211032341013,
          2.3415395295809978,
          -1.486339576927987,
          -0.03772819855435538,
          1.4092361992473252,
          -0.7939024526846925,
          0.7862010597484133,
          -0.7353686055886977,
          0.4288694099887663,
          -0.27000065017539937,
          -0.41260190292719623,
          0.2707480429353407,
          -2.3153140545469633,
          -0.493246648926603,
          -0.20401174053479268,
          0.43262354086467664,
          -0.4638179729532545,
          -0.12104956411305579,
          0.0009501990026392411,
          -1.7944854502101284,
          1.1942829892775488,
          0.28613422098047586,
          0.6089637428915142,
          -1.68539790425561,
          -0.20944913271903332,
          0.7539061989031305,
          -0.30783771025917217,
          0.9249555792566864,
          2.155794363974152,
          -0.30825770648294415,
          2.3165892472778196,
          1.1104333103089679,
          0.5986508909048686,
          0.8596613825961947,
          -1.2785925488102268,
          0.9522963674778507,
          2.414612831587702,
          1.5551358944135807,
          0.6419754681607723,
          1.7713479403779466,
          1.121810184988672,
          -1.3457087892552062,
          2.0908035265398817,
          0.4571403655148956,
          0.2239437084658507,
          0.002231840122407565,
          0.7903495448532022,
          0.2563582466878664,
          1.7319416821321127,
          -2.634999142029582,
          0.5116574427742703,
          0.09494333197935707,
          -2.7505020690095145,
          0.4200960660289981,
          -1.3218058607201475,
          1.0064450686749333,
          0.9976844535285386,
          -0.9675831445221813,
          -0.5263696958489338,
          1.9143818200798364
         ],
         "xaxis": "x9",
         "y": [
          0.6992355186470794,
          -0.961349925801248,
          -1.4530017126038446,
          -0.46747953735628,
          0.6179283646858071,
          0.08427229602569358,
          -0.4422796309733475,
          -1.017677544349955,
          -0.19384791458665435,
          -0.4027409126065992,
          -1.0459762747482046,
          -0.45171778521705136,
          0.5225231583018677,
          -0.6528166789415045,
          -0.10682849250694507,
          -0.992634174352462,
          0.9388318403964275,
          0.06633672040509916,
          -1.7023296104731054,
          -0.7880567550086323,
          0.36278825080369226,
          -0.8868488243081134,
          0.1989542301540041,
          -1.480811064500878,
          -0.8006505123444279,
          -1.951136985513205,
          0.3258176939679062,
          -1.4535219862978328,
          0.6381867404508632,
          0.5936058599286947,
          -0.7005663348259505,
          -0.623777076273893,
          0.11998600140106362,
          -0.7365169242004647,
          -1.475604072622844,
          -0.9917851988392883,
          -0.3526672429700603,
          -0.7663706653486057,
          1.500994272720018,
          -0.8864174727362274,
          -0.3823132942724965,
          -0.05774281041742565,
          0.4888736502547718,
          -0.28882838606809197,
          0.18925905060950246,
          0.012466343179889518,
          0.9915849904749007,
          -0.5287339927310498,
          -0.9182558258919131,
          -1.1130104456978185,
          -0.8122178875050419,
          0.8433274504829935,
          1.2142063586186593,
          -0.12819455122333961,
          0.030342918433465215,
          0.11875393411977264,
          0.2151373356484712,
          -2.3064758091798168,
          -0.7273507048062112,
          -1.188843480446673,
          -0.5714117854319605,
          0.36159090980546205,
          0.017916573232139667,
          0.2220947814245966,
          -0.4950200844017089,
          1.2625039888784364,
          -0.36634924333782043,
          0.6019338146892275,
          -0.14558248957116632,
          0.5463251657368409,
          0.5124712738010542,
          -0.5019635480348108,
          0.4119033892492304,
          0.3730809088695454,
          -0.23883140872158395,
          -1.0577671771039834,
          -0.8994648971609895,
          -1.6955524505950974,
          0.8319039015982783,
          -0.9690500398916245,
          -0.5187882164775001,
          -0.46253745172121935,
          0.6259532609668151,
          -0.0930799607957207,
          -2.3968815296415316,
          -0.9861227809085562,
          -0.6707295203799367,
          0.9465112097197014,
          0.9212119670161162,
          0.6949377871496079,
          -0.8348106484463262,
          -0.8528549149614885,
          -0.3060635082667802,
          -1.0802732520188134,
          0.6372172424462347,
          -1.0537788743769516,
          1.5397973968989402,
          0.4704611826848934,
          0.49908382817736924,
          -0.7184004827712632
         ],
         "yaxis": "y9"
        },
        {
         "line": {
          "color": "rgba(128, 128, 128, 1.0)",
          "dash": "solid",
          "shape": "linear",
          "width": 1.3
         },
         "marker": {
          "size": 2,
          "symbol": "circle"
         },
         "mode": "markers",
         "name": "C",
         "text": "",
         "type": "scatter",
         "x": [
          -0.25432533756669773,
          -1.581414768480805,
          0.40218331727380613,
          -0.7653635025178969,
          -0.03758094088299645,
          0.8228516602736954,
          0.20950479153616372,
          0.2368828777231409,
          -0.13416480196104766,
          0.06773423875996688,
          -1.3924154298925469,
          0.010537225188061829,
          -0.9192378281206622,
          -1.343298101902075,
          -1.7841952728986434,
          -0.5248286222071976,
          0.030492134192341522,
          -0.2095316178025833,
          0.941695473320228,
          -1.0303073120794726,
          -1.615853408823164,
          -0.7977565224429886,
          1.346204299136864,
          -1.2273416627519849,
          -0.9767964659827089,
          -1.5763455228401246,
          -1.9792442444712637,
          0.4384768080985399,
          0.17679566623301302,
          -0.9317474293601441,
          0.8682987401646762,
          -0.1003875632961765,
          -0.0884962705505986,
          0.24286646977162227,
          0.20207155467009158,
          0.38365946277845214,
          0.15769247651445353,
          -1.0665564678618131,
          0.49225575504181734,
          0.10153122545596022,
          0.11375123863064968,
          -0.4628493592894469,
          -0.5812908283646572,
          -0.5818098728891352,
          0.9176543169317575,
          0.5087887543927186,
          0.16819075587941956,
          -0.8945686934935044,
          0.3721570565430783,
          -0.257705545117878,
          1.6287138726491417,
          -1.1739713566817833,
          0.398367300079867,
          -0.6767044911122801,
          0.47600397787049986,
          -2.763129323705531,
          0.21077619673830947,
          -0.2258518499521978,
          -0.821396180646884,
          1.0365094058365847,
          -1.6318344262056328,
          -0.3298121153479205,
          0.8315693323045643,
          0.0007504783278676238,
          -0.29675189476684655,
          0.027554435329936816,
          0.6609436762444268,
          0.8785579905871628,
          -0.029854680377078793,
          1.5082301656300974,
          -1.2449285328680817,
          -0.9768057784470087,
          1.4916896101273067,
          -1.122012736021044,
          -0.38767399665537694,
          -1.329045263751567,
          0.6179854602630162,
          -2.1766036516777953,
          0.9997178836248283,
          -0.5995015860441616,
          1.3839885679655453,
          -0.5180161564966833,
          0.8533682831785384,
          -0.9115908122880608,
          -0.4306924280020869,
          0.9609848960490938,
          0.9220703471457242,
          1.7542139768319003,
          0.3604841912013604,
          0.0017037783681344279,
          -1.2543075592125403,
          -0.15102453234097343,
          -0.5360051864835451,
          0.5989775610224853,
          0.8263314749363494,
          -1.2655278034535515,
          0.9401542797781919,
          0.42961783137316306,
          0.7242211546399301,
          0.015725214681151255
         ],
         "xaxis": "x10",
         "y": [
          0.6992355186470794,
          -0.961349925801248,
          -1.4530017126038446,
          -0.46747953735628,
          0.6179283646858071,
          0.08427229602569358,
          -0.4422796309733475,
          -1.017677544349955,
          -0.19384791458665435,
          -0.4027409126065992,
          -1.0459762747482046,
          -0.45171778521705136,
          0.5225231583018677,
          -0.6528166789415045,
          -0.10682849250694507,
          -0.992634174352462,
          0.9388318403964275,
          0.06633672040509916,
          -1.7023296104731054,
          -0.7880567550086323,
          0.36278825080369226,
          -0.8868488243081134,
          0.1989542301540041,
          -1.480811064500878,
          -0.8006505123444279,
          -1.951136985513205,
          0.3258176939679062,
          -1.4535219862978328,
          0.6381867404508632,
          0.5936058599286947,
          -0.7005663348259505,
          -0.623777076273893,
          0.11998600140106362,
          -0.7365169242004647,
          -1.475604072622844,
          -0.9917851988392883,
          -0.3526672429700603,
          -0.7663706653486057,
          1.500994272720018,
          -0.8864174727362274,
          -0.3823132942724965,
          -0.05774281041742565,
          0.4888736502547718,
          -0.28882838606809197,
          0.18925905060950246,
          0.012466343179889518,
          0.9915849904749007,
          -0.5287339927310498,
          -0.9182558258919131,
          -1.1130104456978185,
          -0.8122178875050419,
          0.8433274504829935,
          1.2142063586186593,
          -0.12819455122333961,
          0.030342918433465215,
          0.11875393411977264,
          0.2151373356484712,
          -2.3064758091798168,
          -0.7273507048062112,
          -1.188843480446673,
          -0.5714117854319605,
          0.36159090980546205,
          0.017916573232139667,
          0.2220947814245966,
          -0.4950200844017089,
          1.2625039888784364,
          -0.36634924333782043,
          0.6019338146892275,
          -0.14558248957116632,
          0.5463251657368409,
          0.5124712738010542,
          -0.5019635480348108,
          0.4119033892492304,
          0.3730809088695454,
          -0.23883140872158395,
          -1.0577671771039834,
          -0.8994648971609895,
          -1.6955524505950974,
          0.8319039015982783,
          -0.9690500398916245,
          -0.5187882164775001,
          -0.46253745172121935,
          0.6259532609668151,
          -0.0930799607957207,
          -2.3968815296415316,
          -0.9861227809085562,
          -0.6707295203799367,
          0.9465112097197014,
          0.9212119670161162,
          0.6949377871496079,
          -0.8348106484463262,
          -0.8528549149614885,
          -0.3060635082667802,
          -1.0802732520188134,
          0.6372172424462347,
          -1.0537788743769516,
          1.5397973968989402,
          0.4704611826848934,
          0.49908382817736924,
          -0.7184004827712632
         ],
         "yaxis": "y10"
        },
        {
         "histfunc": "count",
         "histnorm": "",
         "marker": {
          "color": "rgba(50, 171, 96, 1.0)",
          "line": {
           "color": "#4D5663",
           "width": 1.3
          }
         },
         "name": "C",
         "nbinsx": 10,
         "opacity": 0.8,
         "orientation": "v",
         "type": "histogram",
         "x": [
          0.6992355186470794,
          -0.961349925801248,
          -1.4530017126038446,
          -0.46747953735628,
          0.6179283646858071,
          0.08427229602569358,
          -0.4422796309733475,
          -1.017677544349955,
          -0.19384791458665435,
          -0.4027409126065992,
          -1.0459762747482046,
          -0.45171778521705136,
          0.5225231583018677,
          -0.6528166789415045,
          -0.10682849250694507,
          -0.992634174352462,
          0.9388318403964275,
          0.06633672040509916,
          -1.7023296104731054,
          -0.7880567550086323,
          0.36278825080369226,
          -0.8868488243081134,
          0.1989542301540041,
          -1.480811064500878,
          -0.8006505123444279,
          -1.951136985513205,
          0.3258176939679062,
          -1.4535219862978328,
          0.6381867404508632,
          0.5936058599286947,
          -0.7005663348259505,
          -0.623777076273893,
          0.11998600140106362,
          -0.7365169242004647,
          -1.475604072622844,
          -0.9917851988392883,
          -0.3526672429700603,
          -0.7663706653486057,
          1.500994272720018,
          -0.8864174727362274,
          -0.3823132942724965,
          -0.05774281041742565,
          0.4888736502547718,
          -0.28882838606809197,
          0.18925905060950246,
          0.012466343179889518,
          0.9915849904749007,
          -0.5287339927310498,
          -0.9182558258919131,
          -1.1130104456978185,
          -0.8122178875050419,
          0.8433274504829935,
          1.2142063586186593,
          -0.12819455122333961,
          0.030342918433465215,
          0.11875393411977264,
          0.2151373356484712,
          -2.3064758091798168,
          -0.7273507048062112,
          -1.188843480446673,
          -0.5714117854319605,
          0.36159090980546205,
          0.017916573232139667,
          0.2220947814245966,
          -0.4950200844017089,
          1.2625039888784364,
          -0.36634924333782043,
          0.6019338146892275,
          -0.14558248957116632,
          0.5463251657368409,
          0.5124712738010542,
          -0.5019635480348108,
          0.4119033892492304,
          0.3730809088695454,
          -0.23883140872158395,
          -1.0577671771039834,
          -0.8994648971609895,
          -1.6955524505950974,
          0.8319039015982783,
          -0.9690500398916245,
          -0.5187882164775001,
          -0.46253745172121935,
          0.6259532609668151,
          -0.0930799607957207,
          -2.3968815296415316,
          -0.9861227809085562,
          -0.6707295203799367,
          0.9465112097197014,
          0.9212119670161162,
          0.6949377871496079,
          -0.8348106484463262,
          -0.8528549149614885,
          -0.3060635082667802,
          -1.0802732520188134,
          0.6372172424462347,
          -1.0537788743769516,
          1.5397973968989402,
          0.4704611826848934,
          0.49908382817736924,
          -0.7184004827712632
         ],
         "xaxis": "x11",
         "yaxis": "y11"
        },
        {
         "line": {
          "color": "rgba(128, 128, 128, 1.0)",
          "dash": "solid",
          "shape": "linear",
          "width": 1.3
         },
         "marker": {
          "size": 2,
          "symbol": "circle"
         },
         "mode": "markers",
         "name": "C",
         "text": "",
         "type": "scatter",
         "x": [
          0.7950735439865309,
          1.936121928075488,
          0.20022620351317216,
          1.097902781559905,
          0.020108485628208227,
          -0.8852645510371487,
          0.6195504811283205,
          -1.0213127220643865,
          -2.64844972310845,
          0.4393712706108427,
          0.4424196745865346,
          0.18926775285610348,
          -0.8033165761908125,
          -0.6340294954265075,
          1.6574678620596546,
          -2.1323846048663797,
          -0.058137577898140946,
          -0.9129094552117951,
          0.44079697940631796,
          1.5300325111902,
          -1.922913157519095,
          1.9425511501521169,
          -0.7944535583480138,
          -1.6972535851255646,
          2.908507442808897,
          0.540490156801308,
          -0.6704033218765552,
          0.6584243028129534,
          0.27790936261239546,
          -0.20611122570958804,
          0.987244725775321,
          -0.5969325916898187,
          -0.1463593611464717,
          -1.5813749544994997,
          0.6533414467155894,
          2.2815125991427303,
          -0.4867594105256819,
          -2.2575906781599153,
          -0.6130791857271658,
          1.8357105417542057,
          0.529480638973706,
          -0.24319864772868918,
          -0.6048430200351759,
          0.7282085854430383,
          -0.7469725073276487,
          0.09988518294440948,
          -0.7575913692400225,
          -1.6521365337421492,
          0.8693150155319037,
          -0.8284365190454768,
          0.5845329350815593,
          0.4368402464691883,
          -0.8544562691512323,
          -0.40065736981156846,
          -0.024109765900172834,
          -0.2703111701790727,
          -0.5055617857724994,
          1.4256560804101626,
          0.06137345824064349,
          1.2200762356185093,
          0.39495352040288056,
          0.6070941523531138,
          0.03564521782445323,
          0.5727215352201621,
          0.09261794917829301,
          0.4549785212801003,
          -0.364961829741321,
          0.9343593098521027,
          1.0568490542579694,
          1.275755792660451,
          0.9269012427603945,
          0.7252636702258335,
          0.5119901677658074,
          2.521527424165082,
          0.5733569046382473,
          -0.6736459742845685,
          -0.07931047427814839,
          -0.6237076308005572,
          -0.2642060084782512,
          1.5083353927154404,
          0.9834924603760741,
          0.3024503668179526,
          0.660115804322677,
          2.3716077891534164,
          -0.14932105068655796,
          1.4470670560644057,
          1.2710270686340344,
          0.44082247924959217,
          -0.9962725879158789,
          0.9385800769386916,
          0.3702572157326843,
          -0.17182266923951767,
          0.8825266450639152,
          0.5851084705005075,
          -0.333920032363868,
          -0.21579762138892633,
          0.6201832711846496,
          -0.5496467319062202,
          -0.4109949271321021,
          -1.0847808598073
         ],
         "xaxis": "x12",
         "y": [
          0.6992355186470794,
          -0.961349925801248,
          -1.4530017126038446,
          -0.46747953735628,
          0.6179283646858071,
          0.08427229602569358,
          -0.4422796309733475,
          -1.017677544349955,
          -0.19384791458665435,
          -0.4027409126065992,
          -1.0459762747482046,
          -0.45171778521705136,
          0.5225231583018677,
          -0.6528166789415045,
          -0.10682849250694507,
          -0.992634174352462,
          0.9388318403964275,
          0.06633672040509916,
          -1.7023296104731054,
          -0.7880567550086323,
          0.36278825080369226,
          -0.8868488243081134,
          0.1989542301540041,
          -1.480811064500878,
          -0.8006505123444279,
          -1.951136985513205,
          0.3258176939679062,
          -1.4535219862978328,
          0.6381867404508632,
          0.5936058599286947,
          -0.7005663348259505,
          -0.623777076273893,
          0.11998600140106362,
          -0.7365169242004647,
          -1.475604072622844,
          -0.9917851988392883,
          -0.3526672429700603,
          -0.7663706653486057,
          1.500994272720018,
          -0.8864174727362274,
          -0.3823132942724965,
          -0.05774281041742565,
          0.4888736502547718,
          -0.28882838606809197,
          0.18925905060950246,
          0.012466343179889518,
          0.9915849904749007,
          -0.5287339927310498,
          -0.9182558258919131,
          -1.1130104456978185,
          -0.8122178875050419,
          0.8433274504829935,
          1.2142063586186593,
          -0.12819455122333961,
          0.030342918433465215,
          0.11875393411977264,
          0.2151373356484712,
          -2.3064758091798168,
          -0.7273507048062112,
          -1.188843480446673,
          -0.5714117854319605,
          0.36159090980546205,
          0.017916573232139667,
          0.2220947814245966,
          -0.4950200844017089,
          1.2625039888784364,
          -0.36634924333782043,
          0.6019338146892275,
          -0.14558248957116632,
          0.5463251657368409,
          0.5124712738010542,
          -0.5019635480348108,
          0.4119033892492304,
          0.3730809088695454,
          -0.23883140872158395,
          -1.0577671771039834,
          -0.8994648971609895,
          -1.6955524505950974,
          0.8319039015982783,
          -0.9690500398916245,
          -0.5187882164775001,
          -0.46253745172121935,
          0.6259532609668151,
          -0.0930799607957207,
          -2.3968815296415316,
          -0.9861227809085562,
          -0.6707295203799367,
          0.9465112097197014,
          0.9212119670161162,
          0.6949377871496079,
          -0.8348106484463262,
          -0.8528549149614885,
          -0.3060635082667802,
          -1.0802732520188134,
          0.6372172424462347,
          -1.0537788743769516,
          1.5397973968989402,
          0.4704611826848934,
          0.49908382817736924,
          -0.7184004827712632
         ],
         "yaxis": "y12"
        },
        {
         "line": {
          "color": "rgba(128, 128, 128, 1.0)",
          "dash": "solid",
          "shape": "linear",
          "width": 1.3
         },
         "marker": {
          "size": 2,
          "symbol": "circle"
         },
         "mode": "markers",
         "name": "D",
         "text": "",
         "type": "scatter",
         "x": [
          -0.2608614967031024,
          -0.49096342548313715,
          0.6534012059127755,
          -0.10382438391128623,
          0.0915136834623817,
          -0.2578466669372469,
          1.3897210082903713,
          -2.013970521337588,
          1.125741276541228,
          1.4993336191900457,
          -1.0595478745403308,
          -0.9430230210121577,
          -1.2621205005640328,
          1.4036731506061113,
          -0.03593673976090577,
          0.3050000998253773,
          -0.5522484049090643,
          -1.0203076856253586,
          0.6432367105616998,
          -0.8914863941492807,
          -2.185714250972939,
          0.12623577838399472,
          0.3921453841215854,
          0.4737295051464659,
          -0.17056200224579707,
          1.1774627570310106,
          -0.20762902062129898,
          1.2387067508523648,
          -1.3942752324541112,
          -1.716189450517545,
          0.22085285260585943,
          -0.6321810216895608,
          1.3901915806812715,
          1.0108805251540562,
          1.061249343310655,
          0.5308300215857267,
          -0.9503016687818185,
          -1.667629010859623,
          -1.1568624868134363,
          1.5218137380315473,
          -0.39221211032341013,
          2.3415395295809978,
          -1.486339576927987,
          -0.03772819855435538,
          1.4092361992473252,
          -0.7939024526846925,
          0.7862010597484133,
          -0.7353686055886977,
          0.4288694099887663,
          -0.27000065017539937,
          -0.41260190292719623,
          0.2707480429353407,
          -2.3153140545469633,
          -0.493246648926603,
          -0.20401174053479268,
          0.43262354086467664,
          -0.4638179729532545,
          -0.12104956411305579,
          0.0009501990026392411,
          -1.7944854502101284,
          1.1942829892775488,
          0.28613422098047586,
          0.6089637428915142,
          -1.68539790425561,
          -0.20944913271903332,
          0.7539061989031305,
          -0.30783771025917217,
          0.9249555792566864,
          2.155794363974152,
          -0.30825770648294415,
          2.3165892472778196,
          1.1104333103089679,
          0.5986508909048686,
          0.8596613825961947,
          -1.2785925488102268,
          0.9522963674778507,
          2.414612831587702,
          1.5551358944135807,
          0.6419754681607723,
          1.7713479403779466,
          1.121810184988672,
          -1.3457087892552062,
          2.0908035265398817,
          0.4571403655148956,
          0.2239437084658507,
          0.002231840122407565,
          0.7903495448532022,
          0.2563582466878664,
          1.7319416821321127,
          -2.634999142029582,
          0.5116574427742703,
          0.09494333197935707,
          -2.7505020690095145,
          0.4200960660289981,
          -1.3218058607201475,
          1.0064450686749333,
          0.9976844535285386,
          -0.9675831445221813,
          -0.5263696958489338,
          1.9143818200798364
         ],
         "xaxis": "x13",
         "y": [
          0.7950735439865309,
          1.936121928075488,
          0.20022620351317216,
          1.097902781559905,
          0.020108485628208227,
          -0.8852645510371487,
          0.6195504811283205,
          -1.0213127220643865,
          -2.64844972310845,
          0.4393712706108427,
          0.4424196745865346,
          0.18926775285610348,
          -0.8033165761908125,
          -0.6340294954265075,
          1.6574678620596546,
          -2.1323846048663797,
          -0.058137577898140946,
          -0.9129094552117951,
          0.44079697940631796,
          1.5300325111902,
          -1.922913157519095,
          1.9425511501521169,
          -0.7944535583480138,
          -1.6972535851255646,
          2.908507442808897,
          0.540490156801308,
          -0.6704033218765552,
          0.6584243028129534,
          0.27790936261239546,
          -0.20611122570958804,
          0.987244725775321,
          -0.5969325916898187,
          -0.1463593611464717,
          -1.5813749544994997,
          0.6533414467155894,
          2.2815125991427303,
          -0.4867594105256819,
          -2.2575906781599153,
          -0.6130791857271658,
          1.8357105417542057,
          0.529480638973706,
          -0.24319864772868918,
          -0.6048430200351759,
          0.7282085854430383,
          -0.7469725073276487,
          0.09988518294440948,
          -0.7575913692400225,
          -1.6521365337421492,
          0.8693150155319037,
          -0.8284365190454768,
          0.5845329350815593,
          0.4368402464691883,
          -0.8544562691512323,
          -0.40065736981156846,
          -0.024109765900172834,
          -0.2703111701790727,
          -0.5055617857724994,
          1.4256560804101626,
          0.06137345824064349,
          1.2200762356185093,
          0.39495352040288056,
          0.6070941523531138,
          0.03564521782445323,
          0.5727215352201621,
          0.09261794917829301,
          0.4549785212801003,
          -0.364961829741321,
          0.9343593098521027,
          1.0568490542579694,
          1.275755792660451,
          0.9269012427603945,
          0.7252636702258335,
          0.5119901677658074,
          2.521527424165082,
          0.5733569046382473,
          -0.6736459742845685,
          -0.07931047427814839,
          -0.6237076308005572,
          -0.2642060084782512,
          1.5083353927154404,
          0.9834924603760741,
          0.3024503668179526,
          0.660115804322677,
          2.3716077891534164,
          -0.14932105068655796,
          1.4470670560644057,
          1.2710270686340344,
          0.44082247924959217,
          -0.9962725879158789,
          0.9385800769386916,
          0.3702572157326843,
          -0.17182266923951767,
          0.8825266450639152,
          0.5851084705005075,
          -0.333920032363868,
          -0.21579762138892633,
          0.6201832711846496,
          -0.5496467319062202,
          -0.4109949271321021,
          -1.0847808598073
         ],
         "yaxis": "y13"
        },
        {
         "line": {
          "color": "rgba(128, 128, 128, 1.0)",
          "dash": "solid",
          "shape": "linear",
          "width": 1.3
         },
         "marker": {
          "size": 2,
          "symbol": "circle"
         },
         "mode": "markers",
         "name": "D",
         "text": "",
         "type": "scatter",
         "x": [
          -0.25432533756669773,
          -1.581414768480805,
          0.40218331727380613,
          -0.7653635025178969,
          -0.03758094088299645,
          0.8228516602736954,
          0.20950479153616372,
          0.2368828777231409,
          -0.13416480196104766,
          0.06773423875996688,
          -1.3924154298925469,
          0.010537225188061829,
          -0.9192378281206622,
          -1.343298101902075,
          -1.7841952728986434,
          -0.5248286222071976,
          0.030492134192341522,
          -0.2095316178025833,
          0.941695473320228,
          -1.0303073120794726,
          -1.615853408823164,
          -0.7977565224429886,
          1.346204299136864,
          -1.2273416627519849,
          -0.9767964659827089,
          -1.5763455228401246,
          -1.9792442444712637,
          0.4384768080985399,
          0.17679566623301302,
          -0.9317474293601441,
          0.8682987401646762,
          -0.1003875632961765,
          -0.0884962705505986,
          0.24286646977162227,
          0.20207155467009158,
          0.38365946277845214,
          0.15769247651445353,
          -1.0665564678618131,
          0.49225575504181734,
          0.10153122545596022,
          0.11375123863064968,
          -0.4628493592894469,
          -0.5812908283646572,
          -0.5818098728891352,
          0.9176543169317575,
          0.5087887543927186,
          0.16819075587941956,
          -0.8945686934935044,
          0.3721570565430783,
          -0.257705545117878,
          1.6287138726491417,
          -1.1739713566817833,
          0.398367300079867,
          -0.6767044911122801,
          0.47600397787049986,
          -2.763129323705531,
          0.21077619673830947,
          -0.2258518499521978,
          -0.821396180646884,
          1.0365094058365847,
          -1.6318344262056328,
          -0.3298121153479205,
          0.8315693323045643,
          0.0007504783278676238,
          -0.29675189476684655,
          0.027554435329936816,
          0.6609436762444268,
          0.8785579905871628,
          -0.029854680377078793,
          1.5082301656300974,
          -1.2449285328680817,
          -0.9768057784470087,
          1.4916896101273067,
          -1.122012736021044,
          -0.38767399665537694,
          -1.329045263751567,
          0.6179854602630162,
          -2.1766036516777953,
          0.9997178836248283,
          -0.5995015860441616,
          1.3839885679655453,
          -0.5180161564966833,
          0.8533682831785384,
          -0.9115908122880608,
          -0.4306924280020869,
          0.9609848960490938,
          0.9220703471457242,
          1.7542139768319003,
          0.3604841912013604,
          0.0017037783681344279,
          -1.2543075592125403,
          -0.15102453234097343,
          -0.5360051864835451,
          0.5989775610224853,
          0.8263314749363494,
          -1.2655278034535515,
          0.9401542797781919,
          0.42961783137316306,
          0.7242211546399301,
          0.015725214681151255
         ],
         "xaxis": "x14",
         "y": [
          0.7950735439865309,
          1.936121928075488,
          0.20022620351317216,
          1.097902781559905,
          0.020108485628208227,
          -0.8852645510371487,
          0.6195504811283205,
          -1.0213127220643865,
          -2.64844972310845,
          0.4393712706108427,
          0.4424196745865346,
          0.18926775285610348,
          -0.8033165761908125,
          -0.6340294954265075,
          1.6574678620596546,
          -2.1323846048663797,
          -0.058137577898140946,
          -0.9129094552117951,
          0.44079697940631796,
          1.5300325111902,
          -1.922913157519095,
          1.9425511501521169,
          -0.7944535583480138,
          -1.6972535851255646,
          2.908507442808897,
          0.540490156801308,
          -0.6704033218765552,
          0.6584243028129534,
          0.27790936261239546,
          -0.20611122570958804,
          0.987244725775321,
          -0.5969325916898187,
          -0.1463593611464717,
          -1.5813749544994997,
          0.6533414467155894,
          2.2815125991427303,
          -0.4867594105256819,
          -2.2575906781599153,
          -0.6130791857271658,
          1.8357105417542057,
          0.529480638973706,
          -0.24319864772868918,
          -0.6048430200351759,
          0.7282085854430383,
          -0.7469725073276487,
          0.09988518294440948,
          -0.7575913692400225,
          -1.6521365337421492,
          0.8693150155319037,
          -0.8284365190454768,
          0.5845329350815593,
          0.4368402464691883,
          -0.8544562691512323,
          -0.40065736981156846,
          -0.024109765900172834,
          -0.2703111701790727,
          -0.5055617857724994,
          1.4256560804101626,
          0.06137345824064349,
          1.2200762356185093,
          0.39495352040288056,
          0.6070941523531138,
          0.03564521782445323,
          0.5727215352201621,
          0.09261794917829301,
          0.4549785212801003,
          -0.364961829741321,
          0.9343593098521027,
          1.0568490542579694,
          1.275755792660451,
          0.9269012427603945,
          0.7252636702258335,
          0.5119901677658074,
          2.521527424165082,
          0.5733569046382473,
          -0.6736459742845685,
          -0.07931047427814839,
          -0.6237076308005572,
          -0.2642060084782512,
          1.5083353927154404,
          0.9834924603760741,
          0.3024503668179526,
          0.660115804322677,
          2.3716077891534164,
          -0.14932105068655796,
          1.4470670560644057,
          1.2710270686340344,
          0.44082247924959217,
          -0.9962725879158789,
          0.9385800769386916,
          0.3702572157326843,
          -0.17182266923951767,
          0.8825266450639152,
          0.5851084705005075,
          -0.333920032363868,
          -0.21579762138892633,
          0.6201832711846496,
          -0.5496467319062202,
          -0.4109949271321021,
          -1.0847808598073
         ],
         "yaxis": "y14"
        },
        {
         "line": {
          "color": "rgba(128, 128, 128, 1.0)",
          "dash": "solid",
          "shape": "linear",
          "width": 1.3
         },
         "marker": {
          "size": 2,
          "symbol": "circle"
         },
         "mode": "markers",
         "name": "D",
         "text": "",
         "type": "scatter",
         "x": [
          0.6992355186470794,
          -0.961349925801248,
          -1.4530017126038446,
          -0.46747953735628,
          0.6179283646858071,
          0.08427229602569358,
          -0.4422796309733475,
          -1.017677544349955,
          -0.19384791458665435,
          -0.4027409126065992,
          -1.0459762747482046,
          -0.45171778521705136,
          0.5225231583018677,
          -0.6528166789415045,
          -0.10682849250694507,
          -0.992634174352462,
          0.9388318403964275,
          0.06633672040509916,
          -1.7023296104731054,
          -0.7880567550086323,
          0.36278825080369226,
          -0.8868488243081134,
          0.1989542301540041,
          -1.480811064500878,
          -0.8006505123444279,
          -1.951136985513205,
          0.3258176939679062,
          -1.4535219862978328,
          0.6381867404508632,
          0.5936058599286947,
          -0.7005663348259505,
          -0.623777076273893,
          0.11998600140106362,
          -0.7365169242004647,
          -1.475604072622844,
          -0.9917851988392883,
          -0.3526672429700603,
          -0.7663706653486057,
          1.500994272720018,
          -0.8864174727362274,
          -0.3823132942724965,
          -0.05774281041742565,
          0.4888736502547718,
          -0.28882838606809197,
          0.18925905060950246,
          0.012466343179889518,
          0.9915849904749007,
          -0.5287339927310498,
          -0.9182558258919131,
          -1.1130104456978185,
          -0.8122178875050419,
          0.8433274504829935,
          1.2142063586186593,
          -0.12819455122333961,
          0.030342918433465215,
          0.11875393411977264,
          0.2151373356484712,
          -2.3064758091798168,
          -0.7273507048062112,
          -1.188843480446673,
          -0.5714117854319605,
          0.36159090980546205,
          0.017916573232139667,
          0.2220947814245966,
          -0.4950200844017089,
          1.2625039888784364,
          -0.36634924333782043,
          0.6019338146892275,
          -0.14558248957116632,
          0.5463251657368409,
          0.5124712738010542,
          -0.5019635480348108,
          0.4119033892492304,
          0.3730809088695454,
          -0.23883140872158395,
          -1.0577671771039834,
          -0.8994648971609895,
          -1.6955524505950974,
          0.8319039015982783,
          -0.9690500398916245,
          -0.5187882164775001,
          -0.46253745172121935,
          0.6259532609668151,
          -0.0930799607957207,
          -2.3968815296415316,
          -0.9861227809085562,
          -0.6707295203799367,
          0.9465112097197014,
          0.9212119670161162,
          0.6949377871496079,
          -0.8348106484463262,
          -0.8528549149614885,
          -0.3060635082667802,
          -1.0802732520188134,
          0.6372172424462347,
          -1.0537788743769516,
          1.5397973968989402,
          0.4704611826848934,
          0.49908382817736924,
          -0.7184004827712632
         ],
         "xaxis": "x15",
         "y": [
          0.7950735439865309,
          1.936121928075488,
          0.20022620351317216,
          1.097902781559905,
          0.020108485628208227,
          -0.8852645510371487,
          0.6195504811283205,
          -1.0213127220643865,
          -2.64844972310845,
          0.4393712706108427,
          0.4424196745865346,
          0.18926775285610348,
          -0.8033165761908125,
          -0.6340294954265075,
          1.6574678620596546,
          -2.1323846048663797,
          -0.058137577898140946,
          -0.9129094552117951,
          0.44079697940631796,
          1.5300325111902,
          -1.922913157519095,
          1.9425511501521169,
          -0.7944535583480138,
          -1.6972535851255646,
          2.908507442808897,
          0.540490156801308,
          -0.6704033218765552,
          0.6584243028129534,
          0.27790936261239546,
          -0.20611122570958804,
          0.987244725775321,
          -0.5969325916898187,
          -0.1463593611464717,
          -1.5813749544994997,
          0.6533414467155894,
          2.2815125991427303,
          -0.4867594105256819,
          -2.2575906781599153,
          -0.6130791857271658,
          1.8357105417542057,
          0.529480638973706,
          -0.24319864772868918,
          -0.6048430200351759,
          0.7282085854430383,
          -0.7469725073276487,
          0.09988518294440948,
          -0.7575913692400225,
          -1.6521365337421492,
          0.8693150155319037,
          -0.8284365190454768,
          0.5845329350815593,
          0.4368402464691883,
          -0.8544562691512323,
          -0.40065736981156846,
          -0.024109765900172834,
          -0.2703111701790727,
          -0.5055617857724994,
          1.4256560804101626,
          0.06137345824064349,
          1.2200762356185093,
          0.39495352040288056,
          0.6070941523531138,
          0.03564521782445323,
          0.5727215352201621,
          0.09261794917829301,
          0.4549785212801003,
          -0.364961829741321,
          0.9343593098521027,
          1.0568490542579694,
          1.275755792660451,
          0.9269012427603945,
          0.7252636702258335,
          0.5119901677658074,
          2.521527424165082,
          0.5733569046382473,
          -0.6736459742845685,
          -0.07931047427814839,
          -0.6237076308005572,
          -0.2642060084782512,
          1.5083353927154404,
          0.9834924603760741,
          0.3024503668179526,
          0.660115804322677,
          2.3716077891534164,
          -0.14932105068655796,
          1.4470670560644057,
          1.2710270686340344,
          0.44082247924959217,
          -0.9962725879158789,
          0.9385800769386916,
          0.3702572157326843,
          -0.17182266923951767,
          0.8825266450639152,
          0.5851084705005075,
          -0.333920032363868,
          -0.21579762138892633,
          0.6201832711846496,
          -0.5496467319062202,
          -0.4109949271321021,
          -1.0847808598073
         ],
         "yaxis": "y15"
        },
        {
         "histfunc": "count",
         "histnorm": "",
         "marker": {
          "color": "rgba(128, 0, 128, 1.0)",
          "line": {
           "color": "#4D5663",
           "width": 1.3
          }
         },
         "name": "D",
         "nbinsx": 10,
         "opacity": 0.8,
         "orientation": "v",
         "type": "histogram",
         "x": [
          0.7950735439865309,
          1.936121928075488,
          0.20022620351317216,
          1.097902781559905,
          0.020108485628208227,
          -0.8852645510371487,
          0.6195504811283205,
          -1.0213127220643865,
          -2.64844972310845,
          0.4393712706108427,
          0.4424196745865346,
          0.18926775285610348,
          -0.8033165761908125,
          -0.6340294954265075,
          1.6574678620596546,
          -2.1323846048663797,
          -0.058137577898140946,
          -0.9129094552117951,
          0.44079697940631796,
          1.5300325111902,
          -1.922913157519095,
          1.9425511501521169,
          -0.7944535583480138,
          -1.6972535851255646,
          2.908507442808897,
          0.540490156801308,
          -0.6704033218765552,
          0.6584243028129534,
          0.27790936261239546,
          -0.20611122570958804,
          0.987244725775321,
          -0.5969325916898187,
          -0.1463593611464717,
          -1.5813749544994997,
          0.6533414467155894,
          2.2815125991427303,
          -0.4867594105256819,
          -2.2575906781599153,
          -0.6130791857271658,
          1.8357105417542057,
          0.529480638973706,
          -0.24319864772868918,
          -0.6048430200351759,
          0.7282085854430383,
          -0.7469725073276487,
          0.09988518294440948,
          -0.7575913692400225,
          -1.6521365337421492,
          0.8693150155319037,
          -0.8284365190454768,
          0.5845329350815593,
          0.4368402464691883,
          -0.8544562691512323,
          -0.40065736981156846,
          -0.024109765900172834,
          -0.2703111701790727,
          -0.5055617857724994,
          1.4256560804101626,
          0.06137345824064349,
          1.2200762356185093,
          0.39495352040288056,
          0.6070941523531138,
          0.03564521782445323,
          0.5727215352201621,
          0.09261794917829301,
          0.4549785212801003,
          -0.364961829741321,
          0.9343593098521027,
          1.0568490542579694,
          1.275755792660451,
          0.9269012427603945,
          0.7252636702258335,
          0.5119901677658074,
          2.521527424165082,
          0.5733569046382473,
          -0.6736459742845685,
          -0.07931047427814839,
          -0.6237076308005572,
          -0.2642060084782512,
          1.5083353927154404,
          0.9834924603760741,
          0.3024503668179526,
          0.660115804322677,
          2.3716077891534164,
          -0.14932105068655796,
          1.4470670560644057,
          1.2710270686340344,
          0.44082247924959217,
          -0.9962725879158789,
          0.9385800769386916,
          0.3702572157326843,
          -0.17182266923951767,
          0.8825266450639152,
          0.5851084705005075,
          -0.333920032363868,
          -0.21579762138892633,
          0.6201832711846496,
          -0.5496467319062202,
          -0.4109949271321021,
          -1.0847808598073
         ],
         "xaxis": "x16",
         "yaxis": "y16"
        }
       ],
       "layout": {
        "bargap": 0.02,
        "legend": {
         "bgcolor": "#F5F6F9",
         "font": {
          "color": "#4D5663"
         }
        },
        "paper_bgcolor": "#F5F6F9",
        "plot_bgcolor": "#F5F6F9",
        "showlegend": false,
        "template": {
         "data": {
          "bar": [
           {
            "error_x": {
             "color": "#2a3f5f"
            },
            "error_y": {
             "color": "#2a3f5f"
            },
            "marker": {
             "line": {
              "color": "#E5ECF6",
              "width": 0.5
             },
             "pattern": {
              "fillmode": "overlay",
              "size": 10,
              "solidity": 0.2
             }
            },
            "type": "bar"
           }
          ],
          "barpolar": [
           {
            "marker": {
             "line": {
              "color": "#E5ECF6",
              "width": 0.5
             },
             "pattern": {
              "fillmode": "overlay",
              "size": 10,
              "solidity": 0.2
             }
            },
            "type": "barpolar"
           }
          ],
          "carpet": [
           {
            "aaxis": {
             "endlinecolor": "#2a3f5f",
             "gridcolor": "white",
             "linecolor": "white",
             "minorgridcolor": "white",
             "startlinecolor": "#2a3f5f"
            },
            "baxis": {
             "endlinecolor": "#2a3f5f",
             "gridcolor": "white",
             "linecolor": "white",
             "minorgridcolor": "white",
             "startlinecolor": "#2a3f5f"
            },
            "type": "carpet"
           }
          ],
          "choropleth": [
           {
            "colorbar": {
             "outlinewidth": 0,
             "ticks": ""
            },
            "type": "choropleth"
           }
          ],
          "contour": [
           {
            "colorbar": {
             "outlinewidth": 0,
             "ticks": ""
            },
            "colorscale": [
             [
              0,
              "#0d0887"
             ],
             [
              0.1111111111111111,
              "#46039f"
             ],
             [
              0.2222222222222222,
              "#7201a8"
             ],
             [
              0.3333333333333333,
              "#9c179e"
             ],
             [
              0.4444444444444444,
              "#bd3786"
             ],
             [
              0.5555555555555556,
              "#d8576b"
             ],
             [
              0.6666666666666666,
              "#ed7953"
             ],
             [
              0.7777777777777778,
              "#fb9f3a"
             ],
             [
              0.8888888888888888,
              "#fdca26"
             ],
             [
              1,
              "#f0f921"
             ]
            ],
            "type": "contour"
           }
          ],
          "contourcarpet": [
           {
            "colorbar": {
             "outlinewidth": 0,
             "ticks": ""
            },
            "type": "contourcarpet"
           }
          ],
          "heatmap": [
           {
            "colorbar": {
             "outlinewidth": 0,
             "ticks": ""
            },
            "colorscale": [
             [
              0,
              "#0d0887"
             ],
             [
              0.1111111111111111,
              "#46039f"
             ],
             [
              0.2222222222222222,
              "#7201a8"
             ],
             [
              0.3333333333333333,
              "#9c179e"
             ],
             [
              0.4444444444444444,
              "#bd3786"
             ],
             [
              0.5555555555555556,
              "#d8576b"
             ],
             [
              0.6666666666666666,
              "#ed7953"
             ],
             [
              0.7777777777777778,
              "#fb9f3a"
             ],
             [
              0.8888888888888888,
              "#fdca26"
             ],
             [
              1,
              "#f0f921"
             ]
            ],
            "type": "heatmap"
           }
          ],
          "heatmapgl": [
           {
            "colorbar": {
             "outlinewidth": 0,
             "ticks": ""
            },
            "colorscale": [
             [
              0,
              "#0d0887"
             ],
             [
              0.1111111111111111,
              "#46039f"
             ],
             [
              0.2222222222222222,
              "#7201a8"
             ],
             [
              0.3333333333333333,
              "#9c179e"
             ],
             [
              0.4444444444444444,
              "#bd3786"
             ],
             [
              0.5555555555555556,
              "#d8576b"
             ],
             [
              0.6666666666666666,
              "#ed7953"
             ],
             [
              0.7777777777777778,
              "#fb9f3a"
             ],
             [
              0.8888888888888888,
              "#fdca26"
             ],
             [
              1,
              "#f0f921"
             ]
            ],
            "type": "heatmapgl"
           }
          ],
          "histogram": [
           {
            "marker": {
             "pattern": {
              "fillmode": "overlay",
              "size": 10,
              "solidity": 0.2
             }
            },
            "type": "histogram"
           }
          ],
          "histogram2d": [
           {
            "colorbar": {
             "outlinewidth": 0,
             "ticks": ""
            },
            "colorscale": [
             [
              0,
              "#0d0887"
             ],
             [
              0.1111111111111111,
              "#46039f"
             ],
             [
              0.2222222222222222,
              "#7201a8"
             ],
             [
              0.3333333333333333,
              "#9c179e"
             ],
             [
              0.4444444444444444,
              "#bd3786"
             ],
             [
              0.5555555555555556,
              "#d8576b"
             ],
             [
              0.6666666666666666,
              "#ed7953"
             ],
             [
              0.7777777777777778,
              "#fb9f3a"
             ],
             [
              0.8888888888888888,
              "#fdca26"
             ],
             [
              1,
              "#f0f921"
             ]
            ],
            "type": "histogram2d"
           }
          ],
          "histogram2dcontour": [
           {
            "colorbar": {
             "outlinewidth": 0,
             "ticks": ""
            },
            "colorscale": [
             [
              0,
              "#0d0887"
             ],
             [
              0.1111111111111111,
              "#46039f"
             ],
             [
              0.2222222222222222,
              "#7201a8"
             ],
             [
              0.3333333333333333,
              "#9c179e"
             ],
             [
              0.4444444444444444,
              "#bd3786"
             ],
             [
              0.5555555555555556,
              "#d8576b"
             ],
             [
              0.6666666666666666,
              "#ed7953"
             ],
             [
              0.7777777777777778,
              "#fb9f3a"
             ],
             [
              0.8888888888888888,
              "#fdca26"
             ],
             [
              1,
              "#f0f921"
             ]
            ],
            "type": "histogram2dcontour"
           }
          ],
          "mesh3d": [
           {
            "colorbar": {
             "outlinewidth": 0,
             "ticks": ""
            },
            "type": "mesh3d"
           }
          ],
          "parcoords": [
           {
            "line": {
             "colorbar": {
              "outlinewidth": 0,
              "ticks": ""
             }
            },
            "type": "parcoords"
           }
          ],
          "pie": [
           {
            "automargin": true,
            "type": "pie"
           }
          ],
          "scatter": [
           {
            "fillpattern": {
             "fillmode": "overlay",
             "size": 10,
             "solidity": 0.2
            },
            "type": "scatter"
           }
          ],
          "scatter3d": [
           {
            "line": {
             "colorbar": {
              "outlinewidth": 0,
              "ticks": ""
             }
            },
            "marker": {
             "colorbar": {
              "outlinewidth": 0,
              "ticks": ""
             }
            },
            "type": "scatter3d"
           }
          ],
          "scattercarpet": [
           {
            "marker": {
             "colorbar": {
              "outlinewidth": 0,
              "ticks": ""
             }
            },
            "type": "scattercarpet"
           }
          ],
          "scattergeo": [
           {
            "marker": {
             "colorbar": {
              "outlinewidth": 0,
              "ticks": ""
             }
            },
            "type": "scattergeo"
           }
          ],
          "scattergl": [
           {
            "marker": {
             "colorbar": {
              "outlinewidth": 0,
              "ticks": ""
             }
            },
            "type": "scattergl"
           }
          ],
          "scattermapbox": [
           {
            "marker": {
             "colorbar": {
              "outlinewidth": 0,
              "ticks": ""
             }
            },
            "type": "scattermapbox"
           }
          ],
          "scatterpolar": [
           {
            "marker": {
             "colorbar": {
              "outlinewidth": 0,
              "ticks": ""
             }
            },
            "type": "scatterpolar"
           }
          ],
          "scatterpolargl": [
           {
            "marker": {
             "colorbar": {
              "outlinewidth": 0,
              "ticks": ""
             }
            },
            "type": "scatterpolargl"
           }
          ],
          "scatterternary": [
           {
            "marker": {
             "colorbar": {
              "outlinewidth": 0,
              "ticks": ""
             }
            },
            "type": "scatterternary"
           }
          ],
          "surface": [
           {
            "colorbar": {
             "outlinewidth": 0,
             "ticks": ""
            },
            "colorscale": [
             [
              0,
              "#0d0887"
             ],
             [
              0.1111111111111111,
              "#46039f"
             ],
             [
              0.2222222222222222,
              "#7201a8"
             ],
             [
              0.3333333333333333,
              "#9c179e"
             ],
             [
              0.4444444444444444,
              "#bd3786"
             ],
             [
              0.5555555555555556,
              "#d8576b"
             ],
             [
              0.6666666666666666,
              "#ed7953"
             ],
             [
              0.7777777777777778,
              "#fb9f3a"
             ],
             [
              0.8888888888888888,
              "#fdca26"
             ],
             [
              1,
              "#f0f921"
             ]
            ],
            "type": "surface"
           }
          ],
          "table": [
           {
            "cells": {
             "fill": {
              "color": "#EBF0F8"
             },
             "line": {
              "color": "white"
             }
            },
            "header": {
             "fill": {
              "color": "#C8D4E3"
             },
             "line": {
              "color": "white"
             }
            },
            "type": "table"
           }
          ]
         },
         "layout": {
          "annotationdefaults": {
           "arrowcolor": "#2a3f5f",
           "arrowhead": 0,
           "arrowwidth": 1
          },
          "autotypenumbers": "strict",
          "coloraxis": {
           "colorbar": {
            "outlinewidth": 0,
            "ticks": ""
           }
          },
          "colorscale": {
           "diverging": [
            [
             0,
             "#8e0152"
            ],
            [
             0.1,
             "#c51b7d"
            ],
            [
             0.2,
             "#de77ae"
            ],
            [
             0.3,
             "#f1b6da"
            ],
            [
             0.4,
             "#fde0ef"
            ],
            [
             0.5,
             "#f7f7f7"
            ],
            [
             0.6,
             "#e6f5d0"
            ],
            [
             0.7,
             "#b8e186"
            ],
            [
             0.8,
             "#7fbc41"
            ],
            [
             0.9,
             "#4d9221"
            ],
            [
             1,
             "#276419"
            ]
           ],
           "sequential": [
            [
             0,
             "#0d0887"
            ],
            [
             0.1111111111111111,
             "#46039f"
            ],
            [
             0.2222222222222222,
             "#7201a8"
            ],
            [
             0.3333333333333333,
             "#9c179e"
            ],
            [
             0.4444444444444444,
             "#bd3786"
            ],
            [
             0.5555555555555556,
             "#d8576b"
            ],
            [
             0.6666666666666666,
             "#ed7953"
            ],
            [
             0.7777777777777778,
             "#fb9f3a"
            ],
            [
             0.8888888888888888,
             "#fdca26"
            ],
            [
             1,
             "#f0f921"
            ]
           ],
           "sequentialminus": [
            [
             0,
             "#0d0887"
            ],
            [
             0.1111111111111111,
             "#46039f"
            ],
            [
             0.2222222222222222,
             "#7201a8"
            ],
            [
             0.3333333333333333,
             "#9c179e"
            ],
            [
             0.4444444444444444,
             "#bd3786"
            ],
            [
             0.5555555555555556,
             "#d8576b"
            ],
            [
             0.6666666666666666,
             "#ed7953"
            ],
            [
             0.7777777777777778,
             "#fb9f3a"
            ],
            [
             0.8888888888888888,
             "#fdca26"
            ],
            [
             1,
             "#f0f921"
            ]
           ]
          },
          "colorway": [
           "#636efa",
           "#EF553B",
           "#00cc96",
           "#ab63fa",
           "#FFA15A",
           "#19d3f3",
           "#FF6692",
           "#B6E880",
           "#FF97FF",
           "#FECB52"
          ],
          "font": {
           "color": "#2a3f5f"
          },
          "geo": {
           "bgcolor": "white",
           "lakecolor": "white",
           "landcolor": "#E5ECF6",
           "showlakes": true,
           "showland": true,
           "subunitcolor": "white"
          },
          "hoverlabel": {
           "align": "left"
          },
          "hovermode": "closest",
          "mapbox": {
           "style": "light"
          },
          "paper_bgcolor": "white",
          "plot_bgcolor": "#E5ECF6",
          "polar": {
           "angularaxis": {
            "gridcolor": "white",
            "linecolor": "white",
            "ticks": ""
           },
           "bgcolor": "#E5ECF6",
           "radialaxis": {
            "gridcolor": "white",
            "linecolor": "white",
            "ticks": ""
           }
          },
          "scene": {
           "xaxis": {
            "backgroundcolor": "#E5ECF6",
            "gridcolor": "white",
            "gridwidth": 2,
            "linecolor": "white",
            "showbackground": true,
            "ticks": "",
            "zerolinecolor": "white"
           },
           "yaxis": {
            "backgroundcolor": "#E5ECF6",
            "gridcolor": "white",
            "gridwidth": 2,
            "linecolor": "white",
            "showbackground": true,
            "ticks": "",
            "zerolinecolor": "white"
           },
           "zaxis": {
            "backgroundcolor": "#E5ECF6",
            "gridcolor": "white",
            "gridwidth": 2,
            "linecolor": "white",
            "showbackground": true,
            "ticks": "",
            "zerolinecolor": "white"
           }
          },
          "shapedefaults": {
           "line": {
            "color": "#2a3f5f"
           }
          },
          "ternary": {
           "aaxis": {
            "gridcolor": "white",
            "linecolor": "white",
            "ticks": ""
           },
           "baxis": {
            "gridcolor": "white",
            "linecolor": "white",
            "ticks": ""
           },
           "bgcolor": "#E5ECF6",
           "caxis": {
            "gridcolor": "white",
            "linecolor": "white",
            "ticks": ""
           }
          },
          "title": {
           "x": 0.05
          },
          "xaxis": {
           "automargin": true,
           "gridcolor": "white",
           "linecolor": "white",
           "ticks": "",
           "title": {
            "standoff": 15
           },
           "zerolinecolor": "white",
           "zerolinewidth": 2
          },
          "yaxis": {
           "automargin": true,
           "gridcolor": "white",
           "linecolor": "white",
           "ticks": "",
           "title": {
            "standoff": 15
           },
           "zerolinecolor": "white",
           "zerolinewidth": 2
          }
         }
        },
        "title": {
         "font": {
          "color": "#4D5663"
         }
        },
        "xaxis": {
         "anchor": "y",
         "domain": [
          0,
          0.2125
         ],
         "gridcolor": "#E1E5ED",
         "showgrid": false,
         "tickfont": {
          "color": "#4D5663"
         },
         "title": {
          "font": {
           "color": "#4D5663"
          },
          "text": ""
         },
         "zerolinecolor": "#E1E5ED"
        },
        "xaxis10": {
         "anchor": "y10",
         "domain": [
          0.2625,
          0.475
         ],
         "gridcolor": "#E1E5ED",
         "showgrid": false,
         "tickfont": {
          "color": "#4D5663"
         },
         "title": {
          "font": {
           "color": "#4D5663"
          },
          "text": ""
         },
         "zerolinecolor": "#E1E5ED"
        },
        "xaxis11": {
         "anchor": "y11",
         "domain": [
          0.525,
          0.7375
         ],
         "gridcolor": "#E1E5ED",
         "showgrid": false,
         "tickfont": {
          "color": "#4D5663"
         },
         "title": {
          "font": {
           "color": "#4D5663"
          },
          "text": ""
         },
         "zerolinecolor": "#E1E5ED"
        },
        "xaxis12": {
         "anchor": "y12",
         "domain": [
          0.7875,
          1
         ],
         "gridcolor": "#E1E5ED",
         "showgrid": false,
         "tickfont": {
          "color": "#4D5663"
         },
         "title": {
          "font": {
           "color": "#4D5663"
          },
          "text": ""
         },
         "zerolinecolor": "#E1E5ED"
        },
        "xaxis13": {
         "anchor": "y13",
         "domain": [
          0,
          0.2125
         ],
         "gridcolor": "#E1E5ED",
         "showgrid": false,
         "tickfont": {
          "color": "#4D5663"
         },
         "title": {
          "font": {
           "color": "#4D5663"
          },
          "text": ""
         },
         "zerolinecolor": "#E1E5ED"
        },
        "xaxis14": {
         "anchor": "y14",
         "domain": [
          0.2625,
          0.475
         ],
         "gridcolor": "#E1E5ED",
         "showgrid": false,
         "tickfont": {
          "color": "#4D5663"
         },
         "title": {
          "font": {
           "color": "#4D5663"
          },
          "text": ""
         },
         "zerolinecolor": "#E1E5ED"
        },
        "xaxis15": {
         "anchor": "y15",
         "domain": [
          0.525,
          0.7375
         ],
         "gridcolor": "#E1E5ED",
         "showgrid": false,
         "tickfont": {
          "color": "#4D5663"
         },
         "title": {
          "font": {
           "color": "#4D5663"
          },
          "text": ""
         },
         "zerolinecolor": "#E1E5ED"
        },
        "xaxis16": {
         "anchor": "y16",
         "domain": [
          0.7875,
          1
         ],
         "gridcolor": "#E1E5ED",
         "showgrid": false,
         "tickfont": {
          "color": "#4D5663"
         },
         "title": {
          "font": {
           "color": "#4D5663"
          },
          "text": ""
         },
         "zerolinecolor": "#E1E5ED"
        },
        "xaxis2": {
         "anchor": "y2",
         "domain": [
          0.2625,
          0.475
         ],
         "gridcolor": "#E1E5ED",
         "showgrid": false,
         "tickfont": {
          "color": "#4D5663"
         },
         "title": {
          "font": {
           "color": "#4D5663"
          },
          "text": ""
         },
         "zerolinecolor": "#E1E5ED"
        },
        "xaxis3": {
         "anchor": "y3",
         "domain": [
          0.525,
          0.7375
         ],
         "gridcolor": "#E1E5ED",
         "showgrid": false,
         "tickfont": {
          "color": "#4D5663"
         },
         "title": {
          "font": {
           "color": "#4D5663"
          },
          "text": ""
         },
         "zerolinecolor": "#E1E5ED"
        },
        "xaxis4": {
         "anchor": "y4",
         "domain": [
          0.7875,
          1
         ],
         "gridcolor": "#E1E5ED",
         "showgrid": false,
         "tickfont": {
          "color": "#4D5663"
         },
         "title": {
          "font": {
           "color": "#4D5663"
          },
          "text": ""
         },
         "zerolinecolor": "#E1E5ED"
        },
        "xaxis5": {
         "anchor": "y5",
         "domain": [
          0,
          0.2125
         ],
         "gridcolor": "#E1E5ED",
         "showgrid": false,
         "tickfont": {
          "color": "#4D5663"
         },
         "title": {
          "font": {
           "color": "#4D5663"
          },
          "text": ""
         },
         "zerolinecolor": "#E1E5ED"
        },
        "xaxis6": {
         "anchor": "y6",
         "domain": [
          0.2625,
          0.475
         ],
         "gridcolor": "#E1E5ED",
         "showgrid": false,
         "tickfont": {
          "color": "#4D5663"
         },
         "title": {
          "font": {
           "color": "#4D5663"
          },
          "text": ""
         },
         "zerolinecolor": "#E1E5ED"
        },
        "xaxis7": {
         "anchor": "y7",
         "domain": [
          0.525,
          0.7375
         ],
         "gridcolor": "#E1E5ED",
         "showgrid": false,
         "tickfont": {
          "color": "#4D5663"
         },
         "title": {
          "font": {
           "color": "#4D5663"
          },
          "text": ""
         },
         "zerolinecolor": "#E1E5ED"
        },
        "xaxis8": {
         "anchor": "y8",
         "domain": [
          0.7875,
          1
         ],
         "gridcolor": "#E1E5ED",
         "showgrid": false,
         "tickfont": {
          "color": "#4D5663"
         },
         "title": {
          "font": {
           "color": "#4D5663"
          },
          "text": ""
         },
         "zerolinecolor": "#E1E5ED"
        },
        "xaxis9": {
         "anchor": "y9",
         "domain": [
          0,
          0.2125
         ],
         "gridcolor": "#E1E5ED",
         "showgrid": false,
         "tickfont": {
          "color": "#4D5663"
         },
         "title": {
          "font": {
           "color": "#4D5663"
          },
          "text": ""
         },
         "zerolinecolor": "#E1E5ED"
        },
        "yaxis": {
         "anchor": "x",
         "domain": [
          0.8025,
          1
         ],
         "gridcolor": "#E1E5ED",
         "showgrid": false,
         "tickfont": {
          "color": "#4D5663"
         },
         "title": {
          "font": {
           "color": "#4D5663"
          },
          "text": ""
         },
         "zerolinecolor": "#E1E5ED"
        },
        "yaxis10": {
         "anchor": "x10",
         "domain": [
          0.2675,
          0.465
         ],
         "gridcolor": "#E1E5ED",
         "showgrid": false,
         "tickfont": {
          "color": "#4D5663"
         },
         "title": {
          "font": {
           "color": "#4D5663"
          },
          "text": ""
         },
         "zerolinecolor": "#E1E5ED"
        },
        "yaxis11": {
         "anchor": "x11",
         "domain": [
          0.2675,
          0.465
         ],
         "gridcolor": "#E1E5ED",
         "showgrid": false,
         "tickfont": {
          "color": "#4D5663"
         },
         "title": {
          "font": {
           "color": "#4D5663"
          },
          "text": ""
         },
         "zerolinecolor": "#E1E5ED"
        },
        "yaxis12": {
         "anchor": "x12",
         "domain": [
          0.2675,
          0.465
         ],
         "gridcolor": "#E1E5ED",
         "showgrid": false,
         "tickfont": {
          "color": "#4D5663"
         },
         "title": {
          "font": {
           "color": "#4D5663"
          },
          "text": ""
         },
         "zerolinecolor": "#E1E5ED"
        },
        "yaxis13": {
         "anchor": "x13",
         "domain": [
          0,
          0.1975
         ],
         "gridcolor": "#E1E5ED",
         "showgrid": false,
         "tickfont": {
          "color": "#4D5663"
         },
         "title": {
          "font": {
           "color": "#4D5663"
          },
          "text": ""
         },
         "zerolinecolor": "#E1E5ED"
        },
        "yaxis14": {
         "anchor": "x14",
         "domain": [
          0,
          0.1975
         ],
         "gridcolor": "#E1E5ED",
         "showgrid": false,
         "tickfont": {
          "color": "#4D5663"
         },
         "title": {
          "font": {
           "color": "#4D5663"
          },
          "text": ""
         },
         "zerolinecolor": "#E1E5ED"
        },
        "yaxis15": {
         "anchor": "x15",
         "domain": [
          0,
          0.1975
         ],
         "gridcolor": "#E1E5ED",
         "showgrid": false,
         "tickfont": {
          "color": "#4D5663"
         },
         "title": {
          "font": {
           "color": "#4D5663"
          },
          "text": ""
         },
         "zerolinecolor": "#E1E5ED"
        },
        "yaxis16": {
         "anchor": "x16",
         "domain": [
          0,
          0.1975
         ],
         "gridcolor": "#E1E5ED",
         "showgrid": false,
         "tickfont": {
          "color": "#4D5663"
         },
         "title": {
          "font": {
           "color": "#4D5663"
          },
          "text": ""
         },
         "zerolinecolor": "#E1E5ED"
        },
        "yaxis2": {
         "anchor": "x2",
         "domain": [
          0.8025,
          1
         ],
         "gridcolor": "#E1E5ED",
         "showgrid": false,
         "tickfont": {
          "color": "#4D5663"
         },
         "title": {
          "font": {
           "color": "#4D5663"
          },
          "text": ""
         },
         "zerolinecolor": "#E1E5ED"
        },
        "yaxis3": {
         "anchor": "x3",
         "domain": [
          0.8025,
          1
         ],
         "gridcolor": "#E1E5ED",
         "showgrid": false,
         "tickfont": {
          "color": "#4D5663"
         },
         "title": {
          "font": {
           "color": "#4D5663"
          },
          "text": ""
         },
         "zerolinecolor": "#E1E5ED"
        },
        "yaxis4": {
         "anchor": "x4",
         "domain": [
          0.8025,
          1
         ],
         "gridcolor": "#E1E5ED",
         "showgrid": false,
         "tickfont": {
          "color": "#4D5663"
         },
         "title": {
          "font": {
           "color": "#4D5663"
          },
          "text": ""
         },
         "zerolinecolor": "#E1E5ED"
        },
        "yaxis5": {
         "anchor": "x5",
         "domain": [
          0.535,
          0.7325
         ],
         "gridcolor": "#E1E5ED",
         "showgrid": false,
         "tickfont": {
          "color": "#4D5663"
         },
         "title": {
          "font": {
           "color": "#4D5663"
          },
          "text": ""
         },
         "zerolinecolor": "#E1E5ED"
        },
        "yaxis6": {
         "anchor": "x6",
         "domain": [
          0.535,
          0.7325
         ],
         "gridcolor": "#E1E5ED",
         "showgrid": false,
         "tickfont": {
          "color": "#4D5663"
         },
         "title": {
          "font": {
           "color": "#4D5663"
          },
          "text": ""
         },
         "zerolinecolor": "#E1E5ED"
        },
        "yaxis7": {
         "anchor": "x7",
         "domain": [
          0.535,
          0.7325
         ],
         "gridcolor": "#E1E5ED",
         "showgrid": false,
         "tickfont": {
          "color": "#4D5663"
         },
         "title": {
          "font": {
           "color": "#4D5663"
          },
          "text": ""
         },
         "zerolinecolor": "#E1E5ED"
        },
        "yaxis8": {
         "anchor": "x8",
         "domain": [
          0.535,
          0.7325
         ],
         "gridcolor": "#E1E5ED",
         "showgrid": false,
         "tickfont": {
          "color": "#4D5663"
         },
         "title": {
          "font": {
           "color": "#4D5663"
          },
          "text": ""
         },
         "zerolinecolor": "#E1E5ED"
        },
        "yaxis9": {
         "anchor": "x9",
         "domain": [
          0.2675,
          0.465
         ],
         "gridcolor": "#E1E5ED",
         "showgrid": false,
         "tickfont": {
          "color": "#4D5663"
         },
         "title": {
          "font": {
           "color": "#4D5663"
          },
          "text": ""
         },
         "zerolinecolor": "#E1E5ED"
        }
       }
      },
      "text/html": [
       "<div>                            <div id=\"3e9b9d28-d4a3-48c5-842e-8284147b0dc1\" class=\"plotly-graph-div\" style=\"height:525px; width:100%;\"></div>            <script type=\"text/javascript\">                require([\"plotly\"], function(Plotly) {                    window.PLOTLYENV=window.PLOTLYENV || {};\n",
       "                    window.PLOTLYENV.BASE_URL='https://plot.ly';                                    if (document.getElementById(\"3e9b9d28-d4a3-48c5-842e-8284147b0dc1\")) {                    Plotly.newPlot(                        \"3e9b9d28-d4a3-48c5-842e-8284147b0dc1\",                        [{\"histfunc\":\"count\",\"histnorm\":\"\",\"marker\":{\"color\":\"rgba(255, 153, 51, 1.0)\",\"line\":{\"color\":\"#4D5663\",\"width\":1.3}},\"name\":\"A\",\"nbinsx\":10,\"opacity\":0.8,\"orientation\":\"v\",\"x\":[-0.2608614967031024,-0.49096342548313715,0.6534012059127755,-0.10382438391128623,0.0915136834623817,-0.2578466669372469,1.3897210082903713,-2.013970521337588,1.125741276541228,1.4993336191900457,-1.0595478745403308,-0.9430230210121577,-1.2621205005640328,1.4036731506061113,-0.03593673976090577,0.3050000998253773,-0.5522484049090643,-1.0203076856253586,0.6432367105616998,-0.8914863941492807,-2.185714250972939,0.12623577838399472,0.3921453841215854,0.4737295051464659,-0.17056200224579707,1.1774627570310106,-0.20762902062129898,1.2387067508523648,-1.3942752324541112,-1.716189450517545,0.22085285260585943,-0.6321810216895608,1.3901915806812715,1.0108805251540562,1.061249343310655,0.5308300215857267,-0.9503016687818185,-1.667629010859623,-1.1568624868134363,1.5218137380315473,-0.39221211032341013,2.3415395295809978,-1.486339576927987,-0.03772819855435538,1.4092361992473252,-0.7939024526846925,0.7862010597484133,-0.7353686055886977,0.4288694099887663,-0.27000065017539937,-0.41260190292719623,0.2707480429353407,-2.3153140545469633,-0.493246648926603,-0.20401174053479268,0.43262354086467664,-0.4638179729532545,-0.12104956411305579,0.0009501990026392411,-1.7944854502101284,1.1942829892775488,0.28613422098047586,0.6089637428915142,-1.68539790425561,-0.20944913271903332,0.7539061989031305,-0.30783771025917217,0.9249555792566864,2.155794363974152,-0.30825770648294415,2.3165892472778196,1.1104333103089679,0.5986508909048686,0.8596613825961947,-1.2785925488102268,0.9522963674778507,2.414612831587702,1.5551358944135807,0.6419754681607723,1.7713479403779466,1.121810184988672,-1.3457087892552062,2.0908035265398817,0.4571403655148956,0.2239437084658507,0.002231840122407565,0.7903495448532022,0.2563582466878664,1.7319416821321127,-2.634999142029582,0.5116574427742703,0.09494333197935707,-2.7505020690095145,0.4200960660289981,-1.3218058607201475,1.0064450686749333,0.9976844535285386,-0.9675831445221813,-0.5263696958489338,1.9143818200798364],\"xaxis\":\"x\",\"yaxis\":\"y\",\"type\":\"histogram\"},{\"line\":{\"color\":\"rgba(128, 128, 128, 1.0)\",\"dash\":\"solid\",\"shape\":\"linear\",\"width\":1.3},\"marker\":{\"size\":2,\"symbol\":\"circle\"},\"mode\":\"markers\",\"name\":\"A\",\"text\":\"\",\"x\":[-0.25432533756669773,-1.581414768480805,0.40218331727380613,-0.7653635025178969,-0.03758094088299645,0.8228516602736954,0.20950479153616372,0.2368828777231409,-0.13416480196104766,0.06773423875996688,-1.3924154298925469,0.010537225188061829,-0.9192378281206622,-1.343298101902075,-1.7841952728986434,-0.5248286222071976,0.030492134192341522,-0.2095316178025833,0.941695473320228,-1.0303073120794726,-1.615853408823164,-0.7977565224429886,1.346204299136864,-1.2273416627519849,-0.9767964659827089,-1.5763455228401246,-1.9792442444712637,0.4384768080985399,0.17679566623301302,-0.9317474293601441,0.8682987401646762,-0.1003875632961765,-0.0884962705505986,0.24286646977162227,0.20207155467009158,0.38365946277845214,0.15769247651445353,-1.0665564678618131,0.49225575504181734,0.10153122545596022,0.11375123863064968,-0.4628493592894469,-0.5812908283646572,-0.5818098728891352,0.9176543169317575,0.5087887543927186,0.16819075587941956,-0.8945686934935044,0.3721570565430783,-0.257705545117878,1.6287138726491417,-1.1739713566817833,0.398367300079867,-0.6767044911122801,0.47600397787049986,-2.763129323705531,0.21077619673830947,-0.2258518499521978,-0.821396180646884,1.0365094058365847,-1.6318344262056328,-0.3298121153479205,0.8315693323045643,0.0007504783278676238,-0.29675189476684655,0.027554435329936816,0.6609436762444268,0.8785579905871628,-0.029854680377078793,1.5082301656300974,-1.2449285328680817,-0.9768057784470087,1.4916896101273067,-1.122012736021044,-0.38767399665537694,-1.329045263751567,0.6179854602630162,-2.1766036516777953,0.9997178836248283,-0.5995015860441616,1.3839885679655453,-0.5180161564966833,0.8533682831785384,-0.9115908122880608,-0.4306924280020869,0.9609848960490938,0.9220703471457242,1.7542139768319003,0.3604841912013604,0.0017037783681344279,-1.2543075592125403,-0.15102453234097343,-0.5360051864835451,0.5989775610224853,0.8263314749363494,-1.2655278034535515,0.9401542797781919,0.42961783137316306,0.7242211546399301,0.015725214681151255],\"xaxis\":\"x2\",\"y\":[-0.2608614967031024,-0.49096342548313715,0.6534012059127755,-0.10382438391128623,0.0915136834623817,-0.2578466669372469,1.3897210082903713,-2.013970521337588,1.125741276541228,1.4993336191900457,-1.0595478745403308,-0.9430230210121577,-1.2621205005640328,1.4036731506061113,-0.03593673976090577,0.3050000998253773,-0.5522484049090643,-1.0203076856253586,0.6432367105616998,-0.8914863941492807,-2.185714250972939,0.12623577838399472,0.3921453841215854,0.4737295051464659,-0.17056200224579707,1.1774627570310106,-0.20762902062129898,1.2387067508523648,-1.3942752324541112,-1.716189450517545,0.22085285260585943,-0.6321810216895608,1.3901915806812715,1.0108805251540562,1.061249343310655,0.5308300215857267,-0.9503016687818185,-1.667629010859623,-1.1568624868134363,1.5218137380315473,-0.39221211032341013,2.3415395295809978,-1.486339576927987,-0.03772819855435538,1.4092361992473252,-0.7939024526846925,0.7862010597484133,-0.7353686055886977,0.4288694099887663,-0.27000065017539937,-0.41260190292719623,0.2707480429353407,-2.3153140545469633,-0.493246648926603,-0.20401174053479268,0.43262354086467664,-0.4638179729532545,-0.12104956411305579,0.0009501990026392411,-1.7944854502101284,1.1942829892775488,0.28613422098047586,0.6089637428915142,-1.68539790425561,-0.20944913271903332,0.7539061989031305,-0.30783771025917217,0.9249555792566864,2.155794363974152,-0.30825770648294415,2.3165892472778196,1.1104333103089679,0.5986508909048686,0.8596613825961947,-1.2785925488102268,0.9522963674778507,2.414612831587702,1.5551358944135807,0.6419754681607723,1.7713479403779466,1.121810184988672,-1.3457087892552062,2.0908035265398817,0.4571403655148956,0.2239437084658507,0.002231840122407565,0.7903495448532022,0.2563582466878664,1.7319416821321127,-2.634999142029582,0.5116574427742703,0.09494333197935707,-2.7505020690095145,0.4200960660289981,-1.3218058607201475,1.0064450686749333,0.9976844535285386,-0.9675831445221813,-0.5263696958489338,1.9143818200798364],\"yaxis\":\"y2\",\"type\":\"scatter\"},{\"line\":{\"color\":\"rgba(128, 128, 128, 1.0)\",\"dash\":\"solid\",\"shape\":\"linear\",\"width\":1.3},\"marker\":{\"size\":2,\"symbol\":\"circle\"},\"mode\":\"markers\",\"name\":\"A\",\"text\":\"\",\"x\":[0.6992355186470794,-0.961349925801248,-1.4530017126038446,-0.46747953735628,0.6179283646858071,0.08427229602569358,-0.4422796309733475,-1.017677544349955,-0.19384791458665435,-0.4027409126065992,-1.0459762747482046,-0.45171778521705136,0.5225231583018677,-0.6528166789415045,-0.10682849250694507,-0.992634174352462,0.9388318403964275,0.06633672040509916,-1.7023296104731054,-0.7880567550086323,0.36278825080369226,-0.8868488243081134,0.1989542301540041,-1.480811064500878,-0.8006505123444279,-1.951136985513205,0.3258176939679062,-1.4535219862978328,0.6381867404508632,0.5936058599286947,-0.7005663348259505,-0.623777076273893,0.11998600140106362,-0.7365169242004647,-1.475604072622844,-0.9917851988392883,-0.3526672429700603,-0.7663706653486057,1.500994272720018,-0.8864174727362274,-0.3823132942724965,-0.05774281041742565,0.4888736502547718,-0.28882838606809197,0.18925905060950246,0.012466343179889518,0.9915849904749007,-0.5287339927310498,-0.9182558258919131,-1.1130104456978185,-0.8122178875050419,0.8433274504829935,1.2142063586186593,-0.12819455122333961,0.030342918433465215,0.11875393411977264,0.2151373356484712,-2.3064758091798168,-0.7273507048062112,-1.188843480446673,-0.5714117854319605,0.36159090980546205,0.017916573232139667,0.2220947814245966,-0.4950200844017089,1.2625039888784364,-0.36634924333782043,0.6019338146892275,-0.14558248957116632,0.5463251657368409,0.5124712738010542,-0.5019635480348108,0.4119033892492304,0.3730809088695454,-0.23883140872158395,-1.0577671771039834,-0.8994648971609895,-1.6955524505950974,0.8319039015982783,-0.9690500398916245,-0.5187882164775001,-0.46253745172121935,0.6259532609668151,-0.0930799607957207,-2.3968815296415316,-0.9861227809085562,-0.6707295203799367,0.9465112097197014,0.9212119670161162,0.6949377871496079,-0.8348106484463262,-0.8528549149614885,-0.3060635082667802,-1.0802732520188134,0.6372172424462347,-1.0537788743769516,1.5397973968989402,0.4704611826848934,0.49908382817736924,-0.7184004827712632],\"xaxis\":\"x3\",\"y\":[-0.2608614967031024,-0.49096342548313715,0.6534012059127755,-0.10382438391128623,0.0915136834623817,-0.2578466669372469,1.3897210082903713,-2.013970521337588,1.125741276541228,1.4993336191900457,-1.0595478745403308,-0.9430230210121577,-1.2621205005640328,1.4036731506061113,-0.03593673976090577,0.3050000998253773,-0.5522484049090643,-1.0203076856253586,0.6432367105616998,-0.8914863941492807,-2.185714250972939,0.12623577838399472,0.3921453841215854,0.4737295051464659,-0.17056200224579707,1.1774627570310106,-0.20762902062129898,1.2387067508523648,-1.3942752324541112,-1.716189450517545,0.22085285260585943,-0.6321810216895608,1.3901915806812715,1.0108805251540562,1.061249343310655,0.5308300215857267,-0.9503016687818185,-1.667629010859623,-1.1568624868134363,1.5218137380315473,-0.39221211032341013,2.3415395295809978,-1.486339576927987,-0.03772819855435538,1.4092361992473252,-0.7939024526846925,0.7862010597484133,-0.7353686055886977,0.4288694099887663,-0.27000065017539937,-0.41260190292719623,0.2707480429353407,-2.3153140545469633,-0.493246648926603,-0.20401174053479268,0.43262354086467664,-0.4638179729532545,-0.12104956411305579,0.0009501990026392411,-1.7944854502101284,1.1942829892775488,0.28613422098047586,0.6089637428915142,-1.68539790425561,-0.20944913271903332,0.7539061989031305,-0.30783771025917217,0.9249555792566864,2.155794363974152,-0.30825770648294415,2.3165892472778196,1.1104333103089679,0.5986508909048686,0.8596613825961947,-1.2785925488102268,0.9522963674778507,2.414612831587702,1.5551358944135807,0.6419754681607723,1.7713479403779466,1.121810184988672,-1.3457087892552062,2.0908035265398817,0.4571403655148956,0.2239437084658507,0.002231840122407565,0.7903495448532022,0.2563582466878664,1.7319416821321127,-2.634999142029582,0.5116574427742703,0.09494333197935707,-2.7505020690095145,0.4200960660289981,-1.3218058607201475,1.0064450686749333,0.9976844535285386,-0.9675831445221813,-0.5263696958489338,1.9143818200798364],\"yaxis\":\"y3\",\"type\":\"scatter\"},{\"line\":{\"color\":\"rgba(128, 128, 128, 1.0)\",\"dash\":\"solid\",\"shape\":\"linear\",\"width\":1.3},\"marker\":{\"size\":2,\"symbol\":\"circle\"},\"mode\":\"markers\",\"name\":\"A\",\"text\":\"\",\"x\":[0.7950735439865309,1.936121928075488,0.20022620351317216,1.097902781559905,0.020108485628208227,-0.8852645510371487,0.6195504811283205,-1.0213127220643865,-2.64844972310845,0.4393712706108427,0.4424196745865346,0.18926775285610348,-0.8033165761908125,-0.6340294954265075,1.6574678620596546,-2.1323846048663797,-0.058137577898140946,-0.9129094552117951,0.44079697940631796,1.5300325111902,-1.922913157519095,1.9425511501521169,-0.7944535583480138,-1.6972535851255646,2.908507442808897,0.540490156801308,-0.6704033218765552,0.6584243028129534,0.27790936261239546,-0.20611122570958804,0.987244725775321,-0.5969325916898187,-0.1463593611464717,-1.5813749544994997,0.6533414467155894,2.2815125991427303,-0.4867594105256819,-2.2575906781599153,-0.6130791857271658,1.8357105417542057,0.529480638973706,-0.24319864772868918,-0.6048430200351759,0.7282085854430383,-0.7469725073276487,0.09988518294440948,-0.7575913692400225,-1.6521365337421492,0.8693150155319037,-0.8284365190454768,0.5845329350815593,0.4368402464691883,-0.8544562691512323,-0.40065736981156846,-0.024109765900172834,-0.2703111701790727,-0.5055617857724994,1.4256560804101626,0.06137345824064349,1.2200762356185093,0.39495352040288056,0.6070941523531138,0.03564521782445323,0.5727215352201621,0.09261794917829301,0.4549785212801003,-0.364961829741321,0.9343593098521027,1.0568490542579694,1.275755792660451,0.9269012427603945,0.7252636702258335,0.5119901677658074,2.521527424165082,0.5733569046382473,-0.6736459742845685,-0.07931047427814839,-0.6237076308005572,-0.2642060084782512,1.5083353927154404,0.9834924603760741,0.3024503668179526,0.660115804322677,2.3716077891534164,-0.14932105068655796,1.4470670560644057,1.2710270686340344,0.44082247924959217,-0.9962725879158789,0.9385800769386916,0.3702572157326843,-0.17182266923951767,0.8825266450639152,0.5851084705005075,-0.333920032363868,-0.21579762138892633,0.6201832711846496,-0.5496467319062202,-0.4109949271321021,-1.0847808598073],\"xaxis\":\"x4\",\"y\":[-0.2608614967031024,-0.49096342548313715,0.6534012059127755,-0.10382438391128623,0.0915136834623817,-0.2578466669372469,1.3897210082903713,-2.013970521337588,1.125741276541228,1.4993336191900457,-1.0595478745403308,-0.9430230210121577,-1.2621205005640328,1.4036731506061113,-0.03593673976090577,0.3050000998253773,-0.5522484049090643,-1.0203076856253586,0.6432367105616998,-0.8914863941492807,-2.185714250972939,0.12623577838399472,0.3921453841215854,0.4737295051464659,-0.17056200224579707,1.1774627570310106,-0.20762902062129898,1.2387067508523648,-1.3942752324541112,-1.716189450517545,0.22085285260585943,-0.6321810216895608,1.3901915806812715,1.0108805251540562,1.061249343310655,0.5308300215857267,-0.9503016687818185,-1.667629010859623,-1.1568624868134363,1.5218137380315473,-0.39221211032341013,2.3415395295809978,-1.486339576927987,-0.03772819855435538,1.4092361992473252,-0.7939024526846925,0.7862010597484133,-0.7353686055886977,0.4288694099887663,-0.27000065017539937,-0.41260190292719623,0.2707480429353407,-2.3153140545469633,-0.493246648926603,-0.20401174053479268,0.43262354086467664,-0.4638179729532545,-0.12104956411305579,0.0009501990026392411,-1.7944854502101284,1.1942829892775488,0.28613422098047586,0.6089637428915142,-1.68539790425561,-0.20944913271903332,0.7539061989031305,-0.30783771025917217,0.9249555792566864,2.155794363974152,-0.30825770648294415,2.3165892472778196,1.1104333103089679,0.5986508909048686,0.8596613825961947,-1.2785925488102268,0.9522963674778507,2.414612831587702,1.5551358944135807,0.6419754681607723,1.7713479403779466,1.121810184988672,-1.3457087892552062,2.0908035265398817,0.4571403655148956,0.2239437084658507,0.002231840122407565,0.7903495448532022,0.2563582466878664,1.7319416821321127,-2.634999142029582,0.5116574427742703,0.09494333197935707,-2.7505020690095145,0.4200960660289981,-1.3218058607201475,1.0064450686749333,0.9976844535285386,-0.9675831445221813,-0.5263696958489338,1.9143818200798364],\"yaxis\":\"y4\",\"type\":\"scatter\"},{\"line\":{\"color\":\"rgba(128, 128, 128, 1.0)\",\"dash\":\"solid\",\"shape\":\"linear\",\"width\":1.3},\"marker\":{\"size\":2,\"symbol\":\"circle\"},\"mode\":\"markers\",\"name\":\"B\",\"text\":\"\",\"x\":[-0.2608614967031024,-0.49096342548313715,0.6534012059127755,-0.10382438391128623,0.0915136834623817,-0.2578466669372469,1.3897210082903713,-2.013970521337588,1.125741276541228,1.4993336191900457,-1.0595478745403308,-0.9430230210121577,-1.2621205005640328,1.4036731506061113,-0.03593673976090577,0.3050000998253773,-0.5522484049090643,-1.0203076856253586,0.6432367105616998,-0.8914863941492807,-2.185714250972939,0.12623577838399472,0.3921453841215854,0.4737295051464659,-0.17056200224579707,1.1774627570310106,-0.20762902062129898,1.2387067508523648,-1.3942752324541112,-1.716189450517545,0.22085285260585943,-0.6321810216895608,1.3901915806812715,1.0108805251540562,1.061249343310655,0.5308300215857267,-0.9503016687818185,-1.667629010859623,-1.1568624868134363,1.5218137380315473,-0.39221211032341013,2.3415395295809978,-1.486339576927987,-0.03772819855435538,1.4092361992473252,-0.7939024526846925,0.7862010597484133,-0.7353686055886977,0.4288694099887663,-0.27000065017539937,-0.41260190292719623,0.2707480429353407,-2.3153140545469633,-0.493246648926603,-0.20401174053479268,0.43262354086467664,-0.4638179729532545,-0.12104956411305579,0.0009501990026392411,-1.7944854502101284,1.1942829892775488,0.28613422098047586,0.6089637428915142,-1.68539790425561,-0.20944913271903332,0.7539061989031305,-0.30783771025917217,0.9249555792566864,2.155794363974152,-0.30825770648294415,2.3165892472778196,1.1104333103089679,0.5986508909048686,0.8596613825961947,-1.2785925488102268,0.9522963674778507,2.414612831587702,1.5551358944135807,0.6419754681607723,1.7713479403779466,1.121810184988672,-1.3457087892552062,2.0908035265398817,0.4571403655148956,0.2239437084658507,0.002231840122407565,0.7903495448532022,0.2563582466878664,1.7319416821321127,-2.634999142029582,0.5116574427742703,0.09494333197935707,-2.7505020690095145,0.4200960660289981,-1.3218058607201475,1.0064450686749333,0.9976844535285386,-0.9675831445221813,-0.5263696958489338,1.9143818200798364],\"xaxis\":\"x5\",\"y\":[-0.25432533756669773,-1.581414768480805,0.40218331727380613,-0.7653635025178969,-0.03758094088299645,0.8228516602736954,0.20950479153616372,0.2368828777231409,-0.13416480196104766,0.06773423875996688,-1.3924154298925469,0.010537225188061829,-0.9192378281206622,-1.343298101902075,-1.7841952728986434,-0.5248286222071976,0.030492134192341522,-0.2095316178025833,0.941695473320228,-1.0303073120794726,-1.615853408823164,-0.7977565224429886,1.346204299136864,-1.2273416627519849,-0.9767964659827089,-1.5763455228401246,-1.9792442444712637,0.4384768080985399,0.17679566623301302,-0.9317474293601441,0.8682987401646762,-0.1003875632961765,-0.0884962705505986,0.24286646977162227,0.20207155467009158,0.38365946277845214,0.15769247651445353,-1.0665564678618131,0.49225575504181734,0.10153122545596022,0.11375123863064968,-0.4628493592894469,-0.5812908283646572,-0.5818098728891352,0.9176543169317575,0.5087887543927186,0.16819075587941956,-0.8945686934935044,0.3721570565430783,-0.257705545117878,1.6287138726491417,-1.1739713566817833,0.398367300079867,-0.6767044911122801,0.47600397787049986,-2.763129323705531,0.21077619673830947,-0.2258518499521978,-0.821396180646884,1.0365094058365847,-1.6318344262056328,-0.3298121153479205,0.8315693323045643,0.0007504783278676238,-0.29675189476684655,0.027554435329936816,0.6609436762444268,0.8785579905871628,-0.029854680377078793,1.5082301656300974,-1.2449285328680817,-0.9768057784470087,1.4916896101273067,-1.122012736021044,-0.38767399665537694,-1.329045263751567,0.6179854602630162,-2.1766036516777953,0.9997178836248283,-0.5995015860441616,1.3839885679655453,-0.5180161564966833,0.8533682831785384,-0.9115908122880608,-0.4306924280020869,0.9609848960490938,0.9220703471457242,1.7542139768319003,0.3604841912013604,0.0017037783681344279,-1.2543075592125403,-0.15102453234097343,-0.5360051864835451,0.5989775610224853,0.8263314749363494,-1.2655278034535515,0.9401542797781919,0.42961783137316306,0.7242211546399301,0.015725214681151255],\"yaxis\":\"y5\",\"type\":\"scatter\"},{\"histfunc\":\"count\",\"histnorm\":\"\",\"marker\":{\"color\":\"rgba(55, 128, 191, 1.0)\",\"line\":{\"color\":\"#4D5663\",\"width\":1.3}},\"name\":\"B\",\"nbinsx\":10,\"opacity\":0.8,\"orientation\":\"v\",\"x\":[-0.25432533756669773,-1.581414768480805,0.40218331727380613,-0.7653635025178969,-0.03758094088299645,0.8228516602736954,0.20950479153616372,0.2368828777231409,-0.13416480196104766,0.06773423875996688,-1.3924154298925469,0.010537225188061829,-0.9192378281206622,-1.343298101902075,-1.7841952728986434,-0.5248286222071976,0.030492134192341522,-0.2095316178025833,0.941695473320228,-1.0303073120794726,-1.615853408823164,-0.7977565224429886,1.346204299136864,-1.2273416627519849,-0.9767964659827089,-1.5763455228401246,-1.9792442444712637,0.4384768080985399,0.17679566623301302,-0.9317474293601441,0.8682987401646762,-0.1003875632961765,-0.0884962705505986,0.24286646977162227,0.20207155467009158,0.38365946277845214,0.15769247651445353,-1.0665564678618131,0.49225575504181734,0.10153122545596022,0.11375123863064968,-0.4628493592894469,-0.5812908283646572,-0.5818098728891352,0.9176543169317575,0.5087887543927186,0.16819075587941956,-0.8945686934935044,0.3721570565430783,-0.257705545117878,1.6287138726491417,-1.1739713566817833,0.398367300079867,-0.6767044911122801,0.47600397787049986,-2.763129323705531,0.21077619673830947,-0.2258518499521978,-0.821396180646884,1.0365094058365847,-1.6318344262056328,-0.3298121153479205,0.8315693323045643,0.0007504783278676238,-0.29675189476684655,0.027554435329936816,0.6609436762444268,0.8785579905871628,-0.029854680377078793,1.5082301656300974,-1.2449285328680817,-0.9768057784470087,1.4916896101273067,-1.122012736021044,-0.38767399665537694,-1.329045263751567,0.6179854602630162,-2.1766036516777953,0.9997178836248283,-0.5995015860441616,1.3839885679655453,-0.5180161564966833,0.8533682831785384,-0.9115908122880608,-0.4306924280020869,0.9609848960490938,0.9220703471457242,1.7542139768319003,0.3604841912013604,0.0017037783681344279,-1.2543075592125403,-0.15102453234097343,-0.5360051864835451,0.5989775610224853,0.8263314749363494,-1.2655278034535515,0.9401542797781919,0.42961783137316306,0.7242211546399301,0.015725214681151255],\"xaxis\":\"x6\",\"yaxis\":\"y6\",\"type\":\"histogram\"},{\"line\":{\"color\":\"rgba(128, 128, 128, 1.0)\",\"dash\":\"solid\",\"shape\":\"linear\",\"width\":1.3},\"marker\":{\"size\":2,\"symbol\":\"circle\"},\"mode\":\"markers\",\"name\":\"B\",\"text\":\"\",\"x\":[0.6992355186470794,-0.961349925801248,-1.4530017126038446,-0.46747953735628,0.6179283646858071,0.08427229602569358,-0.4422796309733475,-1.017677544349955,-0.19384791458665435,-0.4027409126065992,-1.0459762747482046,-0.45171778521705136,0.5225231583018677,-0.6528166789415045,-0.10682849250694507,-0.992634174352462,0.9388318403964275,0.06633672040509916,-1.7023296104731054,-0.7880567550086323,0.36278825080369226,-0.8868488243081134,0.1989542301540041,-1.480811064500878,-0.8006505123444279,-1.951136985513205,0.3258176939679062,-1.4535219862978328,0.6381867404508632,0.5936058599286947,-0.7005663348259505,-0.623777076273893,0.11998600140106362,-0.7365169242004647,-1.475604072622844,-0.9917851988392883,-0.3526672429700603,-0.7663706653486057,1.500994272720018,-0.8864174727362274,-0.3823132942724965,-0.05774281041742565,0.4888736502547718,-0.28882838606809197,0.18925905060950246,0.012466343179889518,0.9915849904749007,-0.5287339927310498,-0.9182558258919131,-1.1130104456978185,-0.8122178875050419,0.8433274504829935,1.2142063586186593,-0.12819455122333961,0.030342918433465215,0.11875393411977264,0.2151373356484712,-2.3064758091798168,-0.7273507048062112,-1.188843480446673,-0.5714117854319605,0.36159090980546205,0.017916573232139667,0.2220947814245966,-0.4950200844017089,1.2625039888784364,-0.36634924333782043,0.6019338146892275,-0.14558248957116632,0.5463251657368409,0.5124712738010542,-0.5019635480348108,0.4119033892492304,0.3730809088695454,-0.23883140872158395,-1.0577671771039834,-0.8994648971609895,-1.6955524505950974,0.8319039015982783,-0.9690500398916245,-0.5187882164775001,-0.46253745172121935,0.6259532609668151,-0.0930799607957207,-2.3968815296415316,-0.9861227809085562,-0.6707295203799367,0.9465112097197014,0.9212119670161162,0.6949377871496079,-0.8348106484463262,-0.8528549149614885,-0.3060635082667802,-1.0802732520188134,0.6372172424462347,-1.0537788743769516,1.5397973968989402,0.4704611826848934,0.49908382817736924,-0.7184004827712632],\"xaxis\":\"x7\",\"y\":[-0.25432533756669773,-1.581414768480805,0.40218331727380613,-0.7653635025178969,-0.03758094088299645,0.8228516602736954,0.20950479153616372,0.2368828777231409,-0.13416480196104766,0.06773423875996688,-1.3924154298925469,0.010537225188061829,-0.9192378281206622,-1.343298101902075,-1.7841952728986434,-0.5248286222071976,0.030492134192341522,-0.2095316178025833,0.941695473320228,-1.0303073120794726,-1.615853408823164,-0.7977565224429886,1.346204299136864,-1.2273416627519849,-0.9767964659827089,-1.5763455228401246,-1.9792442444712637,0.4384768080985399,0.17679566623301302,-0.9317474293601441,0.8682987401646762,-0.1003875632961765,-0.0884962705505986,0.24286646977162227,0.20207155467009158,0.38365946277845214,0.15769247651445353,-1.0665564678618131,0.49225575504181734,0.10153122545596022,0.11375123863064968,-0.4628493592894469,-0.5812908283646572,-0.5818098728891352,0.9176543169317575,0.5087887543927186,0.16819075587941956,-0.8945686934935044,0.3721570565430783,-0.257705545117878,1.6287138726491417,-1.1739713566817833,0.398367300079867,-0.6767044911122801,0.47600397787049986,-2.763129323705531,0.21077619673830947,-0.2258518499521978,-0.821396180646884,1.0365094058365847,-1.6318344262056328,-0.3298121153479205,0.8315693323045643,0.0007504783278676238,-0.29675189476684655,0.027554435329936816,0.6609436762444268,0.8785579905871628,-0.029854680377078793,1.5082301656300974,-1.2449285328680817,-0.9768057784470087,1.4916896101273067,-1.122012736021044,-0.38767399665537694,-1.329045263751567,0.6179854602630162,-2.1766036516777953,0.9997178836248283,-0.5995015860441616,1.3839885679655453,-0.5180161564966833,0.8533682831785384,-0.9115908122880608,-0.4306924280020869,0.9609848960490938,0.9220703471457242,1.7542139768319003,0.3604841912013604,0.0017037783681344279,-1.2543075592125403,-0.15102453234097343,-0.5360051864835451,0.5989775610224853,0.8263314749363494,-1.2655278034535515,0.9401542797781919,0.42961783137316306,0.7242211546399301,0.015725214681151255],\"yaxis\":\"y7\",\"type\":\"scatter\"},{\"line\":{\"color\":\"rgba(128, 128, 128, 1.0)\",\"dash\":\"solid\",\"shape\":\"linear\",\"width\":1.3},\"marker\":{\"size\":2,\"symbol\":\"circle\"},\"mode\":\"markers\",\"name\":\"B\",\"text\":\"\",\"x\":[0.7950735439865309,1.936121928075488,0.20022620351317216,1.097902781559905,0.020108485628208227,-0.8852645510371487,0.6195504811283205,-1.0213127220643865,-2.64844972310845,0.4393712706108427,0.4424196745865346,0.18926775285610348,-0.8033165761908125,-0.6340294954265075,1.6574678620596546,-2.1323846048663797,-0.058137577898140946,-0.9129094552117951,0.44079697940631796,1.5300325111902,-1.922913157519095,1.9425511501521169,-0.7944535583480138,-1.6972535851255646,2.908507442808897,0.540490156801308,-0.6704033218765552,0.6584243028129534,0.27790936261239546,-0.20611122570958804,0.987244725775321,-0.5969325916898187,-0.1463593611464717,-1.5813749544994997,0.6533414467155894,2.2815125991427303,-0.4867594105256819,-2.2575906781599153,-0.6130791857271658,1.8357105417542057,0.529480638973706,-0.24319864772868918,-0.6048430200351759,0.7282085854430383,-0.7469725073276487,0.09988518294440948,-0.7575913692400225,-1.6521365337421492,0.8693150155319037,-0.8284365190454768,0.5845329350815593,0.4368402464691883,-0.8544562691512323,-0.40065736981156846,-0.024109765900172834,-0.2703111701790727,-0.5055617857724994,1.4256560804101626,0.06137345824064349,1.2200762356185093,0.39495352040288056,0.6070941523531138,0.03564521782445323,0.5727215352201621,0.09261794917829301,0.4549785212801003,-0.364961829741321,0.9343593098521027,1.0568490542579694,1.275755792660451,0.9269012427603945,0.7252636702258335,0.5119901677658074,2.521527424165082,0.5733569046382473,-0.6736459742845685,-0.07931047427814839,-0.6237076308005572,-0.2642060084782512,1.5083353927154404,0.9834924603760741,0.3024503668179526,0.660115804322677,2.3716077891534164,-0.14932105068655796,1.4470670560644057,1.2710270686340344,0.44082247924959217,-0.9962725879158789,0.9385800769386916,0.3702572157326843,-0.17182266923951767,0.8825266450639152,0.5851084705005075,-0.333920032363868,-0.21579762138892633,0.6201832711846496,-0.5496467319062202,-0.4109949271321021,-1.0847808598073],\"xaxis\":\"x8\",\"y\":[-0.25432533756669773,-1.581414768480805,0.40218331727380613,-0.7653635025178969,-0.03758094088299645,0.8228516602736954,0.20950479153616372,0.2368828777231409,-0.13416480196104766,0.06773423875996688,-1.3924154298925469,0.010537225188061829,-0.9192378281206622,-1.343298101902075,-1.7841952728986434,-0.5248286222071976,0.030492134192341522,-0.2095316178025833,0.941695473320228,-1.0303073120794726,-1.615853408823164,-0.7977565224429886,1.346204299136864,-1.2273416627519849,-0.9767964659827089,-1.5763455228401246,-1.9792442444712637,0.4384768080985399,0.17679566623301302,-0.9317474293601441,0.8682987401646762,-0.1003875632961765,-0.0884962705505986,0.24286646977162227,0.20207155467009158,0.38365946277845214,0.15769247651445353,-1.0665564678618131,0.49225575504181734,0.10153122545596022,0.11375123863064968,-0.4628493592894469,-0.5812908283646572,-0.5818098728891352,0.9176543169317575,0.5087887543927186,0.16819075587941956,-0.8945686934935044,0.3721570565430783,-0.257705545117878,1.6287138726491417,-1.1739713566817833,0.398367300079867,-0.6767044911122801,0.47600397787049986,-2.763129323705531,0.21077619673830947,-0.2258518499521978,-0.821396180646884,1.0365094058365847,-1.6318344262056328,-0.3298121153479205,0.8315693323045643,0.0007504783278676238,-0.29675189476684655,0.027554435329936816,0.6609436762444268,0.8785579905871628,-0.029854680377078793,1.5082301656300974,-1.2449285328680817,-0.9768057784470087,1.4916896101273067,-1.122012736021044,-0.38767399665537694,-1.329045263751567,0.6179854602630162,-2.1766036516777953,0.9997178836248283,-0.5995015860441616,1.3839885679655453,-0.5180161564966833,0.8533682831785384,-0.9115908122880608,-0.4306924280020869,0.9609848960490938,0.9220703471457242,1.7542139768319003,0.3604841912013604,0.0017037783681344279,-1.2543075592125403,-0.15102453234097343,-0.5360051864835451,0.5989775610224853,0.8263314749363494,-1.2655278034535515,0.9401542797781919,0.42961783137316306,0.7242211546399301,0.015725214681151255],\"yaxis\":\"y8\",\"type\":\"scatter\"},{\"line\":{\"color\":\"rgba(128, 128, 128, 1.0)\",\"dash\":\"solid\",\"shape\":\"linear\",\"width\":1.3},\"marker\":{\"size\":2,\"symbol\":\"circle\"},\"mode\":\"markers\",\"name\":\"C\",\"text\":\"\",\"x\":[-0.2608614967031024,-0.49096342548313715,0.6534012059127755,-0.10382438391128623,0.0915136834623817,-0.2578466669372469,1.3897210082903713,-2.013970521337588,1.125741276541228,1.4993336191900457,-1.0595478745403308,-0.9430230210121577,-1.2621205005640328,1.4036731506061113,-0.03593673976090577,0.3050000998253773,-0.5522484049090643,-1.0203076856253586,0.6432367105616998,-0.8914863941492807,-2.185714250972939,0.12623577838399472,0.3921453841215854,0.4737295051464659,-0.17056200224579707,1.1774627570310106,-0.20762902062129898,1.2387067508523648,-1.3942752324541112,-1.716189450517545,0.22085285260585943,-0.6321810216895608,1.3901915806812715,1.0108805251540562,1.061249343310655,0.5308300215857267,-0.9503016687818185,-1.667629010859623,-1.1568624868134363,1.5218137380315473,-0.39221211032341013,2.3415395295809978,-1.486339576927987,-0.03772819855435538,1.4092361992473252,-0.7939024526846925,0.7862010597484133,-0.7353686055886977,0.4288694099887663,-0.27000065017539937,-0.41260190292719623,0.2707480429353407,-2.3153140545469633,-0.493246648926603,-0.20401174053479268,0.43262354086467664,-0.4638179729532545,-0.12104956411305579,0.0009501990026392411,-1.7944854502101284,1.1942829892775488,0.28613422098047586,0.6089637428915142,-1.68539790425561,-0.20944913271903332,0.7539061989031305,-0.30783771025917217,0.9249555792566864,2.155794363974152,-0.30825770648294415,2.3165892472778196,1.1104333103089679,0.5986508909048686,0.8596613825961947,-1.2785925488102268,0.9522963674778507,2.414612831587702,1.5551358944135807,0.6419754681607723,1.7713479403779466,1.121810184988672,-1.3457087892552062,2.0908035265398817,0.4571403655148956,0.2239437084658507,0.002231840122407565,0.7903495448532022,0.2563582466878664,1.7319416821321127,-2.634999142029582,0.5116574427742703,0.09494333197935707,-2.7505020690095145,0.4200960660289981,-1.3218058607201475,1.0064450686749333,0.9976844535285386,-0.9675831445221813,-0.5263696958489338,1.9143818200798364],\"xaxis\":\"x9\",\"y\":[0.6992355186470794,-0.961349925801248,-1.4530017126038446,-0.46747953735628,0.6179283646858071,0.08427229602569358,-0.4422796309733475,-1.017677544349955,-0.19384791458665435,-0.4027409126065992,-1.0459762747482046,-0.45171778521705136,0.5225231583018677,-0.6528166789415045,-0.10682849250694507,-0.992634174352462,0.9388318403964275,0.06633672040509916,-1.7023296104731054,-0.7880567550086323,0.36278825080369226,-0.8868488243081134,0.1989542301540041,-1.480811064500878,-0.8006505123444279,-1.951136985513205,0.3258176939679062,-1.4535219862978328,0.6381867404508632,0.5936058599286947,-0.7005663348259505,-0.623777076273893,0.11998600140106362,-0.7365169242004647,-1.475604072622844,-0.9917851988392883,-0.3526672429700603,-0.7663706653486057,1.500994272720018,-0.8864174727362274,-0.3823132942724965,-0.05774281041742565,0.4888736502547718,-0.28882838606809197,0.18925905060950246,0.012466343179889518,0.9915849904749007,-0.5287339927310498,-0.9182558258919131,-1.1130104456978185,-0.8122178875050419,0.8433274504829935,1.2142063586186593,-0.12819455122333961,0.030342918433465215,0.11875393411977264,0.2151373356484712,-2.3064758091798168,-0.7273507048062112,-1.188843480446673,-0.5714117854319605,0.36159090980546205,0.017916573232139667,0.2220947814245966,-0.4950200844017089,1.2625039888784364,-0.36634924333782043,0.6019338146892275,-0.14558248957116632,0.5463251657368409,0.5124712738010542,-0.5019635480348108,0.4119033892492304,0.3730809088695454,-0.23883140872158395,-1.0577671771039834,-0.8994648971609895,-1.6955524505950974,0.8319039015982783,-0.9690500398916245,-0.5187882164775001,-0.46253745172121935,0.6259532609668151,-0.0930799607957207,-2.3968815296415316,-0.9861227809085562,-0.6707295203799367,0.9465112097197014,0.9212119670161162,0.6949377871496079,-0.8348106484463262,-0.8528549149614885,-0.3060635082667802,-1.0802732520188134,0.6372172424462347,-1.0537788743769516,1.5397973968989402,0.4704611826848934,0.49908382817736924,-0.7184004827712632],\"yaxis\":\"y9\",\"type\":\"scatter\"},{\"line\":{\"color\":\"rgba(128, 128, 128, 1.0)\",\"dash\":\"solid\",\"shape\":\"linear\",\"width\":1.3},\"marker\":{\"size\":2,\"symbol\":\"circle\"},\"mode\":\"markers\",\"name\":\"C\",\"text\":\"\",\"x\":[-0.25432533756669773,-1.581414768480805,0.40218331727380613,-0.7653635025178969,-0.03758094088299645,0.8228516602736954,0.20950479153616372,0.2368828777231409,-0.13416480196104766,0.06773423875996688,-1.3924154298925469,0.010537225188061829,-0.9192378281206622,-1.343298101902075,-1.7841952728986434,-0.5248286222071976,0.030492134192341522,-0.2095316178025833,0.941695473320228,-1.0303073120794726,-1.615853408823164,-0.7977565224429886,1.346204299136864,-1.2273416627519849,-0.9767964659827089,-1.5763455228401246,-1.9792442444712637,0.4384768080985399,0.17679566623301302,-0.9317474293601441,0.8682987401646762,-0.1003875632961765,-0.0884962705505986,0.24286646977162227,0.20207155467009158,0.38365946277845214,0.15769247651445353,-1.0665564678618131,0.49225575504181734,0.10153122545596022,0.11375123863064968,-0.4628493592894469,-0.5812908283646572,-0.5818098728891352,0.9176543169317575,0.5087887543927186,0.16819075587941956,-0.8945686934935044,0.3721570565430783,-0.257705545117878,1.6287138726491417,-1.1739713566817833,0.398367300079867,-0.6767044911122801,0.47600397787049986,-2.763129323705531,0.21077619673830947,-0.2258518499521978,-0.821396180646884,1.0365094058365847,-1.6318344262056328,-0.3298121153479205,0.8315693323045643,0.0007504783278676238,-0.29675189476684655,0.027554435329936816,0.6609436762444268,0.8785579905871628,-0.029854680377078793,1.5082301656300974,-1.2449285328680817,-0.9768057784470087,1.4916896101273067,-1.122012736021044,-0.38767399665537694,-1.329045263751567,0.6179854602630162,-2.1766036516777953,0.9997178836248283,-0.5995015860441616,1.3839885679655453,-0.5180161564966833,0.8533682831785384,-0.9115908122880608,-0.4306924280020869,0.9609848960490938,0.9220703471457242,1.7542139768319003,0.3604841912013604,0.0017037783681344279,-1.2543075592125403,-0.15102453234097343,-0.5360051864835451,0.5989775610224853,0.8263314749363494,-1.2655278034535515,0.9401542797781919,0.42961783137316306,0.7242211546399301,0.015725214681151255],\"xaxis\":\"x10\",\"y\":[0.6992355186470794,-0.961349925801248,-1.4530017126038446,-0.46747953735628,0.6179283646858071,0.08427229602569358,-0.4422796309733475,-1.017677544349955,-0.19384791458665435,-0.4027409126065992,-1.0459762747482046,-0.45171778521705136,0.5225231583018677,-0.6528166789415045,-0.10682849250694507,-0.992634174352462,0.9388318403964275,0.06633672040509916,-1.7023296104731054,-0.7880567550086323,0.36278825080369226,-0.8868488243081134,0.1989542301540041,-1.480811064500878,-0.8006505123444279,-1.951136985513205,0.3258176939679062,-1.4535219862978328,0.6381867404508632,0.5936058599286947,-0.7005663348259505,-0.623777076273893,0.11998600140106362,-0.7365169242004647,-1.475604072622844,-0.9917851988392883,-0.3526672429700603,-0.7663706653486057,1.500994272720018,-0.8864174727362274,-0.3823132942724965,-0.05774281041742565,0.4888736502547718,-0.28882838606809197,0.18925905060950246,0.012466343179889518,0.9915849904749007,-0.5287339927310498,-0.9182558258919131,-1.1130104456978185,-0.8122178875050419,0.8433274504829935,1.2142063586186593,-0.12819455122333961,0.030342918433465215,0.11875393411977264,0.2151373356484712,-2.3064758091798168,-0.7273507048062112,-1.188843480446673,-0.5714117854319605,0.36159090980546205,0.017916573232139667,0.2220947814245966,-0.4950200844017089,1.2625039888784364,-0.36634924333782043,0.6019338146892275,-0.14558248957116632,0.5463251657368409,0.5124712738010542,-0.5019635480348108,0.4119033892492304,0.3730809088695454,-0.23883140872158395,-1.0577671771039834,-0.8994648971609895,-1.6955524505950974,0.8319039015982783,-0.9690500398916245,-0.5187882164775001,-0.46253745172121935,0.6259532609668151,-0.0930799607957207,-2.3968815296415316,-0.9861227809085562,-0.6707295203799367,0.9465112097197014,0.9212119670161162,0.6949377871496079,-0.8348106484463262,-0.8528549149614885,-0.3060635082667802,-1.0802732520188134,0.6372172424462347,-1.0537788743769516,1.5397973968989402,0.4704611826848934,0.49908382817736924,-0.7184004827712632],\"yaxis\":\"y10\",\"type\":\"scatter\"},{\"histfunc\":\"count\",\"histnorm\":\"\",\"marker\":{\"color\":\"rgba(50, 171, 96, 1.0)\",\"line\":{\"color\":\"#4D5663\",\"width\":1.3}},\"name\":\"C\",\"nbinsx\":10,\"opacity\":0.8,\"orientation\":\"v\",\"x\":[0.6992355186470794,-0.961349925801248,-1.4530017126038446,-0.46747953735628,0.6179283646858071,0.08427229602569358,-0.4422796309733475,-1.017677544349955,-0.19384791458665435,-0.4027409126065992,-1.0459762747482046,-0.45171778521705136,0.5225231583018677,-0.6528166789415045,-0.10682849250694507,-0.992634174352462,0.9388318403964275,0.06633672040509916,-1.7023296104731054,-0.7880567550086323,0.36278825080369226,-0.8868488243081134,0.1989542301540041,-1.480811064500878,-0.8006505123444279,-1.951136985513205,0.3258176939679062,-1.4535219862978328,0.6381867404508632,0.5936058599286947,-0.7005663348259505,-0.623777076273893,0.11998600140106362,-0.7365169242004647,-1.475604072622844,-0.9917851988392883,-0.3526672429700603,-0.7663706653486057,1.500994272720018,-0.8864174727362274,-0.3823132942724965,-0.05774281041742565,0.4888736502547718,-0.28882838606809197,0.18925905060950246,0.012466343179889518,0.9915849904749007,-0.5287339927310498,-0.9182558258919131,-1.1130104456978185,-0.8122178875050419,0.8433274504829935,1.2142063586186593,-0.12819455122333961,0.030342918433465215,0.11875393411977264,0.2151373356484712,-2.3064758091798168,-0.7273507048062112,-1.188843480446673,-0.5714117854319605,0.36159090980546205,0.017916573232139667,0.2220947814245966,-0.4950200844017089,1.2625039888784364,-0.36634924333782043,0.6019338146892275,-0.14558248957116632,0.5463251657368409,0.5124712738010542,-0.5019635480348108,0.4119033892492304,0.3730809088695454,-0.23883140872158395,-1.0577671771039834,-0.8994648971609895,-1.6955524505950974,0.8319039015982783,-0.9690500398916245,-0.5187882164775001,-0.46253745172121935,0.6259532609668151,-0.0930799607957207,-2.3968815296415316,-0.9861227809085562,-0.6707295203799367,0.9465112097197014,0.9212119670161162,0.6949377871496079,-0.8348106484463262,-0.8528549149614885,-0.3060635082667802,-1.0802732520188134,0.6372172424462347,-1.0537788743769516,1.5397973968989402,0.4704611826848934,0.49908382817736924,-0.7184004827712632],\"xaxis\":\"x11\",\"yaxis\":\"y11\",\"type\":\"histogram\"},{\"line\":{\"color\":\"rgba(128, 128, 128, 1.0)\",\"dash\":\"solid\",\"shape\":\"linear\",\"width\":1.3},\"marker\":{\"size\":2,\"symbol\":\"circle\"},\"mode\":\"markers\",\"name\":\"C\",\"text\":\"\",\"x\":[0.7950735439865309,1.936121928075488,0.20022620351317216,1.097902781559905,0.020108485628208227,-0.8852645510371487,0.6195504811283205,-1.0213127220643865,-2.64844972310845,0.4393712706108427,0.4424196745865346,0.18926775285610348,-0.8033165761908125,-0.6340294954265075,1.6574678620596546,-2.1323846048663797,-0.058137577898140946,-0.9129094552117951,0.44079697940631796,1.5300325111902,-1.922913157519095,1.9425511501521169,-0.7944535583480138,-1.6972535851255646,2.908507442808897,0.540490156801308,-0.6704033218765552,0.6584243028129534,0.27790936261239546,-0.20611122570958804,0.987244725775321,-0.5969325916898187,-0.1463593611464717,-1.5813749544994997,0.6533414467155894,2.2815125991427303,-0.4867594105256819,-2.2575906781599153,-0.6130791857271658,1.8357105417542057,0.529480638973706,-0.24319864772868918,-0.6048430200351759,0.7282085854430383,-0.7469725073276487,0.09988518294440948,-0.7575913692400225,-1.6521365337421492,0.8693150155319037,-0.8284365190454768,0.5845329350815593,0.4368402464691883,-0.8544562691512323,-0.40065736981156846,-0.024109765900172834,-0.2703111701790727,-0.5055617857724994,1.4256560804101626,0.06137345824064349,1.2200762356185093,0.39495352040288056,0.6070941523531138,0.03564521782445323,0.5727215352201621,0.09261794917829301,0.4549785212801003,-0.364961829741321,0.9343593098521027,1.0568490542579694,1.275755792660451,0.9269012427603945,0.7252636702258335,0.5119901677658074,2.521527424165082,0.5733569046382473,-0.6736459742845685,-0.07931047427814839,-0.6237076308005572,-0.2642060084782512,1.5083353927154404,0.9834924603760741,0.3024503668179526,0.660115804322677,2.3716077891534164,-0.14932105068655796,1.4470670560644057,1.2710270686340344,0.44082247924959217,-0.9962725879158789,0.9385800769386916,0.3702572157326843,-0.17182266923951767,0.8825266450639152,0.5851084705005075,-0.333920032363868,-0.21579762138892633,0.6201832711846496,-0.5496467319062202,-0.4109949271321021,-1.0847808598073],\"xaxis\":\"x12\",\"y\":[0.6992355186470794,-0.961349925801248,-1.4530017126038446,-0.46747953735628,0.6179283646858071,0.08427229602569358,-0.4422796309733475,-1.017677544349955,-0.19384791458665435,-0.4027409126065992,-1.0459762747482046,-0.45171778521705136,0.5225231583018677,-0.6528166789415045,-0.10682849250694507,-0.992634174352462,0.9388318403964275,0.06633672040509916,-1.7023296104731054,-0.7880567550086323,0.36278825080369226,-0.8868488243081134,0.1989542301540041,-1.480811064500878,-0.8006505123444279,-1.951136985513205,0.3258176939679062,-1.4535219862978328,0.6381867404508632,0.5936058599286947,-0.7005663348259505,-0.623777076273893,0.11998600140106362,-0.7365169242004647,-1.475604072622844,-0.9917851988392883,-0.3526672429700603,-0.7663706653486057,1.500994272720018,-0.8864174727362274,-0.3823132942724965,-0.05774281041742565,0.4888736502547718,-0.28882838606809197,0.18925905060950246,0.012466343179889518,0.9915849904749007,-0.5287339927310498,-0.9182558258919131,-1.1130104456978185,-0.8122178875050419,0.8433274504829935,1.2142063586186593,-0.12819455122333961,0.030342918433465215,0.11875393411977264,0.2151373356484712,-2.3064758091798168,-0.7273507048062112,-1.188843480446673,-0.5714117854319605,0.36159090980546205,0.017916573232139667,0.2220947814245966,-0.4950200844017089,1.2625039888784364,-0.36634924333782043,0.6019338146892275,-0.14558248957116632,0.5463251657368409,0.5124712738010542,-0.5019635480348108,0.4119033892492304,0.3730809088695454,-0.23883140872158395,-1.0577671771039834,-0.8994648971609895,-1.6955524505950974,0.8319039015982783,-0.9690500398916245,-0.5187882164775001,-0.46253745172121935,0.6259532609668151,-0.0930799607957207,-2.3968815296415316,-0.9861227809085562,-0.6707295203799367,0.9465112097197014,0.9212119670161162,0.6949377871496079,-0.8348106484463262,-0.8528549149614885,-0.3060635082667802,-1.0802732520188134,0.6372172424462347,-1.0537788743769516,1.5397973968989402,0.4704611826848934,0.49908382817736924,-0.7184004827712632],\"yaxis\":\"y12\",\"type\":\"scatter\"},{\"line\":{\"color\":\"rgba(128, 128, 128, 1.0)\",\"dash\":\"solid\",\"shape\":\"linear\",\"width\":1.3},\"marker\":{\"size\":2,\"symbol\":\"circle\"},\"mode\":\"markers\",\"name\":\"D\",\"text\":\"\",\"x\":[-0.2608614967031024,-0.49096342548313715,0.6534012059127755,-0.10382438391128623,0.0915136834623817,-0.2578466669372469,1.3897210082903713,-2.013970521337588,1.125741276541228,1.4993336191900457,-1.0595478745403308,-0.9430230210121577,-1.2621205005640328,1.4036731506061113,-0.03593673976090577,0.3050000998253773,-0.5522484049090643,-1.0203076856253586,0.6432367105616998,-0.8914863941492807,-2.185714250972939,0.12623577838399472,0.3921453841215854,0.4737295051464659,-0.17056200224579707,1.1774627570310106,-0.20762902062129898,1.2387067508523648,-1.3942752324541112,-1.716189450517545,0.22085285260585943,-0.6321810216895608,1.3901915806812715,1.0108805251540562,1.061249343310655,0.5308300215857267,-0.9503016687818185,-1.667629010859623,-1.1568624868134363,1.5218137380315473,-0.39221211032341013,2.3415395295809978,-1.486339576927987,-0.03772819855435538,1.4092361992473252,-0.7939024526846925,0.7862010597484133,-0.7353686055886977,0.4288694099887663,-0.27000065017539937,-0.41260190292719623,0.2707480429353407,-2.3153140545469633,-0.493246648926603,-0.20401174053479268,0.43262354086467664,-0.4638179729532545,-0.12104956411305579,0.0009501990026392411,-1.7944854502101284,1.1942829892775488,0.28613422098047586,0.6089637428915142,-1.68539790425561,-0.20944913271903332,0.7539061989031305,-0.30783771025917217,0.9249555792566864,2.155794363974152,-0.30825770648294415,2.3165892472778196,1.1104333103089679,0.5986508909048686,0.8596613825961947,-1.2785925488102268,0.9522963674778507,2.414612831587702,1.5551358944135807,0.6419754681607723,1.7713479403779466,1.121810184988672,-1.3457087892552062,2.0908035265398817,0.4571403655148956,0.2239437084658507,0.002231840122407565,0.7903495448532022,0.2563582466878664,1.7319416821321127,-2.634999142029582,0.5116574427742703,0.09494333197935707,-2.7505020690095145,0.4200960660289981,-1.3218058607201475,1.0064450686749333,0.9976844535285386,-0.9675831445221813,-0.5263696958489338,1.9143818200798364],\"xaxis\":\"x13\",\"y\":[0.7950735439865309,1.936121928075488,0.20022620351317216,1.097902781559905,0.020108485628208227,-0.8852645510371487,0.6195504811283205,-1.0213127220643865,-2.64844972310845,0.4393712706108427,0.4424196745865346,0.18926775285610348,-0.8033165761908125,-0.6340294954265075,1.6574678620596546,-2.1323846048663797,-0.058137577898140946,-0.9129094552117951,0.44079697940631796,1.5300325111902,-1.922913157519095,1.9425511501521169,-0.7944535583480138,-1.6972535851255646,2.908507442808897,0.540490156801308,-0.6704033218765552,0.6584243028129534,0.27790936261239546,-0.20611122570958804,0.987244725775321,-0.5969325916898187,-0.1463593611464717,-1.5813749544994997,0.6533414467155894,2.2815125991427303,-0.4867594105256819,-2.2575906781599153,-0.6130791857271658,1.8357105417542057,0.529480638973706,-0.24319864772868918,-0.6048430200351759,0.7282085854430383,-0.7469725073276487,0.09988518294440948,-0.7575913692400225,-1.6521365337421492,0.8693150155319037,-0.8284365190454768,0.5845329350815593,0.4368402464691883,-0.8544562691512323,-0.40065736981156846,-0.024109765900172834,-0.2703111701790727,-0.5055617857724994,1.4256560804101626,0.06137345824064349,1.2200762356185093,0.39495352040288056,0.6070941523531138,0.03564521782445323,0.5727215352201621,0.09261794917829301,0.4549785212801003,-0.364961829741321,0.9343593098521027,1.0568490542579694,1.275755792660451,0.9269012427603945,0.7252636702258335,0.5119901677658074,2.521527424165082,0.5733569046382473,-0.6736459742845685,-0.07931047427814839,-0.6237076308005572,-0.2642060084782512,1.5083353927154404,0.9834924603760741,0.3024503668179526,0.660115804322677,2.3716077891534164,-0.14932105068655796,1.4470670560644057,1.2710270686340344,0.44082247924959217,-0.9962725879158789,0.9385800769386916,0.3702572157326843,-0.17182266923951767,0.8825266450639152,0.5851084705005075,-0.333920032363868,-0.21579762138892633,0.6201832711846496,-0.5496467319062202,-0.4109949271321021,-1.0847808598073],\"yaxis\":\"y13\",\"type\":\"scatter\"},{\"line\":{\"color\":\"rgba(128, 128, 128, 1.0)\",\"dash\":\"solid\",\"shape\":\"linear\",\"width\":1.3},\"marker\":{\"size\":2,\"symbol\":\"circle\"},\"mode\":\"markers\",\"name\":\"D\",\"text\":\"\",\"x\":[-0.25432533756669773,-1.581414768480805,0.40218331727380613,-0.7653635025178969,-0.03758094088299645,0.8228516602736954,0.20950479153616372,0.2368828777231409,-0.13416480196104766,0.06773423875996688,-1.3924154298925469,0.010537225188061829,-0.9192378281206622,-1.343298101902075,-1.7841952728986434,-0.5248286222071976,0.030492134192341522,-0.2095316178025833,0.941695473320228,-1.0303073120794726,-1.615853408823164,-0.7977565224429886,1.346204299136864,-1.2273416627519849,-0.9767964659827089,-1.5763455228401246,-1.9792442444712637,0.4384768080985399,0.17679566623301302,-0.9317474293601441,0.8682987401646762,-0.1003875632961765,-0.0884962705505986,0.24286646977162227,0.20207155467009158,0.38365946277845214,0.15769247651445353,-1.0665564678618131,0.49225575504181734,0.10153122545596022,0.11375123863064968,-0.4628493592894469,-0.5812908283646572,-0.5818098728891352,0.9176543169317575,0.5087887543927186,0.16819075587941956,-0.8945686934935044,0.3721570565430783,-0.257705545117878,1.6287138726491417,-1.1739713566817833,0.398367300079867,-0.6767044911122801,0.47600397787049986,-2.763129323705531,0.21077619673830947,-0.2258518499521978,-0.821396180646884,1.0365094058365847,-1.6318344262056328,-0.3298121153479205,0.8315693323045643,0.0007504783278676238,-0.29675189476684655,0.027554435329936816,0.6609436762444268,0.8785579905871628,-0.029854680377078793,1.5082301656300974,-1.2449285328680817,-0.9768057784470087,1.4916896101273067,-1.122012736021044,-0.38767399665537694,-1.329045263751567,0.6179854602630162,-2.1766036516777953,0.9997178836248283,-0.5995015860441616,1.3839885679655453,-0.5180161564966833,0.8533682831785384,-0.9115908122880608,-0.4306924280020869,0.9609848960490938,0.9220703471457242,1.7542139768319003,0.3604841912013604,0.0017037783681344279,-1.2543075592125403,-0.15102453234097343,-0.5360051864835451,0.5989775610224853,0.8263314749363494,-1.2655278034535515,0.9401542797781919,0.42961783137316306,0.7242211546399301,0.015725214681151255],\"xaxis\":\"x14\",\"y\":[0.7950735439865309,1.936121928075488,0.20022620351317216,1.097902781559905,0.020108485628208227,-0.8852645510371487,0.6195504811283205,-1.0213127220643865,-2.64844972310845,0.4393712706108427,0.4424196745865346,0.18926775285610348,-0.8033165761908125,-0.6340294954265075,1.6574678620596546,-2.1323846048663797,-0.058137577898140946,-0.9129094552117951,0.44079697940631796,1.5300325111902,-1.922913157519095,1.9425511501521169,-0.7944535583480138,-1.6972535851255646,2.908507442808897,0.540490156801308,-0.6704033218765552,0.6584243028129534,0.27790936261239546,-0.20611122570958804,0.987244725775321,-0.5969325916898187,-0.1463593611464717,-1.5813749544994997,0.6533414467155894,2.2815125991427303,-0.4867594105256819,-2.2575906781599153,-0.6130791857271658,1.8357105417542057,0.529480638973706,-0.24319864772868918,-0.6048430200351759,0.7282085854430383,-0.7469725073276487,0.09988518294440948,-0.7575913692400225,-1.6521365337421492,0.8693150155319037,-0.8284365190454768,0.5845329350815593,0.4368402464691883,-0.8544562691512323,-0.40065736981156846,-0.024109765900172834,-0.2703111701790727,-0.5055617857724994,1.4256560804101626,0.06137345824064349,1.2200762356185093,0.39495352040288056,0.6070941523531138,0.03564521782445323,0.5727215352201621,0.09261794917829301,0.4549785212801003,-0.364961829741321,0.9343593098521027,1.0568490542579694,1.275755792660451,0.9269012427603945,0.7252636702258335,0.5119901677658074,2.521527424165082,0.5733569046382473,-0.6736459742845685,-0.07931047427814839,-0.6237076308005572,-0.2642060084782512,1.5083353927154404,0.9834924603760741,0.3024503668179526,0.660115804322677,2.3716077891534164,-0.14932105068655796,1.4470670560644057,1.2710270686340344,0.44082247924959217,-0.9962725879158789,0.9385800769386916,0.3702572157326843,-0.17182266923951767,0.8825266450639152,0.5851084705005075,-0.333920032363868,-0.21579762138892633,0.6201832711846496,-0.5496467319062202,-0.4109949271321021,-1.0847808598073],\"yaxis\":\"y14\",\"type\":\"scatter\"},{\"line\":{\"color\":\"rgba(128, 128, 128, 1.0)\",\"dash\":\"solid\",\"shape\":\"linear\",\"width\":1.3},\"marker\":{\"size\":2,\"symbol\":\"circle\"},\"mode\":\"markers\",\"name\":\"D\",\"text\":\"\",\"x\":[0.6992355186470794,-0.961349925801248,-1.4530017126038446,-0.46747953735628,0.6179283646858071,0.08427229602569358,-0.4422796309733475,-1.017677544349955,-0.19384791458665435,-0.4027409126065992,-1.0459762747482046,-0.45171778521705136,0.5225231583018677,-0.6528166789415045,-0.10682849250694507,-0.992634174352462,0.9388318403964275,0.06633672040509916,-1.7023296104731054,-0.7880567550086323,0.36278825080369226,-0.8868488243081134,0.1989542301540041,-1.480811064500878,-0.8006505123444279,-1.951136985513205,0.3258176939679062,-1.4535219862978328,0.6381867404508632,0.5936058599286947,-0.7005663348259505,-0.623777076273893,0.11998600140106362,-0.7365169242004647,-1.475604072622844,-0.9917851988392883,-0.3526672429700603,-0.7663706653486057,1.500994272720018,-0.8864174727362274,-0.3823132942724965,-0.05774281041742565,0.4888736502547718,-0.28882838606809197,0.18925905060950246,0.012466343179889518,0.9915849904749007,-0.5287339927310498,-0.9182558258919131,-1.1130104456978185,-0.8122178875050419,0.8433274504829935,1.2142063586186593,-0.12819455122333961,0.030342918433465215,0.11875393411977264,0.2151373356484712,-2.3064758091798168,-0.7273507048062112,-1.188843480446673,-0.5714117854319605,0.36159090980546205,0.017916573232139667,0.2220947814245966,-0.4950200844017089,1.2625039888784364,-0.36634924333782043,0.6019338146892275,-0.14558248957116632,0.5463251657368409,0.5124712738010542,-0.5019635480348108,0.4119033892492304,0.3730809088695454,-0.23883140872158395,-1.0577671771039834,-0.8994648971609895,-1.6955524505950974,0.8319039015982783,-0.9690500398916245,-0.5187882164775001,-0.46253745172121935,0.6259532609668151,-0.0930799607957207,-2.3968815296415316,-0.9861227809085562,-0.6707295203799367,0.9465112097197014,0.9212119670161162,0.6949377871496079,-0.8348106484463262,-0.8528549149614885,-0.3060635082667802,-1.0802732520188134,0.6372172424462347,-1.0537788743769516,1.5397973968989402,0.4704611826848934,0.49908382817736924,-0.7184004827712632],\"xaxis\":\"x15\",\"y\":[0.7950735439865309,1.936121928075488,0.20022620351317216,1.097902781559905,0.020108485628208227,-0.8852645510371487,0.6195504811283205,-1.0213127220643865,-2.64844972310845,0.4393712706108427,0.4424196745865346,0.18926775285610348,-0.8033165761908125,-0.6340294954265075,1.6574678620596546,-2.1323846048663797,-0.058137577898140946,-0.9129094552117951,0.44079697940631796,1.5300325111902,-1.922913157519095,1.9425511501521169,-0.7944535583480138,-1.6972535851255646,2.908507442808897,0.540490156801308,-0.6704033218765552,0.6584243028129534,0.27790936261239546,-0.20611122570958804,0.987244725775321,-0.5969325916898187,-0.1463593611464717,-1.5813749544994997,0.6533414467155894,2.2815125991427303,-0.4867594105256819,-2.2575906781599153,-0.6130791857271658,1.8357105417542057,0.529480638973706,-0.24319864772868918,-0.6048430200351759,0.7282085854430383,-0.7469725073276487,0.09988518294440948,-0.7575913692400225,-1.6521365337421492,0.8693150155319037,-0.8284365190454768,0.5845329350815593,0.4368402464691883,-0.8544562691512323,-0.40065736981156846,-0.024109765900172834,-0.2703111701790727,-0.5055617857724994,1.4256560804101626,0.06137345824064349,1.2200762356185093,0.39495352040288056,0.6070941523531138,0.03564521782445323,0.5727215352201621,0.09261794917829301,0.4549785212801003,-0.364961829741321,0.9343593098521027,1.0568490542579694,1.275755792660451,0.9269012427603945,0.7252636702258335,0.5119901677658074,2.521527424165082,0.5733569046382473,-0.6736459742845685,-0.07931047427814839,-0.6237076308005572,-0.2642060084782512,1.5083353927154404,0.9834924603760741,0.3024503668179526,0.660115804322677,2.3716077891534164,-0.14932105068655796,1.4470670560644057,1.2710270686340344,0.44082247924959217,-0.9962725879158789,0.9385800769386916,0.3702572157326843,-0.17182266923951767,0.8825266450639152,0.5851084705005075,-0.333920032363868,-0.21579762138892633,0.6201832711846496,-0.5496467319062202,-0.4109949271321021,-1.0847808598073],\"yaxis\":\"y15\",\"type\":\"scatter\"},{\"histfunc\":\"count\",\"histnorm\":\"\",\"marker\":{\"color\":\"rgba(128, 0, 128, 1.0)\",\"line\":{\"color\":\"#4D5663\",\"width\":1.3}},\"name\":\"D\",\"nbinsx\":10,\"opacity\":0.8,\"orientation\":\"v\",\"x\":[0.7950735439865309,1.936121928075488,0.20022620351317216,1.097902781559905,0.020108485628208227,-0.8852645510371487,0.6195504811283205,-1.0213127220643865,-2.64844972310845,0.4393712706108427,0.4424196745865346,0.18926775285610348,-0.8033165761908125,-0.6340294954265075,1.6574678620596546,-2.1323846048663797,-0.058137577898140946,-0.9129094552117951,0.44079697940631796,1.5300325111902,-1.922913157519095,1.9425511501521169,-0.7944535583480138,-1.6972535851255646,2.908507442808897,0.540490156801308,-0.6704033218765552,0.6584243028129534,0.27790936261239546,-0.20611122570958804,0.987244725775321,-0.5969325916898187,-0.1463593611464717,-1.5813749544994997,0.6533414467155894,2.2815125991427303,-0.4867594105256819,-2.2575906781599153,-0.6130791857271658,1.8357105417542057,0.529480638973706,-0.24319864772868918,-0.6048430200351759,0.7282085854430383,-0.7469725073276487,0.09988518294440948,-0.7575913692400225,-1.6521365337421492,0.8693150155319037,-0.8284365190454768,0.5845329350815593,0.4368402464691883,-0.8544562691512323,-0.40065736981156846,-0.024109765900172834,-0.2703111701790727,-0.5055617857724994,1.4256560804101626,0.06137345824064349,1.2200762356185093,0.39495352040288056,0.6070941523531138,0.03564521782445323,0.5727215352201621,0.09261794917829301,0.4549785212801003,-0.364961829741321,0.9343593098521027,1.0568490542579694,1.275755792660451,0.9269012427603945,0.7252636702258335,0.5119901677658074,2.521527424165082,0.5733569046382473,-0.6736459742845685,-0.07931047427814839,-0.6237076308005572,-0.2642060084782512,1.5083353927154404,0.9834924603760741,0.3024503668179526,0.660115804322677,2.3716077891534164,-0.14932105068655796,1.4470670560644057,1.2710270686340344,0.44082247924959217,-0.9962725879158789,0.9385800769386916,0.3702572157326843,-0.17182266923951767,0.8825266450639152,0.5851084705005075,-0.333920032363868,-0.21579762138892633,0.6201832711846496,-0.5496467319062202,-0.4109949271321021,-1.0847808598073],\"xaxis\":\"x16\",\"yaxis\":\"y16\",\"type\":\"histogram\"}],                        {\"bargap\":0.02,\"legend\":{\"bgcolor\":\"#F5F6F9\",\"font\":{\"color\":\"#4D5663\"}},\"paper_bgcolor\":\"#F5F6F9\",\"plot_bgcolor\":\"#F5F6F9\",\"showlegend\":false,\"template\":{\"data\":{\"barpolar\":[{\"marker\":{\"line\":{\"color\":\"#E5ECF6\",\"width\":0.5},\"pattern\":{\"fillmode\":\"overlay\",\"size\":10,\"solidity\":0.2}},\"type\":\"barpolar\"}],\"bar\":[{\"error_x\":{\"color\":\"#2a3f5f\"},\"error_y\":{\"color\":\"#2a3f5f\"},\"marker\":{\"line\":{\"color\":\"#E5ECF6\",\"width\":0.5},\"pattern\":{\"fillmode\":\"overlay\",\"size\":10,\"solidity\":0.2}},\"type\":\"bar\"}],\"carpet\":[{\"aaxis\":{\"endlinecolor\":\"#2a3f5f\",\"gridcolor\":\"white\",\"linecolor\":\"white\",\"minorgridcolor\":\"white\",\"startlinecolor\":\"#2a3f5f\"},\"baxis\":{\"endlinecolor\":\"#2a3f5f\",\"gridcolor\":\"white\",\"linecolor\":\"white\",\"minorgridcolor\":\"white\",\"startlinecolor\":\"#2a3f5f\"},\"type\":\"carpet\"}],\"choropleth\":[{\"colorbar\":{\"outlinewidth\":0,\"ticks\":\"\"},\"type\":\"choropleth\"}],\"contourcarpet\":[{\"colorbar\":{\"outlinewidth\":0,\"ticks\":\"\"},\"type\":\"contourcarpet\"}],\"contour\":[{\"colorbar\":{\"outlinewidth\":0,\"ticks\":\"\"},\"colorscale\":[[0.0,\"#0d0887\"],[0.1111111111111111,\"#46039f\"],[0.2222222222222222,\"#7201a8\"],[0.3333333333333333,\"#9c179e\"],[0.4444444444444444,\"#bd3786\"],[0.5555555555555556,\"#d8576b\"],[0.6666666666666666,\"#ed7953\"],[0.7777777777777778,\"#fb9f3a\"],[0.8888888888888888,\"#fdca26\"],[1.0,\"#f0f921\"]],\"type\":\"contour\"}],\"heatmapgl\":[{\"colorbar\":{\"outlinewidth\":0,\"ticks\":\"\"},\"colorscale\":[[0.0,\"#0d0887\"],[0.1111111111111111,\"#46039f\"],[0.2222222222222222,\"#7201a8\"],[0.3333333333333333,\"#9c179e\"],[0.4444444444444444,\"#bd3786\"],[0.5555555555555556,\"#d8576b\"],[0.6666666666666666,\"#ed7953\"],[0.7777777777777778,\"#fb9f3a\"],[0.8888888888888888,\"#fdca26\"],[1.0,\"#f0f921\"]],\"type\":\"heatmapgl\"}],\"heatmap\":[{\"colorbar\":{\"outlinewidth\":0,\"ticks\":\"\"},\"colorscale\":[[0.0,\"#0d0887\"],[0.1111111111111111,\"#46039f\"],[0.2222222222222222,\"#7201a8\"],[0.3333333333333333,\"#9c179e\"],[0.4444444444444444,\"#bd3786\"],[0.5555555555555556,\"#d8576b\"],[0.6666666666666666,\"#ed7953\"],[0.7777777777777778,\"#fb9f3a\"],[0.8888888888888888,\"#fdca26\"],[1.0,\"#f0f921\"]],\"type\":\"heatmap\"}],\"histogram2dcontour\":[{\"colorbar\":{\"outlinewidth\":0,\"ticks\":\"\"},\"colorscale\":[[0.0,\"#0d0887\"],[0.1111111111111111,\"#46039f\"],[0.2222222222222222,\"#7201a8\"],[0.3333333333333333,\"#9c179e\"],[0.4444444444444444,\"#bd3786\"],[0.5555555555555556,\"#d8576b\"],[0.6666666666666666,\"#ed7953\"],[0.7777777777777778,\"#fb9f3a\"],[0.8888888888888888,\"#fdca26\"],[1.0,\"#f0f921\"]],\"type\":\"histogram2dcontour\"}],\"histogram2d\":[{\"colorbar\":{\"outlinewidth\":0,\"ticks\":\"\"},\"colorscale\":[[0.0,\"#0d0887\"],[0.1111111111111111,\"#46039f\"],[0.2222222222222222,\"#7201a8\"],[0.3333333333333333,\"#9c179e\"],[0.4444444444444444,\"#bd3786\"],[0.5555555555555556,\"#d8576b\"],[0.6666666666666666,\"#ed7953\"],[0.7777777777777778,\"#fb9f3a\"],[0.8888888888888888,\"#fdca26\"],[1.0,\"#f0f921\"]],\"type\":\"histogram2d\"}],\"histogram\":[{\"marker\":{\"pattern\":{\"fillmode\":\"overlay\",\"size\":10,\"solidity\":0.2}},\"type\":\"histogram\"}],\"mesh3d\":[{\"colorbar\":{\"outlinewidth\":0,\"ticks\":\"\"},\"type\":\"mesh3d\"}],\"parcoords\":[{\"line\":{\"colorbar\":{\"outlinewidth\":0,\"ticks\":\"\"}},\"type\":\"parcoords\"}],\"pie\":[{\"automargin\":true,\"type\":\"pie\"}],\"scatter3d\":[{\"line\":{\"colorbar\":{\"outlinewidth\":0,\"ticks\":\"\"}},\"marker\":{\"colorbar\":{\"outlinewidth\":0,\"ticks\":\"\"}},\"type\":\"scatter3d\"}],\"scattercarpet\":[{\"marker\":{\"colorbar\":{\"outlinewidth\":0,\"ticks\":\"\"}},\"type\":\"scattercarpet\"}],\"scattergeo\":[{\"marker\":{\"colorbar\":{\"outlinewidth\":0,\"ticks\":\"\"}},\"type\":\"scattergeo\"}],\"scattergl\":[{\"marker\":{\"colorbar\":{\"outlinewidth\":0,\"ticks\":\"\"}},\"type\":\"scattergl\"}],\"scattermapbox\":[{\"marker\":{\"colorbar\":{\"outlinewidth\":0,\"ticks\":\"\"}},\"type\":\"scattermapbox\"}],\"scatterpolargl\":[{\"marker\":{\"colorbar\":{\"outlinewidth\":0,\"ticks\":\"\"}},\"type\":\"scatterpolargl\"}],\"scatterpolar\":[{\"marker\":{\"colorbar\":{\"outlinewidth\":0,\"ticks\":\"\"}},\"type\":\"scatterpolar\"}],\"scatter\":[{\"fillpattern\":{\"fillmode\":\"overlay\",\"size\":10,\"solidity\":0.2},\"type\":\"scatter\"}],\"scatterternary\":[{\"marker\":{\"colorbar\":{\"outlinewidth\":0,\"ticks\":\"\"}},\"type\":\"scatterternary\"}],\"surface\":[{\"colorbar\":{\"outlinewidth\":0,\"ticks\":\"\"},\"colorscale\":[[0.0,\"#0d0887\"],[0.1111111111111111,\"#46039f\"],[0.2222222222222222,\"#7201a8\"],[0.3333333333333333,\"#9c179e\"],[0.4444444444444444,\"#bd3786\"],[0.5555555555555556,\"#d8576b\"],[0.6666666666666666,\"#ed7953\"],[0.7777777777777778,\"#fb9f3a\"],[0.8888888888888888,\"#fdca26\"],[1.0,\"#f0f921\"]],\"type\":\"surface\"}],\"table\":[{\"cells\":{\"fill\":{\"color\":\"#EBF0F8\"},\"line\":{\"color\":\"white\"}},\"header\":{\"fill\":{\"color\":\"#C8D4E3\"},\"line\":{\"color\":\"white\"}},\"type\":\"table\"}]},\"layout\":{\"annotationdefaults\":{\"arrowcolor\":\"#2a3f5f\",\"arrowhead\":0,\"arrowwidth\":1},\"autotypenumbers\":\"strict\",\"coloraxis\":{\"colorbar\":{\"outlinewidth\":0,\"ticks\":\"\"}},\"colorscale\":{\"diverging\":[[0,\"#8e0152\"],[0.1,\"#c51b7d\"],[0.2,\"#de77ae\"],[0.3,\"#f1b6da\"],[0.4,\"#fde0ef\"],[0.5,\"#f7f7f7\"],[0.6,\"#e6f5d0\"],[0.7,\"#b8e186\"],[0.8,\"#7fbc41\"],[0.9,\"#4d9221\"],[1,\"#276419\"]],\"sequential\":[[0.0,\"#0d0887\"],[0.1111111111111111,\"#46039f\"],[0.2222222222222222,\"#7201a8\"],[0.3333333333333333,\"#9c179e\"],[0.4444444444444444,\"#bd3786\"],[0.5555555555555556,\"#d8576b\"],[0.6666666666666666,\"#ed7953\"],[0.7777777777777778,\"#fb9f3a\"],[0.8888888888888888,\"#fdca26\"],[1.0,\"#f0f921\"]],\"sequentialminus\":[[0.0,\"#0d0887\"],[0.1111111111111111,\"#46039f\"],[0.2222222222222222,\"#7201a8\"],[0.3333333333333333,\"#9c179e\"],[0.4444444444444444,\"#bd3786\"],[0.5555555555555556,\"#d8576b\"],[0.6666666666666666,\"#ed7953\"],[0.7777777777777778,\"#fb9f3a\"],[0.8888888888888888,\"#fdca26\"],[1.0,\"#f0f921\"]]},\"colorway\":[\"#636efa\",\"#EF553B\",\"#00cc96\",\"#ab63fa\",\"#FFA15A\",\"#19d3f3\",\"#FF6692\",\"#B6E880\",\"#FF97FF\",\"#FECB52\"],\"font\":{\"color\":\"#2a3f5f\"},\"geo\":{\"bgcolor\":\"white\",\"lakecolor\":\"white\",\"landcolor\":\"#E5ECF6\",\"showlakes\":true,\"showland\":true,\"subunitcolor\":\"white\"},\"hoverlabel\":{\"align\":\"left\"},\"hovermode\":\"closest\",\"mapbox\":{\"style\":\"light\"},\"paper_bgcolor\":\"white\",\"plot_bgcolor\":\"#E5ECF6\",\"polar\":{\"angularaxis\":{\"gridcolor\":\"white\",\"linecolor\":\"white\",\"ticks\":\"\"},\"bgcolor\":\"#E5ECF6\",\"radialaxis\":{\"gridcolor\":\"white\",\"linecolor\":\"white\",\"ticks\":\"\"}},\"scene\":{\"xaxis\":{\"backgroundcolor\":\"#E5ECF6\",\"gridcolor\":\"white\",\"gridwidth\":2,\"linecolor\":\"white\",\"showbackground\":true,\"ticks\":\"\",\"zerolinecolor\":\"white\"},\"yaxis\":{\"backgroundcolor\":\"#E5ECF6\",\"gridcolor\":\"white\",\"gridwidth\":2,\"linecolor\":\"white\",\"showbackground\":true,\"ticks\":\"\",\"zerolinecolor\":\"white\"},\"zaxis\":{\"backgroundcolor\":\"#E5ECF6\",\"gridcolor\":\"white\",\"gridwidth\":2,\"linecolor\":\"white\",\"showbackground\":true,\"ticks\":\"\",\"zerolinecolor\":\"white\"}},\"shapedefaults\":{\"line\":{\"color\":\"#2a3f5f\"}},\"ternary\":{\"aaxis\":{\"gridcolor\":\"white\",\"linecolor\":\"white\",\"ticks\":\"\"},\"baxis\":{\"gridcolor\":\"white\",\"linecolor\":\"white\",\"ticks\":\"\"},\"bgcolor\":\"#E5ECF6\",\"caxis\":{\"gridcolor\":\"white\",\"linecolor\":\"white\",\"ticks\":\"\"}},\"title\":{\"x\":0.05},\"xaxis\":{\"automargin\":true,\"gridcolor\":\"white\",\"linecolor\":\"white\",\"ticks\":\"\",\"title\":{\"standoff\":15},\"zerolinecolor\":\"white\",\"zerolinewidth\":2},\"yaxis\":{\"automargin\":true,\"gridcolor\":\"white\",\"linecolor\":\"white\",\"ticks\":\"\",\"title\":{\"standoff\":15},\"zerolinecolor\":\"white\",\"zerolinewidth\":2}}},\"title\":{\"font\":{\"color\":\"#4D5663\"}},\"xaxis\":{\"anchor\":\"y\",\"domain\":[0.0,0.2125],\"gridcolor\":\"#E1E5ED\",\"showgrid\":false,\"tickfont\":{\"color\":\"#4D5663\"},\"title\":{\"font\":{\"color\":\"#4D5663\"},\"text\":\"\"},\"zerolinecolor\":\"#E1E5ED\"},\"yaxis\":{\"anchor\":\"x\",\"domain\":[0.8025,1.0],\"gridcolor\":\"#E1E5ED\",\"showgrid\":false,\"tickfont\":{\"color\":\"#4D5663\"},\"title\":{\"font\":{\"color\":\"#4D5663\"},\"text\":\"\"},\"zerolinecolor\":\"#E1E5ED\"},\"xaxis2\":{\"anchor\":\"y2\",\"domain\":[0.2625,0.475],\"gridcolor\":\"#E1E5ED\",\"showgrid\":false,\"tickfont\":{\"color\":\"#4D5663\"},\"title\":{\"font\":{\"color\":\"#4D5663\"},\"text\":\"\"},\"zerolinecolor\":\"#E1E5ED\"},\"yaxis2\":{\"anchor\":\"x2\",\"domain\":[0.8025,1.0],\"gridcolor\":\"#E1E5ED\",\"showgrid\":false,\"tickfont\":{\"color\":\"#4D5663\"},\"title\":{\"font\":{\"color\":\"#4D5663\"},\"text\":\"\"},\"zerolinecolor\":\"#E1E5ED\"},\"xaxis3\":{\"anchor\":\"y3\",\"domain\":[0.525,0.7375],\"gridcolor\":\"#E1E5ED\",\"showgrid\":false,\"tickfont\":{\"color\":\"#4D5663\"},\"title\":{\"font\":{\"color\":\"#4D5663\"},\"text\":\"\"},\"zerolinecolor\":\"#E1E5ED\"},\"yaxis3\":{\"anchor\":\"x3\",\"domain\":[0.8025,1.0],\"gridcolor\":\"#E1E5ED\",\"showgrid\":false,\"tickfont\":{\"color\":\"#4D5663\"},\"title\":{\"font\":{\"color\":\"#4D5663\"},\"text\":\"\"},\"zerolinecolor\":\"#E1E5ED\"},\"xaxis4\":{\"anchor\":\"y4\",\"domain\":[0.7875,1.0],\"gridcolor\":\"#E1E5ED\",\"showgrid\":false,\"tickfont\":{\"color\":\"#4D5663\"},\"title\":{\"font\":{\"color\":\"#4D5663\"},\"text\":\"\"},\"zerolinecolor\":\"#E1E5ED\"},\"yaxis4\":{\"anchor\":\"x4\",\"domain\":[0.8025,1.0],\"gridcolor\":\"#E1E5ED\",\"showgrid\":false,\"tickfont\":{\"color\":\"#4D5663\"},\"title\":{\"font\":{\"color\":\"#4D5663\"},\"text\":\"\"},\"zerolinecolor\":\"#E1E5ED\"},\"xaxis5\":{\"anchor\":\"y5\",\"domain\":[0.0,0.2125],\"gridcolor\":\"#E1E5ED\",\"showgrid\":false,\"tickfont\":{\"color\":\"#4D5663\"},\"title\":{\"font\":{\"color\":\"#4D5663\"},\"text\":\"\"},\"zerolinecolor\":\"#E1E5ED\"},\"yaxis5\":{\"anchor\":\"x5\",\"domain\":[0.535,0.7325],\"gridcolor\":\"#E1E5ED\",\"showgrid\":false,\"tickfont\":{\"color\":\"#4D5663\"},\"title\":{\"font\":{\"color\":\"#4D5663\"},\"text\":\"\"},\"zerolinecolor\":\"#E1E5ED\"},\"xaxis6\":{\"anchor\":\"y6\",\"domain\":[0.2625,0.475],\"gridcolor\":\"#E1E5ED\",\"showgrid\":false,\"tickfont\":{\"color\":\"#4D5663\"},\"title\":{\"font\":{\"color\":\"#4D5663\"},\"text\":\"\"},\"zerolinecolor\":\"#E1E5ED\"},\"yaxis6\":{\"anchor\":\"x6\",\"domain\":[0.535,0.7325],\"gridcolor\":\"#E1E5ED\",\"showgrid\":false,\"tickfont\":{\"color\":\"#4D5663\"},\"title\":{\"font\":{\"color\":\"#4D5663\"},\"text\":\"\"},\"zerolinecolor\":\"#E1E5ED\"},\"xaxis7\":{\"anchor\":\"y7\",\"domain\":[0.525,0.7375],\"gridcolor\":\"#E1E5ED\",\"showgrid\":false,\"tickfont\":{\"color\":\"#4D5663\"},\"title\":{\"font\":{\"color\":\"#4D5663\"},\"text\":\"\"},\"zerolinecolor\":\"#E1E5ED\"},\"yaxis7\":{\"anchor\":\"x7\",\"domain\":[0.535,0.7325],\"gridcolor\":\"#E1E5ED\",\"showgrid\":false,\"tickfont\":{\"color\":\"#4D5663\"},\"title\":{\"font\":{\"color\":\"#4D5663\"},\"text\":\"\"},\"zerolinecolor\":\"#E1E5ED\"},\"xaxis8\":{\"anchor\":\"y8\",\"domain\":[0.7875,1.0],\"gridcolor\":\"#E1E5ED\",\"showgrid\":false,\"tickfont\":{\"color\":\"#4D5663\"},\"title\":{\"font\":{\"color\":\"#4D5663\"},\"text\":\"\"},\"zerolinecolor\":\"#E1E5ED\"},\"yaxis8\":{\"anchor\":\"x8\",\"domain\":[0.535,0.7325],\"gridcolor\":\"#E1E5ED\",\"showgrid\":false,\"tickfont\":{\"color\":\"#4D5663\"},\"title\":{\"font\":{\"color\":\"#4D5663\"},\"text\":\"\"},\"zerolinecolor\":\"#E1E5ED\"},\"xaxis9\":{\"anchor\":\"y9\",\"domain\":[0.0,0.2125],\"gridcolor\":\"#E1E5ED\",\"showgrid\":false,\"tickfont\":{\"color\":\"#4D5663\"},\"title\":{\"font\":{\"color\":\"#4D5663\"},\"text\":\"\"},\"zerolinecolor\":\"#E1E5ED\"},\"yaxis9\":{\"anchor\":\"x9\",\"domain\":[0.2675,0.465],\"gridcolor\":\"#E1E5ED\",\"showgrid\":false,\"tickfont\":{\"color\":\"#4D5663\"},\"title\":{\"font\":{\"color\":\"#4D5663\"},\"text\":\"\"},\"zerolinecolor\":\"#E1E5ED\"},\"xaxis10\":{\"anchor\":\"y10\",\"domain\":[0.2625,0.475],\"gridcolor\":\"#E1E5ED\",\"showgrid\":false,\"tickfont\":{\"color\":\"#4D5663\"},\"title\":{\"font\":{\"color\":\"#4D5663\"},\"text\":\"\"},\"zerolinecolor\":\"#E1E5ED\"},\"yaxis10\":{\"anchor\":\"x10\",\"domain\":[0.2675,0.465],\"gridcolor\":\"#E1E5ED\",\"showgrid\":false,\"tickfont\":{\"color\":\"#4D5663\"},\"title\":{\"font\":{\"color\":\"#4D5663\"},\"text\":\"\"},\"zerolinecolor\":\"#E1E5ED\"},\"xaxis11\":{\"anchor\":\"y11\",\"domain\":[0.525,0.7375],\"gridcolor\":\"#E1E5ED\",\"showgrid\":false,\"tickfont\":{\"color\":\"#4D5663\"},\"title\":{\"font\":{\"color\":\"#4D5663\"},\"text\":\"\"},\"zerolinecolor\":\"#E1E5ED\"},\"yaxis11\":{\"anchor\":\"x11\",\"domain\":[0.2675,0.465],\"gridcolor\":\"#E1E5ED\",\"showgrid\":false,\"tickfont\":{\"color\":\"#4D5663\"},\"title\":{\"font\":{\"color\":\"#4D5663\"},\"text\":\"\"},\"zerolinecolor\":\"#E1E5ED\"},\"xaxis12\":{\"anchor\":\"y12\",\"domain\":[0.7875,1.0],\"gridcolor\":\"#E1E5ED\",\"showgrid\":false,\"tickfont\":{\"color\":\"#4D5663\"},\"title\":{\"font\":{\"color\":\"#4D5663\"},\"text\":\"\"},\"zerolinecolor\":\"#E1E5ED\"},\"yaxis12\":{\"anchor\":\"x12\",\"domain\":[0.2675,0.465],\"gridcolor\":\"#E1E5ED\",\"showgrid\":false,\"tickfont\":{\"color\":\"#4D5663\"},\"title\":{\"font\":{\"color\":\"#4D5663\"},\"text\":\"\"},\"zerolinecolor\":\"#E1E5ED\"},\"xaxis13\":{\"anchor\":\"y13\",\"domain\":[0.0,0.2125],\"gridcolor\":\"#E1E5ED\",\"showgrid\":false,\"tickfont\":{\"color\":\"#4D5663\"},\"title\":{\"font\":{\"color\":\"#4D5663\"},\"text\":\"\"},\"zerolinecolor\":\"#E1E5ED\"},\"yaxis13\":{\"anchor\":\"x13\",\"domain\":[0.0,0.1975],\"gridcolor\":\"#E1E5ED\",\"showgrid\":false,\"tickfont\":{\"color\":\"#4D5663\"},\"title\":{\"font\":{\"color\":\"#4D5663\"},\"text\":\"\"},\"zerolinecolor\":\"#E1E5ED\"},\"xaxis14\":{\"anchor\":\"y14\",\"domain\":[0.2625,0.475],\"gridcolor\":\"#E1E5ED\",\"showgrid\":false,\"tickfont\":{\"color\":\"#4D5663\"},\"title\":{\"font\":{\"color\":\"#4D5663\"},\"text\":\"\"},\"zerolinecolor\":\"#E1E5ED\"},\"yaxis14\":{\"anchor\":\"x14\",\"domain\":[0.0,0.1975],\"gridcolor\":\"#E1E5ED\",\"showgrid\":false,\"tickfont\":{\"color\":\"#4D5663\"},\"title\":{\"font\":{\"color\":\"#4D5663\"},\"text\":\"\"},\"zerolinecolor\":\"#E1E5ED\"},\"xaxis15\":{\"anchor\":\"y15\",\"domain\":[0.525,0.7375],\"gridcolor\":\"#E1E5ED\",\"showgrid\":false,\"tickfont\":{\"color\":\"#4D5663\"},\"title\":{\"font\":{\"color\":\"#4D5663\"},\"text\":\"\"},\"zerolinecolor\":\"#E1E5ED\"},\"yaxis15\":{\"anchor\":\"x15\",\"domain\":[0.0,0.1975],\"gridcolor\":\"#E1E5ED\",\"showgrid\":false,\"tickfont\":{\"color\":\"#4D5663\"},\"title\":{\"font\":{\"color\":\"#4D5663\"},\"text\":\"\"},\"zerolinecolor\":\"#E1E5ED\"},\"xaxis16\":{\"anchor\":\"y16\",\"domain\":[0.7875,1.0],\"gridcolor\":\"#E1E5ED\",\"showgrid\":false,\"tickfont\":{\"color\":\"#4D5663\"},\"title\":{\"font\":{\"color\":\"#4D5663\"},\"text\":\"\"},\"zerolinecolor\":\"#E1E5ED\"},\"yaxis16\":{\"anchor\":\"x16\",\"domain\":[0.0,0.1975],\"gridcolor\":\"#E1E5ED\",\"showgrid\":false,\"tickfont\":{\"color\":\"#4D5663\"},\"title\":{\"font\":{\"color\":\"#4D5663\"},\"text\":\"\"},\"zerolinecolor\":\"#E1E5ED\"}},                        {\"showLink\": true, \"linkText\": \"Export to plot.ly\", \"plotlyServerURL\": \"https://plot.ly\", \"responsive\": true}                    ).then(function(){\n",
       "                            \n",
       "var gd = document.getElementById('3e9b9d28-d4a3-48c5-842e-8284147b0dc1');\n",
       "var x = new MutationObserver(function (mutations, observer) {{\n",
       "        var display = window.getComputedStyle(gd).display;\n",
       "        if (!display || display === 'none') {{\n",
       "            console.log([gd, 'removed!']);\n",
       "            Plotly.purge(gd);\n",
       "            observer.disconnect();\n",
       "        }}\n",
       "}});\n",
       "\n",
       "// Listen for the removal of the full notebook cells\n",
       "var notebookContainer = gd.closest('#notebook-container');\n",
       "if (notebookContainer) {{\n",
       "    x.observe(notebookContainer, {childList: true});\n",
       "}}\n",
       "\n",
       "// Listen for the clearing of the current output cell\n",
       "var outputEl = gd.closest('.output');\n",
       "if (outputEl) {{\n",
       "    x.observe(outputEl, {childList: true});\n",
       "}}\n",
       "\n",
       "                        })                };                });            </script>        </div>"
      ]
     },
     "metadata": {},
     "output_type": "display_data"
    }
   ],
   "source": [
    "df.scatter_matrix()"
   ]
  },
  {
   "attachments": {},
   "cell_type": "markdown",
   "metadata": {},
   "source": [
    "<hr>"
   ]
  }
 ],
 "metadata": {
  "kernelspec": {
   "display_name": "Python 3",
   "language": "python",
   "name": "python3"
  },
  "language_info": {
   "codemirror_mode": {
    "name": "ipython",
    "version": 3
   },
   "file_extension": ".py",
   "mimetype": "text/x-python",
   "name": "python",
   "nbconvert_exporter": "python",
   "pygments_lexer": "ipython3",
   "version": "3.9.7"
  },
  "orig_nbformat": 4
 },
 "nbformat": 4,
 "nbformat_minor": 2
}
